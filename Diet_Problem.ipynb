{
  "nbformat": 4,
  "nbformat_minor": 0,
  "metadata": {
    "colab": {
      "provenance": [],
      "authorship_tag": "ABX9TyMoGwcR1gWndZn+oc+cImuY",
      "include_colab_link": true
    },
    "kernelspec": {
      "name": "python3",
      "display_name": "Python 3"
    },
    "language_info": {
      "name": "python"
    }
  },
  "cells": [
    {
      "cell_type": "markdown",
      "metadata": {
        "id": "view-in-github",
        "colab_type": "text"
      },
      "source": [
        "<a href=\"https://colab.research.google.com/github/Pbarbecho/Curso_Python/blob/main/Diet_Problem.ipynb\" target=\"_parent\"><img src=\"https://colab.research.google.com/assets/colab-badge.svg\" alt=\"Open In Colab\"/></a>"
      ]
    },
    {
      "cell_type": "markdown",
      "source": [
        "# Diet Problem"
      ],
      "metadata": {
        "id": "-rmZfRu2tJfR"
      }
    },
    {
      "cell_type": "markdown",
      "source": [
        "# 1. Importar Librería Pyomo"
      ],
      "metadata": {
        "id": "L6zBeE4itvUz"
      }
    },
    {
      "cell_type": "code",
      "source": [
        "!pip install pyomo # framework\n",
        "!apt-get install glpk-utils # solver\n",
        "from pyomo.environ import *"
      ],
      "metadata": {
        "collapsed": true,
        "id": "GdR1KcApt3Xq"
      },
      "execution_count": null,
      "outputs": []
    },
    {
      "cell_type": "markdown",
      "source": [
        "# 2. Instantiate el Objeto(model)"
      ],
      "metadata": {
        "id": "N7DRtIZoxbUg"
      }
    },
    {
      "cell_type": "code",
      "source": [
        "# Modelo del tipo Concreto: elementos estáticos\n",
        "model = ConcreteModel()"
      ],
      "metadata": {
        "id": "m-MShcSRx-4W"
      },
      "execution_count": null,
      "outputs": []
    },
    {
      "cell_type": "markdown",
      "source": [
        "# 3. Variables de Decisión"
      ],
      "metadata": {
        "id": "KG8DvQm-tNy4"
      }
    },
    {
      "cell_type": "code",
      "source": [
        "# Definición del espacio del vector x (variables de decisión)\n",
        "variables_decision = RangeSet(0,4)\n",
        "\n",
        "# Definición del vector x de variables de decisión\n",
        "model.x = Var(variables_decision , domain=NonNegativeIntegers)"
      ],
      "metadata": {
        "collapsed": true,
        "id": "HK6Lk0IEyyN2"
      },
      "execution_count": null,
      "outputs": []
    },
    {
      "cell_type": "markdown",
      "source": [
        "# 4. Función Objetivo (exp/rule)"
      ],
      "metadata": {
        "id": "Va3MIHpYtN8A"
      }
    },
    {
      "cell_type": "code",
      "source": [
        "# Definición de la F.O. usando una expresión (expr-based)\n",
        "model.func_objetivo = Objective(expr = 1.1*model.x[0] + 2.1*model.x[1])"
      ],
      "metadata": {
        "collapsed": true,
        "id": "K2usXhPe0h2p"
      },
      "execution_count": null,
      "outputs": []
    },
    {
      "cell_type": "code",
      "source": [
        "# Definición de la F.O. usando una función (rule)\n",
        "# z = c^T x\n",
        "\n",
        "# Vector de coeficientes de la F.O.\n",
        "c = [1.1 , 2.1 , 3.1 , 4.1 , 5.1]\n",
        "\n",
        "#función (rule)\n",
        "def function_rule(model):\n",
        "  return sum(c[i] * model.x[i] for i in range(len(model.x)))\n",
        "\n",
        "# definición de la F.O. (rule-based)\n",
        "model.func_objetivo = Objective(rule=function_rule , sense=minimize)"
      ],
      "metadata": {
        "collapsed": true,
        "id": "9L9qjF1mYFc1"
      },
      "execution_count": null,
      "outputs": []
    },
    {
      "cell_type": "code",
      "source": [
        "# Visualizar la F.O.\n",
        "str(model.func_objetivo.expr)"
      ],
      "metadata": {
        "id": "wjEJhT9LafUt"
      },
      "execution_count": null,
      "outputs": []
    },
    {
      "cell_type": "markdown",
      "source": [
        "# 5. Restricciones (exp/rule)"
      ],
      "metadata": {
        "id": "PN7jHCkttNZv"
      }
    },
    {
      "cell_type": "code",
      "source": [
        "# Definir una lista restricciones (expr-based)\n",
        "model.restricciones = ConstraintList()"
      ],
      "metadata": {
        "id": "DsyTE7eJfG7P"
      },
      "execution_count": null,
      "outputs": []
    },
    {
      "cell_type": "code",
      "source": [],
      "metadata": {
        "id": "veIdLBiHrww8"
      },
      "execution_count": null,
      "outputs": []
    },
    {
      "cell_type": "code",
      "source": [
        "# Agregar m restricciones\n",
        "model.restricciones.add(1*model.x[0] + 2*model.x[1] + 3*model.x[2] >= 10)\n",
        "model.restricciones.add(10*model.x[0] + 20*model.x[1] + 30*model.x[2] >= 100)"
      ],
      "metadata": {
        "id": "poe8RuZhfqwS"
      },
      "execution_count": null,
      "outputs": []
    },
    {
      "cell_type": "code",
      "execution_count": null,
      "metadata": {
        "id": "DN0tRlQptHvH"
      },
      "outputs": [],
      "source": [
        "# Restricciones Notacion matricial\n",
        "# A x >= b\n",
        "A = [ [1, 2 , 3 ,4 , 5] , [6 , 7 , 8 , 9 , 5] , [1, 2 , 3 ,4 , 5] , [1, 2 , 3 ,4 , 5] , [1, 2 , 3 ,4 , 5]]\n",
        "b = [1 , 2 , 3 , 4 , 5]"
      ]
    },
    {
      "cell_type": "code",
      "source": [
        "# Definir # restricciones (m)\n",
        "model.RESTR = RangeSet(len(A))"
      ],
      "metadata": {
        "collapsed": true,
        "id": "i9JUI_rRcKeE"
      },
      "execution_count": null,
      "outputs": []
    },
    {
      "cell_type": "code",
      "source": [
        "# Definir la función restricción (rule-based)\n",
        "def restriccion_rule(model, j):\n",
        "  return sum(A[j-1][i] * model.x[i] for i in range(len(model.x))) >= b[j-1]"
      ],
      "metadata": {
        "collapsed": true,
        "id": "8Lr5Xo0QDM8L"
      },
      "execution_count": null,
      "outputs": []
    },
    {
      "cell_type": "code",
      "source": [
        "# Crear las restricciones del modelo (rule-based)\n",
        "model.restricciones = Constraint(model.RESTR , rule=restriccion_rule) # Constrain(m , rule)"
      ],
      "metadata": {
        "collapsed": true,
        "id": "K4EkMiSwcZuF"
      },
      "execution_count": null,
      "outputs": []
    },
    {
      "cell_type": "code",
      "source": [
        "# Visualizar restricciones creadas\n",
        "str(model.restricciones[5].expr) # muestra restriccion [i]"
      ],
      "metadata": {
        "id": "UnM9E0MRD2pa"
      },
      "execution_count": null,
      "outputs": []
    },
    {
      "cell_type": "markdown",
      "source": [
        "# 6. Solver (Run)"
      ],
      "metadata": {
        "id": "A7iFL2kTPdQU"
      }
    },
    {
      "cell_type": "code",
      "source": [
        "solver = SolverFactory('glpk') # Selecciona el método de solución"
      ],
      "metadata": {
        "id": "aQhbYJaxPlrO"
      },
      "execution_count": null,
      "outputs": []
    },
    {
      "cell_type": "code",
      "source": [
        "!glpsol --version"
      ],
      "metadata": {
        "id": "SWEyXEsYlM1H"
      },
      "execution_count": null,
      "outputs": []
    },
    {
      "cell_type": "code",
      "source": [
        "result = solver.solve(model) # tee verbose"
      ],
      "metadata": {
        "id": "Nwa-q1apm3s7"
      },
      "execution_count": null,
      "outputs": []
    },
    {
      "cell_type": "code",
      "source": [],
      "metadata": {
        "id": "TPoFx8Jjr-g-"
      },
      "execution_count": null,
      "outputs": []
    }
  ]
}