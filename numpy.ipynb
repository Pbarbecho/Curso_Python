{
 "cells": [
  {
   "cell_type": "markdown",
   "id": "0d3288b1",
   "metadata": {},
   "source": [
    "# <center> Numpy </center> \n",
    "<center>  <img src=\"images/logo.png\" alt=\"Drawing\" style=\"width: 200px;\"/> </center> \n",
    "\n",
    "# <center> Aprendizaje Interactivo </center> \n",
    "\n",
    "En este cuaderno aprenderemos sobre la librería numpy. NumPy es fundamental para la programación científica que proporciona un objeto tipo **array** para almacenar datos de forma eficiente y una serie de funciones para operar y manipular esos datos.\n",
    "\n",
    "Python es un lenguaje que está altamente modularizado: está dividido en bibliotecas que realizan tareas específicas. Para hacer uso de ellas debemos importarlas. Podemos importar cosas de la [biblioteca estándar](https://docs.python.org/3/library/index.html), de paquetes que hayamos descargado (o se enceuntren en [nuestra distribución](https://docs.anaconda.com/anaconda/packages/pkg-docs/)) o de módulos que nosotros mismos construyamos. \n",
    "\n",
    "\n",
    "## Referencias\n",
    "\n",
    " * Numpy Documentation: https://numpy.org, https://numpy.org/doc/stable/reference/index.html\n",
    " * The Python Language Reference: https://docs.python.org/3/reference/index.html\n",
    " * The Python Standard Library: https://docs.python.org/3/library/index.html\n",
    " * IBM Jupyter notebooks cheatsheet https://www.ibm.com/docs/en/db2-event-store/2.0.0?topic=notebooks-markdown-jupyter-cheatsheet   \n",
    " \n",
    " \n",
    "***"
   ]
  },
  {
   "cell_type": "code",
   "execution_count": null,
   "id": "1cbf3308",
   "metadata": {},
   "outputs": [],
   "source": []
  },
  {
   "cell_type": "code",
   "execution_count": null,
   "id": "a360a816",
   "metadata": {},
   "outputs": [],
   "source": []
  },
  {
   "cell_type": "markdown",
   "id": "1b6c86b3",
   "metadata": {},
   "source": [
    "# <center> Importando NumPy </center>\n",
    "\n",
    "Para usar NumPy lo primero que debemos hacer es importarlo. Existen varias formas de importar:\n",
    "\n",
    "```python\n",
    "import numpy\n",
    "\n",
    "import numpy as np\n",
    "\n",
    "#para ver la versión que tenemos instalada:\n",
    "np.__version__\n",
    "```\n",
    "Cada vez que queramos acceder a una función de numpy, deberemos escribir:\n",
    "```python\n",
    "numpy.sin(5)\n",
    "numpy.linspace(0,100,50)\n",
    "```    \n",
    "    \n",
    "También podríamos importar funciones concretas dentro del paquete que queramos usar, por ejemplo:\n",
    "\n",
    "```python\n",
    "from numpy import linspace, sin\n",
    "sin(np.pi)\n",
    "```\n"
   ]
  },
  {
   "cell_type": "markdown",
   "id": "993225aa",
   "metadata": {},
   "source": [
    "# <center> Arrays con NumPy </center>\n",
    "\n",
    "Un array es un bloque de memoria que contiene elementos del mismo tipo. Básicamente:\n",
    "\n",
    "* nos _recuerdan_ a los vectores, matrices...\n",
    "* podemos almacenar el array con un nombre y acceder a sus elementos mediante sus __índices__.\n",
    "* ayudan a gestionar de manera eficiente la memoria y a acelerar los cálculos.\n",
    "\n",
    "\n",
    "---\n",
    "\n",
    "| Índice     | 0     | 1     | 2     | 3     | ...   | n-1   | n  |\n",
    "| ---------- | :---: | :---: | :---: | :---: | :---: | :---: | :---: |\n",
    "| Valor      | 2.1   | 3.6   | 7.8   | 1.5   | ...   | 5.4   | 6.3 |\n",
    "\n",
    "---\n",
    "\n",
    "# ¿Qué solemos guardar en arrays?\n",
    "\n",
    "* Vectores y matrices.\n",
    "* Datos de experimentos:\n",
    "    - En distintos instantes discretos.\n",
    "    - En distintos puntos del espacio.\n",
    "* Resultado de evaluar funciones con los datos anteriores.\n",
    "\n",
    "\n",
    "\n",
    "## Array de una dimensión\n",
    "\n",
    "```python\n",
    "mi_primer_array = np.array([1, 2, 3, 4]) \n",
    "mi_primer_array\n",
    "```\n",
    "\n",
    "## Array de dos dimensiones\n",
    "\n",
    "```python\n",
    "mi_segundo_array = np.array([[1, 2, 3], [4, 5, 6], [7, 8, 9]])\n",
    "```\n"
   ]
  },
  {
   "cell_type": "code",
   "execution_count": null,
   "id": "694a7495",
   "metadata": {},
   "outputs": [],
   "source": []
  },
  {
   "cell_type": "code",
   "execution_count": null,
   "id": "b9a04750",
   "metadata": {},
   "outputs": [],
   "source": []
  },
  {
   "cell_type": "markdown",
   "id": "1d073cf2",
   "metadata": {},
   "source": [
    "# Funciones y constantes en NumPy\n",
    "\n",
    "Ya hemos visto que la función `np.array()` nos permite crear arrays con los valores que nosotros introduzcamos manualmente a través de listas. Veamos algunas funciones:\n",
    "\n",
    "## Suma\n",
    "```python\n",
    "np.sum(mi_primer_array)\n",
    "```"
   ]
  },
  {
   "cell_type": "code",
   "execution_count": null,
   "id": "ad450cf0",
   "metadata": {},
   "outputs": [],
   "source": []
  },
  {
   "cell_type": "code",
   "execution_count": null,
   "id": "efbee763",
   "metadata": {},
   "outputs": [],
   "source": []
  },
  {
   "cell_type": "markdown",
   "id": "78c8dffa",
   "metadata": {},
   "source": [
    "## Máximo\n",
    "```python\n",
    "np.max(mi_primer_array)\n",
    "```"
   ]
  },
  {
   "cell_type": "code",
   "execution_count": null,
   "id": "6ff9d1e0",
   "metadata": {},
   "outputs": [],
   "source": []
  },
  {
   "cell_type": "code",
   "execution_count": null,
   "id": "fba27e6b",
   "metadata": {},
   "outputs": [],
   "source": []
  },
  {
   "cell_type": "markdown",
   "id": "167abf15",
   "metadata": {},
   "source": [
    "## Constantes\n",
    "```python\n",
    "np.pi, np.e\n",
    "```"
   ]
  },
  {
   "cell_type": "code",
   "execution_count": null,
   "id": "87445f14",
   "metadata": {},
   "outputs": [],
   "source": []
  },
  {
   "cell_type": "code",
   "execution_count": null,
   "id": "949cd64b",
   "metadata": {},
   "outputs": [],
   "source": []
  },
  {
   "cell_type": "markdown",
   "id": "cbac10a9",
   "metadata": {},
   "source": [
    "## Crear arrays - En una dimensión\n",
    "```python\n",
    "np.zeros(10)\n",
    "```"
   ]
  },
  {
   "cell_type": "code",
   "execution_count": null,
   "id": "26a1952f",
   "metadata": {},
   "outputs": [],
   "source": []
  },
  {
   "cell_type": "code",
   "execution_count": null,
   "id": "f3e89d09",
   "metadata": {},
   "outputs": [],
   "source": []
  },
  {
   "cell_type": "markdown",
   "id": "b292810f",
   "metadata": {},
   "source": [
    "## Crear arrays - En dos dimensiones\n",
    "```python\n",
    "np.zeros([10,10])\n",
    "```"
   ]
  },
  {
   "cell_type": "code",
   "execution_count": null,
   "id": "6e6f5304",
   "metadata": {},
   "outputs": [],
   "source": []
  },
  {
   "cell_type": "code",
   "execution_count": null,
   "id": "5f694610",
   "metadata": {},
   "outputs": [],
   "source": []
  },
  {
   "cell_type": "markdown",
   "id": "ef2b538e",
   "metadata": {},
   "source": [
    "## Crear array - vacíos\n",
    "```python\n",
    "np.empty(10)\n",
    "```"
   ]
  },
  {
   "cell_type": "code",
   "execution_count": null,
   "id": "0f71c3db",
   "metadata": {},
   "outputs": [],
   "source": []
  },
  {
   "cell_type": "code",
   "execution_count": null,
   "id": "ef4d7fe3",
   "metadata": {},
   "outputs": [],
   "source": []
  },
  {
   "cell_type": "markdown",
   "id": "1613e593",
   "metadata": {},
   "source": [
    "## Rango\n",
    "```python\n",
    "a = np.arange(0, 5)\n",
    "```"
   ]
  },
  {
   "cell_type": "code",
   "execution_count": null,
   "id": "11889048",
   "metadata": {},
   "outputs": [],
   "source": []
  },
  {
   "cell_type": "code",
   "execution_count": null,
   "id": "b65f6f3e",
   "metadata": {},
   "outputs": [],
   "source": []
  },
  {
   "cell_type": "markdown",
   "id": "4f20564b",
   "metadata": {},
   "source": [
    "## Números aleatorios \n",
    "\n",
    "**Ejemplo 1:**\n",
    "\n",
    "```python\n",
    "random.random(size=None) # entre [0, 1]\n",
    "np.random.random(10)\n",
    "```\n",
    "\n",
    "**Ejemplo 2:**\n",
    "\n",
    "```python\n",
    "np.random.randint(low, high=None, size=None, dtype=int) # entre [low,high]\n",
    "np.random.randint(10)\n",
    "np.random.randint(10, 15)\n",
    "np.random.randint(10, size=15)\n",
    "```\n"
   ]
  },
  {
   "cell_type": "code",
   "execution_count": null,
   "id": "f675e1fb",
   "metadata": {},
   "outputs": [],
   "source": []
  },
  {
   "cell_type": "code",
   "execution_count": null,
   "id": "84c6087d",
   "metadata": {},
   "outputs": [],
   "source": []
  },
  {
   "cell_type": "code",
   "execution_count": null,
   "id": "5d612ab2",
   "metadata": {},
   "outputs": [],
   "source": []
  },
  {
   "cell_type": "code",
   "execution_count": null,
   "id": "e4a7652c",
   "metadata": {},
   "outputs": [],
   "source": []
  }
 ],
 "metadata": {
  "hide_input": false,
  "kernelspec": {
   "display_name": "Python 3 (ipykernel)",
   "language": "python",
   "name": "python3"
  },
  "language_info": {
   "codemirror_mode": {
    "name": "ipython",
    "version": 3
   },
   "file_extension": ".py",
   "mimetype": "text/x-python",
   "name": "python",
   "nbconvert_exporter": "python",
   "pygments_lexer": "ipython3",
   "version": "3.9.7"
  }
 },
 "nbformat": 4,
 "nbformat_minor": 5
}
