{
 "cells": [
  {
   "cell_type": "markdown",
   "id": "0d3288b1",
   "metadata": {},
   "source": [
    "# <center> Numpy </center> \n",
    "<center>  <img src=\"images/logo.png\" alt=\"Drawing\" style=\"width: 200px;\"/> </center> \n",
    "\n",
    "# <center> Aprendizaje Interactivo </center> \n",
    "\n",
    "En este cuaderno aprenderemos sobre la librería numpy. NumPy es fundamental para la programación científica que proporciona un objeto tipo **array** para almacenar datos de forma eficiente y una serie de funciones para operar y manipular esos datos.\n",
    "\n",
    "Para usar NumPy lo primero que debemos hacer es importarlo:\n",
    "\n",
    "```python\n",
    "import numpy as np\n",
    "#para ver la versión que tenemos instalada:\n",
    "np.__version__\n",
    "```\n",
    "\n",
    "## Referencias\n",
    "\n",
    " * The Python Language Reference: https://docs.python.org/3/reference/index.html\n",
    " * The Python Standard Library: https://docs.python.org/3/library/index.html\n",
    " * IBM Jupyter notebooks cheatsheet https://www.ibm.com/docs/en/db2-event-store/2.0.0?topic=notebooks-markdown-jupyter-cheatsheet   \n",
    " \n",
    " \n",
    "***"
   ]
  },
  {
   "cell_type": "markdown",
   "id": "993225aa",
   "metadata": {},
   "source": [
    "# <center> Arrays con NumPy </center>\n",
    "\n",
    "Un array es un bloque de memoria que contiene elementos del mismo tipo. Básicamente:\n",
    "\n",
    "* nos _recuerdan_ a los vectores, matrices...\n",
    "* podemos almacenar el array con un nombre y acceder a sus elementos mediante sus __índices__.\n",
    "* ayudan a gestionar de manera eficiente la memoria y a acelerar los cálculos.\n",
    "\n",
    "\n",
    "---\n",
    "\n",
    "| Índice     | 0     | 1     | 2     | 3     | ...   | n-1   | n  |\n",
    "| ---------- | :---: | :---: | :---: | :---: | :---: | :---: | :---: |\n",
    "| Valor      | 2.1   | 3.6   | 7.8   | 1.5   | ...   | 5.4   | 6.3 |\n",
    "\n",
    "---\n",
    "\n",
    "# ¿Qué solemos guardar en arrays?\n",
    "\n",
    "* Vectores y matrices.\n",
    "* Datos de experimentos:\n",
    "    - En distintos instantes discretos.\n",
    "    - En distintos puntos del espacio.\n",
    "* Resultado de evaluar funciones con los datos anteriores.\n",
    "\n",
    "\n",
    "\n",
    "## Array de una dimensión\n",
    "\n",
    "```python\n",
    "mi_primer_array = np.array([1, 2, 3, 4]) \n",
    "mi_primer_array\n",
    "```\n",
    "\n",
    "## Array de dos dimensiones\n",
    "\n",
    "```python\n",
    "mi_segundo_array = np.array([[1, 2, 3], [4, 5, 6], [7, 8, 9]])\n",
    "```\n"
   ]
  },
  {
   "cell_type": "code",
   "execution_count": null,
   "id": "694a7495",
   "metadata": {},
   "outputs": [],
   "source": []
  },
  {
   "cell_type": "code",
   "execution_count": null,
   "id": "b9a04750",
   "metadata": {},
   "outputs": [],
   "source": []
  },
  {
   "cell_type": "markdown",
   "id": "1613e593",
   "metadata": {},
   "source": [
    "# Funciones y constantes en NumPy\n",
    "\n",
    "Ya hemos visto que la función `np.array()` nos permite crear arrays con los valores que nosotros introduzcamos manualmente a través de listas. Veamos algunas funciones:\n",
    "\n",
    "## Suma\n",
    "np.sum(mi_primer_array)\n",
    "\n",
    "## Máximo\n",
    "np.max(mi_primer_array)\n",
    "\n",
    "## Constantes\n",
    "np.pi, np.e\n",
    "\n",
    "## Crear arrays - En una dimensión\n",
    "np.zeros(10)\n",
    "\n",
    "## Crear arrays - En dos dimensiones\n",
    "np.zeros([10,10])\n",
    "\n",
    "## Crear array - vacíos\n",
    "np.empty(10)\n",
    "\n",
    "## Rango\n",
    "a = np.arange(0, 5)"
   ]
  },
  {
   "cell_type": "code",
   "execution_count": null,
   "id": "11889048",
   "metadata": {},
   "outputs": [],
   "source": []
  },
  {
   "cell_type": "code",
   "execution_count": null,
   "id": "b65f6f3e",
   "metadata": {},
   "outputs": [],
   "source": []
  },
  {
   "cell_type": "code",
   "execution_count": null,
   "id": "2c18cb9c",
   "metadata": {},
   "outputs": [],
   "source": []
  },
  {
   "cell_type": "code",
   "execution_count": null,
   "id": "f675e1fb",
   "metadata": {},
   "outputs": [],
   "source": []
  }
 ],
 "metadata": {
  "hide_input": false,
  "kernelspec": {
   "display_name": "Python 3 (ipykernel)",
   "language": "python",
   "name": "python3"
  },
  "language_info": {
   "codemirror_mode": {
    "name": "ipython",
    "version": 3
   },
   "file_extension": ".py",
   "mimetype": "text/x-python",
   "name": "python",
   "nbconvert_exporter": "python",
   "pygments_lexer": "ipython3",
   "version": "3.9.7"
  }
 },
 "nbformat": 4,
 "nbformat_minor": 5
}
