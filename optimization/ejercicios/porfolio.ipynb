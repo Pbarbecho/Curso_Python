{
  "cells": [
    {
      "cell_type": "markdown",
      "id": "c134aca9",
      "metadata": {
        "id": "c134aca9"
      },
      "source": [
        "## Install GLPK SOLVER"
      ]
    },
    {
      "cell_type": "code",
      "execution_count": 1,
      "id": "c07472cc",
      "metadata": {
        "id": "c07472cc",
        "outputId": "212543e4-4ebe-438b-9411-0fcfc9b33df2",
        "colab": {
          "base_uri": "https://localhost:8080/"
        }
      },
      "outputs": [
        {
          "output_type": "stream",
          "name": "stdout",
          "text": [
            "Selecting previously unselected package libsuitesparseconfig5:amd64.\n",
            "(Reading database ... 122518 files and directories currently installed.)\n",
            "Preparing to unpack .../libsuitesparseconfig5_1%3a5.7.1+dfsg-2_amd64.deb ...\n",
            "Unpacking libsuitesparseconfig5:amd64 (1:5.7.1+dfsg-2) ...\n",
            "Selecting previously unselected package libamd2:amd64.\n",
            "Preparing to unpack .../libamd2_1%3a5.7.1+dfsg-2_amd64.deb ...\n",
            "Unpacking libamd2:amd64 (1:5.7.1+dfsg-2) ...\n",
            "Selecting previously unselected package libcolamd2:amd64.\n",
            "Preparing to unpack .../libcolamd2_1%3a5.7.1+dfsg-2_amd64.deb ...\n",
            "Unpacking libcolamd2:amd64 (1:5.7.1+dfsg-2) ...\n",
            "Selecting previously unselected package libglpk40:amd64.\n",
            "Preparing to unpack .../libglpk40_4.65-2_amd64.deb ...\n",
            "Unpacking libglpk40:amd64 (4.65-2) ...\n",
            "Selecting previously unselected package glpk-utils.\n",
            "Preparing to unpack .../glpk-utils_4.65-2_amd64.deb ...\n",
            "Unpacking glpk-utils (4.65-2) ...\n",
            "Setting up libsuitesparseconfig5:amd64 (1:5.7.1+dfsg-2) ...\n",
            "Setting up libamd2:amd64 (1:5.7.1+dfsg-2) ...\n",
            "Setting up libcolamd2:amd64 (1:5.7.1+dfsg-2) ...\n",
            "Setting up libglpk40:amd64 (4.65-2) ...\n",
            "Setting up glpk-utils (4.65-2) ...\n",
            "Processing triggers for man-db (2.9.1-1) ...\n",
            "Processing triggers for libc-bin (2.31-0ubuntu9.9) ...\n"
          ]
        }
      ],
      "source": [
        "!apt-get install -y -qq glpk-utils"
      ]
    },
    {
      "cell_type": "markdown",
      "id": "edace0b3",
      "metadata": {
        "id": "edace0b3"
      },
      "source": [
        "## Install PYOMO PACKAGE"
      ]
    },
    {
      "cell_type": "code",
      "execution_count": 2,
      "id": "8cea989e",
      "metadata": {
        "run_control": {
          "marked": true
        },
        "id": "8cea989e",
        "outputId": "d16d3390-a7bf-4108-8e77-0548038ffee3",
        "colab": {
          "base_uri": "https://localhost:8080/"
        }
      },
      "outputs": [
        {
          "output_type": "stream",
          "name": "stdout",
          "text": [
            "Looking in indexes: https://pypi.org/simple, https://us-python.pkg.dev/colab-wheels/public/simple/\n",
            "Collecting pyomo\n",
            "  Downloading Pyomo-6.5.0-cp310-cp310-manylinux_2_17_x86_64.manylinux2014_x86_64.whl (10.7 MB)\n",
            "\u001b[2K     \u001b[90m━━━━━━━━━━━━━━━━━━━━━━━━━━━━━━━━━━━━━━━━\u001b[0m \u001b[32m10.7/10.7 MB\u001b[0m \u001b[31m49.6 MB/s\u001b[0m eta \u001b[36m0:00:00\u001b[0m\n",
            "\u001b[?25hCollecting ply\n",
            "  Downloading ply-3.11-py2.py3-none-any.whl (49 kB)\n",
            "\u001b[2K     \u001b[90m━━━━━━━━━━━━━━━━━━━━━━━━━━━━━━━━━━━━━━━━\u001b[0m \u001b[32m49.6/49.6 kB\u001b[0m \u001b[31m4.8 MB/s\u001b[0m eta \u001b[36m0:00:00\u001b[0m\n",
            "\u001b[?25hInstalling collected packages: ply, pyomo\n",
            "Successfully installed ply-3.11 pyomo-6.5.0\n"
          ]
        }
      ],
      "source": [
        "!pip install pyomo"
      ]
    },
    {
      "cell_type": "markdown",
      "id": "d06d7312",
      "metadata": {
        "id": "d06d7312"
      },
      "source": [
        "## Import Pyomo"
      ]
    },
    {
      "cell_type": "code",
      "execution_count": 3,
      "id": "d6460ef7",
      "metadata": {
        "id": "d6460ef7"
      },
      "outputs": [],
      "source": [
        "import pyomo.environ as pyo"
      ]
    },
    {
      "cell_type": "markdown",
      "id": "fdbb1480",
      "metadata": {
        "hide_input": false,
        "id": "fdbb1480"
      },
      "source": [
        "### 1. Data"
      ]
    },
    {
      "cell_type": "code",
      "execution_count": 37,
      "id": "d956e010",
      "metadata": {
        "id": "d956e010"
      },
      "outputs": [],
      "source": [
        "# Empty\n",
        "return_percentage = [0.095,0.112,0.105,0.119,0.117,0.132,0.105,0.109,0.055,0.051]"
      ]
    },
    {
      "cell_type": "markdown",
      "id": "911cd09c",
      "metadata": {
        "id": "911cd09c"
      },
      "source": [
        "### 2. Model (Concrete Model)"
      ]
    },
    {
      "cell_type": "code",
      "execution_count": 38,
      "id": "6992e159",
      "metadata": {
        "id": "6992e159"
      },
      "outputs": [],
      "source": [
        "model = pyo.ConcreteModel()"
      ]
    },
    {
      "cell_type": "markdown",
      "id": "bfa420b7",
      "metadata": {
        "id": "bfa420b7"
      },
      "source": [
        "### 3. Desicion Variables"
      ]
    },
    {
      "cell_type": "code",
      "execution_count": 39,
      "id": "fa46a341",
      "metadata": {
        "id": "fa46a341"
      },
      "outputs": [],
      "source": [
        "model.DV_X = range(10)"
      ]
    },
    {
      "cell_type": "code",
      "source": [
        "model.x = pyo.Var(model.DV_X, domain=pyo.NonNegativeReals)"
      ],
      "metadata": {
        "id": "S02YBFWKoAkb"
      },
      "id": "S02YBFWKoAkb",
      "execution_count": 40,
      "outputs": []
    },
    {
      "cell_type": "markdown",
      "id": "28df456d",
      "metadata": {
        "id": "28df456d"
      },
      "source": [
        "### 4. Objective Function"
      ]
    },
    {
      "cell_type": "code",
      "execution_count": 41,
      "id": "82dbedb8",
      "metadata": {
        "id": "82dbedb8"
      },
      "outputs": [],
      "source": [
        "model.objective_Funct = pyo.Objective(\n",
        "    expr= sum(model.x[i]*return_percentage[i] for i in model.DV_X),\n",
        "    sense=pyo.maximize)"
      ]
    },
    {
      "cell_type": "markdown",
      "id": "964a4dc4",
      "metadata": {
        "id": "964a4dc4"
      },
      "source": [
        "### 5. Constraints"
      ]
    },
    {
      "cell_type": "code",
      "execution_count": 42,
      "id": "5f4f4b19",
      "metadata": {
        "id": "5f4f4b19"
      },
      "outputs": [],
      "source": [
        "model.C1=pyo.Constraint(expr=2*model.x[0]+model.x[1]<=140)\n",
        "model.C2=pyo.Constraint(expr=2*model.x[2]+model.x[3]<=160)\n",
        "model.C3=pyo.Constraint(expr=2*model.x[4]+model.x[5]<=120)\n",
        "model.C4=pyo.Constraint(expr=2*model.x[0]+model.x[6]<=230)\n",
        "model.C5=pyo.Constraint(expr=2*model.x[2]+model.x[3]+model.x[7]<=220)\n",
        "model.C6=pyo.Constraint(expr= sum(model.x[i] for i in model.DV_X)==600)"
      ]
    },
    {
      "cell_type": "markdown",
      "id": "584a909f",
      "metadata": {
        "id": "584a909f"
      },
      "source": [
        "### 6. Solve"
      ]
    },
    {
      "cell_type": "code",
      "execution_count": 43,
      "id": "132c7c08",
      "metadata": {
        "id": "132c7c08",
        "outputId": "ff9082de-56e4-4388-8285-15f1cdec6b41",
        "colab": {
          "base_uri": "https://localhost:8080/"
        }
      },
      "outputs": [
        {
          "output_type": "stream",
          "name": "stdout",
          "text": [
            "GLPSOL: GLPK LP/MIP Solver, v4.65\n",
            "Parameter(s) specified in the command line:\n",
            " --write /tmp/tmp5hr5bc4_.glpk.raw --wglp /tmp/tmpphg7sfsp.glpk.glp --cpxlp\n",
            " /tmp/tmprsck2b0u.pyomo.lp\n",
            "Reading problem data from '/tmp/tmprsck2b0u.pyomo.lp'...\n",
            "7 rows, 11 columns, 22 non-zeros\n",
            "71 lines were read\n",
            "Writing problem data to '/tmp/tmpphg7sfsp.glpk.glp'...\n",
            "60 lines were written\n",
            "GLPK Simplex Optimizer, v4.65\n",
            "7 rows, 11 columns, 22 non-zeros\n",
            "Preprocessing...\n",
            "6 rows, 9 columns, 20 non-zeros\n",
            "Scaling...\n",
            " A: min|aij| =  1.000e+00  max|aij| =  2.000e+00  ratio =  2.000e+00\n",
            "Problem data seem to be well scaled\n",
            "Constructing initial basis...\n",
            "Size of triangular part is 6\n",
            "*     0: obj =   3.060000000e+01 inf =   0.000e+00 (9)\n",
            "*     5: obj =   6.970000000e+01 inf =   0.000e+00 (0)\n",
            "OPTIMAL LP SOLUTION FOUND\n",
            "Time used:   0.0 secs\n",
            "Memory used: 0.0 Mb (41437 bytes)\n",
            "Writing basic solution to '/tmp/tmp5hr5bc4_.glpk.raw'...\n",
            "27 lines were written\n"
          ]
        },
        {
          "output_type": "execute_result",
          "data": {
            "text/plain": [
              "{'Problem': [{'Name': 'unknown', 'Lower bound': 69.7, 'Upper bound': 69.7, 'Number of objectives': 1, 'Number of constraints': 7, 'Number of variables': 11, 'Number of nonzeros': 22, 'Sense': 'maximize'}], 'Solver': [{'Status': 'ok', 'Termination condition': 'optimal', 'Statistics': {'Branch and bound': {'Number of bounded subproblems': 0, 'Number of created subproblems': 0}}, 'Error rc': 0, 'Time': 0.006666660308837891}], 'Solution': [OrderedDict([('number of solutions', 0), ('number of solutions displayed', 0)])]}"
            ]
          },
          "metadata": {},
          "execution_count": 43
        }
      ],
      "source": [
        "factory = pyo.SolverFactory('glpk')\n",
        "factory.solve(model, tee=True)"
      ]
    },
    {
      "cell_type": "code",
      "execution_count": 44,
      "id": "a5f377ab",
      "metadata": {
        "id": "a5f377ab",
        "outputId": "a9ccc7ea-98e1-4bfd-a20d-f0bfcaa27140",
        "colab": {
          "base_uri": "https://localhost:8080/"
        }
      },
      "outputs": [
        {
          "output_type": "stream",
          "name": "stdout",
          "text": [
            "1 Set Declarations\n",
            "    x_index : Size=1, Index=None, Ordered=Insertion\n",
            "        Key  : Dimen : Domain : Size : Members\n",
            "        None :     1 :    Any :   10 : {0, 1, 2, 3, 4, 5, 6, 7, 8, 9}\n",
            "\n",
            "1 Var Declarations\n",
            "    x : Size=10, Index=x_index\n",
            "        Key : Lower : Value : Upper : Fixed : Stale : Domain\n",
            "          0 :     0 :   0.0 :  None : False : False : NonNegativeReals\n",
            "          1 :     0 : 140.0 :  None : False : False : NonNegativeReals\n",
            "          2 :     0 :   0.0 :  None : False : False : NonNegativeReals\n",
            "          3 :     0 : 160.0 :  None : False : False : NonNegativeReals\n",
            "          4 :     0 :   0.0 :  None : False : False : NonNegativeReals\n",
            "          5 :     0 : 120.0 :  None : False : False : NonNegativeReals\n",
            "          6 :     0 : 120.0 :  None : False : False : NonNegativeReals\n",
            "          7 :     0 :  60.0 :  None : False : False : NonNegativeReals\n",
            "          8 :     0 :   0.0 :  None : False : False : NonNegativeReals\n",
            "          9 :     0 :   0.0 :  None : False : False : NonNegativeReals\n",
            "\n",
            "1 Objective Declarations\n",
            "    objective_Funct : Size=1, Index=None, Active=True\n",
            "        Key  : Active : Sense    : Expression\n",
            "        None :   True : maximize : 0.095*x[0] + 0.112*x[1] + 0.105*x[2] + 0.119*x[3] + 0.117*x[4] + 0.132*x[5] + 0.105*x[6] + 0.109*x[7] + 0.055*x[8] + 0.051*x[9]\n",
            "\n",
            "6 Constraint Declarations\n",
            "    C1 : Size=1, Index=None, Active=True\n",
            "        Key  : Lower : Body          : Upper : Active\n",
            "        None :  -Inf : 2*x[0] + x[1] : 140.0 :   True\n",
            "    C2 : Size=1, Index=None, Active=True\n",
            "        Key  : Lower : Body          : Upper : Active\n",
            "        None :  -Inf : 2*x[2] + x[3] : 160.0 :   True\n",
            "    C3 : Size=1, Index=None, Active=True\n",
            "        Key  : Lower : Body          : Upper : Active\n",
            "        None :  -Inf : 2*x[4] + x[5] : 120.0 :   True\n",
            "    C4 : Size=1, Index=None, Active=True\n",
            "        Key  : Lower : Body          : Upper : Active\n",
            "        None :  -Inf : 2*x[0] + x[6] : 230.0 :   True\n",
            "    C5 : Size=1, Index=None, Active=True\n",
            "        Key  : Lower : Body                 : Upper : Active\n",
            "        None :  -Inf : 2*x[2] + x[3] + x[7] : 220.0 :   True\n",
            "    C6 : Size=1, Index=None, Active=True\n",
            "        Key  : Lower : Body                                                                : Upper : Active\n",
            "        None : 600.0 : x[0] + x[1] + x[2] + x[3] + x[4] + x[5] + x[6] + x[7] + x[8] + x[9] : 600.0 :   True\n",
            "\n",
            "9 Declarations: x_index x objective_Funct C1 C2 C3 C4 C5 C6\n"
          ]
        }
      ],
      "source": [
        "model.pprint()"
      ]
    },
    {
      "cell_type": "markdown",
      "id": "e92d0e4e-2700-4286-8f5f-5fc5d2e99389",
      "metadata": {
        "id": "e92d0e4e-2700-4286-8f5f-5fc5d2e99389"
      },
      "source": [
        "## Print just results of desicion variables"
      ]
    },
    {
      "cell_type": "code",
      "execution_count": 45,
      "id": "54d0b4e3-cf84-49f5-b84b-cf1e3ee4faa9",
      "metadata": {
        "id": "54d0b4e3-cf84-49f5-b84b-cf1e3ee4faa9",
        "outputId": "ee2d1360-5d54-4d44-e5fb-a5f6fdb157f7",
        "colab": {
          "base_uri": "https://localhost:8080/"
        }
      },
      "outputs": [
        {
          "output_type": "stream",
          "name": "stdout",
          "text": [
            "x[0]:0.0\n",
            "x[1]:140.0\n",
            "x[2]:0.0\n",
            "x[3]:160.0\n",
            "x[4]:0.0\n",
            "x[5]:120.0\n",
            "x[6]:120.0\n",
            "x[7]:60.0\n",
            "x[8]:0.0\n",
            "x[9]:0.0\n"
          ]
        }
      ],
      "source": [
        "for i in model.DV_X:\n",
        "  print(f'x[{i}]:{pyo.value(model.x[i])}')   "
      ]
    },
    {
      "cell_type": "code",
      "source": [
        "print(f'z={pyo.value(model.objective_Funct)*1000}')"
      ],
      "metadata": {
        "id": "8Cn-hGe2vXsX",
        "outputId": "0c195978-1e56-4b18-bcbb-03ff68fdbaaa",
        "colab": {
          "base_uri": "https://localhost:8080/"
        }
      },
      "id": "8Cn-hGe2vXsX",
      "execution_count": 48,
      "outputs": [
        {
          "output_type": "stream",
          "name": "stdout",
          "text": [
            "z=69700.0\n"
          ]
        }
      ]
    },
    {
      "cell_type": "code",
      "source": [],
      "metadata": {
        "id": "paaQeF5uvlWm"
      },
      "id": "paaQeF5uvlWm",
      "execution_count": null,
      "outputs": []
    }
  ],
  "metadata": {
    "hide_input": false,
    "kernelspec": {
      "display_name": "Python 3 (ipykernel)",
      "language": "python",
      "name": "python3"
    },
    "language_info": {
      "codemirror_mode": {
        "name": "ipython",
        "version": 3
      },
      "file_extension": ".py",
      "mimetype": "text/x-python",
      "name": "python",
      "nbconvert_exporter": "python",
      "pygments_lexer": "ipython3",
      "version": "3.10.10"
    },
    "colab": {
      "provenance": []
    }
  },
  "nbformat": 4,
  "nbformat_minor": 5
}