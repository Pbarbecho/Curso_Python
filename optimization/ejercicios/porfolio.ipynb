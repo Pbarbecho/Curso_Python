{
  "cells": [
    {
      "cell_type": "markdown",
      "id": "c134aca9",
      "metadata": {
        "id": "c134aca9"
      },
      "source": [
        "## Install GLPK SOLVER"
      ]
    },
    {
      "cell_type": "code",
      "execution_count": null,
      "id": "c07472cc",
      "metadata": {
        "id": "c07472cc"
      },
      "outputs": [],
      "source": [
        "!apt-get install -y -qq glpk-utils"
      ]
    },
    {
      "cell_type": "markdown",
      "id": "edace0b3",
      "metadata": {
        "id": "edace0b3"
      },
      "source": [
        "## Install PYOMO PACKAGE"
      ]
    },
    {
      "cell_type": "code",
      "execution_count": null,
      "id": "8cea989e",
      "metadata": {
        "run_control": {
          "marked": true
        },
        "id": "8cea989e"
      },
      "outputs": [],
      "source": [
        "!pip install pyomo"
      ]
    },
    {
      "cell_type": "markdown",
      "id": "d06d7312",
      "metadata": {
        "id": "d06d7312"
      },
      "source": [
        "## Import Pyomo"
      ]
    },
    {
      "cell_type": "code",
      "execution_count": null,
      "id": "d6460ef7",
      "metadata": {
        "id": "d6460ef7"
      },
      "outputs": [],
      "source": [
        "import pyomo.environ as pyo"
      ]
    },
    {
      "cell_type": "markdown",
      "id": "fdbb1480",
      "metadata": {
        "hide_input": false,
        "id": "fdbb1480"
      },
      "source": [
        "### 1. Data"
      ]
    },
    {
      "cell_type": "code",
      "execution_count": null,
      "id": "d956e010",
      "metadata": {
        "id": "d956e010"
      },
      "outputs": [],
      "source": [
        "# Empty\n",
        "return_percentage = [0.095,0.112,0.105,0.119,0.117,0.132,0.105,0.109,0.055,0.051]"
      ]
    },
    {
      "cell_type": "markdown",
      "id": "911cd09c",
      "metadata": {
        "id": "911cd09c"
      },
      "source": [
        "### 2. Model (Concrete Model)"
      ]
    },
    {
      "cell_type": "code",
      "execution_count": null,
      "id": "6992e159",
      "metadata": {
        "id": "6992e159"
      },
      "outputs": [],
      "source": [
        "model = pyo.ConcreteModel()"
      ]
    },
    {
      "cell_type": "markdown",
      "id": "bfa420b7",
      "metadata": {
        "id": "bfa420b7"
      },
      "source": [
        "### 3. Desicion Variables"
      ]
    },
    {
      "cell_type": "code",
      "execution_count": null,
      "id": "fa46a341",
      "metadata": {
        "id": "fa46a341"
      },
      "outputs": [],
      "source": [
        "model.DV_X = range(10)"
      ]
    },
    {
      "cell_type": "code",
      "source": [
        "model.x = pyo.Var(model.DV_X, domain=pyo.NonNegativeReals)"
      ],
      "metadata": {
        "id": "S02YBFWKoAkb"
      },
      "id": "S02YBFWKoAkb",
      "execution_count": null,
      "outputs": []
    },
    {
      "cell_type": "markdown",
      "id": "28df456d",
      "metadata": {
        "id": "28df456d"
      },
      "source": [
        "### 4. Objective Function"
      ]
    },
    {
      "cell_type": "code",
      "execution_count": null,
      "id": "82dbedb8",
      "metadata": {
        "id": "82dbedb8"
      },
      "outputs": [],
      "source": [
        "model.objective_Funct = pyo.Objective(\n",
        "    expr= sum(model.x[i]*return_percentage[i] for i in model.DV_X),\n",
        "    sense=pyo.maximize)"
      ]
    },
    {
      "cell_type": "markdown",
      "id": "964a4dc4",
      "metadata": {
        "id": "964a4dc4"
      },
      "source": [
        "### 5. Constraints"
      ]
    },
    {
      "cell_type": "code",
      "execution_count": null,
      "id": "5f4f4b19",
      "metadata": {
        "id": "5f4f4b19"
      },
      "outputs": [],
      "source": [
        "model.C1=pyo.Constraint(expr=2*model.x[0]+model.x[1]<=140)\n",
        "model.C2=pyo.Constraint(expr=2*model.x[2]+model.x[3]<=160)\n",
        "model.C3=pyo.Constraint(expr=2*model.x[4]+model.x[5]<=120)\n",
        "model.C4=pyo.Constraint(expr=2*model.x[0]+model.x[6]<=230)\n",
        "model.C5=pyo.Constraint(expr=2*model.x[2]+model.x[3]+model.x[7]<=220)\n",
        "model.C6=pyo.Constraint(expr= sum(model.x[i] for i in model.DV_X)==600)"
      ]
    },
    {
      "cell_type": "markdown",
      "id": "584a909f",
      "metadata": {
        "id": "584a909f"
      },
      "source": [
        "### 6. Solve"
      ]
    },
    {
      "cell_type": "code",
      "execution_count": null,
      "id": "132c7c08",
      "metadata": {
        "id": "132c7c08"
      },
      "outputs": [],
      "source": [
        "factory = pyo.SolverFactory('glpk')\n",
        "factory.solve(model, tee=True)"
      ]
    },
    {
      "cell_type": "code",
      "execution_count": null,
      "id": "a5f377ab",
      "metadata": {
        "id": "a5f377ab"
      },
      "outputs": [],
      "source": [
        "model.pprint()"
      ]
    },
    {
      "cell_type": "markdown",
      "id": "e92d0e4e-2700-4286-8f5f-5fc5d2e99389",
      "metadata": {
        "id": "e92d0e4e-2700-4286-8f5f-5fc5d2e99389"
      },
      "source": [
        "## Print just results of desicion variables"
      ]
    },
    {
      "cell_type": "code",
      "execution_count": null,
      "id": "54d0b4e3-cf84-49f5-b84b-cf1e3ee4faa9",
      "metadata": {
        "id": "54d0b4e3-cf84-49f5-b84b-cf1e3ee4faa9"
      },
      "outputs": [],
      "source": [
        "for i in model.DV_X:\n",
        "  print(f'x[{i}]:{pyo.value(model.x[i])}')   "
      ]
    },
    {
      "cell_type": "code",
      "source": [
        "print(f'z={pyo.value(model.objective_Funct)*1000}')"
      ],
      "metadata": {
        "id": "8Cn-hGe2vXsX"
      },
      "id": "8Cn-hGe2vXsX",
      "execution_count": null,
      "outputs": []
    },
    {
      "cell_type": "code",
      "source": [],
      "metadata": {
        "id": "paaQeF5uvlWm"
      },
      "id": "paaQeF5uvlWm",
      "execution_count": null,
      "outputs": []
    }
  ],
  "metadata": {
    "hide_input": false,
    "kernelspec": {
      "display_name": "Python 3 (ipykernel)",
      "language": "python",
      "name": "python3"
    },
    "language_info": {
      "codemirror_mode": {
        "name": "ipython",
        "version": 3
      },
      "file_extension": ".py",
      "mimetype": "text/x-python",
      "name": "python",
      "nbconvert_exporter": "python",
      "pygments_lexer": "ipython3",
      "version": "3.10.10"
    },
    "colab": {
      "provenance": []
    }
  },
  "nbformat": 4,
  "nbformat_minor": 5
}