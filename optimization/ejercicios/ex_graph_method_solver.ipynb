{
 "cells": [
  {
   "cell_type": "markdown",
   "id": "c134aca9",
   "metadata": {},
   "source": [
    "## Install Pyomo "
   ]
  },
  {
   "cell_type": "code",
   "execution_count": null,
   "id": "c07472cc",
   "metadata": {},
   "outputs": [],
   "source": [
    "#conda install -c conda-forge pyomo"
   ]
  },
  {
   "cell_type": "markdown",
   "id": "edace0b3",
   "metadata": {},
   "source": [
    "## Install Solver GLPK"
   ]
  },
  {
   "cell_type": "code",
   "execution_count": null,
   "id": "8cea989e",
   "metadata": {
    "run_control": {
     "marked": true
    }
   },
   "outputs": [],
   "source": [
    "conda install -c conda-forge glpk"
   ]
  },
  {
   "cell_type": "markdown",
   "id": "d06d7312",
   "metadata": {},
   "source": [
    "## Import Pyomo"
   ]
  },
  {
   "cell_type": "code",
   "execution_count": null,
   "id": "d6460ef7",
   "metadata": {},
   "outputs": [],
   "source": [
    "import pyomo.environ as pyo"
   ]
  },
  {
   "cell_type": "markdown",
   "id": "fdbb1480",
   "metadata": {
    "hide_input": false
   },
   "source": [
    "### 1. Data"
   ]
  },
  {
   "cell_type": "code",
   "execution_count": null,
   "id": "d956e010",
   "metadata": {},
   "outputs": [],
   "source": [
    "# Empty"
   ]
  },
  {
   "cell_type": "markdown",
   "id": "911cd09c",
   "metadata": {},
   "source": [
    "### 2. Model (Concrete Model)"
   ]
  },
  {
   "cell_type": "code",
   "execution_count": null,
   "id": "6992e159",
   "metadata": {},
   "outputs": [],
   "source": [
    "model = pyo.ConcreteModel()"
   ]
  },
  {
   "cell_type": "markdown",
   "id": "bfa420b7",
   "metadata": {},
   "source": [
    "### 3. Desicion Variables"
   ]
  },
  {
   "cell_type": "code",
   "execution_count": null,
   "id": "fa46a341",
   "metadata": {},
   "outputs": [],
   "source": [
    "model.x = pyo.Var(within=pyo.NonNegativeReals)  # possible values that desicion variables can take\n",
    "model.y = pyo.Var(within=pyo.NonNegativeReals)  # possible values that desicion variables can take"
   ]
  },
  {
   "cell_type": "markdown",
   "id": "28df456d",
   "metadata": {},
   "source": [
    "### 4. Objective Function"
   ]
  },
  {
   "cell_type": "code",
   "execution_count": null,
   "id": "82dbedb8",
   "metadata": {},
   "outputs": [],
   "source": [
    "model.objective_Funct = pyo.Objective(\n",
    "    expr= model.x + 2*model.y,\n",
    "    sense=pyo.maximize)"
   ]
  },
  {
   "cell_type": "markdown",
   "id": "964a4dc4",
   "metadata": {},
   "source": [
    "### 5. Constraints"
   ]
  },
  {
   "cell_type": "code",
   "execution_count": null,
   "id": "5f4f4b19",
   "metadata": {},
   "outputs": [],
   "source": [
    "model.constraint_1=pyo.Constraint(expr=2*model.x+model.y>=4)\n",
    "model.constraint_2=pyo.Constraint(expr=-2*model.x+4*model.y>=-2)\n",
    "model.constraint_3=pyo.Constraint(expr=-2*model.x+model.y>=-8)\n",
    "model.constraint_4=pyo.Constraint(expr=-2*model.x+model.y<=-2)\n",
    "model.constraint_5=pyo.Constraint(expr=model.y<=6)"
   ]
  },
  {
   "cell_type": "markdown",
   "id": "584a909f",
   "metadata": {},
   "source": [
    "### 6. Solve"
   ]
  },
  {
   "cell_type": "code",
   "execution_count": null,
   "id": "132c7c08",
   "metadata": {},
   "outputs": [],
   "source": [
    "factory = pyo.SolverFactory('glpk')\n",
    "factory.solve(model, tee=True)"
   ]
  },
  {
   "cell_type": "code",
   "execution_count": null,
   "id": "a5f377ab",
   "metadata": {},
   "outputs": [],
   "source": [
    "model.pprint()"
   ]
  },
  {
   "cell_type": "markdown",
   "id": "e92d0e4e-2700-4286-8f5f-5fc5d2e99389",
   "metadata": {},
   "source": [
    "## Print just results of desicion variables"
   ]
  },
  {
   "cell_type": "code",
   "execution_count": null,
   "id": "54d0b4e3-cf84-49f5-b84b-cf1e3ee4faa9",
   "metadata": {},
   "outputs": [],
   "source": [
    "print(f'X:, {pyo.value(model.x)}, Y: {pyo.value(model.y)}')    "
   ]
  },
  {
   "cell_type": "code",
   "execution_count": null,
   "id": "290d1d9a-d373-45f5-b844-61c6473ea2cb",
   "metadata": {},
   "outputs": [],
   "source": []
  }
 ],
 "metadata": {
  "hide_input": false,
  "kernelspec": {
   "display_name": "Python 3 (ipykernel)",
   "language": "python",
   "name": "python3"
  },
  "language_info": {
   "codemirror_mode": {
    "name": "ipython",
    "version": 3
   },
   "file_extension": ".py",
   "mimetype": "text/x-python",
   "name": "python",
   "nbconvert_exporter": "python",
   "pygments_lexer": "ipython3",
   "version": "3.10.10"
  }
 },
 "nbformat": 4,
 "nbformat_minor": 5
}
