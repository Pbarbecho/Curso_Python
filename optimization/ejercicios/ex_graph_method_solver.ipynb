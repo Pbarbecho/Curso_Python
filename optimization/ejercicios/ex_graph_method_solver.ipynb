{
 "cells": [
  {
   "cell_type": "markdown",
   "id": "c134aca9",
   "metadata": {},
   "source": [
    "## Install Pyomo "
   ]
  },
  {
   "cell_type": "code",
   "execution_count": null,
   "id": "c07472cc",
   "metadata": {},
   "outputs": [],
   "source": [
    "#conda install -c conda-forge pyomo"
   ]
  },
  {
   "cell_type": "markdown",
   "id": "edace0b3",
   "metadata": {},
   "source": [
    "## Install Solver GLPK"
   ]
  },
  {
   "cell_type": "code",
   "execution_count": 1,
   "id": "8cea989e",
   "metadata": {
    "run_control": {
     "marked": true
    }
   },
   "outputs": [
    {
     "name": "stdout",
     "output_type": "stream",
     "text": [
      "Collecting package metadata (current_repodata.json): done\n",
      "Solving environment: done\n",
      "\n",
      "\n",
      "==> WARNING: A newer version of conda exists. <==\n",
      "  current version: 23.1.0\n",
      "  latest version: 23.3.1\n",
      "\n",
      "Please update conda by running\n",
      "\n",
      "    $ conda update -n base -c conda-forge conda\n",
      "\n",
      "Or to minimize the number of packages updated during conda update use\n",
      "\n",
      "     conda install conda=23.3.1\n",
      "\n",
      "\n",
      "\n",
      "# All requested packages already installed.\n",
      "\n",
      "\n",
      "Note: you may need to restart the kernel to use updated packages.\n"
     ]
    }
   ],
   "source": [
    "conda install -c conda-forge glpk"
   ]
  },
  {
   "cell_type": "markdown",
   "id": "d06d7312",
   "metadata": {},
   "source": [
    "## Import Pyomo"
   ]
  },
  {
   "cell_type": "code",
   "execution_count": 2,
   "id": "d6460ef7",
   "metadata": {},
   "outputs": [],
   "source": [
    "import pyomo.environ as pyo"
   ]
  },
  {
   "cell_type": "markdown",
   "id": "fdbb1480",
   "metadata": {
    "hide_input": false
   },
   "source": [
    "### 1. Data"
   ]
  },
  {
   "cell_type": "code",
   "execution_count": 3,
   "id": "d956e010",
   "metadata": {},
   "outputs": [],
   "source": [
    "# Empty"
   ]
  },
  {
   "cell_type": "markdown",
   "id": "911cd09c",
   "metadata": {},
   "source": [
    "### 2. Model (Concrete Model)"
   ]
  },
  {
   "cell_type": "code",
   "execution_count": 4,
   "id": "6992e159",
   "metadata": {},
   "outputs": [],
   "source": [
    "model = pyo.ConcreteModel()"
   ]
  },
  {
   "cell_type": "markdown",
   "id": "bfa420b7",
   "metadata": {},
   "source": [
    "### 3. Desicion Variables"
   ]
  },
  {
   "cell_type": "code",
   "execution_count": 5,
   "id": "fa46a341",
   "metadata": {},
   "outputs": [],
   "source": [
    "model.x = pyo.Var(within=pyo.NonNegativeReals)  # possible values that desicion variables can take\n",
    "model.y = pyo.Var(within=pyo.NonNegativeReals)  # possible values that desicion variables can take"
   ]
  },
  {
   "cell_type": "markdown",
   "id": "28df456d",
   "metadata": {},
   "source": [
    "### 4. Objective Function"
   ]
  },
  {
   "cell_type": "code",
   "execution_count": 6,
   "id": "82dbedb8",
   "metadata": {},
   "outputs": [],
   "source": [
    "model.objective_Funct = pyo.Objective(\n",
    "    expr= model.x + 2*model.y,\n",
    "    sense=pyo.maximize)"
   ]
  },
  {
   "cell_type": "markdown",
   "id": "964a4dc4",
   "metadata": {},
   "source": [
    "### 5. Constraints"
   ]
  },
  {
   "cell_type": "code",
   "execution_count": 10,
   "id": "5f4f4b19",
   "metadata": {},
   "outputs": [
    {
     "name": "stdout",
     "output_type": "stream",
     "text": [
      "WARNING: Reassigning the non-component attribute constraint_1 on block\n",
      "    (model).unknown with a new Component with type <class\n",
      "    'pyomo.core.base.constraint.AbstractScalarConstraint'>. This is usually\n",
      "    indicative of a modelling error. To avoid this warning, explicitly delete\n",
      "    the attribute:\n",
      "        del unknown.constraint_1\n",
      "WARNING: Reassigning the non-component attribute constraint_2 on block\n",
      "    (model).unknown with a new Component with type <class\n",
      "    'pyomo.core.base.constraint.AbstractScalarConstraint'>. This is usually\n",
      "    indicative of a modelling error. To avoid this warning, explicitly delete\n",
      "    the attribute:\n",
      "        del unknown.constraint_2\n",
      "WARNING: Reassigning the non-component attribute constraint_3 on block\n",
      "    (model).unknown with a new Component with type <class\n",
      "    'pyomo.core.base.constraint.AbstractScalarConstraint'>. This is usually\n",
      "    indicative of a modelling error. To avoid this warning, explicitly delete\n",
      "    the attribute:\n",
      "        del unknown.constraint_3\n",
      "WARNING: Reassigning the non-component attribute constraint_4 on block\n",
      "    (model).unknown with a new Component with type <class\n",
      "    'pyomo.core.base.constraint.AbstractScalarConstraint'>. This is usually\n",
      "    indicative of a modelling error. To avoid this warning, explicitly delete\n",
      "    the attribute:\n",
      "        del unknown.constraint_4\n",
      "WARNING: Reassigning the non-component attribute constraint_5 on block\n",
      "    (model).unknown with a new Component with type <class\n",
      "    'pyomo.core.base.constraint.AbstractScalarConstraint'>. This is usually\n",
      "    indicative of a modelling error. To avoid this warning, explicitly delete\n",
      "    the attribute:\n",
      "        del unknown.constraint_5\n"
     ]
    }
   ],
   "source": [
    "model.constraint_1=pyo.Constraint(expr=2*model.x+model.y>=4)\n",
    "model.constraint_2=pyo.Constraint(expr=-2*model.x+4*model.y>=-2)\n",
    "model.constraint_3=pyo.Constraint(expr=-2*model.x+model.y>=-8)\n",
    "model.constraint_4=pyo.Constraint(expr=-2*model.x+model.y<=-2)\n",
    "model.constraint_5=pyo.Constraint(expr=model.y<=6)"
   ]
  },
  {
   "cell_type": "markdown",
   "id": "584a909f",
   "metadata": {},
   "source": [
    "### 6. Solve"
   ]
  },
  {
   "cell_type": "code",
   "execution_count": 11,
   "id": "132c7c08",
   "metadata": {},
   "outputs": [
    {
     "name": "stdout",
     "output_type": "stream",
     "text": [
      "GLPSOL--GLPK LP/MIP Solver 5.0\n",
      "Parameter(s) specified in the command line:\n",
      " --write /tmp/tmp75t6roed.glpk.raw --wglp /tmp/tmp2x_cjt_7.glpk.glp --cpxlp\n",
      " /tmp/tmp_rb_lc87.pyomo.lp\n",
      "Reading problem data from '/tmp/tmp_rb_lc87.pyomo.lp'...\n",
      "6 rows, 3 columns, 10 non-zeros\n",
      "40 lines were read\n",
      "Writing problem data to '/tmp/tmp2x_cjt_7.glpk.glp'...\n",
      "30 lines were written\n",
      "GLPK Simplex Optimizer 5.0\n",
      "6 rows, 3 columns, 10 non-zeros\n",
      "Preprocessing...\n",
      "4 rows, 2 columns, 8 non-zeros\n",
      "Scaling...\n",
      " A: min|aij| =  1.000e+00  max|aij| =  4.000e+00  ratio =  4.000e+00\n",
      "Problem data seem to be well scaled\n",
      "Constructing initial basis...\n",
      "Size of triangular part is 4\n",
      "      0: obj =  -0.000000000e+00 inf =   6.000e+00 (2)\n",
      "      2: obj =   2.600000000e+00 inf =   0.000e+00 (0)\n",
      "*     4: obj =   1.900000000e+01 inf =   0.000e+00 (0)\n",
      "OPTIMAL LP SOLUTION FOUND\n",
      "Time used:   0.0 secs\n",
      "Memory used: 0.0 Mb (40436 bytes)\n",
      "Writing basic solution to '/tmp/tmp75t6roed.glpk.raw'...\n",
      "18 lines were written\n"
     ]
    },
    {
     "data": {
      "text/plain": [
       "{'Problem': [{'Name': 'unknown', 'Lower bound': 19.0, 'Upper bound': 19.0, 'Number of objectives': 1, 'Number of constraints': 6, 'Number of variables': 3, 'Number of nonzeros': 10, 'Sense': 'maximize'}], 'Solver': [{'Status': 'ok', 'Termination condition': 'optimal', 'Statistics': {'Branch and bound': {'Number of bounded subproblems': 0, 'Number of created subproblems': 0}}, 'Error rc': 0, 'Time': 0.024175167083740234}], 'Solution': [OrderedDict([('number of solutions', 0), ('number of solutions displayed', 0)])]}"
      ]
     },
     "execution_count": 11,
     "metadata": {},
     "output_type": "execute_result"
    }
   ],
   "source": [
    "factory = pyo.SolverFactory('glpk')\n",
    "factory.solve(model, tee=True)"
   ]
  },
  {
   "cell_type": "code",
   "execution_count": 12,
   "id": "a5f377ab",
   "metadata": {},
   "outputs": [
    {
     "name": "stdout",
     "output_type": "stream",
     "text": [
      "2 Var Declarations\n",
      "    x : Size=1, Index=None\n",
      "        Key  : Lower : Value : Upper : Fixed : Stale : Domain\n",
      "        None :     0 :   7.0 :  None : False : False : NonNegativeReals\n",
      "    y : Size=1, Index=None\n",
      "        Key  : Lower : Value : Upper : Fixed : Stale : Domain\n",
      "        None :     0 :   6.0 :  None : False : False : NonNegativeReals\n",
      "\n",
      "1 Objective Declarations\n",
      "    objective_Funct : Size=1, Index=None, Active=True\n",
      "        Key  : Active : Sense    : Expression\n",
      "        None :   True : maximize : x + 2*y\n",
      "\n",
      "5 Constraint Declarations\n",
      "    constraint_1 : Size=1, Index=None, Active=True\n",
      "        Key  : Lower : Body    : Upper : Active\n",
      "        None :   4.0 : 2*x + y :  +Inf :   True\n",
      "    constraint_2 : Size=1, Index=None, Active=True\n",
      "        Key  : Lower : Body       : Upper : Active\n",
      "        None :  -2.0 : -2*x + 4*y :  +Inf :   True\n",
      "    constraint_3 : Size=1, Index=None, Active=True\n",
      "        Key  : Lower : Body     : Upper : Active\n",
      "        None :  -8.0 : -2*x + y :  +Inf :   True\n",
      "    constraint_4 : Size=1, Index=None, Active=True\n",
      "        Key  : Lower : Body     : Upper : Active\n",
      "        None :  -Inf : -2*x + y :  -2.0 :   True\n",
      "    constraint_5 : Size=1, Index=None, Active=True\n",
      "        Key  : Lower : Body : Upper : Active\n",
      "        None :  -Inf :    y :   6.0 :   True\n",
      "\n",
      "8 Declarations: x y objective_Funct constraint_1 constraint_2 constraint_3 constraint_4 constraint_5\n"
     ]
    }
   ],
   "source": [
    "model.pprint()"
   ]
  },
  {
   "cell_type": "markdown",
   "id": "e92d0e4e-2700-4286-8f5f-5fc5d2e99389",
   "metadata": {},
   "source": [
    "## Print just results of desicion variables"
   ]
  },
  {
   "cell_type": "code",
   "execution_count": 17,
   "id": "54d0b4e3-cf84-49f5-b84b-cf1e3ee4faa9",
   "metadata": {},
   "outputs": [
    {
     "ename": "SyntaxError",
     "evalue": "invalid syntax. Perhaps you forgot a comma? (2523840749.py, line 1)",
     "output_type": "error",
     "traceback": [
      "\u001b[0;36m  Cell \u001b[0;32mIn[17], line 1\u001b[0;36m\u001b[0m\n\u001b[0;31m    print(\"X:\", pyo.value(model.x), \"Y:\" pyo.value(model.x))\u001b[0m\n\u001b[0m                                    ^\u001b[0m\n\u001b[0;31mSyntaxError\u001b[0m\u001b[0;31m:\u001b[0m invalid syntax. Perhaps you forgot a comma?\n"
     ]
    }
   ],
   "source": [
    "print('\"X:\", pyo.value(model.x), \"Y:\" pyo.value(model.x))    "
   ]
  },
  {
   "cell_type": "code",
   "execution_count": null,
   "id": "290d1d9a-d373-45f5-b844-61c6473ea2cb",
   "metadata": {},
   "outputs": [],
   "source": []
  }
 ],
 "metadata": {
  "hide_input": false,
  "kernelspec": {
   "display_name": "Python 3 (ipykernel)",
   "language": "python",
   "name": "python3"
  },
  "language_info": {
   "codemirror_mode": {
    "name": "ipython",
    "version": 3
   },
   "file_extension": ".py",
   "mimetype": "text/x-python",
   "name": "python",
   "nbconvert_exporter": "python",
   "pygments_lexer": "ipython3",
   "version": "3.10.10"
  }
 },
 "nbformat": 4,
 "nbformat_minor": 5
}
