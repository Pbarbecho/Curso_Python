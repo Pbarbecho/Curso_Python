{
 "cells": [
  {
   "cell_type": "markdown",
   "id": "b2f295f8",
   "metadata": {},
   "source": [
    "# Simple Optimization Example with Python (SciPy)\n",
    "\n",
    "\n",
    "\n",
    "$$\n",
    "\\begin{align}\n",
    "y = x^2 + 2x + 1\n",
    "\\end{align}\n",
    "$$\n"
   ]
  },
  {
   "cell_type": "markdown",
   "id": "b4df2e1c",
   "metadata": {},
   "source": [
    "## Import python libraries"
   ]
  },
  {
   "cell_type": "code",
   "execution_count": 9,
   "id": "09f36771",
   "metadata": {},
   "outputs": [],
   "source": [
    "import numpy as np\n",
    "import matplotlib.pyplot as plt\n",
    "from scipy import optimize"
   ]
  },
  {
   "cell_type": "markdown",
   "id": "54f81813",
   "metadata": {},
   "source": [
    "## Define Objective function as a function"
   ]
  },
  {
   "cell_type": "code",
   "execution_count": 13,
   "id": "c7743f81",
   "metadata": {},
   "outputs": [],
   "source": [
    "def func(x):\n",
    "    y = x**2 + 2*x + 1\n",
    "    return y\n"
   ]
  },
  {
   "cell_type": "markdown",
   "id": "9d1c2fbf",
   "metadata": {},
   "source": [
    "## Define feasible set of x "
   ]
  },
  {
   "cell_type": "code",
   "execution_count": 14,
   "id": "1da13a85",
   "metadata": {},
   "outputs": [],
   "source": [
    "xmin = -5\n",
    "xmax = 5\n",
    "dx = 0.1\n",
    "\n",
    "N = int ((xmax - xmin)/dx )\n",
    "x = np.linspace(xmin , xmax , N+1)"
   ]
  },
  {
   "cell_type": "markdown",
   "id": "4e7e9462",
   "metadata": {},
   "source": [
    "## Define y values"
   ]
  },
  {
   "cell_type": "code",
   "execution_count": 15,
   "id": "196df87a",
   "metadata": {},
   "outputs": [],
   "source": [
    "y=func(x)"
   ]
  },
  {
   "cell_type": "code",
   "execution_count": 16,
   "id": "16c65529",
   "metadata": {},
   "outputs": [],
   "source": [
    "## Plot function"
   ]
  },
  {
   "cell_type": "code",
   "execution_count": 17,
   "id": "bd704f41",
   "metadata": {},
   "outputs": [
    {
     "data": {
      "image/png": "[encoded data removed]",
      "text/plain": [
       "<Figure size 432x288 with 1 Axes>"
      ]
     },
     "metadata": {
      "needs_background": "light"
     },
     "output_type": "display_data"
    }
   ],
   "source": [
    "plt.plot(x,y)\n",
    "plt.xlim([xmin,xmax])\n",
    "plt.grid()"
   ]
  },
  {
   "cell_type": "markdown",
   "id": "bc4b91e6",
   "metadata": {},
   "source": [
    "## Minimize function"
   ]
  },
  {
   "cell_type": "code",
   "execution_count": 18,
   "id": "1acef961",
   "metadata": {},
   "outputs": [
    {
     "name": "stdout",
     "output_type": "stream",
     "text": [
      "-1.0\n",
      "0.0\n"
     ]
    }
   ],
   "source": [
    "x_min = optimize.fminbound(func,xmin,xmax)\n",
    "y_min = func(x_min)\n",
    "\n",
    "print(x_min)\n",
    "print(y_min)"
   ]
  }
 ],
 "metadata": {
  "hide_input": false,
  "kernelspec": {
   "display_name": "Python 3 (ipykernel)",
   "language": "python",
   "name": "python3"
  },
  "language_info": {
   "codemirror_mode": {
    "name": "ipython",
    "version": 3
   },
   "file_extension": ".py",
   "mimetype": "text/x-python",
   "name": "python",
   "nbconvert_exporter": "python",
   "pygments_lexer": "ipython3",
   "version": "3.9.7"
  }
 },
 "nbformat": 4,
 "nbformat_minor": 5
}
