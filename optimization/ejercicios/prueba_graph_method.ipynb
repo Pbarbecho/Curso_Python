{
  "cells": [
    {
      "cell_type": "markdown",
      "id": "b2f295f8",
      "metadata": {
        "id": "b2f295f8"
      },
      "source": [
        "# Graphical Method Example"
      ]
    },
    {
      "cell_type": "markdown",
      "id": "b4df2e1c",
      "metadata": {
        "id": "b4df2e1c"
      },
      "source": [
        "## Import python libraries"
      ]
    },
    {
      "cell_type": "code",
      "execution_count": null,
      "id": "09f36771",
      "metadata": {
        "id": "09f36771"
      },
      "outputs": [],
      "source": [
        "import numpy as np\n",
        "import matplotlib.pyplot as plt\n",
        "from scipy import optimize"
      ]
    },
    {
      "cell_type": "markdown",
      "id": "54f81813",
      "metadata": {
        "id": "54f81813"
      },
      "source": [
        "## Define Constraints as Functions (Feasible Set)"
      ]
    },
    {
      "cell_type": "code",
      "execution_count": null,
      "id": "c7743f81",
      "metadata": {
        "id": "c7743f81"
      },
      "outputs": [],
      "source": [
        "def c1(x):\n",
        "    y = 5 - x/2\n",
        "    return y\n",
        "\n",
        "def c2(x):\n",
        "    y = 2*x-5\n",
        "    return y\n",
        "\n",
        "def c3(x):\n",
        "    y =  (4*x+5)/3\n",
        "    return y\n",
        "\n",
        "\n",
        "def objectiveFunction(z,x):  #z=1\n",
        "    return ((3/2)*x-(1/2)*z)\n"
      ]
    },
    {
      "cell_type": "markdown",
      "id": "9d1c2fbf",
      "metadata": {
        "id": "9d1c2fbf"
      },
      "source": [
        "## Define feasible set of x (NonNegativeReal)"
      ]
    },
    {
      "cell_type": "code",
      "execution_count": null,
      "id": "1da13a85",
      "metadata": {
        "id": "1da13a85"
      },
      "outputs": [],
      "source": [
        "xmin = 0\n",
        "xmax = 10\n",
        "dx = 0.1\n",
        "\n",
        "N = int ((xmax - xmin)/dx )\n",
        "x = np.linspace(xmin , xmax , N+1)"
      ]
    },
    {
      "cell_type": "markdown",
      "id": "4e7e9462",
      "metadata": {
        "id": "4e7e9462"
      },
      "source": [
        "## Define z values"
      ]
    },
    {
      "cell_type": "code",
      "execution_count": null,
      "id": "196df87a",
      "metadata": {
        "id": "196df87a"
      },
      "outputs": [],
      "source": [
        "z1=c1(x)\n",
        "z2=c2(x)\n",
        "z3=c3(x)\n",
        "\n",
        "\n",
        ""
      ]
    },
    {
      "cell_type": "markdown",
      "id": "6871313a-1cb8-4fb2-aadf-88c1403052b0",
      "metadata": {
        "id": "6871313a-1cb8-4fb2-aadf-88c1403052b0"
      },
      "source": [
        "## Plot function"
      ]
    },
    {
      "cell_type": "code",
      "execution_count": null,
      "id": "bd704f41",
      "metadata": {
        "id": "bd704f41"
      },
      "outputs": [],
      "source": [
        "plt.plot(x,z1, label='Constraint 1')\n",
        "plt.plot(x,z2, label='Constraint 2')\n",
        "plt.plot(x,z3, label='Constraint 3')\n",
        "\n",
        "\n",
        "for z in range(-12,0,2):\n",
        "  z4 = objectiveFunction(z,x)  #z=1\n",
        "  plt.plot(x,z4, '--', label=f'Obj. Func. z={z}')\n",
        "\n",
        "plt.fill_between([0, 1.82, 0], [5/3, 4.1, 5], color='g', alpha=0.15)\n",
        "\n",
        "\n",
        "# anotaciones en el plot Punto 1\n",
        "flechas = dict(shrink=.1, width=1, headwidth=5)\n",
        "plt.plot(0, 5, 'r.', ms=15)\n",
        "plt.annotate(f'A[0,5] -> z={-10}', xy=(0, 5), xytext=(1, 6), arrowprops=flechas)\n",
        "\n",
        "\n",
        "\n",
        "plt.xlim([xmin,xmax])\n",
        "plt.ylim([xmin,8])\n",
        "plt.xticks(np.arange(min(x), max(x)+1, 1.0))\n",
        "plt.xlabel('X')\n",
        "plt.ylabel('Y')\n",
        "plt.legend()\n",
        "plt.grid()"
      ]
    },
    {
      "cell_type": "code",
      "source": [
        "!pip install pyomo"
      ],
      "metadata": {
        "id": "AUy-3bj8Skwr"
      },
      "id": "AUy-3bj8Skwr",
      "execution_count": null,
      "outputs": []
    },
    {
      "cell_type": "code",
      "source": [
        "!apt install -y -qq glpk-utils"
      ],
      "metadata": {
        "id": "OeK56nzkSJBW"
      },
      "id": "OeK56nzkSJBW",
      "execution_count": null,
      "outputs": []
    },
    {
      "cell_type": "code",
      "execution_count": null,
      "id": "f3fd45a6-b371-4cb0-b8be-9178bd47487e",
      "metadata": {
        "id": "f3fd45a6-b371-4cb0-b8be-9178bd47487e"
      },
      "outputs": [],
      "source": [
        "import pyomo.environ as pyo"
      ]
    },
    {
      "cell_type": "code",
      "source": [
        "model = pyo.ConcreteModel()"
      ],
      "metadata": {
        "id": "uOiuV9X5RY88"
      },
      "id": "uOiuV9X5RY88",
      "execution_count": null,
      "outputs": []
    },
    {
      "cell_type": "code",
      "source": [
        "model.x1 = pyo.Var(within=pyo.NonNegativeReals)\n",
        "model.x2 = pyo.Var(within=pyo.NonNegativeReals)"
      ],
      "metadata": {
        "id": "rJ1DlSiSRacQ"
      },
      "id": "rJ1DlSiSRacQ",
      "execution_count": null,
      "outputs": []
    },
    {
      "cell_type": "code",
      "source": [
        "model.objective_Funct = pyo.Objective(\n",
        "    expr= 3*model.x1 - 2*model.x2)"
      ],
      "metadata": {
        "id": "HHGLMRgCRa6Z"
      },
      "id": "HHGLMRgCRa6Z",
      "execution_count": null,
      "outputs": []
    },
    {
      "cell_type": "code",
      "source": [
        "model.constraint_1 = pyo.Constraint(expr=model.x1 + 2*model.x2<=10)\n",
        "model.constraint_2 = pyo.Constraint(expr=2*model.x1 - model.x2<=5)\n",
        "model.constraint_3 = pyo.Constraint(expr=-4*model.x1 + 3*model.x2>=5)"
      ],
      "metadata": {
        "id": "IX_E5x6MRonZ"
      },
      "id": "IX_E5x6MRonZ",
      "execution_count": null,
      "outputs": []
    },
    {
      "cell_type": "code",
      "source": [
        "factory = pyo.SolverFactory('glpk')\n",
        "factory.solve(model, tee=True)"
      ],
      "metadata": {
        "id": "yefMRSLyRrEK"
      },
      "id": "yefMRSLyRrEK",
      "execution_count": null,
      "outputs": []
    },
    {
      "cell_type": "code",
      "source": [
        "model.pprint()"
      ],
      "metadata": {
        "id": "dXOY0mZ5Rts9"
      },
      "id": "dXOY0mZ5Rts9",
      "execution_count": null,
      "outputs": []
    },
    {
      "cell_type": "code",
      "source": [
        "# Result\n",
        "print(\"Result\")\n",
        "print(f'x1={pyo.value(model.x1)}')\n",
        "print(f'x2={pyo.value(model.x2)}')\n"
      ],
      "metadata": {
        "id": "Mg1iCREzSGkf"
      },
      "id": "Mg1iCREzSGkf",
      "execution_count": null,
      "outputs": []
    },
    {
      "cell_type": "code",
      "source": [],
      "metadata": {
        "id": "K3VsJM8_UOEQ"
      },
      "id": "K3VsJM8_UOEQ",
      "execution_count": null,
      "outputs": []
    }
  ],
  "metadata": {
    "hide_input": false,
    "kernelspec": {
      "display_name": "Python 3 (ipykernel)",
      "language": "python",
      "name": "python3"
    },
    "language_info": {
      "codemirror_mode": {
        "name": "ipython",
        "version": 3
      },
      "file_extension": ".py",
      "mimetype": "text/x-python",
      "name": "python",
      "nbconvert_exporter": "python",
      "pygments_lexer": "ipython3",
      "version": "3.10.10"
    },
    "colab": {
      "provenance": []
    }
  },
  "nbformat": 4,
  "nbformat_minor": 5
}