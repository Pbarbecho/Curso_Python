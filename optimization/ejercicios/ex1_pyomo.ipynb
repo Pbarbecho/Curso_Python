{
 "cells": [
  {
   "cell_type": "markdown",
   "id": "24238af9-58ad-4e35-a06f-dc51b746c617",
   "metadata": {},
   "source": [
    "# <center>  Knapsack Problem </center> \n",
    "\n",
    "<center>  <img src=\"imagenes/pyomo_1.jpg\" alt=\"Drawing\" style=\"width: 600px;\"/> </center> \n",
    "  \n",
    "  \n",
    "  \n",
    "## Problem Formulation\n",
    "\n",
    "<center>  <img src=\"imagenes/pyomo_1_problem_math.jpg.jpg\" alt=\"Drawing\" style=\"width: 200px;\"/> </center> "
   ]
  },
  {
   "cell_type": "markdown",
   "id": "7ac1aad3-351c-4a14-b79f-00c69f06f8c6",
   "metadata": {},
   "source": [
    "## Install Solver Linear Programming GLPK (Kit de Programación Lineal GNU) "
   ]
  },
  {
   "cell_type": "code",
   "execution_count": 10,
   "id": "85cf9279",
   "metadata": {},
   "outputs": [],
   "source": [
    "conda install -c conda-forge glpk"
   ]
  },
  {
   "cell_type": "markdown",
   "id": "72515fd4-cf0b-495a-b0c0-0d36c24ec319",
   "metadata": {},
   "source": [
    "## Required Packages (Pyomo)"
   ]
  },
  {
   "cell_type": "code",
   "execution_count": 12,
   "id": "e8c874cb-a85f-43f7-b818-dfbe3ae5a4b1",
   "metadata": {},
   "outputs": [],
   "source": [
    "from pyomo.environ import *"
   ]
  },
  {
   "cell_type": "code",
   "execution_count": null,
   "id": "272a1d52-f222-4a9c-a987-be4cf54d7992",
   "metadata": {},
   "outputs": [],
   "source": []
  }
 ],
 "metadata": {
  "hide_input": false,
  "kernelspec": {
   "display_name": "Python 3 (ipykernel)",
   "language": "python",
   "name": "python3"
  },
  "language_info": {
   "codemirror_mode": {
    "name": "ipython",
    "version": 3
   },
   "file_extension": ".py",
   "mimetype": "text/x-python",
   "name": "python",
   "nbconvert_exporter": "python",
   "pygments_lexer": "ipython3",
   "version": "3.10.9"
  }
 },
 "nbformat": 4,
 "nbformat_minor": 5
}
