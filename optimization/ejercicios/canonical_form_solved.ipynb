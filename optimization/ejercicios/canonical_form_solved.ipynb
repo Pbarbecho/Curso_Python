{
  "metadata": {
    "hide_input": false,
    "kernelspec": {
      "display_name": "Python 3 (ipykernel)",
      "language": "python",
      "name": "python3"
    },
    "language_info": {
      "name": "python",
      "version": "3.10.9",
      "mimetype": "text/x-python",
      "codemirror_mode": {
        "name": "ipython",
        "version": 3
      },
      "pygments_lexer": "ipython3",
      "nbconvert_exporter": "python",
      "file_extension": ".py"
    },
    "colab": {
      "provenance": []
    }
  },
  "nbformat_minor": 5,
  "nbformat": 4,
  "cells": [
    {
      "cell_type": "markdown",
      "source": [
        "## Install Pyomo "
      ],
      "metadata": {
        "id": "c134aca9"
      },
      "id": "c134aca9"
    },
    {
      "cell_type": "code",
      "source": [
        "!pip install pyomo"
      ],
      "metadata": {
        "id": "c07472cc",
        "outputId": "cf1a0d67-8df5-4a58-9c54-82d8efe0c529",
        "colab": {
          "base_uri": "https://localhost:8080/"
        }
      },
      "execution_count": 5,
      "outputs": [
        {
          "output_type": "stream",
          "name": "stdout",
          "text": [
            "Looking in indexes: https://pypi.org/simple, https://us-python.pkg.dev/colab-wheels/public/simple/\n",
            "Collecting pyomo\n",
            "  Downloading Pyomo-6.6.0-cp310-cp310-manylinux_2_17_x86_64.manylinux2014_x86_64.whl (11.9 MB)\n",
            "\u001b[2K     \u001b[90m━━━━━━━━━━━━━━━━━━━━━━━━━━━━━━━━━━━━━━━━\u001b[0m \u001b[32m11.9/11.9 MB\u001b[0m \u001b[31m85.6 MB/s\u001b[0m eta \u001b[36m0:00:00\u001b[0m\n",
            "\u001b[?25hCollecting ply (from pyomo)\n",
            "  Downloading ply-3.11-py2.py3-none-any.whl (49 kB)\n",
            "\u001b[2K     \u001b[90m━━━━━━━━━━━━━━━━━━━━━━━━━━━━━━━━━━━━━━━━\u001b[0m \u001b[32m49.6/49.6 kB\u001b[0m \u001b[31m5.3 MB/s\u001b[0m eta \u001b[36m0:00:00\u001b[0m\n",
            "\u001b[?25hInstalling collected packages: ply, pyomo\n",
            "Successfully installed ply-3.11 pyomo-6.6.0\n"
          ]
        }
      ],
      "id": "c07472cc"
    },
    {
      "cell_type": "markdown",
      "source": [
        "## Install Solver GLPK"
      ],
      "metadata": {
        "id": "edace0b3"
      },
      "id": "edace0b3"
    },
    {
      "cell_type": "code",
      "source": [
        "!apt install -y -qq glpk-utils"
      ],
      "metadata": {
        "run_control": {
          "marked": true
        },
        "trusted": true,
        "id": "8cea989e",
        "outputId": "e36d3959-7cc1-49b6-b4ce-956c95edd690",
        "colab": {
          "base_uri": "https://localhost:8080/"
        }
      },
      "execution_count": 3,
      "outputs": [
        {
          "output_type": "stream",
          "name": "stdout",
          "text": [
            "The following additional packages will be installed:\n",
            "  libamd2 libcolamd2 libglpk40 libsuitesparseconfig5\n",
            "Suggested packages:\n",
            "  libiodbc2-dev\n",
            "The following NEW packages will be installed:\n",
            "  glpk-utils libamd2 libcolamd2 libglpk40 libsuitesparseconfig5\n",
            "0 upgraded, 5 newly installed, 0 to remove and 34 not upgraded.\n",
            "Need to get 694 kB of archives.\n",
            "After this operation, 1,694 kB of additional disk space will be used.\n",
            "Selecting previously unselected package libsuitesparseconfig5:amd64.\n",
            "(Reading database ... 122545 files and directories currently installed.)\n",
            "Preparing to unpack .../libsuitesparseconfig5_1%3a5.7.1+dfsg-2_amd64.deb ...\n",
            "Unpacking libsuitesparseconfig5:amd64 (1:5.7.1+dfsg-2) ...\n",
            "Selecting previously unselected package libamd2:amd64.\n",
            "Preparing to unpack .../libamd2_1%3a5.7.1+dfsg-2_amd64.deb ...\n",
            "Unpacking libamd2:amd64 (1:5.7.1+dfsg-2) ...\n",
            "Selecting previously unselected package libcolamd2:amd64.\n",
            "Preparing to unpack .../libcolamd2_1%3a5.7.1+dfsg-2_amd64.deb ...\n",
            "Unpacking libcolamd2:amd64 (1:5.7.1+dfsg-2) ...\n",
            "Selecting previously unselected package libglpk40:amd64.\n",
            "Preparing to unpack .../libglpk40_4.65-2_amd64.deb ...\n",
            "Unpacking libglpk40:amd64 (4.65-2) ...\n",
            "Selecting previously unselected package glpk-utils.\n",
            "Preparing to unpack .../glpk-utils_4.65-2_amd64.deb ...\n",
            "Unpacking glpk-utils (4.65-2) ...\n",
            "Setting up libsuitesparseconfig5:amd64 (1:5.7.1+dfsg-2) ...\n",
            "Setting up libamd2:amd64 (1:5.7.1+dfsg-2) ...\n",
            "Setting up libcolamd2:amd64 (1:5.7.1+dfsg-2) ...\n",
            "Setting up libglpk40:amd64 (4.65-2) ...\n",
            "Setting up glpk-utils (4.65-2) ...\n",
            "Processing triggers for man-db (2.9.1-1) ...\n",
            "Processing triggers for libc-bin (2.31-0ubuntu9.9) ...\n"
          ]
        }
      ],
      "id": "8cea989e"
    },
    {
      "cell_type": "markdown",
      "source": [
        "## Import Pyomo"
      ],
      "metadata": {
        "id": "d06d7312"
      },
      "id": "d06d7312"
    },
    {
      "cell_type": "code",
      "source": [
        "import pyomo.environ as pyo"
      ],
      "metadata": {
        "trusted": true,
        "id": "d6460ef7"
      },
      "execution_count": 6,
      "outputs": [],
      "id": "d6460ef7"
    },
    {
      "cell_type": "markdown",
      "source": [
        "### 1. Data"
      ],
      "metadata": {
        "hide_input": false,
        "id": "fdbb1480"
      },
      "id": "fdbb1480"
    },
    {
      "cell_type": "code",
      "source": [
        "var = ['x1','x2','x3','x4','x5'] # items\n",
        "#W = {'E1':12,'E2':2,'E3':1,'E4':4,'E5':1} # item weight\n",
        "#V = {'E1':4,'E2':2,'E3':1,'E4':10,'E5':2} # item values\n",
        "#W_max = 15"
      ],
      "metadata": {
        "trusted": true,
        "id": "d956e010"
      },
      "execution_count": 15,
      "outputs": [],
      "id": "d956e010"
    },
    {
      "cell_type": "markdown",
      "source": [
        "### 2. Model (Concrete Model)"
      ],
      "metadata": {
        "id": "911cd09c"
      },
      "id": "911cd09c"
    },
    {
      "cell_type": "code",
      "source": [
        "model = pyo.ConcreteModel()"
      ],
      "metadata": {
        "trusted": true,
        "id": "6992e159"
      },
      "execution_count": 16,
      "outputs": [],
      "id": "6992e159"
    },
    {
      "cell_type": "markdown",
      "source": [
        "### 3. Desicion Variables"
      ],
      "metadata": {
        "id": "bfa420b7"
      },
      "id": "bfa420b7"
    },
    {
      "cell_type": "code",
      "source": [
        "model.x = pyo.Var(var, within=pyo.NonNegativeReals)"
      ],
      "metadata": {
        "trusted": true,
        "id": "fa46a341"
      },
      "execution_count": 17,
      "outputs": [],
      "id": "fa46a341"
    },
    {
      "cell_type": "markdown",
      "source": [
        "### 4. Objective Function"
      ],
      "metadata": {
        "id": "28df456d"
      },
      "id": "28df456d"
    },
    {
      "cell_type": "code",
      "source": [],
      "metadata": {
        "id": "lZ8wcqFYzpPQ",
        "outputId": "80bb6ed6-8895-4da1-feb4-e3508c6bf146",
        "colab": {
          "base_uri": "https://localhost:8080/"
        }
      },
      "id": "lZ8wcqFYzpPQ",
      "execution_count": 24,
      "outputs": [
        {
          "output_type": "execute_result",
          "data": {
            "text/plain": [
              "<pyomo.core.base.var._GeneralVarData at 0x7f091697bca0>"
            ]
          },
          "metadata": {},
          "execution_count": 24
        }
      ]
    },
    {
      "cell_type": "code",
      "source": [
        "model.objective_Funct = pyo.Objective(\n",
        "    expr= (-2*model.x['x4']+3*model.x['x5']-60))"
      ],
      "metadata": {
        "trusted": true,
        "id": "82dbedb8"
      },
      "execution_count": 25,
      "outputs": [],
      "id": "82dbedb8"
    },
    {
      "cell_type": "markdown",
      "source": [
        "### 5. Constraints"
      ],
      "metadata": {
        "id": "964a4dc4"
      },
      "id": "964a4dc4"
    },
    {
      "cell_type": "code",
      "source": [
        "model.constraint_1 = pyo.Constraint(expr=(model.x['x1']+2*model.x['x4']-model.x['x5']==10))\n",
        "\n",
        "model.constraint_2 = pyo.Constraint(expr=(model.x['x2']-model.x['x4']-5*model.x['x5']==20))\n",
        "\n",
        "model.constraint_3 = pyo.Constraint(expr=(model.x['x3']+6*model.x['x4']-12*model.x['x5']==18))\n"
      ],
      "metadata": {
        "trusted": true,
        "id": "5f4f4b19",
        "outputId": "a2142e97-16fc-4878-bc31-da2b709c5ad7",
        "colab": {
          "base_uri": "https://localhost:8080/"
        }
      },
      "execution_count": 28,
      "outputs": [
        {
          "output_type": "stream",
          "name": "stderr",
          "text": [
            "WARNING:pyomo.core:Implicitly replacing the Component attribute constraint_1 (type=<class 'pyomo.core.base.constraint.ScalarConstraint'>) on block unknown with a new Component (type=<class 'pyomo.core.base.constraint.AbstractScalarConstraint'>).\n",
            "This is usually indicative of a modelling error.\n",
            "To avoid this warning, use block.del_component() and block.add_component().\n"
          ]
        }
      ],
      "id": "5f4f4b19"
    },
    {
      "cell_type": "markdown",
      "source": [
        "### 6. Solve"
      ],
      "metadata": {
        "id": "584a909f"
      },
      "id": "584a909f"
    },
    {
      "cell_type": "code",
      "source": [
        "factory = pyo.SolverFactory('glpk')\n",
        "factory.solve(model, tee=True)"
      ],
      "metadata": {
        "trusted": true,
        "id": "132c7c08",
        "outputId": "e9e7195f-46ea-49a2-e921-0a11835d7f79",
        "colab": {
          "base_uri": "https://localhost:8080/"
        }
      },
      "execution_count": 29,
      "outputs": [
        {
          "output_type": "stream",
          "name": "stdout",
          "text": [
            "GLPSOL: GLPK LP/MIP Solver, v4.65\n",
            "Parameter(s) specified in the command line:\n",
            " --write /tmp/tmpa18lh4_h.glpk.raw --wglp /tmp/tmp4livai7_.glpk.glp --cpxlp\n",
            " /tmp/tmppsfnmmmp.pyomo.lp\n",
            "Reading problem data from '/tmp/tmppsfnmmmp.pyomo.lp'...\n",
            "3 rows, 6 columns, 9 non-zeros\n",
            "36 lines were read\n",
            "Writing problem data to '/tmp/tmp4livai7_.glpk.glp'...\n",
            "28 lines were written\n",
            "GLPK Simplex Optimizer, v4.65\n",
            "3 rows, 6 columns, 9 non-zeros\n",
            "Preprocessing...\n",
            "2 rows, 2 columns, 4 non-zeros\n",
            "Scaling...\n",
            " A: min|aij| =  1.000e+00  max|aij| =  1.200e+01  ratio =  1.200e+01\n",
            "GM: min|aij| =  7.071e-01  max|aij| =  1.414e+00  ratio =  2.000e+00\n",
            "EQ: min|aij| =  5.000e-01  max|aij| =  1.000e+00  ratio =  2.000e+00\n",
            "Constructing initial basis...\n",
            "Size of triangular part is 2\n",
            "*     0: obj =  -6.000000000e+01 inf =   0.000e+00 (1)\n",
            "*     2: obj =  -6.733333333e+01 inf =   0.000e+00 (0)\n",
            "OPTIMAL LP SOLUTION FOUND\n",
            "Time used:   0.0 secs\n",
            "Memory used: 0.0 Mb (40412 bytes)\n",
            "Writing basic solution to '/tmp/tmpa18lh4_h.glpk.raw'...\n",
            "18 lines were written\n"
          ]
        },
        {
          "output_type": "execute_result",
          "data": {
            "text/plain": [
              "{'Problem': [{'Name': 'unknown', 'Lower bound': -67.3333333333333, 'Upper bound': -67.3333333333333, 'Number of objectives': 1, 'Number of constraints': 3, 'Number of variables': 6, 'Number of nonzeros': 9, 'Sense': 'minimize'}], 'Solver': [{'Status': 'ok', 'Termination condition': 'optimal', 'Statistics': {'Branch and bound': {'Number of bounded subproblems': 0, 'Number of created subproblems': 0}}, 'Error rc': 0, 'Time': 0.012656450271606445}], 'Solution': [OrderedDict([('number of solutions', 0), ('number of solutions displayed', 0)])]}"
            ]
          },
          "metadata": {},
          "execution_count": 29
        }
      ],
      "id": "132c7c08"
    },
    {
      "cell_type": "code",
      "source": [
        "model.pprint()"
      ],
      "metadata": {
        "trusted": true,
        "id": "a5f377ab",
        "outputId": "6a32522e-6299-4f5a-e04d-aa99ea87d3c9",
        "colab": {
          "base_uri": "https://localhost:8080/"
        }
      },
      "execution_count": 30,
      "outputs": [
        {
          "output_type": "stream",
          "name": "stdout",
          "text": [
            "1 Set Declarations\n",
            "    x_index : Size=1, Index=None, Ordered=Insertion\n",
            "        Key  : Dimen : Domain : Size : Members\n",
            "        None :     1 :    Any :    5 : {'x1', 'x2', 'x3', 'x4', 'x5'}\n",
            "\n",
            "1 Var Declarations\n",
            "    x : Size=5, Index=x_index\n",
            "        Key : Lower : Value            : Upper : Fixed : Stale : Domain\n",
            "         x1 :     0 :              0.0 :  None : False : False : NonNegativeReals\n",
            "         x2 :     0 : 32.3333333333333 :  None : False : False : NonNegativeReals\n",
            "         x3 :     0 :              0.0 :  None : False : False : NonNegativeReals\n",
            "         x4 :     0 : 5.66666666666667 :  None : False : False : NonNegativeReals\n",
            "         x5 :     0 : 1.33333333333333 :  None : False : False : NonNegativeReals\n",
            "\n",
            "1 Objective Declarations\n",
            "    objective_Funct : Size=1, Index=None, Active=True\n",
            "        Key  : Active : Sense    : Expression\n",
            "        None :   True : minimize : -2*x[x4] + 3*x[x5] - 60\n",
            "\n",
            "3 Constraint Declarations\n",
            "    constraint_1 : Size=1, Index=None, Active=True\n",
            "        Key  : Lower : Body                    : Upper : Active\n",
            "        None :  10.0 : x[x1] + 2*x[x4] - x[x5] :  10.0 :   True\n",
            "    constraint_2 : Size=1, Index=None, Active=True\n",
            "        Key  : Lower : Body                    : Upper : Active\n",
            "        None :  20.0 : x[x2] - x[x4] - 5*x[x5] :  20.0 :   True\n",
            "    constraint_3 : Size=1, Index=None, Active=True\n",
            "        Key  : Lower : Body                       : Upper : Active\n",
            "        None :  18.0 : x[x3] + 6*x[x4] - 12*x[x5] :  18.0 :   True\n",
            "\n",
            "6 Declarations: x_index x objective_Funct constraint_1 constraint_2 constraint_3\n"
          ]
        }
      ],
      "id": "a5f377ab"
    },
    {
      "cell_type": "markdown",
      "source": [
        "## Print just results of desicion variables"
      ],
      "metadata": {
        "id": "e92d0e4e-2700-4286-8f5f-5fc5d2e99389"
      },
      "id": "e92d0e4e-2700-4286-8f5f-5fc5d2e99389"
    },
    {
      "cell_type": "code",
      "source": [
        "results = []\n",
        "\n",
        "for i in var:\n",
        "    results.append(pyo.value(model.x[i]))\n",
        "print(results)\n",
        "    "
      ],
      "metadata": {
        "trusted": true,
        "id": "54d0b4e3-cf84-49f5-b84b-cf1e3ee4faa9",
        "outputId": "6af8e03b-b695-4d3b-af6f-123ccfe3b82f",
        "colab": {
          "base_uri": "https://localhost:8080/"
        }
      },
      "execution_count": 32,
      "outputs": [
        {
          "output_type": "stream",
          "name": "stdout",
          "text": [
            "[0.0, 32.3333333333333, 0.0, 5.66666666666667, 1.33333333333333]\n"
          ]
        }
      ],
      "id": "54d0b4e3-cf84-49f5-b84b-cf1e3ee4faa9"
    },
    {
      "cell_type": "code",
      "source": [],
      "metadata": {
        "id": "0vsG_2IxxPY8"
      },
      "id": "0vsG_2IxxPY8",
      "execution_count": null,
      "outputs": []
    }
  ]
}