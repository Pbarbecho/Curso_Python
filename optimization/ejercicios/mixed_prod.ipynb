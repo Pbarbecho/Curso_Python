{
 "cells": [
  {
   "cell_type": "markdown",
   "id": "f1e009e3-c0c4-4f8b-9bb5-2c9db7607bce",
   "metadata": {},
   "source": [
    "# <center> Producction Problem X,Y </center> "
   ]
  },
  {
   "cell_type": "markdown",
   "id": "edace0b3",
   "metadata": {},
   "source": [
    "## Install Solver GLPK"
   ]
  },
  {
   "cell_type": "code",
   "execution_count": null,
   "id": "8cea989e",
   "metadata": {
    "run_control": {
     "marked": true
    }
   },
   "outputs": [],
   "source": [
    "conda install -c conda-forge glpk"
   ]
  },
  {
   "cell_type": "markdown",
   "id": "d06d7312",
   "metadata": {},
   "source": [
    "## Import Pyomo"
   ]
  },
  {
   "cell_type": "code",
   "execution_count": null,
   "id": "d6460ef7",
   "metadata": {},
   "outputs": [],
   "source": [
    "import pyomo.environ as pyo"
   ]
  },
  {
   "cell_type": "markdown",
   "id": "54a2aeb0-6a1d-40fa-9c84-1a671245fe1e",
   "metadata": {},
   "source": [
    "# <center> Producción Producto X </center>\n",
    "\n",
    "\n",
    "## Problem Formulation\n",
    "\n",
    "\n",
    " <center><img src=\"imagenes/x_prod_blocks.jpg\" alt=\"Drawing\" style=\"width: 600px;\"/> </center>\n",
    " \n",
    " <img src=\"imagenes/revenue.jpg\" alt=\"Drawing\" style=\"width: 300px;\"/> \n",
    " \n",
    " <img src=\"imagenes/costo.jpg\" alt=\"Drawing\" style=\"width: 600px;\"/> \n",
    "  \n",
    " <img src=\"imagenes/profit.jpg\" alt=\"Drawing\" style=\"width: 300px;\"/> "
   ]
  },
  {
   "cell_type": "markdown",
   "id": "fdbb1480",
   "metadata": {
    "hide_input": false
   },
   "source": [
    "### 1. Data"
   ]
  },
  {
   "cell_type": "code",
   "execution_count": null,
   "id": "d956e010",
   "metadata": {},
   "outputs": [],
   "source": []
  },
  {
   "cell_type": "markdown",
   "id": "911cd09c",
   "metadata": {
    "tags": []
   },
   "source": [
    "### 2. Model (Concrete Model)"
   ]
  },
  {
   "cell_type": "code",
   "execution_count": null,
   "id": "6992e159",
   "metadata": {},
   "outputs": [],
   "source": [
    "model = pyo.ConcreteModel()"
   ]
  },
  {
   "cell_type": "markdown",
   "id": "bfa420b7",
   "metadata": {},
   "source": [
    "### 3. Desicion Variables"
   ]
  },
  {
   "cell_type": "code",
   "execution_count": null,
   "id": "fa46a341",
   "metadata": {},
   "outputs": [],
   "source": [
    "model.x = pyo.Var(domain=pyo.NonNegativeReals)"
   ]
  },
  {
   "cell_type": "markdown",
   "id": "28df456d",
   "metadata": {},
   "source": [
    "### 4. Objective Function"
   ]
  },
  {
   "cell_type": "code",
   "execution_count": null,
   "id": "82dbedb8",
   "metadata": {},
   "outputs": [],
   "source": [
    "model.profit = pyo.Objective(\n",
    "    expr = 40*model.x,\n",
    "    sense = pyo.maximize)"
   ]
  },
  {
   "cell_type": "markdown",
   "id": "964a4dc4",
   "metadata": {},
   "source": [
    "### 5. Constraints"
   ]
  },
  {
   "cell_type": "code",
   "execution_count": null,
   "id": "5f4f4b19",
   "metadata": {},
   "outputs": [],
   "source": [
    "model.demand = pyo.Constraint(expr = model.x <= 40)\n",
    "model.typeA = pyo.Constraint(expr = model.x <= 80)\n",
    "model.typeB = pyo.Constraint(expr = 2*model.x <= 100)"
   ]
  },
  {
   "cell_type": "markdown",
   "id": "584a909f",
   "metadata": {},
   "source": [
    "### 6. Solve"
   ]
  },
  {
   "cell_type": "code",
   "execution_count": null,
   "id": "132c7c08",
   "metadata": {},
   "outputs": [],
   "source": [
    "factory = pyo.SolverFactory('glpk')\n",
    "factory.solve(model, tee=True)"
   ]
  },
  {
   "cell_type": "code",
   "execution_count": null,
   "id": "a5f377ab",
   "metadata": {},
   "outputs": [],
   "source": [
    "model.pprint()"
   ]
  },
  {
   "cell_type": "markdown",
   "id": "e92d0e4e-2700-4286-8f5f-5fc5d2e99389",
   "metadata": {},
   "source": [
    "## Print results of the model"
   ]
  },
  {
   "cell_type": "code",
   "execution_count": null,
   "id": "54d0b4e3-cf84-49f5-b84b-cf1e3ee4faa9",
   "metadata": {},
   "outputs": [],
   "source": [
    "print(f'X = {pyo.value(model.x)}')\n",
    "print(f'Objective Function = {pyo.value(model.profit)}')    "
   ]
  },
  {
   "cell_type": "code",
   "execution_count": null,
   "id": "e4937567-9b38-4716-9292-723e34d7ec7c",
   "metadata": {},
   "outputs": [],
   "source": []
  },
  {
   "cell_type": "markdown",
   "id": "ab36de92-2611-4b93-a4b1-fcf817806152",
   "metadata": {},
   "source": [
    "# <center> Producción Producto Y </center>\n",
    "\n",
    "\n",
    "\n",
    "## Problem Formulation\n",
    "\n",
    "\n",
    "<center> <img src=\"imagenes/y_prod_blocks.jpg\" alt=\"Drawing\" style=\"width: 600px;\"/> </center>"
   ]
  },
  {
   "cell_type": "markdown",
   "id": "18704ab9-cbc4-44ab-9458-244757979f45",
   "metadata": {
    "tags": []
   },
   "source": [
    "### 2. Model (Concrete Model)"
   ]
  },
  {
   "cell_type": "code",
   "execution_count": null,
   "id": "6ba2444b-bc9e-4ec1-8e10-ccaf18549699",
   "metadata": {},
   "outputs": [],
   "source": [
    "modelY = pyo.ConcreteModel()"
   ]
  },
  {
   "cell_type": "markdown",
   "id": "a6a60592-7e29-43e1-81bd-c8b3df511398",
   "metadata": {},
   "source": [
    "### 3. Desicion Variables"
   ]
  },
  {
   "cell_type": "code",
   "execution_count": null,
   "id": "402ecadf-9526-4e5c-a835-0e5989c6f0be",
   "metadata": {},
   "outputs": [],
   "source": [
    "modelY.x = pyo.Var(domain=pyo.NonNegativeReals)"
   ]
  },
  {
   "cell_type": "markdown",
   "id": "3b7f6c76-3683-4537-ab18-b865ce185e2f",
   "metadata": {},
   "source": [
    "### 4. Objective Function"
   ]
  },
  {
   "cell_type": "code",
   "execution_count": null,
   "id": "6030e662-8aae-487c-a240-11f131dae08e",
   "metadata": {},
   "outputs": [],
   "source": [
    "modelY.profit = pyo.Objective(\n",
    "    expr = 30*modelY.x,\n",
    "    sense = pyo.maximize)"
   ]
  },
  {
   "cell_type": "markdown",
   "id": "8d9e3832-9854-4300-a0f6-19f4a9224fe7",
   "metadata": {},
   "source": [
    "### 5. Constraints"
   ]
  },
  {
   "cell_type": "code",
   "execution_count": null,
   "id": "3d36a56c-5162-4380-a853-70e19575636e",
   "metadata": {},
   "outputs": [],
   "source": [
    "modelY.typeA = pyo.Constraint(expr = modelY.x <= 80)\n",
    "modelY.typeB = pyo.Constraint(expr = modelY.x <= 100)"
   ]
  },
  {
   "cell_type": "markdown",
   "id": "f0c686af-965b-469b-8283-d20e65cce82a",
   "metadata": {},
   "source": [
    "### 6. Solve"
   ]
  },
  {
   "cell_type": "markdown",
   "id": "9cd7242f-c4e0-439a-9f55-c8a1a0c7a8a2",
   "metadata": {},
   "source": [
    "# <center> Mixed Producction X,Y </center> \n",
    "\n",
    "  \n",
    "  \n",
    "## Problem Formulation\n",
    "\n",
    " <center><img src=\"imagenes/mixedprod.jpg\" alt=\"Drawing\" style=\"width: 600px;\"/> </center>"
   ]
  },
  {
   "cell_type": "markdown",
   "id": "22b0ee69-1f0a-4dcb-88c6-125d455614d2",
   "metadata": {
    "tags": []
   },
   "source": [
    "### 2. Model (Concrete Model)"
   ]
  },
  {
   "cell_type": "code",
   "execution_count": null,
   "id": "db5884e3-6096-4c74-8e25-7b6d8a96d8a7",
   "metadata": {},
   "outputs": [],
   "source": [
    "modelXY = pyo.ConcreteModel()"
   ]
  },
  {
   "cell_type": "markdown",
   "id": "e9c1b3a1-33e3-4f80-b274-6570a70a9699",
   "metadata": {},
   "source": [
    "### 3. Desicion Variables"
   ]
  },
  {
   "cell_type": "code",
   "execution_count": null,
   "id": "063f7545-144b-4d55-8e91-8d3694e1e240",
   "metadata": {},
   "outputs": [],
   "source": [
    "modelXY.x = pyo.Var(domain= pyo.NonNegativeReals)\n",
    "modelXY.y = pyo.Var(domain= pyo.NonNegativeReals)"
   ]
  },
  {
   "cell_type": "markdown",
   "id": "35b914d8-bb2e-4fc0-a639-b58f51cf48d5",
   "metadata": {},
   "source": [
    "### 4. Objective Function"
   ]
  },
  {
   "cell_type": "code",
   "execution_count": null,
   "id": "6f49b653-bc56-4016-85c3-67d56fb43c5b",
   "metadata": {},
   "outputs": [],
   "source": [
    "modelXY.profit = pyo.Objective(\n",
    "    expr = 40*modelXY.x + 30*modelXY.y,\n",
    "    sense = pyo.maximize)"
   ]
  },
  {
   "cell_type": "markdown",
   "id": "a1cd9b81-4c80-4e0a-8354-eb860e49211d",
   "metadata": {},
   "source": [
    "### 5. Constraints"
   ]
  },
  {
   "cell_type": "code",
   "execution_count": null,
   "id": "7a296e71-56ab-4c1f-ad7d-72d3ee4b876d",
   "metadata": {},
   "outputs": [],
   "source": [
    "modelXY.demand =  pyo.Constraint(expr = modelXY.x <= 40)\n",
    "modelXY.laborA =  pyo.Constraint(expr = modelXY.x + modelXY.y <= 80)\n",
    "modelXY.laborB =  pyo.Constraint(expr = 2*modelXY.x + modelXY.y <= 100)"
   ]
  },
  {
   "cell_type": "markdown",
   "id": "6b7cd57c-f9ce-424f-aead-1641694cd5b2",
   "metadata": {},
   "source": [
    "### 6. Solve"
   ]
  },
  {
   "cell_type": "code",
   "execution_count": null,
   "id": "9d925902-cc67-4516-bc76-8ceb469c7f1e",
   "metadata": {},
   "outputs": [],
   "source": [
    "factory = pyo.SolverFactory('glpk')\n",
    "factory.solve(modelXY, tee=True)"
   ]
  },
  {
   "cell_type": "code",
   "execution_count": null,
   "id": "cfa3b8de-bd18-4570-a4af-18884522c468",
   "metadata": {},
   "outputs": [],
   "source": [
    "modelXY.pprint()"
   ]
  },
  {
   "cell_type": "markdown",
   "id": "8c96666b-4546-4c48-a201-a149203d4109",
   "metadata": {},
   "source": [
    "## Print results of the model"
   ]
  },
  {
   "cell_type": "code",
   "execution_count": null,
   "id": "dc7ed79e-7dea-4ac0-85f0-da7b646112cd",
   "metadata": {},
   "outputs": [],
   "source": [
    "print(f'X = {pyo.value(modelXY.x)}')\n",
    "print(f'Y = {pyo.value(modelXY.y)}')\n",
    "print(f'Objective Function = {pyo.value(modelXY.profit)}')    "
   ]
  },
  {
   "cell_type": "code",
   "execution_count": null,
   "id": "a04fa567-fd31-4c28-b5d8-38f6e7e832dd",
   "metadata": {},
   "outputs": [],
   "source": []
  },
  {
   "cell_type": "markdown",
   "id": "317e0381-4d46-4702-bb7c-cd47d4722184",
   "metadata": {},
   "source": [
    "# <center> Graphical Solution </center> \n",
    "  \n",
    "  "
   ]
  },
  {
   "cell_type": "markdown",
   "id": "20d269ae-51cb-4ac4-aaa4-2f1bbf66774f",
   "metadata": {},
   "source": [
    "# Import Packages"
   ]
  },
  {
   "cell_type": "code",
   "execution_count": null,
   "id": "572919a0-6769-4153-b54c-3dd22d618e0d",
   "metadata": {},
   "outputs": [],
   "source": [
    "import matplotlib.pyplot as plt\n",
    "import numpy as np"
   ]
  },
  {
   "cell_type": "markdown",
   "id": "87eb0e4f-7dcd-4985-bd67-5b51d6628249",
   "metadata": {},
   "source": [
    "# Plot graph of the problem"
   ]
  },
  {
   "cell_type": "code",
   "execution_count": null,
   "id": "043c7fdb-ac3c-4d22-879d-4b91ff9c47be",
   "metadata": {},
   "outputs": [],
   "source": [
    "fig, ax = plt.subplots(1, 1, figsize=(6, 6))\n",
    "ax.set_aspect('equal')\n",
    "ax.axis([0, 100, 0, 100])\n",
    "ax.set_xlabel('X Production')\n",
    "ax.set_ylabel('Y Production')\n",
    "\n",
    "# Labor A constraint\n",
    "x = np.array([0, 80])\n",
    "ax.plot(x, 80 - x, 'r', lw=2)\n",
    "\n",
    "# Labor B constraint\n",
    "x = np.array([0, 50])\n",
    "ax.plot(x, 100 - 2*x, 'b', lw=2)\n",
    "\n",
    "# Demand constraint\n",
    "ax.plot([40, 40], [0, 100], 'g', lw=2)\n",
    "\n",
    "ax.legend(['Labor A Constraint', 'Labor B Constraint', 'Demand Constraint'])\n",
    "ax.fill_between([0, 80, 100], [80, 0,0 ], [100, 100, 100], color='r', alpha=0.15)\n",
    "ax.fill_between([0, 50, 100], [100, 0, 0], [100, 100, 100], color='b', alpha=0.15)\n",
    "ax.fill_between([40, 100], [0, 0], [100, 100], color='g', alpha=0.15)\n",
    "\n",
    "# Contours of constant profit\n",
    "x = np.array([0, 100])\n",
    "for p in np.linspace(0, 3600, 10):\n",
    "    y = (p - 40*x)/30\n",
    "    ax.plot(x, y, 'y--')\n",
    "    \n",
    "arrowprops = dict(shrink=.1, width=1, headwidth=5)\n",
    "\n",
    "# Optimum\n",
    "ax.plot(20, 60, 'r.', ms=20)\n",
    "ax.annotate('Mixed Product Strategy', xy=(20, 60), xytext=(50, 70), arrowprops=arrowprops)\n",
    "\n",
    "ax.plot(0, 80, 'b.', ms=20)\n",
    "ax.annotate('Y Only', xy=(0, 80), xytext=(20, 90), arrowprops=arrowprops)\n",
    "\n",
    "ax.plot(40, 0, 'b.', ms=20)\n",
    "ax.annotate('X Only', xy=(40, 0), xytext=(70, 20), arrowprops=arrowprops)\n",
    "\n",
    "ax.text(4, 23, 'Increasing Profit')\n",
    "ax.annotate('', xy=(20, 15), xytext=(0,0), arrowprops=arrowprops)"
   ]
  },
  {
   "cell_type": "code",
   "execution_count": null,
   "id": "84b7e639-0095-4b05-b657-b99347fd710d",
   "metadata": {},
   "outputs": [],
   "source": []
  },
  {
   "cell_type": "markdown",
   "id": "5f10c1b5-4607-4cf3-9206-d9a5c60a4eb5",
   "metadata": {},
   "source": [
    "Jupyter Notebook adapted from: \n",
    "    [Jeffrey C. Kantor](https://jckantor.github.io/ND-Pyomo-Cookbook/notebooks/02.01-Production-Models-with-Linear-Constraints.html)\n",
    "    \n",
    "    "
   ]
  }
 ],
 "metadata": {
  "hide_input": false,
  "kernelspec": {
   "display_name": "Python 3 (ipykernel)",
   "language": "python",
   "name": "python3"
  },
  "language_info": {
   "codemirror_mode": {
    "name": "ipython",
    "version": 3
   },
   "file_extension": ".py",
   "mimetype": "text/x-python",
   "name": "python",
   "nbconvert_exporter": "python",
   "pygments_lexer": "ipython3",
   "version": "3.10.10"
  }
 },
 "nbformat": 4,
 "nbformat_minor": 5
}
