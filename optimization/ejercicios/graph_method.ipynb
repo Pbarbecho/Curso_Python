{
 "cells": [
  {
   "cell_type": "markdown",
   "id": "b2f295f8",
   "metadata": {},
   "source": [
    "# Graphical Method Example"
   ]
  },
  {
   "cell_type": "markdown",
   "id": "b4df2e1c",
   "metadata": {},
   "source": [
    "## Import python libraries"
   ]
  },
  {
   "cell_type": "code",
   "execution_count": null,
   "id": "09f36771",
   "metadata": {},
   "outputs": [],
   "source": [
    "import numpy as np\n",
    "import matplotlib.pyplot as plt\n",
    "from scipy import optimize"
   ]
  },
  {
   "cell_type": "markdown",
   "id": "54f81813",
   "metadata": {},
   "source": [
    "## Define Constraints as Functions (Feasible Set)"
   ]
  },
  {
   "cell_type": "code",
   "execution_count": null,
   "id": "c7743f81",
   "metadata": {},
   "outputs": [],
   "source": [
    "def c1(x):\n",
    "    y = 4 - 2*x\n",
    "    return y\n",
    "\n",
    "def c2(x):\n",
    "    y = (1/2)*(x-1)\n",
    "    return y\n",
    "\n",
    "def c3(x):\n",
    "    y =  2*x-8\n",
    "    return y\n",
    "\n",
    "def c4(x):\n",
    "    y =  2*(x - 1)\n",
    "    return y\n",
    "\n",
    "def objectiveFunction(x,y):\n",
    "    return x+2*y\n"
   ]
  },
  {
   "cell_type": "markdown",
   "id": "9d1c2fbf",
   "metadata": {},
   "source": [
    "## Define feasible set of x (NonNegativeReal)"
   ]
  },
  {
   "cell_type": "code",
   "execution_count": null,
   "id": "1da13a85",
   "metadata": {},
   "outputs": [],
   "source": [
    "xmin = 0\n",
    "xmax = 10\n",
    "dx = 0.1\n",
    "\n",
    "N = int ((xmax - xmin)/dx )\n",
    "x = np.linspace(xmin , xmax , N+1)"
   ]
  },
  {
   "cell_type": "markdown",
   "id": "4e7e9462",
   "metadata": {},
   "source": [
    "## Define z values"
   ]
  },
  {
   "cell_type": "code",
   "execution_count": null,
   "id": "196df87a",
   "metadata": {},
   "outputs": [],
   "source": [
    "z1=c1(x)\n",
    "z2=c2(x)\n",
    "z3=c3(x)\n",
    "z4=c4(x)"
   ]
  },
  {
   "cell_type": "markdown",
   "id": "6871313a-1cb8-4fb2-aadf-88c1403052b0",
   "metadata": {},
   "source": [
    "## Plot function"
   ]
  },
  {
   "cell_type": "code",
   "execution_count": null,
   "id": "bd704f41",
   "metadata": {},
   "outputs": [],
   "source": [
    "plt.plot(x,z1, label='Constraint 1')\n",
    "plt.plot(x,z2, label='Constraint 2')\n",
    "plt.plot(x,z3, label='Constraint 3')\n",
    "plt.plot(x,z4, label='Constraint 4')\n",
    "plt.axhline(y=6, label='Constraint 5')\n",
    "\n",
    "\n",
    "plt.fill_between([4, 7, 10], [0, 6, 6], color='g', alpha=0.15)\n",
    "plt.fill_between([0, 1.5, 4], [6, 6, 6], [4,1,6] ,color='b', alpha=0.15)\n",
    "plt.fill_between([1, 4, 5], [0,1.5,2], [0,0,2] ,color='r', alpha=0.15)\n",
    "plt.fill_between([0, 2], [4,0],color='coral', alpha=0.15)\n",
    "plt.fill_between([0, 10], [6,6],[8,8],color='orange', alpha=0.15)\n",
    "\n",
    "\n",
    "# anotaciones en el plot Punto 1\n",
    "Z = objectiveFunction(7,6) # point 1\n",
    "flechas = dict(shrink=.1, width=1, headwidth=5)\n",
    "plt.plot(7, 6, 'r.', ms=15)\n",
    "plt.annotate(f'A[7,6] -> z={Z}', xy=(7, 6), xytext=(7.5, 6.5), arrowprops=flechas)\n",
    "\n",
    "# anotaciones en el plot Punto 2\n",
    "Z = objectiveFunction(9/5,2/5) # point 2\n",
    "plt.plot(9/5,2/5, 'r.', ms=15)\n",
    "plt.annotate(f'B[9/5,2/5] -> z={Z}', xy=(9/5, 2/5), xytext=(1, 1.5), arrowprops=flechas)\n",
    "    \n",
    "\n",
    "plt.xlim([xmin,xmax])\n",
    "plt.ylim([xmin,8])\n",
    "plt.xticks(np.arange(min(x), max(x)+1, 1.0))\n",
    "plt.xlabel('X')\n",
    "plt.ylabel('Y')\n",
    "plt.legend()\n",
    "plt.grid()"
   ]
  },
  {
   "cell_type": "code",
   "execution_count": null,
   "id": "f3fd45a6-b371-4cb0-b8be-9178bd47487e",
   "metadata": {},
   "outputs": [],
   "source": []
  }
 ],
 "metadata": {
  "hide_input": false,
  "kernelspec": {
   "display_name": "Python 3 (ipykernel)",
   "language": "python",
   "name": "python3"
  },
  "language_info": {
   "codemirror_mode": {
    "name": "ipython",
    "version": 3
   },
   "file_extension": ".py",
   "mimetype": "text/x-python",
   "name": "python",
   "nbconvert_exporter": "python",
   "pygments_lexer": "ipython3",
   "version": "3.10.10"
  }
 },
 "nbformat": 4,
 "nbformat_minor": 5
}
