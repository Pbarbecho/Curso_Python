{
 "cells": [
  {
   "cell_type": "markdown",
   "id": "0d3288b1",
   "metadata": {
    "deletable": false,
    "editable": false,
    "hide_input": true,
    "run_control": {
     "frozen": true
    }
   },
   "source": [
    "# <center> Diccionarios </center> \n",
    "<center>  <img src=\"images/logo.png\" alt=\"Drawing\" style=\"width: 200px;\"/> </center> \n",
    "\n",
    "# <center> Aprendizaje Interactivo </center> \n",
    "\n",
    "En este cuaderno aprenderemos sobre las funciones en Python. Un aspecto importante en programación en general, no solo en Python, es organizar el código en partes o piezas más pequeñas que hagan tareas específicas. Aquí, las **funciones** son un primer nivel de organización del código. Las funciones reciben unas **entradas**, las **procesan** y devuelven una **salidas**. Denominaremos activar, invocar o llamar a una función a la acción de usarla. Las funciones que hemos aprendido a invocar reciben cero, uno o más argumentos separados por comas y encerrados entre paréntesis por ejemplo `print()` y pueden devolver un valor o no devolver nada.\n",
    "\n",
    "Por ejemplo vamos a usar la función `abs()` que calcula el valor absoluto de un número que **recibe como parámetro** y **retorna el valor calculado** como resultado:\n",
    "\n",
    "\n",
    "```python\n",
    "abs(-7)\n",
    "7\n",
    "```\n",
    "En el ejemplo anterior introducimos dos términos nuevos `recibe` y `retorna`. \n",
    "\n",
    "- Recibe: Hace referencia al pámetro que se pasa a la función dentro del`()` y que se puede usar dentro de la función. Para nuestro ejemplo (-7). \n",
    "- Retorna: Hace referencia al valor que la función devuelve, luego de realizar algún cálculo u operación dentro de la función. Para nuestro ejemplo 7.\n",
    "\n",
    "Las **reglas para dar nombre a las funciones** y a sus parámetros son las mismas que seguimos para dar nombre a las variables. Resumiendo:\n",
    "\n",
    "- Sólo se pueden usar letras (del alfabeto inglés), dígitos y el carácter de subrayado\n",
    "- La primera letra del nombre no puede ser un número\n",
    "- No se pueden usar palabras reservadas (ej. return).\n",
    "- No debes dar el mismo nombre a una función y a una variable. En Python, cada nombre debe identificar claramente un único elemento: una variable o una función.\n",
    "\n",
    "**Objetivos**:\n",
    "\n",
    "- Entender la sintaxis de las funciones que reciban y devuelvan parámetros.\n",
    "- Conocer como definir nuestras propias funciones.\n",
    "\n",
    "\n",
    "## Referencias\n",
    "\n",
    " * The Python Language Reference: https://docs.python.org/3/reference/index.html\n",
    " * The Python Standard Library: https://docs.python.org/3/library/index.html\n",
    " * IBM Jupyter notebooks cheatsheet https://www.ibm.com/docs/en/db2-event-store/2.0.0?topic=notebooks-markdown-jupyter-cheatsheet   \n",
    " \n",
    "***"
   ]
  },
  {
   "cell_type": "code",
   "execution_count": null,
   "id": "7809185f",
   "metadata": {},
   "outputs": [],
   "source": []
  },
  {
   "cell_type": "code",
   "execution_count": null,
   "id": "81179f1e",
   "metadata": {},
   "outputs": [],
   "source": []
  },
  {
   "cell_type": "markdown",
   "id": "94beaa27",
   "metadata": {
    "deletable": false,
    "editable": false,
    "hide_input": true,
    "run_control": {
     "frozen": true
    }
   },
   "source": [
    "# <center> Estructura de las Funciones </center>\n",
    "\n",
    "Veamos algunas características de las funciones: \n",
    "\n",
    "- Son bloques de código que se pueden reutilizar simplemente llamando a la función.\n",
    "- Permiten la reutilización de código simple y elegante sin volver a escribir explícitamente secciones de código.\n",
    "- Hacen que el código sea más legible, facilita la depuración y limita los errores de escritura.\n",
    "- Las funciones pueden recibir cero o más argumentos como entrada.\n",
    "\n",
    "\n",
    "<center>  <img src=\"images/funcion.jpg\" alt=\"Drawing\" style=\"width: 500px;\"/> </center> \n",
    "\n",
    "En la figura anterior, mostramos los componentes de una función: \n",
    "\n",
    "- Nombre de la función\n",
    "- Argumentos\n",
    "- Código o cuerpo de la función. Debe estar indentado\n",
    "- Valor o valores de retorno\n",
    "\n",
    "\n",
    "\n",
    "# Funciones sin parámetros\n",
    "\n",
    "\n",
    "Para crear una función se utiliza la palabra **`def`**, seguida del **nombre de la función** y entre paréntesis se anotan los **parámetros** que la función necesita para trabajar. Una vez definida la función, en cualquier momento podemos invocar o llamar a la misma ingresando el nombre de la función y pasanso los argumentos necesarios. Veamos un ejemplo: \n",
    "\n",
    "```python\n",
    "\n",
    "# Definimos la función\n",
    "def nombre_funcion():\n",
    "    print('Función sin argumentos')\n",
    "\n",
    "# Llamamos o invocamos a la función\n",
    "nombre_funcion()\n",
    "```"
   ]
  },
  {
   "cell_type": "code",
   "execution_count": null,
   "id": "0caf8dd0",
   "metadata": {},
   "outputs": [],
   "source": []
  },
  {
   "cell_type": "code",
   "execution_count": null,
   "id": "485ead86",
   "metadata": {},
   "outputs": [],
   "source": []
  },
  {
   "cell_type": "markdown",
   "id": "031f08a0",
   "metadata": {
    "deletable": false,
    "editable": false,
    "hide_input": true,
    "run_control": {
     "frozen": true
    }
   },
   "source": [
    "## Retorno de Valores - Return\n",
    "\n",
    "Veamos un ejemplo de una función que calcula el cuadrado de un número: \n",
    "\n",
    "\n",
    "<center>  <img src=\"images/return1.jpg\" alt=\"Drawing\" style=\"width: 400px;\"/> </center>\n",
    "\n",
    "Cuando invocamos a una función, es como si utilizáramos una máquina que ejecuta un proceso dado. Para nuestro ejemplo calcula el cuadrado del valor de entrada, por ejemplo `2` y nos devuelve el resultado `4`. Para esto utilizamos la palabra `return`. **Return** significa (devuelve) en inglés. El programa que hemos\n",
    "definido se puede leer como, define cuadrado de x como el valor que\n",
    "resulta de elevar x al cuadrado.\n",
    "\n",
    "<center>  <img src=\"images/return.jpg\" alt=\"Drawing\" style=\"width: 350px;\"/> </center> "
   ]
  },
  {
   "cell_type": "code",
   "execution_count": null,
   "id": "83c34217",
   "metadata": {},
   "outputs": [],
   "source": []
  },
  {
   "cell_type": "code",
   "execution_count": null,
   "id": "cb0a9ea8",
   "metadata": {},
   "outputs": [],
   "source": []
  },
  {
   "cell_type": "markdown",
   "id": "f4dd6ce4",
   "metadata": {
    "deletable": false,
    "editable": false,
    "hide_input": true,
    "run_control": {
     "frozen": true
    }
   },
   "source": [
    "## Retorno múltiple de variables\n",
    "\n",
    "En el apartado anterior vimos cómo retornar `return` un valor en una función en Python, pero éste lenguaje permite devolver múltiples valores de una vez. \n",
    "\n",
    "Veamos un ejemplo:\n",
    "    \n",
    "```python\n",
    "def cuadrado_cubo_x(x):\n",
    "    return x**2, x**3 # retorna más de una variable\n",
    "\n",
    "c2, c3 = cuadrado_cubo_x(2) # asignamos los valores de return \n",
    "```"
   ]
  },
  {
   "cell_type": "code",
   "execution_count": null,
   "id": "5d3607bd",
   "metadata": {},
   "outputs": [],
   "source": []
  },
  {
   "cell_type": "code",
   "execution_count": null,
   "id": "2a5c9c4c",
   "metadata": {},
   "outputs": [],
   "source": []
  },
  {
   "cell_type": "markdown",
   "id": "993225aa",
   "metadata": {
    "deletable": false,
    "editable": false,
    "hide_input": true,
    "run_control": {
     "frozen": true
    }
   },
   "source": [
    "# Funciones con parámetros \n",
    "\n",
    "En el caso de que una función tenga parámetros, para pasarle argumentos a una función con parámetros, tenemos dos opciones: \n",
    "\n",
    "- **Paso de argumentos por posición**: Considera la posición y el orden en que la funcieon define sus parámetros. \n",
    "- **Paso de argumentos por nombre**: no es necesario escribir los argumentos en el orden en que la función define sus parámetros. Podemos especificar el nombre del parámetro y de esa manera escribir los argumentos en cualquier orden.\n",
    "\n",
    "**Ejemplo por posición:**\n",
    "\n",
    "```python\n",
    "def suma(a,b):\n",
    "\tresultado_suma = a+b\n",
    "\treturn resultado_suma\n",
    " \n",
    "print(suma(2,3))\n",
    "```\n",
    "\n",
    "En el ejemplo anterior, la función con nombre `suma` requiere dos parámetros `(a, b)`. Cuando es llamada, `print (suma(5,6))`, los argumentos son leídos en el orden en que son pasados, es decir `a` tomará el valor de `2`, y `b` el valor de `3`.\n",
    "\n",
    "\n",
    "\n",
    "**Ejemplo por nombre:**\n",
    "\n",
    "Podemos especificar el nombre del parámetro y de esa manera escribir los argumentos en cualquier orden.\n",
    "\n",
    "\n",
    "```python\n",
    "def resta(a,b):\n",
    "\tresultado_resta = b-a\n",
    "\treturn resultado_resta\n",
    " \n",
    "print(resta(b=2,a=3))\n",
    "```\n",
    "\n",
    "En el ejemplo anterior podemos llamar a la función `resta` pasándole como argumentos a y b en cualquier orden. Para esto definimos (b=2,a=3). \n",
    "\n",
    "<div class=\"alert alert-info\">En las siguientes celdas de código podemos probar el ejercicio propuesto:</div>"
   ]
  },
  {
   "cell_type": "code",
   "execution_count": null,
   "id": "a7a96bba",
   "metadata": {},
   "outputs": [],
   "source": []
  },
  {
   "cell_type": "code",
   "execution_count": null,
   "id": "6fbf9757",
   "metadata": {},
   "outputs": [],
   "source": []
  },
  {
   "cell_type": "markdown",
   "id": "63f5603f",
   "metadata": {
    "deletable": false,
    "editable": false,
    "hide_input": true,
    "run_control": {
     "frozen": true
    }
   },
   "source": [
    "## Argumentos por defecto \n",
    "\n",
    "Las funciones pueden definirse con valores por defecto para algunos de sus argumentos, de modo que podamos llamarlas sin especificar el valor de esos argumentos cada vez. Podemos ver un ejemplo en la función \n",
    "\n",
    "**Ejemplo:**\n",
    "\n",
    "```python\n",
    "Python\n",
    "def division(dividendo, divisor=2):\n",
    "\tresultado_div = dividendo/divisor\n",
    "\treturn resultado_div\n",
    " \n",
    "operacion_1 = division(5,2)\n",
    "operacion_2 = division(5)\n",
    "print (operacion_1,operacion_2)\n",
    "```\n",
    "\n",
    "<div class=\"alert alert-info\">En las siguientes celdas de código podemos probar el ejercicio propuesto:</div>"
   ]
  },
  {
   "cell_type": "code",
   "execution_count": null,
   "id": "ed53d9a1",
   "metadata": {},
   "outputs": [],
   "source": []
  },
  {
   "cell_type": "code",
   "execution_count": null,
   "id": "b6fe163d",
   "metadata": {},
   "outputs": [],
   "source": []
  },
  {
   "cell_type": "markdown",
   "id": "c0ec3263",
   "metadata": {
    "deletable": false,
    "editable": false,
    "hide_input": true,
    "run_control": {
     "frozen": true
    }
   },
   "source": [
    "## Argumentos no determinados\n",
    "\n",
    "Una función puede utilizar parámetros indeterminados. \n",
    "Python utiliza la expresión `*args` para indicar una serie de argumentos indeterminados.\n",
    "\n",
    "**Ejemplo:**\n",
    "\n",
    "```python\n",
    "def suma_n_numbers(*args):\n",
    "\tsuma = 0\n",
    "\tfor elemento in args:\n",
    "\t\tsuma += elemento\n",
    "\treturn suma\n",
    " \n",
    "total = suma_n_numbers(1,2,3,4,5)\n",
    "print (total)\n",
    "```\n",
    "\n",
    "<div class=\"alert alert-info\">En las siguientes celdas de código podemos probar el ejercicio propuesto:</div>"
   ]
  },
  {
   "cell_type": "code",
   "execution_count": null,
   "id": "0b1c8665",
   "metadata": {},
   "outputs": [],
   "source": []
  },
  {
   "cell_type": "code",
   "execution_count": null,
   "id": "2871d809",
   "metadata": {},
   "outputs": [],
   "source": []
  },
  {
   "cell_type": "markdown",
   "id": "734edf7d",
   "metadata": {
    "deletable": false,
    "editable": false,
    "hide_input": true,
    "run_control": {
     "frozen": true
    }
   },
   "source": [
    "# Ejercicio 1: Funciones\n",
    "\n",
    "Cree una **función** que nos permita convertir de grados Celsius (ºC) a grados Fahrenheit(ºF)\n",
    "\n",
    "Para convertir de ºC a ºF use la fórmula: $ºF = ºC \\times 1.8 + 32$\n",
    "\n",
    "<div class=\"alert alert-info\">En las siguientes celdas de código podemos probar el ejercicio propuesto:</div>"
   ]
  },
  {
   "cell_type": "code",
   "execution_count": null,
   "id": "818080f2",
   "metadata": {},
   "outputs": [],
   "source": []
  },
  {
   "cell_type": "code",
   "execution_count": null,
   "id": "d2f918a0",
   "metadata": {},
   "outputs": [],
   "source": []
  },
  {
   "cell_type": "markdown",
   "id": "d2ebdde2",
   "metadata": {
    "deletable": false,
    "editable": false,
    "hide_input": true,
    "run_control": {
     "frozen": true
    }
   },
   "source": [
    "***\n",
    "# <center>Ejercicios Propuestos</center>\n",
    "***\n",
    "\n",
    "## Objetivos\n",
    "\n",
    "Familiarizar al estudiante con:\n",
    "\n",
    "- Utilizar las funciones en Python\n",
    "\n",
    "\n",
    "\n",
    "# Enunciado del Problema E1: \n",
    "\n",
    "\n",
    "Define una función llamada **`area_circulo`** que, a partir del radio de un círculo **`r`**, devuelva el valor de su área. Utiliza el valor $3.1416$ como aproximación de $\\pi$. En el próximo módulo revisaremos como importar $\\pi$ de la librería **`math`**. \n",
    "\n",
    "Recuerda que el área de un círculo es: $\\pi \\times r^2$.\n",
    "\n",
    "<div class=\"alert alert-info\">En las siguientes celdas de código podemos probar el ejercicio propuesto:</div>"
   ]
  },
  {
   "cell_type": "code",
   "execution_count": null,
   "id": "58ec8e89",
   "metadata": {},
   "outputs": [],
   "source": []
  },
  {
   "cell_type": "code",
   "execution_count": null,
   "id": "de8433bb",
   "metadata": {},
   "outputs": [],
   "source": []
  },
  {
   "cell_type": "markdown",
   "id": "f5276b1b",
   "metadata": {
    "deletable": false,
    "editable": false,
    "hide_input": true,
    "run_control": {
     "frozen": true
    }
   },
   "source": [
    "# Enunciado del Problema E2: \n",
    "\n",
    "Cree un programa que permita realizar diferentes conversiones de temperatura: \n",
    "\n",
    "- Para convertir de ºC a ºF use la fórmula: $ºF = ºC x 1.8 + 32$\n",
    "- Para convertir de ºF a ºC use la fórmula: $ºC = (ºF-32) ÷ 1.8$\n",
    "- Para convertir de K a ºC use la fórmula: $ºC = K – 273.15$\n",
    "- Para convertir de ºC a K use la fórmula: $K = ºC + 273.15$\n",
    "\n",
    "El programa debe considerar lo siguiente: \n",
    "\n",
    "- Cree una función `menu` que muestre al usuario el menú con las `Opciones` disponibles y solicite al usuario que escoga una `Opción` válida.\n",
    "- Solicita al usuario que ingrese el valor de temperatura a convertir.\n",
    "- Cree una función para cada opción de conversión. \n",
    "- Muestre el resultado de la conversion.\n",
    "\n",
    "\n",
    "<div class=\"alert alert-info\">En las siguientes celdas de código podemos probar el ejercicio propuesto:</div>"
   ]
  },
  {
   "cell_type": "code",
   "execution_count": null,
   "id": "80b82a66",
   "metadata": {},
   "outputs": [],
   "source": []
  },
  {
   "cell_type": "code",
   "execution_count": null,
   "id": "07d9c368",
   "metadata": {},
   "outputs": [],
   "source": []
  }
 ],
 "metadata": {
  "celltoolbar": "Edit Metadata",
  "hide_input": false,
  "kernelspec": {
   "display_name": "Python 3 (ipykernel)",
   "language": "python",
   "name": "python3"
  },
  "language_info": {
   "codemirror_mode": {
    "name": "ipython",
    "version": 3
   },
   "file_extension": ".py",
   "mimetype": "text/x-python",
   "name": "python",
   "nbconvert_exporter": "python",
   "pygments_lexer": "ipython3",
   "version": "3.9.7"
  }
 },
 "nbformat": 4,
 "nbformat_minor": 5
}
