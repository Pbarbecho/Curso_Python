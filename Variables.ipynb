{
 "cells": [
  {
   "cell_type": "markdown",
   "id": "941487be",
   "metadata": {
    "deletable": false,
    "editable": false,
    "hide_input": true,
    "run_control": {
     "frozen": true
    }
   },
   "source": [
    "# <center> Variables, Objetos y Operadores  </center> \n",
    "<center>  <img src=\"images/logo.png\" alt=\"Drawing\" style=\"width: 200px;\"/> </center> \n",
    "\n",
    "# <center> Aprendizaje Interactivo </center> \n",
    "\n",
    "\n",
    "<div style=\"text-align: justify\"> Las variables son la unidad básica de almacenamiento de un programa. Esta se puede crear y destruir durante la ejecución del programa. A nivel de hardware, una variable es una referencia a una ubicación en la memoria. Los programas realizan operaciones sobre las variables, modifican o completan sus valores. Todas las variables deben ser de un tipo de dato específico asignado automáticamente en el momento de la asignación del valor.  </div><br>\n",
    "    \n",
    "<div style=\"text-align: justify\"> Python es un lenguaje de tipado dinámico, lo que significa que el tipo de un variable puede cambiar en tiempo de ejecución. En Python una variable puede comenzar teniendo un tipo de dato y cambiar en cualquier momento a otro tipo de dato. </div><br>  \n",
    "\n",
    "<div style=\"text-align: justify\">Los objetos son construcciones de nivel superior que incluyen una o más variables y el conjunto de operaciones que trabajan sobre estas variables. Casi todo es un objeto en Python. Cada objeto viene identificado por su identidad, tipo y valor.</div><br>  \n",
    "\n",
    "\n",
    "\n",
    "## Referencias\n",
    "\n",
    " * The Python Language Reference: https://docs.python.org/3/reference/index.html\n",
    " * The Python Standard Library: https://docs.python.org/3/library/index.html\n",
    " * IBM Jupyter notebooks cheatsheet https://www.ibm.com/docs/en/db2-event-store/2.0.0?topic=notebooks-markdown-jupyter-cheatsheet   \n",
    "\n",
    "***\n",
    "\n",
    "# <center>Variables<center/>\n",
    "    \n",
    "</br>\n",
    "\n",
    "<img src=\"images/variable.png\" alt=\"Drawing\" style=\"width: 400px;\"/>\n",
    " \n",
    " \n",
    "Son objetos que residen en la memoria donde se guardan y se recuperan datos que se utilizan en un programa. **Se puede pensar que las variables son contenedores que contienen datos, los cuales se pueden modificar**. Cada variable debe tener un nombre único llamado identificador. Todas las variables deben ser de un tipo de dato específico como por ejemplo str, int, complex, float. Veamos algunas generalidades de Python respecto a las variables:\n",
    "\n",
    "\n",
    "- El **operador** de asignación en Python es **=**. \n",
    "- Python es un lenguaje de tipo **dinámico**, por lo que no necesitamos especificar el tipo de una variable cuando creamos una.\n",
    "- Aunque no se especifica explícitamente el tipo de la variable, una variable tiene un tipo asociado al tipo de dato que se le asignó.\n",
    "- Asignar un valor a una nueva variable crea la variable. \n",
    "- Si asignamos un nuevo valor a una variable, su tipo puede cambiar.\n",
    "\n",
    "# Asignación de una variable en Python\n",
    "\n",
    "Recordemos que la función `type()` devuelve el tipo o la clase a la que pertenece un objeto; de que tipo es el valor que le pasamos a la función type entre (). De igual manera, la función `id()` nos muestra el identificado de un objeto. Por el momento no nos preocupemos por el concepto de clase u objeto. Veamos un ejemplo: \n",
    "\n",
    "```python\n",
    "v = 5 # asignación de un valor a una variable\n",
    "type(v) # muestra que el tipo de la varible, que es int\n",
    "id(v) # muestra el identificador del objeto\n",
    "```\n",
    "\n",
    "**Si asignamos un nuevo valor a una variable, su tipo puede cambiar.**\n",
    "\n",
    "```python\n",
    "v = 5 + 10.34\n",
    "type(v) # # muestra que el tipo de la varible, que es float\n",
    "id(v) # muestra el identificador del objeto\n",
    "```\n",
    "\n",
    "Note que el identificador a cambiado. En los próximos módulos revisaremos a detalle porqué el identificar del objeto a cambiado. Por el momento, sepamos que el identificador hacer referencia al espacio en memoria utilizado para guardar el dato de la variable. \n",
    "\n",
    "<div class=\"alert alert-info\">En las siguientes celdas de código podemos probar lo comentado:</div>"
   ]
  },
  {
   "cell_type": "code",
   "execution_count": null,
   "id": "a39afa96",
   "metadata": {},
   "outputs": [],
   "source": []
  },
  {
   "cell_type": "code",
   "execution_count": null,
   "id": "bd3d15a3",
   "metadata": {},
   "outputs": [],
   "source": []
  },
  {
   "cell_type": "markdown",
   "id": "bea1a021",
   "metadata": {
    "deletable": false,
    "editable": false,
    "hide_input": true,
    "run_control": {
     "frozen": true
    }
   },
   "source": [
    "# Asignación múltiple de Variables\n",
    "\n",
    "En Python se puede asignar en una sola instrucción, múltiples variables. Esto facilita la asignación de variables. El objetivo final de la asignación múltiple de variables es tener un código más limpio y compacto. Vemos un ejemplo:\n",
    "\n",
    "```python\n",
    "nombre, apellido, edad = 'Pablo', 'Barbecho', 34\n",
    "print(nombre) # muestra Pablo\n",
    "print(apellido) # muestra Barbecho\n",
    "print(edad) # muestra 34\n",
    "```\n",
    "<div class=\"alert alert-info\">En las siguientes celdas de código podemos probar lo comentado:</div>"
   ]
  },
  {
   "cell_type": "code",
   "execution_count": null,
   "id": "3c2c6499",
   "metadata": {},
   "outputs": [],
   "source": []
  },
  {
   "cell_type": "code",
   "execution_count": null,
   "id": "a2c21cc1",
   "metadata": {},
   "outputs": [],
   "source": []
  },
  {
   "cell_type": "markdown",
   "id": "ca08f9e1",
   "metadata": {
    "deletable": false,
    "editable": false,
    "hide_input": true,
    "run_control": {
     "frozen": true
    }
   },
   "source": [
    "# Convensiones y reglas de las Variables\n",
    "\n",
    "De acuerdo con el [PEP 8 - Style Guide for Python Code](https://peps.python.org/pep-0008/#function-and-variable-names) se definen ciertas reglas para los nombres de las variables: \n",
    "\n",
    "- Los nombres de las variables deben estar en minúsculas, con palabras separadas por guiones bajos según sea necesario para mejorar la legibilidad.\n",
    "- No utilice símbolos especiales como \\$, @, !, #, $, \\% u otros.\n",
    "- El primer carácter no puede ser un número.\n",
    "- Los nombres que comienzan con guión bajo (simple _ o doble __) se reservan para variables con significado especial.\n",
    "- No se puede usar como identificadores, las palabras reservadas.\n",
    "\n",
    "\n",
    "# Ejercicio:\n",
    "\n",
    "1. Apropósito, intente definir variables con con los siguientes nombres: \n",
    "\n",
    "- 4num = 3\n",
    "- num%ero = 3\n",
    "- Numero = 3\n",
    "- _numero = 3\n",
    "\n",
    "Que errores se presentan al intentar definir las variables con los nombres anteriores?</br>\n",
    "En algún caso, fué posible definir la variable con los nombres especificados? \n",
    "\n",
    "\n",
    "2. Utilizando una sola línea, asigne los siguientes datos personales a las variables. Recuerde que los nombres de las variables deben seguir las convensiones y reglas del [PEP 8 - Style Guide for Python Code](https://peps.python.org/pep-0008/#function-and-variable-names):\n",
    "\n",
    "- País = xxxx\n",
    "- Ciudad = xxx\n",
    "- Nombre = xxxx\n",
    "- Edad = xxxx\n",
    "\n",
    "<div class=\"alert alert-info\">En las siguientes celdas de código podemos probar lo comentado:</div>"
   ]
  },
  {
   "cell_type": "code",
   "execution_count": null,
   "id": "e1f8727e",
   "metadata": {},
   "outputs": [],
   "source": []
  },
  {
   "cell_type": "code",
   "execution_count": null,
   "id": "363cda1f",
   "metadata": {},
   "outputs": [],
   "source": []
  },
  {
   "cell_type": "markdown",
   "id": "8d8f3c9c",
   "metadata": {},
   "source": [
    "# Objetos\n",
    "</br>\n",
    "<div style=\"text-align: justify\">Casi todo es un objeto en Python. Python es de tipado dinámico, es decir, los objetos se crean dinámicamente cuando se inician. Los objetos son construcciones de nivel superior que incluyen una o más variables y el conjunto de operaciones que trabajan sobre estas variables. De manera general, un objeto puede considerarse una variable más compleja. Cada objeto viene identificado por su identidad, tipo y valor:</div>\n",
    "\n",
    "- Identidad: Nunca cambia e identifica de manera unívoca al objeto.\n",
    "- Tipo: Nos indica el tipo al que pertenece, como un float o un int. La función type() nos indica el tipo de un determinado objeto.\n",
    "- Valor: Todo objeto tiene unas características particulares. Si estas características pueden ser modificadas, diremos que es un tipo mutable. De lo contrario, que es inmutable. Por el momento no nos preocupemos de este concepto, ya que lo analizaremos en el Módulo 4. \n",
    "\n",
    " <img src=\"images/obj.jpg\" alt=\"Drawing\" style=\"width: 300px;\"/>\n",
    "\n",
    "\n",
    "# Ejercicio:\n",
    "\n",
    "Utilizando la función isinstance(`objeto`, `clase`), que nos devuelve True si el `objeto` es de la clase `clase`, verifique de qué clase son los siguientes datos: \n",
    "\n",
    "- 'Hola Mundo'\n",
    "- 34784\n",
    "- 34.45\n",
    "- 5j\n"
   ]
  },
  {
   "cell_type": "code",
   "execution_count": null,
   "id": "0f4f678b",
   "metadata": {},
   "outputs": [],
   "source": []
  },
  {
   "cell_type": "code",
   "execution_count": null,
   "id": "6e10c612",
   "metadata": {},
   "outputs": [],
   "source": []
  },
  {
   "cell_type": "markdown",
   "id": "36e39b33",
   "metadata": {},
   "source": [
    "# Operadores en Python\n",
    "\n",
    "Por defecto, Python incluye los siguientes operadores:\n",
    "\n",
    "- **Operadores de Asignación**: Los operadores de asignación nos permiten realizar una operación y almacenar su resultado en la variable inicial. Podemos ver como realmente el único operador es el =, por ejemplo, x=365. Algunos atajos de los operadores de asignación son:\n",
    "\n",
    "    - El operador += es un atajo para escribir otros operadores de manera más corta, y asignar su resultado a la variable inicial. El operador += en x+=1 es equivalente a x=x+1.\n",
    "    - De igual manera, el operador -= es equivalente a restar y asignar el resultado a la variable inicial. Es decir, x-=1 es equivalente a x=x-1.\n",
    "    - El operador *= equivale a multiplicar una variable por otra y almacenar el resultado en la primera, es decir x*=2 equivale a x=x*2.\n",
    "    - El operador /= equivale a dividir una variable por otra y almacenar el resultado en la primera, es decir, x/=2 equivale a x=x/2.\n",
    "\n",
    "        Veamos unos ejemplos:\n",
    "        ```python\n",
    "        x += 1 # equivale a x=x+1\n",
    "        x -= 1 # equivale a x=x-1\n",
    "        x *= 2 # equivale a x=x*2\n",
    "        x /= 2 # equivale a x=x/2\n",
    "         ```\n",
    "         \n",
    " "
   ]
  },
  {
   "cell_type": "code",
   "execution_count": null,
   "id": "9b2bb06d",
   "metadata": {},
   "outputs": [],
   "source": []
  },
  {
   "cell_type": "code",
   "execution_count": null,
   "id": "f73e4bd8",
   "metadata": {},
   "outputs": [],
   "source": []
  },
  {
   "cell_type": "markdown",
   "id": "8ee34e22",
   "metadata": {},
   "source": [
    "        \n",
    "- **Operadores Aritméticos**:Los operadores son símbolos que le indican al intérprete que realice una operación específica. Algunos ejemplos los podemos ver en la siguiente figura:\n",
    "\n",
    "\n",
    "<img src=\"images/op_arit.jpg\" alt=\"Drawing\" style=\"width: 500px;\"/>"
   ]
  },
  {
   "cell_type": "code",
   "execution_count": null,
   "id": "27745088",
   "metadata": {},
   "outputs": [],
   "source": []
  },
  {
   "cell_type": "code",
   "execution_count": null,
   "id": "7da1f1a0",
   "metadata": {},
   "outputs": [],
   "source": []
  },
  {
   "cell_type": "markdown",
   "id": "a7bd734b",
   "metadata": {},
   "source": [
    "- **Operadores Relacionales**: Un operador relacional se emplea para comparar y establecer la relación entre ellos. Devuelve un valor booleano (true o false) basado en la condición.\n",
    "\n",
    "<img src=\"images/op_rel.jpg\" alt=\"Drawing\" style=\"width: 500px;\"/>"
   ]
  },
  {
   "cell_type": "code",
   "execution_count": null,
   "id": "ab30f223",
   "metadata": {},
   "outputs": [],
   "source": []
  },
  {
   "cell_type": "code",
   "execution_count": null,
   "id": "8a7a1ebd",
   "metadata": {},
   "outputs": [],
   "source": []
  },
  {
   "cell_type": "markdown",
   "id": "75a5856e",
   "metadata": {},
   "source": [
    "- **Operadores Lógicos**: Se utiliza un operador lógico para tomar una decisión basada en múltiples condiciones.\n",
    "\n",
    "<img src=\"images/op_log.jpg\" alt=\"Drawing\" style=\"width: 500px;\"/>"
   ]
  },
  {
   "cell_type": "code",
   "execution_count": null,
   "id": "ba6bd934",
   "metadata": {},
   "outputs": [],
   "source": []
  },
  {
   "cell_type": "code",
   "execution_count": null,
   "id": "e760d465",
   "metadata": {},
   "outputs": [],
   "source": []
  },
  {
   "cell_type": "markdown",
   "id": "4f2d8c6e",
   "metadata": {},
   "source": [
    "- **Operadores de Pertenencia**: Un operador de pertenencia se emplea para identificar pertenencia en alguna secuencia (listas, strings, tuplas). Por ejemplo tenemos: \n",
    "\n",
    "    - **in**\" devuelve True si el valor especificado se encuentra en la secuencia. En caso contrario devuelve False.\n",
    "    - **not in**: devuelve True si el valor especificado no se encuentra en la secuencia. En caso contrario  devuelve False."
   ]
  },
  {
   "cell_type": "code",
   "execution_count": null,
   "id": "6ea903d4",
   "metadata": {},
   "outputs": [],
   "source": []
  },
  {
   "cell_type": "code",
   "execution_count": null,
   "id": "1ad481d6",
   "metadata": {},
   "outputs": [],
   "source": []
  },
  {
   "cell_type": "markdown",
   "id": "25bec50f",
   "metadata": {},
   "source": [
    "- **Operadores de Texto**:Los operadores `+` y `*` se interpretan de diferente manera cuando trabajamos con strings. Por ejemplo\n",
    "\n",
    "```python\n",
    "nombre = 'pablo '+'andres' # resulta en 'pablo andres' \n",
    "repeticion = 'pablo '*3 # resulta en 'pablo pablo pablo' \n",
    "\n",
    "```"
   ]
  },
  {
   "cell_type": "markdown",
   "id": "7e9e3c14",
   "metadata": {},
   "source": [
    "***\n",
    "# <center>Tarea 2:  Módulo 2<center/>\n",
    "***\n",
    "\n",
    "En la siguiente sección se encuentran planteados varios ejercicios que evalúan lo aprendido durante este módulo. \n",
    "**Recuerde que esta tarea es calificada**. Por favor seguir las instrucciones: \n",
    "\n",
    "1. Realizar los ejercicios propuestos (E1, E2).\n",
    "1. Descargar el cuaderno de jupyter (.pynb). \n",
    "1. Guardar el cuaderno con su nombre y apellido, por ejemplo pablo_barbecho.pynb.\n",
    "1. Subir el archivo generado al aula virtual para revisión del docente. \n",
    "\n",
    "\n",
    "\n",
    "# E1: Operadores aritméticos\n",
    "\n",
    "Para cada uno de los diferentes operadores que aquí hemos presentado, proponga un ejemplo. Considere todos los operadores disponibles en las figuras y agrege un comentario de que hace cada uno. Se puede agregar comentarios en el código utilizando `#`. Por ejemplo: \n",
    "\n",
    "- Operadores aritméticos: Un ejemplo por cada operador **+, -, \\*, /, %, **, //**\n",
    "\n",
    "```python\n",
    "suma = 34 + 3.34\n",
    "resta = 3 - 2\n",
    "mult = 3 * 2\n",
    "div = 3/2\n",
    "mod = 3%2\n",
    "pot = 3**2\n",
    "int_div = 3//2\n",
    "\n",
    "print('Operado + :', suma)\n",
    "print('Operado - :', resta)\n",
    "print('Operado * :', mult)\n",
    "print('Operado / :', div)\n",
    "print('Operado % :', mod)\n",
    "print('Operado ** :', pot)\n",
    "print('Operado // :', int_div)\n",
    "```\n",
    "\n",
    "Recuerde que en cada celda del cuaderno de Jupyter puede escribir varias líneas de código. Si es necesario en el menú superior de Jupyter Notebooks puede agregar celdas. Insert -> Insert Cell."
   ]
  },
  {
   "cell_type": "code",
   "execution_count": null,
   "id": "94476c34",
   "metadata": {},
   "outputs": [],
   "source": [
    "        "
   ]
  },
  {
   "cell_type": "code",
   "execution_count": null,
   "id": "5effcc72",
   "metadata": {},
   "outputs": [],
   "source": []
  },
  {
   "cell_type": "code",
   "execution_count": null,
   "id": "3b5235fb",
   "metadata": {},
   "outputs": [],
   "source": []
  },
  {
   "cell_type": "markdown",
   "id": "237a31ad",
   "metadata": {},
   "source": [
    "# E2: Cree un programa para ver si un número es par o impar\n",
    "\n",
    "- El programa solicitará al usuario que ingrese un número.\n",
    "- El programa verifica si el número es par o impar. \n",
    "- Podemos utilizar la estructura condicional if, veamos un ejemplo:\n",
    "\n",
    "```python\n",
    "\n",
    "par = True\n",
    "if par:\n",
    "    print('par')\n",
    "else:\n",
    "    print('impar')\n",
    "\n",
    "```\n",
    "\n",
    "<div class=\"alert alert-info\">No nos preocupemos por la sintaxis del condicional if. En los próximos módulos lo veremos en detalle.</div>\n",
    " \n"
   ]
  },
  {
   "cell_type": "code",
   "execution_count": null,
   "id": "b149cfb7",
   "metadata": {},
   "outputs": [],
   "source": []
  },
  {
   "cell_type": "code",
   "execution_count": null,
   "id": "8092f9b6",
   "metadata": {},
   "outputs": [],
   "source": []
  },
  {
   "cell_type": "code",
   "execution_count": null,
   "id": "38a95179",
   "metadata": {},
   "outputs": [],
   "source": []
  }
 ],
 "metadata": {
  "celltoolbar": "Edit Metadata",
  "hide_input": false,
  "kernelspec": {
   "display_name": "Python 3 (ipykernel)",
   "language": "python",
   "name": "python3"
  },
  "language_info": {
   "codemirror_mode": {
    "name": "ipython",
    "version": 3
   },
   "file_extension": ".py",
   "mimetype": "text/x-python",
   "name": "python",
   "nbconvert_exporter": "python",
   "pygments_lexer": "ipython3",
   "version": "3.9.12"
  }
 },
 "nbformat": 4,
 "nbformat_minor": 5
}
