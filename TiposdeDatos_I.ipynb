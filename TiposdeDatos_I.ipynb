{
 "cells": [
  {
   "cell_type": "markdown",
   "id": "871400ef",
   "metadata": {},
   "source": [
    "# <center> Tipos de Datos"
   ]
  },
  {
   "cell_type": "markdown",
   "id": "995a3e1c",
   "metadata": {},
   "source": [
    "## <center> Aprendizaje Interactivo"
   ]
  },
  {
   "cell_type": "markdown",
   "id": "8e780f35",
   "metadata": {},
   "source": [
    "<img src=\"images/logo.png\" alt=\"Drawing\" style=\"width: 200px;\"/>"
   ]
  },
  {
   "cell_type": "markdown",
   "id": "0d3288b1",
   "metadata": {},
   "source": [
    "<div style=\"text-align: justify\"> En cualquier lenguaje de programación de alto nivel como es Python se manejan diferentes tipos de datos. Los tipos de datos definen un conjunto de valores que tienen una serie de características y propiedades determinadas.En Python, todo valor que pueda ser asignado a una variable tiene asociado un tipo de dato.operaciones se pueden realizar sobre la misma.</div><br>    \n",
    "\n",
    "<div style=\"text-align: justify\">Considerando que en Python todo es un objeto, los tipos de datos serían las clases (donde se definen las propiedades y qué se puede hacer con ellas) y las variables serían las instancias (objetos) de los tipos de datos. En los próximos módulos comentaremos más en detalle sobre lo que son las clases y objetos. </div><br> \n",
    "En este cuaderno aprenderemos sobre tres tipos de datos ampliamente usados en Pyhton:\n",
    "\n",
    "- Datos Numéricos\n",
    "- Datos Booleanos\n",
    "- Cadenas de Caracteres"
   ]
  },
  {
   "cell_type": "markdown",
   "id": "f07670c6",
   "metadata": {},
   "source": [
    "## Referencias"
   ]
  },
  {
   "cell_type": "markdown",
   "id": "74a56ef6",
   "metadata": {},
   "source": [
    " * [The Python Language Reference](http://docs.python.org/2/reference/index.html)\n",
    " * [The Python Standard Library](http://docs.python.org/2/library/)"
   ]
  },
  {
   "cell_type": "markdown",
   "id": "068ae369",
   "metadata": {},
   "source": [
    "# Función type( )"
   ]
  },
  {
   "cell_type": "markdown",
   "id": "7bf37f94",
   "metadata": {},
   "source": [
    "La función type( ) devuelve el tipo del objeto"
   ]
  },
  {
   "cell_type": "code",
   "execution_count": null,
   "id": "4d99aacd",
   "metadata": {},
   "outputs": [],
   "source": [
    "type(5)"
   ]
  },
  {
   "cell_type": "code",
   "execution_count": null,
   "id": "3bbf16b8",
   "metadata": {},
   "outputs": [],
   "source": [
    "type(6.3)"
   ]
  },
  {
   "cell_type": "code",
   "execution_count": null,
   "id": "21d36d2c",
   "metadata": {},
   "outputs": [],
   "source": [
    "type('Hola')"
   ]
  },
  {
   "cell_type": "markdown",
   "id": "1abf4aa2",
   "metadata": {},
   "source": [
    "# Función isintance( )"
   ]
  },
  {
   "cell_type": "markdown",
   "id": "df867fdf",
   "metadata": {},
   "source": [
    "La función type( ) devuelve el tipo del objeto"
   ]
  },
  {
   "cell_type": "code",
   "execution_count": null,
   "id": "4ac9a60e",
   "metadata": {},
   "outputs": [],
   "source": [
    "isinstance(5,int)"
   ]
  },
  {
   "cell_type": "code",
   "execution_count": null,
   "id": "6f766369",
   "metadata": {},
   "outputs": [],
   "source": [
    "isinstance(6.3,float)"
   ]
  },
  {
   "cell_type": "code",
   "execution_count": null,
   "id": "f8dbed12",
   "metadata": {
    "scrolled": true
   },
   "outputs": [],
   "source": [
    "isinstance('Hola',str)"
   ]
  },
  {
   "cell_type": "markdown",
   "id": "163c5408",
   "metadata": {},
   "source": [
    "# Datos numéricos"
   ]
  },
  {
   "cell_type": "markdown",
   "id": "7fc44dd4",
   "metadata": {},
   "source": [
    "El tipo de los números enteros es int. Este tipo de dato comprende el conjunto de todos los números enteros, pero como dicho conjunto es infinito, en Python el conjunto está limitado realmente por la capacidad de la memoria disponible. \n",
    "\n",
    "Permiten representar valores escalares de forma numérica, incluyendo números enteros (8,34.29) y reales (8 - 4j). Este tipo de datos permite realizar operaciones aritméticas comunes. Python define tres tipos de datos numéricos:\n",
    "- Enteros **int**. Ej., 5, 89, 0, 19238\n",
    "- Números de punto flotante **float**. Ej., 5.485, 8.3, 0.34, 19.238\n",
    "- Números complejos **complex**. Ej., 5j, 8+4j, 19 - 8j"
   ]
  },
  {
   "cell_type": "markdown",
   "id": "9585a6aa",
   "metadata": {},
   "source": [
    "Un número de tipo **int** se crea a partir de un literal que represente un número entero o bien como resultado de una expresión o una llamada a una función como vemos a continuación:"
   ]
  },
  {
   "cell_type": "code",
   "execution_count": null,
   "id": "feb5ce4b",
   "metadata": {},
   "outputs": [],
   "source": [
    "a = -5 # A partir de un número"
   ]
  },
  {
   "cell_type": "code",
   "execution_count": null,
   "id": "2afd8cad",
   "metadata": {},
   "outputs": [],
   "source": [
    "print(a)"
   ]
  },
  {
   "cell_type": "code",
   "execution_count": null,
   "id": "0f2774d1",
   "metadata": {},
   "outputs": [],
   "source": [
    "a = 5 - 10 # A partir de una expresión"
   ]
  },
  {
   "cell_type": "code",
   "execution_count": null,
   "id": "41882298",
   "metadata": {},
   "outputs": [],
   "source": [
    "print(a)"
   ]
  },
  {
   "cell_type": "code",
   "execution_count": null,
   "id": "5f1e5368",
   "metadata": {},
   "outputs": [],
   "source": [
    "type(a) # Verificamos el tipo de dato de la variable a"
   ]
  },
  {
   "cell_type": "code",
   "execution_count": null,
   "id": "c7a6daf6",
   "metadata": {},
   "outputs": [],
   "source": [
    "a = 5/10"
   ]
  },
  {
   "cell_type": "code",
   "execution_count": null,
   "id": "a5be3b8e",
   "metadata": {},
   "outputs": [],
   "source": [
    "print(a)"
   ]
  },
  {
   "cell_type": "code",
   "execution_count": null,
   "id": "dde0d6de",
   "metadata": {},
   "outputs": [],
   "source": [
    "type(a) # Verificamos el tipo de dato de la variable a"
   ]
  },
  {
   "cell_type": "code",
   "execution_count": null,
   "id": "f1b1deea",
   "metadata": {},
   "outputs": [],
   "source": [
    "a = 5j + 3"
   ]
  },
  {
   "cell_type": "code",
   "execution_count": null,
   "id": "ad38e9e0",
   "metadata": {},
   "outputs": [],
   "source": [
    "print(a)"
   ]
  },
  {
   "cell_type": "code",
   "execution_count": null,
   "id": "1ff072f3",
   "metadata": {},
   "outputs": [],
   "source": [
    "type(a)"
   ]
  },
  {
   "cell_type": "code",
   "execution_count": null,
   "id": "de8888e2",
   "metadata": {},
   "outputs": [],
   "source": [
    "a.real # para acceder a la parte real de un número complejo"
   ]
  },
  {
   "cell_type": "code",
   "execution_count": null,
   "id": "aaca3273",
   "metadata": {},
   "outputs": [],
   "source": [
    "a.imag # para acceder a la parte imaginaria de un número complejo"
   ]
  },
  {
   "cell_type": "code",
   "execution_count": null,
   "id": "1efc6ee9",
   "metadata": {},
   "outputs": [],
   "source": [
    "type(a.imag)"
   ]
  },
  {
   "cell_type": "markdown",
   "id": "baa67589",
   "metadata": {},
   "source": [
    "# Datos Lógicos"
   ]
  },
  {
   "cell_type": "markdown",
   "id": "67dbe7ca",
   "metadata": {},
   "source": [
    "Una variable lógica o **booleana** es aquella que sólo puede tomar dos posibles valores:\n",
    "- Verdadero (True) \n",
    "- Falso (false)\n"
   ]
  },
  {
   "cell_type": "code",
   "execution_count": null,
   "id": "a646c3b9",
   "metadata": {},
   "outputs": [],
   "source": [
    "flag = bool(0)"
   ]
  },
  {
   "cell_type": "code",
   "execution_count": null,
   "id": "07a6d67c",
   "metadata": {},
   "outputs": [],
   "source": [
    "print(flag)"
   ]
  },
  {
   "cell_type": "code",
   "execution_count": null,
   "id": "6f4da47c",
   "metadata": {},
   "outputs": [],
   "source": [
    "type(flag)"
   ]
  },
  {
   "cell_type": "markdown",
   "id": "016a0073",
   "metadata": {},
   "source": [
    "**De manera general, en Python, los elementos nulos o vacíos se consideran False y el resto se consideran True.**"
   ]
  },
  {
   "cell_type": "code",
   "execution_count": null,
   "id": "d85d97f6",
   "metadata": {},
   "outputs": [],
   "source": [
    "flag = bool(0.7)"
   ]
  },
  {
   "cell_type": "code",
   "execution_count": null,
   "id": "6599db81",
   "metadata": {},
   "outputs": [],
   "source": [
    "print(flag)"
   ]
  },
  {
   "cell_type": "code",
   "execution_count": null,
   "id": "8cc571ef",
   "metadata": {},
   "outputs": [],
   "source": [
    "flag = bool('Hola')"
   ]
  },
  {
   "cell_type": "code",
   "execution_count": null,
   "id": "f1d77cf6",
   "metadata": {},
   "outputs": [],
   "source": [
    "print(flag)"
   ]
  },
  {
   "cell_type": "code",
   "execution_count": null,
   "id": "049c1ee8",
   "metadata": {},
   "outputs": [],
   "source": [
    "flag = bool('')"
   ]
  },
  {
   "cell_type": "code",
   "execution_count": null,
   "id": "1caa820e",
   "metadata": {},
   "outputs": [],
   "source": [
    "print(flag)"
   ]
  }
 ],
 "metadata": {
  "kernelspec": {
   "display_name": "Python 3 (ipykernel)",
   "language": "python",
   "name": "python3"
  },
  "language_info": {
   "codemirror_mode": {
    "name": "ipython",
    "version": 3
   },
   "file_extension": ".py",
   "mimetype": "text/x-python",
   "name": "python",
   "nbconvert_exporter": "python",
   "pygments_lexer": "ipython3",
   "version": "3.9.7"
  }
 },
 "nbformat": 4,
 "nbformat_minor": 5
}
