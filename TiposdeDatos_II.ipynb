{
 "cells": [
  {
   "cell_type": "markdown",
   "id": "871400ef",
   "metadata": {},
   "source": [
    "# <center> Tipos de Datos"
   ]
  },
  {
   "cell_type": "markdown",
   "id": "995a3e1c",
   "metadata": {},
   "source": [
    "## <center> Aprendizaje Interactivo"
   ]
  },
  {
   "cell_type": "markdown",
   "id": "8e780f35",
   "metadata": {},
   "source": [
    "<img src=\"images/logo.png\" alt=\"Drawing\" style=\"width: 200px;\"/>"
   ]
  },
  {
   "cell_type": "markdown",
   "id": "0d3288b1",
   "metadata": {},
   "source": [
    "<div style=\"text-align: justify\"> En cualquier lenguaje de programación de alto nivel como es Python se manejan diferentes tipos de datos. Los tipos de datos definen un conjunto de valores que tienen una serie de características y propiedades determinadas.En Python, todo valor que pueda ser asignado a una variable tiene asociado un tipo de dato.operaciones se pueden realizar sobre la misma.</div><br>    \n",
    "\n",
    "<div style=\"text-align: justify\">Considerando que en Python todo es un objeto, los tipos de datos serían las clases (donde se definen las propiedades y qué se puede hacer con ellas) y las variables serían las instancias (objetos) de los tipos de datos. En los próximos módulos comentaremos más en detalle sobre lo que son las clases y objetos. </div><br> \n",
    "En este cuaderno aprenderemos sobre tres tipos de datos ampliamente usados en Pyhton:\n",
    "\n",
    "- Datos Numéricos\n",
    "- Datos Booleanos\n",
    "- Cadenas de Caracteres"
   ]
  },
  {
   "cell_type": "markdown",
   "id": "f07670c6",
   "metadata": {},
   "source": [
    "## Referencias"
   ]
  },
  {
   "cell_type": "markdown",
   "id": "74a56ef6",
   "metadata": {},
   "source": [
    " * [The Python Language Reference](http://docs.python.org/2/reference/index.html)\n",
    " * [The Python Standard Library](http://docs.python.org/2/library/)"
   ]
  },
  {
   "cell_type": "markdown",
   "id": "55870bce",
   "metadata": {},
   "source": [
    "# Cadenas de Caracteres (Strings)"
   ]
  },
  {
   "cell_type": "markdown",
   "id": "d95cf989",
   "metadata": {},
   "source": [
    "Se refieren a un tipo de datos compuestos por secuencias de caracteres que representan texto. Se delimitan mediante el uso de comillas simples ('hola') o dobles (\"hola\"). Un objeto de cadena es una \"secuencia\", es decir, es una lista de elementos donde cada elemento tiene una posición definida. Aquí, cada carácter de la cadena se puede consultar, recuperar utilizando su posición. Esta identificación de su posición se llama \"índice\" y siempre comienza con 0."
   ]
  },
  {
   "cell_type": "code",
   "execution_count": null,
   "id": "a89554cd",
   "metadata": {},
   "outputs": [],
   "source": [
    "nombre = \"Pablo\""
   ]
  },
  {
   "cell_type": "code",
   "execution_count": null,
   "id": "8f715d83",
   "metadata": {},
   "outputs": [],
   "source": [
    "print(nombre)"
   ]
  },
  {
   "cell_type": "code",
   "execution_count": null,
   "id": "1cddf6b1",
   "metadata": {},
   "outputs": [],
   "source": [
    "apellido = 'Barbecho'"
   ]
  },
  {
   "cell_type": "code",
   "execution_count": null,
   "id": "790b922b",
   "metadata": {},
   "outputs": [],
   "source": [
    "print(apellido)"
   ]
  },
  {
   "cell_type": "code",
   "execution_count": null,
   "id": "ea79a738",
   "metadata": {},
   "outputs": [],
   "source": [
    "cita = '\"El conocimiento es la mejor inversión que se puede hacer\"'"
   ]
  },
  {
   "cell_type": "code",
   "execution_count": null,
   "id": "54614af7",
   "metadata": {},
   "outputs": [],
   "source": [
    "print(cita)"
   ]
  },
  {
   "cell_type": "markdown",
   "id": "08bc1a9a",
   "metadata": {},
   "source": [
    "# Indice"
   ]
  },
  {
   "cell_type": "code",
   "execution_count": null,
   "id": "7a132f9f",
   "metadata": {},
   "outputs": [],
   "source": [
    "cita[0] # recuperamos el elemento en la primera posición [0] de la cadena de carateres de cita"
   ]
  },
  {
   "cell_type": "code",
   "execution_count": null,
   "id": "80397f07",
   "metadata": {},
   "outputs": [],
   "source": [
    "cita[10] # recuperamos el elemento en la désima posición [10] de la cadena de carateres de cita"
   ]
  },
  {
   "cell_type": "markdown",
   "id": "81712569",
   "metadata": {},
   "source": [
    "# La cadena de strings es Inmutable"
   ]
  },
  {
   "cell_type": "code",
   "execution_count": null,
   "id": "99d4cbe8",
   "metadata": {},
   "outputs": [],
   "source": [
    "nombre = 'Pablo'"
   ]
  },
  {
   "cell_type": "code",
   "execution_count": null,
   "id": "2f5a38f1",
   "metadata": {},
   "outputs": [],
   "source": [
    "nombre[0]"
   ]
  },
  {
   "cell_type": "code",
   "execution_count": null,
   "id": "463b76ab",
   "metadata": {},
   "outputs": [],
   "source": [
    "nombre[0] = 'A'   #TypeError: 'str' object does not support item assignment"
   ]
  },
  {
   "cell_type": "markdown",
   "id": "539bccec",
   "metadata": {},
   "source": [
    "# Operaciones sobre Strings"
   ]
  },
  {
   "cell_type": "code",
   "execution_count": null,
   "id": "53b775a3",
   "metadata": {},
   "outputs": [],
   "source": [
    "nombre, apellido = 'Pablo','Barbecho'"
   ]
  },
  {
   "cell_type": "code",
   "execution_count": null,
   "id": "2c1baa47",
   "metadata": {},
   "outputs": [],
   "source": [
    "full_name = nombre + ' ' + apellido"
   ]
  },
  {
   "cell_type": "code",
   "execution_count": null,
   "id": "943b1474",
   "metadata": {},
   "outputs": [],
   "source": [
    "print(full_name)"
   ]
  },
  {
   "cell_type": "code",
   "execution_count": null,
   "id": "22fa3287",
   "metadata": {},
   "outputs": [],
   "source": [
    "nombre = nombre * 3"
   ]
  },
  {
   "cell_type": "code",
   "execution_count": null,
   "id": "7c7f8f88",
   "metadata": {},
   "outputs": [],
   "source": [
    "print(nombre)"
   ]
  },
  {
   "cell_type": "markdown",
   "id": "9b652e57",
   "metadata": {},
   "source": [
    "# Podemos ver si una cadena esta contenida en otra con **in**"
   ]
  },
  {
   "cell_type": "code",
   "execution_count": null,
   "id": "434962d7",
   "metadata": {},
   "outputs": [],
   "source": [
    "nombre = 'Pablo'"
   ]
  },
  {
   "cell_type": "code",
   "execution_count": null,
   "id": "9e25cf6d",
   "metadata": {},
   "outputs": [],
   "source": [
    "print(nombre in 'Hola soy Pablo') "
   ]
  },
  {
   "cell_type": "markdown",
   "id": "3891a663",
   "metadata": {},
   "source": [
    "# f-strings en Python"
   ]
  },
  {
   "cell_type": "markdown",
   "id": "7a1fd8f0",
   "metadata": {},
   "source": [
    "También llamado formatted string literals ó Formateo literal de cadenas, f-Strings tiene una sintaxis simple y fluida que hará más sencillo el darle formato a cadenas de texto. Incorporada desde la versión 3.6 de Python, se puede usar las cadenas literales o f-strings. Esta nueva característica, permite incrustar expresiones dentro de cadenas, por ejemplo:"
   ]
  },
  {
   "cell_type": "code",
   "execution_count": null,
   "id": "9c602bb8",
   "metadata": {},
   "outputs": [],
   "source": [
    "a, b = 5, 23.5"
   ]
  },
  {
   "cell_type": "code",
   "execution_count": null,
   "id": "d184be83",
   "metadata": {},
   "outputs": [],
   "source": [
    "print(f\"Los números son: {a} y {b}\")"
   ]
  },
  {
   "cell_type": "markdown",
   "id": "28d08ded",
   "metadata": {},
   "source": [
    "# Conversiones entre tipos de datos"
   ]
  },
  {
   "cell_type": "code",
   "execution_count": null,
   "id": "8f06c407",
   "metadata": {},
   "outputs": [],
   "source": [
    "teclado = input() # Ingresamos un número por el teclado"
   ]
  },
  {
   "cell_type": "code",
   "execution_count": null,
   "id": "61d2fca3",
   "metadata": {},
   "outputs": [],
   "source": [
    "print(teclado)"
   ]
  },
  {
   "cell_type": "code",
   "execution_count": null,
   "id": "f83520c6",
   "metadata": {},
   "outputs": [],
   "source": [
    "type(teclado) # Vemos que el tipo de dato es un string, a pesar de ser un número"
   ]
  },
  {
   "cell_type": "markdown",
   "id": "7e9f0a3f",
   "metadata": {},
   "source": [
    "## String a Float"
   ]
  },
  {
   "cell_type": "code",
   "execution_count": null,
   "id": "230e206e",
   "metadata": {},
   "outputs": [],
   "source": [
    "numero_float = float(teclado) # convertimos el valor del tipo str a tipo doble"
   ]
  },
  {
   "cell_type": "code",
   "execution_count": null,
   "id": "74972f78",
   "metadata": {},
   "outputs": [],
   "source": [
    "type(numero_float)"
   ]
  },
  {
   "cell_type": "markdown",
   "id": "04b88b53",
   "metadata": {},
   "source": [
    "## Float a Int"
   ]
  },
  {
   "cell_type": "code",
   "execution_count": null,
   "id": "37cb4a46",
   "metadata": {},
   "outputs": [],
   "source": [
    "numero_int = int(numero_float) # convertimos el valor del tipo str a tipo doble"
   ]
  },
  {
   "cell_type": "code",
   "execution_count": null,
   "id": "5a1bc2ac",
   "metadata": {},
   "outputs": [],
   "source": [
    "print(numero_int)"
   ]
  },
  {
   "cell_type": "code",
   "execution_count": null,
   "id": "a15e91e3",
   "metadata": {},
   "outputs": [],
   "source": [
    "type(numero_int)"
   ]
  },
  {
   "cell_type": "markdown",
   "id": "88f439a0",
   "metadata": {},
   "source": [
    "## Int a Bool"
   ]
  },
  {
   "cell_type": "code",
   "execution_count": null,
   "id": "096d0d21",
   "metadata": {},
   "outputs": [],
   "source": [
    "numero_int = 6"
   ]
  },
  {
   "cell_type": "code",
   "execution_count": null,
   "id": "c2cae6ac",
   "metadata": {},
   "outputs": [],
   "source": [
    "tipo_bool = bool(numero_int)"
   ]
  },
  {
   "cell_type": "code",
   "execution_count": null,
   "id": "448144db",
   "metadata": {},
   "outputs": [],
   "source": [
    "print(tipo_bool)"
   ]
  },
  {
   "cell_type": "markdown",
   "id": "e50d90b4",
   "metadata": {},
   "source": [
    "## Bool a Int"
   ]
  },
  {
   "cell_type": "code",
   "execution_count": null,
   "id": "51f9ad68",
   "metadata": {},
   "outputs": [],
   "source": [
    "tipo_bool = True"
   ]
  },
  {
   "cell_type": "code",
   "execution_count": null,
   "id": "b23f2424",
   "metadata": {},
   "outputs": [],
   "source": [
    "tipo_int = int(tipo_bool)"
   ]
  },
  {
   "cell_type": "code",
   "execution_count": null,
   "id": "00fdb6ba",
   "metadata": {},
   "outputs": [],
   "source": [
    "type(tipo_int)"
   ]
  },
  {
   "cell_type": "code",
   "execution_count": null,
   "id": "c0a15a36",
   "metadata": {},
   "outputs": [],
   "source": [
    "print(tipo_int)"
   ]
  },
  {
   "cell_type": "markdown",
   "id": "65fc48c6",
   "metadata": {},
   "source": [
    "Si el usuario no ingresa un número en **input()**, las funciones **int()** o **float()**, se producirá un error:"
   ]
  },
  {
   "cell_type": "code",
   "execution_count": null,
   "id": "91777969",
   "metadata": {},
   "outputs": [],
   "source": [
    "teclado = input() # Ingresamos un número por el teclado"
   ]
  },
  {
   "cell_type": "code",
   "execution_count": null,
   "id": "a7b176ac",
   "metadata": {},
   "outputs": [],
   "source": [
    "numero = float(teclado) # convertimos el valor del tipo str a tipo doble"
   ]
  },
  {
   "cell_type": "markdown",
   "id": "1864b57b",
   "metadata": {},
   "source": [
    "## Función len()"
   ]
  },
  {
   "cell_type": "markdown",
   "id": "cc4f722c",
   "metadata": {},
   "source": [
    "La función len() nos indica el número de elementos de un objeto. En el caso de un string nos indica el número de caracteres que lo componen."
   ]
  },
  {
   "cell_type": "code",
   "execution_count": null,
   "id": "9c5cde9e",
   "metadata": {},
   "outputs": [],
   "source": [
    "len(nombre)"
   ]
  },
  {
   "cell_type": "markdown",
   "id": "3c108f60",
   "metadata": {},
   "source": [
    "# Listas"
   ]
  },
  {
   "cell_type": "markdown",
   "id": "3a762809",
   "metadata": {},
   "source": [
    "En Python se tienen varios tipos de **datos compuestos** y dentro de las secuencias, están los tipos de **cadenas de caracteres (strings)**. Otro tipo de secuencia son las listas. Entre las secuencias, el más versátil, es la lista. Para definir una lista se debe escribir es entre corchetes **[ ]**, separando sus elementos con comas cada uno. Las listas en Python son uno de los tipos o estructuras de datos más versátiles de Python, ya que permiten almacenar un conjunto arbitrario de datos (numéricos, strings, etc). Si el usuario conoce de otros lenguajes de programación, se podría compara con los arrays de datos.\n",
    "\n",
    "La lista en Python son variables que almacenan arrays, internamente cada posición puede ser un tipo de datos distinto."
   ]
  },
  {
   "cell_type": "code",
   "execution_count": null,
   "id": "e3a8682d",
   "metadata": {},
   "outputs": [],
   "source": [
    "lista = [1, 2, 3, 4]"
   ]
  },
  {
   "cell_type": "code",
   "execution_count": null,
   "id": "6c07bad5",
   "metadata": {},
   "outputs": [],
   "source": [
    "lista = [1, \"Pablo\", 8.6, [1, 2, 3]]"
   ]
  },
  {
   "cell_type": "code",
   "execution_count": null,
   "id": "455566cb",
   "metadata": {},
   "outputs": [],
   "source": [
    "lista[0]"
   ]
  },
  {
   "cell_type": "code",
   "execution_count": null,
   "id": "67eeeccb",
   "metadata": {},
   "outputs": [],
   "source": [
    "lista[0] = 'Nombre'"
   ]
  },
  {
   "cell_type": "code",
   "execution_count": null,
   "id": "5c5f485a",
   "metadata": {},
   "outputs": [],
   "source": [
    "print(lista)"
   ]
  },
  {
   "cell_type": "code",
   "execution_count": null,
   "id": "610dc054",
   "metadata": {},
   "outputs": [],
   "source": []
  }
 ],
 "metadata": {
  "kernelspec": {
   "display_name": "Python 3 (ipykernel)",
   "language": "python",
   "name": "python3"
  },
  "language_info": {
   "codemirror_mode": {
    "name": "ipython",
    "version": 3
   },
   "file_extension": ".py",
   "mimetype": "text/x-python",
   "name": "python",
   "nbconvert_exporter": "python",
   "pygments_lexer": "ipython3",
   "version": "3.9.7"
  }
 },
 "nbformat": 4,
 "nbformat_minor": 5
}
