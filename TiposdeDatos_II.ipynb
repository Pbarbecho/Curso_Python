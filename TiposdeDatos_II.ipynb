{
 "cells": [
  {
   "cell_type": "markdown",
   "id": "8e780f35",
   "metadata": {},
   "source": [
    "# <center> Tipos de Datos en Python II </center> \n",
    "<center>  <img src=\"images/logo.png\" alt=\"Drawing\" style=\"width: 200px;\"/> </center> \n",
    "\n",
    "# <center> Aprendizaje Interactivo </center> "
   ]
  },
  {
   "cell_type": "markdown",
   "id": "0d3288b1",
   "metadata": {},
   "source": [
    "<div style=\"text-align: justify\"> En cualquier lenguaje de programación de alto nivel como es Python se manejan diferentes tipos de datos. Los tipos de datos definen un conjunto de valores que tienen una serie de características y propiedades determinadas.En Python, todo valor que pueda ser asignado a una variable tiene asociado un tipo de dato.operaciones se pueden realizar sobre la misma.</div><br>    \n",
    "\n",
    "<div style=\"text-align: justify\">Considerando que en Python todo es un objeto, los tipos de datos serían las clases (donde se definen las propiedades y qué se puede hacer con ellas) y las variables serían las instancias (objetos) de los tipos de datos. En los próximos módulos comentaremos más en detalle sobre lo que son las clases y objetos. </div><br> \n",
    "En este cuaderno aprenderemos sobre:\n",
    "\n",
    "- Cadenas de Caracteres\n",
    "- Listas\n",
    "- Tuplas\n",
    "\n",
    "## Objetivos:\n",
    "\n",
    "- Conocer que son las cadenas de caracteres (strings)\n",
    "- Realizar operaciones sobre strings\n",
    "- Introducir las estructuras de datos denominadas Listas\n",
    "- Operaciones en Listas y Tuplas\n",
    "    \n",
    "    \n",
    "## Referencias\n",
    "\n",
    " * The Python Language Reference: https://docs.python.org/3/reference/index.html\n",
    " * The Python Standard Library: https://docs.python.org/3/library/index.html\n",
    " * IBM Jupyter notebooks cheatsheet https://www.ibm.com/docs/en/db2-event-store/2.0.0?topic=notebooks-markdown-jupyter-cheatsheet   "
   ]
  },
  {
   "cell_type": "markdown",
   "id": "d95cf989",
   "metadata": {},
   "source": [
    "# Cadenas de Caracteres (strings)\n",
    "<br>\n",
    "\n",
    "<div style=\"text-align: justify\">Se refieren a un tipo de datos compuestos por secuencias de caracteres que representan texto. Se delimitan mediante el uso de comillas simples ('hola') o dobles (\"hola\"). Un objeto de cadena es una \"secuencia\", es decir, es una lista de elementos donde cada elemento tiene una posición definida. Aquí, cada carácter de la cadena se puede consultar, recuperar utilizando su posición. Esta identificación de su posición se llama \"índice\" y siempre comienza con 0. Algunos ejemplos de cadenas de caracteres:</div> \n",
    "\n",
    "```python\n",
    "nombre = 'Pablo' # Usamos '\n",
    "apellido = \"Barbecho\" # Usamos \"\n",
    "cita = '\"El conocimiento es la mejor inversión que se puede hacer\"' # Usamos ' y \" dentro del texto\n",
    "num_celular = '0995340312'\n",
    "```\n",
    "\n",
    "\n",
    "## Indexación de Strings\n",
    "\n",
    "Podemos acceder a cada uno de los caracteres de una cadena utilizando un operador de indexación. El índice del elemento al que queremos acceder debe encerrarse entre corchetes []. Si `a` es una cadena, `a[i]` es el carácter que ocupa la posición `i+1`. Debemos considerar que el primer elemento tiene índice cero. Veamos un ejemplo gráfico: \n",
    "\n",
    "<img src=\"images/indice.jpg\" alt=\"Drawing\" style=\"width: 500px;\"/>\n",
    "\n",
    "\n",
    "Note que la figura muestra el índice comienza con 0. Si del ejemplo anterior quisieramos obtener el caracter `,`, deberíamos indicar el índice i+1; es decir [4]. Veamos el ejemplo:\n",
    "\n",
    "<img src=\"images/str_coma.jpg\" alt=\"Drawing\" style=\"width: 500px;\"/>\n",
    "\n",
    "\n",
    "De igual manera, si quisieramos obtener el primer y último carectec de la frase, los podemos hacer de la siguiente manera: \n",
    "\n",
    "<img src=\"images/str_n.jpg\" alt=\"Drawing\" style=\"width: 800px;\"/>\n",
    "\n",
    "\n",
    "## Operaciones sobre Strings\n",
    "\n",
    "Analicemos la expresión:\n",
    "\n",
    "## $$c = a + b$$ siendo $$a = 'otra '$$ $$b = 'cadena'$$\n",
    "\n",
    "<img src=\"images/cadena.jpg\" alt=\"Drawing\" style=\"width: 500px;\"/>\n",
    "\n",
    "\n",
    "\n",
    "Otro ejemplo lo podemos ver a continuación. Nótese que a diferencia del caso anterior, ahora consideramos un espacio `' '` entre nombre y apellido:\n",
    "\n",
    "```python\n",
    "nombre, apellido = 'Pablo','Barbecho'\n",
    "full_name = nombre + ' ' + apellido\n",
    "print(full_name)\n",
    "```\n",
    "\n",
    "En el ejemplo anterio vemos que se pueden sumar strings; sin embargo no los podemos restar. Ahora, que pasaría si multiplicamos un string por un entero `int`:\n",
    "\n",
    "<img src=\"images/str_mult.jpg\" alt=\"Drawing\" style=\"width: 400px;\"/>\n",
    "\n",
    "\n",
    "## Buscar palabras en strings\n",
    "\n",
    "Podemos ver si una cadena esta contenida en otra con el operador `in`. Más adelante revisaremos a detalle los operadores de pertenencia, pero por el momento veamos como funciona `in` con los strings. Supongamos que queremos buscar una cadena de caracteres, por ejemplo la palabra `'conocimiento'` en la cadena de caracteres `cita`: \n",
    "\n",
    "<img src=\"images/cita_in.jpg\" alt=\"Drawing\" style=\"width: 800px;\"/>\n",
    "\n",
    "Podemos estructurar mejor nuestra búsqueda de la siguiente manera: \n",
    "\n",
    "<img src=\"images/in_cita_2.jpg\" alt=\"Drawing\" style=\"width: 800px;\"/>\n",
    "\n",
    "\n",
    "## Función len()\n",
    "\n",
    "La función len() nos indica el número de elementos de un objeto. En el caso de un string nos indica el número de caracteres que lo componen. Veamos un ejemplo: \n",
    "\n",
    "<img src=\"images/len.jpg\" alt=\"Drawing\" style=\"width: 500px;\"/>\n",
    "\n",
    "Note que los espacios son considerados también como caracteres. \n",
    "\n",
    "\n",
    "## Función input()\n",
    "\n",
    "La función input() permite obtener texto escrito por teclado. Al llegar a la función, el programa se detiene esperando que se escriba algo y se pulse la tecla Intro, como muestra el siguiente ejemplo:\n",
    "\n",
    "\n",
    "<img src=\"images/input.jpg\" alt=\"Drawing\" style=\"width: 500px;\"/>\n",
    "\n",
    "\n",
    "# Ejercicio:\n",
    "\n",
    "\n",
    "Escriba una pequeña biografía suya ingresando por el teclado una cadena de caracteres asignada a la variable `biblio = ''`. Realice las siguientes operaciones sobre la cadena de caracteres creada: \n",
    "\n",
    "- Ingrese su bibliografía utilizando la función input(). \n",
    "- Cuál es la longitud de la cadena de caracteres\n",
    "- Agrege las palabras 'INICIO' y 'FIN' al inicio y fin respectivamente de la cadena de caracteres creada.  \n",
    "- Busque si su nombre está contenido en `biblio`\n",
    "- Muestre el primer y último caracter de `biblio`. Deberían ser I y N respectivamente. \n",
    "- Muestre un caracter intermedio de `biblio`. Recuerde que puede operar con tipos de datos numéricos: \n",
    "\n",
    "```python\n",
    "mitad = len(biblio)//2\n",
    "```\n"
   ]
  },
  {
   "cell_type": "code",
   "execution_count": null,
   "id": "a89554cd",
   "metadata": {},
   "outputs": [],
   "source": []
  },
  {
   "cell_type": "code",
   "execution_count": null,
   "id": "9c66a3e7",
   "metadata": {},
   "outputs": [],
   "source": []
  },
  {
   "cell_type": "code",
   "execution_count": null,
   "id": "621cc2c4",
   "metadata": {},
   "outputs": [],
   "source": []
  },
  {
   "cell_type": "code",
   "execution_count": null,
   "id": "e9bcb9e8",
   "metadata": {},
   "outputs": [],
   "source": []
  },
  {
   "cell_type": "code",
   "execution_count": null,
   "id": "8f715d83",
   "metadata": {},
   "outputs": [],
   "source": []
  },
  {
   "cell_type": "code",
   "execution_count": null,
   "id": "1cddf6b1",
   "metadata": {},
   "outputs": [],
   "source": []
  },
  {
   "cell_type": "code",
   "execution_count": null,
   "id": "790b922b",
   "metadata": {},
   "outputs": [],
   "source": []
  },
  {
   "cell_type": "code",
   "execution_count": null,
   "id": "ea79a738",
   "metadata": {},
   "outputs": [],
   "source": []
  },
  {
   "cell_type": "markdown",
   "id": "3891a663",
   "metadata": {},
   "source": [
    "# f-strings en Python"
   ]
  },
  {
   "cell_type": "markdown",
   "id": "7a1fd8f0",
   "metadata": {},
   "source": [
    "También llamado formatted string literals ó Formateo literal de cadenas, f-Strings tiene una sintaxis simple y fluida que hará más sencillo el darle formato a cadenas de texto. Incorporada desde la versión 3.6 de Python, se puede usar las cadenas literales o f-strings. Esta nueva característica, permite incrustar expresiones dentro de cadenas, por ejemplo:\n",
    "\n",
    "```python\n",
    "a = 5\n",
    "b = 23.5\n",
    "print(f\"Los números resultantes son: {a} y {b}\")\n",
    "```\n",
    "\n",
    "# Ejercicio: \n",
    "\n",
    "Complete un texto cualquiera utilizando los f-strings, por ejemplo: \n",
    "\n",
    "```python\n",
    "a = 'Lunes'\n",
    "b = 'Jueves'\n",
    "c = 'Domingo'\n",
    "\n",
    "print(f\"{a}, Martes, Miercoles, {b}, Viernes, Sábado, {c}\")\n",
    "\n",
    "Resultado:  Lunes, Martes, Miercoles, Jueves, Viernes, Sábado, Domingo\n",
    "```"
   ]
  },
  {
   "cell_type": "code",
   "execution_count": 1,
   "id": "9c602bb8",
   "metadata": {},
   "outputs": [],
   "source": []
  },
  {
   "cell_type": "code",
   "execution_count": null,
   "id": "47319c14",
   "metadata": {},
   "outputs": [],
   "source": []
  },
  {
   "cell_type": "code",
   "execution_count": null,
   "id": "b8e480bd",
   "metadata": {},
   "outputs": [],
   "source": []
  },
  {
   "cell_type": "code",
   "execution_count": null,
   "id": "60af7c13",
   "metadata": {},
   "outputs": [],
   "source": []
  },
  {
   "cell_type": "code",
   "execution_count": null,
   "id": "bb5e889e",
   "metadata": {},
   "outputs": [],
   "source": []
  },
  {
   "cell_type": "code",
   "execution_count": null,
   "id": "995ebc3a",
   "metadata": {},
   "outputs": [],
   "source": []
  },
  {
   "cell_type": "code",
   "execution_count": null,
   "id": "d184be83",
   "metadata": {},
   "outputs": [],
   "source": []
  },
  {
   "cell_type": "markdown",
   "id": "28d08ded",
   "metadata": {},
   "source": [
    "# Conversiones entre tipos de datos\n",
    "\n",
    "Consideremos el siguiente código: \n",
    "\n",
    "```python\n",
    "teclado = input() # Ingresamos un número por el teclado\n",
    "type(teclado)     # el resultado es un tipo de dato string, a pesar de ingresar un número\n",
    "```\n",
    "\n",
    "Para convertir el string en un `float` o en un `int`, podemos utilizar las funciones de tipos de datos: \n",
    "\n",
    "```python\n",
    "numero_float = float(input()) # convertimos el valor del tipo str a tipo doble\n",
    "type(numero_float) # el resultado es que el tipo de dato un float\n",
    "```\n",
    "\n",
    "\n",
    "Note que si el usuario no ingresa un número en **input()**, las funciones **int()** o **float()**, se producirá un error:\n",
    "\n",
    "<img src=\"images/error3.jpg\" alt=\"Drawing\" style=\"width: 700px;\"/>\n",
    "\n",
    "\n",
    "Otros ejemplos: \n",
    "\n",
    "## Int a Bool\n",
    "```python\n",
    "numero_int = 6\n",
    "tipo_bool = bool(numero_int)\n",
    "print(tipo_bool)\n",
    "```\n",
    "\n",
    "## Bool a Int\n",
    "\n",
    "```python\n",
    "tipo_bool = True\n",
    "tipo_int = int(tipo_bool)\n",
    "type(tipo_int)\n",
    "print(tipo_int)\n",
    "```\n",
    "\n",
    "Puede copiar el código en las celdas de código siguientes para ver el resultado: "
   ]
  },
  {
   "cell_type": "code",
   "execution_count": null,
   "id": "61d2fca3",
   "metadata": {},
   "outputs": [],
   "source": []
  },
  {
   "cell_type": "code",
   "execution_count": null,
   "id": "1ab93dd4",
   "metadata": {},
   "outputs": [],
   "source": []
  },
  {
   "cell_type": "code",
   "execution_count": null,
   "id": "f83520c6",
   "metadata": {},
   "outputs": [],
   "source": []
  },
  {
   "cell_type": "code",
   "execution_count": null,
   "id": "9c5cde9e",
   "metadata": {},
   "outputs": [],
   "source": []
  },
  {
   "cell_type": "markdown",
   "id": "3c108f60",
   "metadata": {},
   "source": [
    "# Listas"
   ]
  },
  {
   "cell_type": "markdown",
   "id": "3a762809",
   "metadata": {},
   "source": [
    "En Python se tienen varios tipos de **datos compuestos** y dentro de las secuencias, están los tipos de **cadenas de caracteres (strings)**. Otro tipo de secuencia son las listas. Entre las secuencias, el más versátil, es la lista. Para definir una lista se debe escribir es entre corchetes **[ ]**, separando sus elementos con comas cada uno. Las listas en Python son uno de los tipos o estructuras de datos más versátiles de Python, ya que permiten almacenar un conjunto arbitrario de datos (numéricos, strings, etc). Si el usuario conoce de otros lenguajes de programación, se podría compara con los arrays de datos.\n",
    "\n",
    "La lista en Python son variables que almacenan arrays, internamente cada posición puede ser un tipo de datos distinto."
   ]
  },
  {
   "cell_type": "code",
   "execution_count": null,
   "id": "e3a8682d",
   "metadata": {},
   "outputs": [],
   "source": [
    "lista = [1, 2, 3, 4]"
   ]
  },
  {
   "cell_type": "code",
   "execution_count": null,
   "id": "6c07bad5",
   "metadata": {},
   "outputs": [],
   "source": [
    "lista = [1, \"Pablo\", 8.6, [1, 2, 3]]"
   ]
  },
  {
   "cell_type": "code",
   "execution_count": null,
   "id": "455566cb",
   "metadata": {},
   "outputs": [],
   "source": [
    "lista[0]"
   ]
  },
  {
   "cell_type": "code",
   "execution_count": null,
   "id": "67eeeccb",
   "metadata": {},
   "outputs": [],
   "source": [
    "lista[0] = 'Nombre'"
   ]
  },
  {
   "cell_type": "code",
   "execution_count": null,
   "id": "5c5f485a",
   "metadata": {},
   "outputs": [],
   "source": [
    "print(lista)"
   ]
  },
  {
   "cell_type": "markdown",
   "id": "74b85492",
   "metadata": {},
   "source": [
    "## Matrices\n",
    "\n",
    "Las matrices son disposiciones bidimensionales de valores. En notación matemática, una matriz\n",
    "se denota encerrando entre paréntesis los valores, que se disponen en filas y columnas. He aquí\n",
    "una matriz M: \n",
    "      \n",
    "    \n",
    "<img src=\"images/matriz.jpg\" alt=\"Drawing\" style=\"width: 200px;\"/>\n",
    "\n",
    "Esta matriz tiene 4 filas y 3 columnas, lo cual abreviamos diciendo que es una matriz de dimensión 4 × 3. **Las listas permiten representar series de datos en una sola dimensión. Con una lista de\n",
    "números no se puede representar directamente una matriz, pero sí con una lista de listas como se muestra acontinuación:**"
   ]
  },
  {
   "cell_type": "code",
   "execution_count": 19,
   "id": "ae5e2e70",
   "metadata": {},
   "outputs": [],
   "source": [
    "M = [ [1, 2, 3], [2, 12, 6], [1, 0, -3], [0, -1, 0] ]"
   ]
  },
  {
   "cell_type": "code",
   "execution_count": 20,
   "id": "77b2b23e",
   "metadata": {},
   "outputs": [
    {
     "name": "stdout",
     "output_type": "stream",
     "text": [
      "[[1, 2, 3], [2, 12, 6], [1, 0, -3], [0, -1, 0]]\n"
     ]
    }
   ],
   "source": [
    "print(M)"
   ]
  },
  {
   "cell_type": "markdown",
   "id": "20fc3313",
   "metadata": {},
   "source": [
    "<img src=\"images/matrizcode.jpg\" alt=\"Drawing\" style=\"width: 400px;\"/>"
   ]
  },
  {
   "cell_type": "markdown",
   "id": "5151e923",
   "metadata": {},
   "source": [
    "En la notación matemática el elemento que ocupa la fila i-ésima y la columna j-ésima de una matriz M se representa con $M_{i,j}$ . Por ejemplo, el elemento de una matriz que ocupa la\n",
    "celda de la fila 1 y la columna 2 se denota con $M_{1,2}$. Pero si deseamos acceder a ese elemento en la matriz Python M, hemos de tener en cuenta que Python siempre cuenta desde cero, así que la fila tendrá índice 0 y la columna tendrá índice 1:"
   ]
  },
  {
   "cell_type": "code",
   "execution_count": 25,
   "id": "d6ddd1df",
   "metadata": {},
   "outputs": [
    {
     "data": {
      "text/plain": [
       "2"
      ]
     },
     "execution_count": 25,
     "metadata": {},
     "output_type": "execute_result"
    }
   ],
   "source": [
    "M[0][1] # accedemos al elemento 0,1 que en notación matemática corresponde a M 1,2"
   ]
  },
  {
   "cell_type": "code",
   "execution_count": null,
   "id": "a84b56e1",
   "metadata": {},
   "outputs": [],
   "source": []
  }
 ],
 "metadata": {
  "hide_input": false,
  "kernelspec": {
   "display_name": "Python 3 (ipykernel)",
   "language": "python",
   "name": "python3"
  },
  "language_info": {
   "codemirror_mode": {
    "name": "ipython",
    "version": 3
   },
   "file_extension": ".py",
   "mimetype": "text/x-python",
   "name": "python",
   "nbconvert_exporter": "python",
   "pygments_lexer": "ipython3",
   "version": "3.9.7"
  }
 },
 "nbformat": 4,
 "nbformat_minor": 5
}
