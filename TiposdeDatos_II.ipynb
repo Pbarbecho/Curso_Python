{
 "cells": [
  {
   "cell_type": "markdown",
   "id": "0d3288b1",
   "metadata": {
    "deletable": false,
    "hide_input": true,
    "run_control": {
     "frozen": true
    }
   },
   "source": [
    "# <center> Tipos de Datos en Python II </center> \n",
    "<center>  <img src=\"images/logo.png\" alt=\"Drawing\" style=\"width: 200px;\"/> </center> \n",
    "\n",
    "# <center> Aprendizaje Interactivo </center> \n",
    "\n",
    "<div style=\"text-align: justify\"> En cualquier lenguaje de programación de alto nivel como es Python se manejan diferentes tipos de datos. Los tipos de datos definen un conjunto de valores que tienen una serie de características y propiedades determinadas.En Python, todo valor que pueda ser asignado a una variable tiene asociado un tipo de dato.</div><br>    \n",
    "\n",
    "<div style=\"text-align: justify\">Considerando que en Python todo es un objeto, los tipos de datos serían las clases (donde se definen las propiedades y qué se puede hacer con ellas) y las variables serían las instancias (objetos) de los tipos de datos. En los próximos módulos comentaremos más en detalle sobre lo que son las clases y objetos. </div><br> \n",
    "En este cuaderno aprenderemos sobre estructuras compuestas:\n",
    "\n",
    "- Cadenas de Caracteres\n",
    "- Listas\n",
    "- Tuplas\n",
    "\n",
    "## Objetivos:\n",
    "\n",
    "- Conocer que son las cadenas de caracteres (strings)\n",
    "- Realizar operaciones sobre strings\n",
    "- Introducir las estructuras de datos denominadas Listas\n",
    "- Operaciones en Listas y Tuplas\n",
    "    \n",
    "    \n",
    "## Referencias\n",
    "\n",
    " * The Python Language Reference: https://docs.python.org/3/reference/index.html\n",
    " * The Python Standard Library: https://docs.python.org/3/library/index.html\n",
    " * IBM Jupyter notebooks cheatsheet https://www.ibm.com/docs/en/db2-event-store/2.0.0?topic=notebooks-markdown-jupyter-cheatsheet   "
   ]
  },
  {
   "cell_type": "markdown",
   "id": "a860c0b0",
   "metadata": {},
   "source": [
    "# <center>Cadenas de Caracteres (strings)<center/>\n",
    "\n",
    "<div style=\"text-align: justify\">Se refieren a un tipo de datos compuestos por secuencias de caracteres que representan texto. Se delimitan mediante el uso de comillas simples ('hola') o dobles (\"hola\"). Un objeto de cadena es una \"secuencia\", es decir, es una lista de elementos donde cada elemento tiene una posición definida.<div/> \n",
    "<br/>\n",
    "    \n",
    "<div style=\"text-align: justify\">Cada carácter de la cadena se puede consultar, recuperar utilizando su posición. Esta identificación de su posición se llama \"índice\" y siempre comienza con 0. Algunos ejemplos de cadenas de caracteres:<div/> \n",
    "\n",
    "<br/> \n",
    "    \n",
    "## Indexación de Strings\n",
    "\n",
    "Podemos acceder a cada uno de los caracteres de una cadena utilizando un operador de indexación. El índice del elemento al que queremos acceder debe encerrarse entre corchetes []. Debemos considerar que el primer elemento tiene índice cero. Veamos un ejemplo gráfico: \n",
    "\n",
    "<img src=\"images/indice.jpg\" alt=\"Drawing\" style=\"width: 500px;\"/>\n",
    "\n",
    "\n",
    "Note que la figura muestra el índice comienza con 0. Si del ejemplo anterior quisieramos obtener el caracter `,`, deberíamos indicar el índice `i=4`, es decir, `[4]`. Veamos el ejemplo:\n",
    "\n",
    "<img src=\"images/str_coma.jpg\" alt=\"Drawing\" style=\"width: 300px;\"/>\n",
    "\n",
    "\n",
    "De igual manera, si quisieramos obtener el primer y último carecter de la frase, los podemos hacer con la `indexación (de izquierda a derecha)` e `indexación negativa (de derecha a izquierda)` de la siguiente manera: \n",
    "\n",
    "<img src=\"images/str_n.jpg\" alt=\"Drawing\" style=\"width: 700px;\"/>\n",
    "    \n",
    "<div class=\"alert alert-info\">En las siguientes celdas de código podemos probar lo comentado:</div>"
   ]
  },
  {
   "cell_type": "code",
   "execution_count": null,
   "id": "ad047bd7",
   "metadata": {},
   "outputs": [],
   "source": []
  },
  {
   "cell_type": "code",
   "execution_count": null,
   "id": "5167548a",
   "metadata": {},
   "outputs": [],
   "source": []
  },
  {
   "cell_type": "markdown",
   "id": "555ee65a",
   "metadata": {},
   "source": [
    "# Segmentación de strings (slicing)\n",
    "\n",
    "En Python la segmentación de strings se trata de obtener una subcadena de la cadena dada cortándola respectivamente de principio(start) a fin(stop). Veamos como obtener un substring usando el método de segmentación por listas. \n",
    "\n",
    "**Formas de usar la segmentación por listas:**\n",
    "\n",
    "```python\n",
    "string[start:stop]         # items start through stop-1\n",
    "string[start:]             # items start through the rest of the array\n",
    "string[:stop]              # items from the beginning through stop-1\n",
    "string[:]                  # a copy of the whole array\n",
    "string[start:stop:step]\n",
    "```\n",
    "\n",
    "Veamos un ejemplo: \n",
    "\n",
    "```python\n",
    "frase = 'Hola, mundo.'\n",
    "subfrase = frase[0:4]\n",
    "print(subfrase) # nos muestra la palabra 'Hola'\n",
    "```\n",
    "\n",
    "<div class=\"alert alert-warning\"> Note que <code> start </code> es incluyente, mientras que <code> stop </code> es excluyente.</div>\n",
    "    \n",
    "    \n",
    "<div class=\"alert alert-info\">En las siguientes celdas de código podemos probar lo comentado:</div>"
   ]
  },
  {
   "cell_type": "code",
   "execution_count": null,
   "id": "5ab90fca",
   "metadata": {},
   "outputs": [],
   "source": []
  },
  {
   "cell_type": "code",
   "execution_count": null,
   "id": "22a5240f",
   "metadata": {},
   "outputs": [],
   "source": []
  },
  {
   "cell_type": "markdown",
   "id": "fcb6ab13",
   "metadata": {},
   "source": [
    "## Función len() \n",
    "<a id='funcion_len'></a>\n",
    "La función `len()` nos devuelve el número de elementos de un objeto. En el caso de un string nos indica el número de caracteres que lo componen. Veamos un ejemplo: \n",
    "\n",
    "```python\n",
    "nombres = 'Juan Andrés'\n",
    "len(nombres)   # devuelve el número de caracteres de la variable nombres incluyendo los espacios \n",
    "\n",
    "```\n",
    "Note que los espacios son considerados también como caracteres. "
   ]
  },
  {
   "cell_type": "code",
   "execution_count": null,
   "id": "cdb963fa",
   "metadata": {},
   "outputs": [],
   "source": []
  },
  {
   "cell_type": "code",
   "execution_count": null,
   "id": "16afcf75",
   "metadata": {},
   "outputs": [],
   "source": []
  },
  {
   "cell_type": "markdown",
   "id": "d95cf989",
   "metadata": {},
   "source": [
    "## Función input()\n",
    "\n",
    "La función `input()` permite obtener texto escrito por teclado. Al llegar a la función, el programa se detiene esperando que se escriba algo y se pulse la tecla Intro, como muestra el siguiente ejemplo:\n",
    "\n",
    "\n",
    "<img src=\"images/input.jpg\" alt=\"Drawing\" style=\"width: 500px;\"/>"
   ]
  },
  {
   "cell_type": "code",
   "execution_count": null,
   "id": "13709cbe",
   "metadata": {},
   "outputs": [],
   "source": []
  },
  {
   "cell_type": "code",
   "execution_count": null,
   "id": "a89554cd",
   "metadata": {},
   "outputs": [],
   "source": []
  },
  {
   "cell_type": "markdown",
   "id": "3891a663",
   "metadata": {},
   "source": [
    "# f-strings en Python"
   ]
  },
  {
   "cell_type": "markdown",
   "id": "7a1fd8f0",
   "metadata": {},
   "source": [
    "<div style=\"text-align: justify\">También llamado formatted string literals ó Formateo literal de cadenas, f-Strings tiene una sintaxis simple y fluida que hará más sencillo el darle formato a cadenas de texto. Incorporada desde la versión 3.6 de Python, se puede usar las cadenas literales o f-strings. Esta nueva característica, permite incrustar expresiones dentro de cadenas, por ejemplo:</div>\n",
    "\n",
    "```python\n",
    "a = 5\n",
    "b = 23.5\n",
    "print(f\"Los números resultantes son: {a} y {b}\")\n",
    "```\n",
    "\n",
    "# Ejercicio: \n",
    "\n",
    "Complete el texto \"Los días de la semana son: \" utilizando los f-strings, por ejemplo: \n",
    "\n",
    "```python\n",
    "a = 'Lunes'\n",
    "b = 'Jueves'\n",
    "c = 'Domingo'\n",
    "\n",
    "print(f\"{a}, Martes, Miercoles, {b}, Viernes, Sábado, {c}\")\n",
    "\n",
    "Resultado:  Lunes, Martes, Miercoles, Jueves, Viernes, Sábado, Domingo\n",
    "```"
   ]
  },
  {
   "cell_type": "code",
   "execution_count": null,
   "id": "9c602bb8",
   "metadata": {},
   "outputs": [],
   "source": []
  },
  {
   "cell_type": "code",
   "execution_count": null,
   "id": "47319c14",
   "metadata": {},
   "outputs": [],
   "source": []
  },
  {
   "cell_type": "code",
   "execution_count": null,
   "id": "b8e480bd",
   "metadata": {},
   "outputs": [],
   "source": []
  },
  {
   "cell_type": "code",
   "execution_count": null,
   "id": "60af7c13",
   "metadata": {},
   "outputs": [],
   "source": []
  },
  {
   "cell_type": "code",
   "execution_count": null,
   "id": "bb5e889e",
   "metadata": {},
   "outputs": [],
   "source": []
  },
  {
   "cell_type": "code",
   "execution_count": null,
   "id": "995ebc3a",
   "metadata": {},
   "outputs": [],
   "source": []
  },
  {
   "cell_type": "code",
   "execution_count": null,
   "id": "d184be83",
   "metadata": {},
   "outputs": [],
   "source": []
  },
  {
   "cell_type": "markdown",
   "id": "28d08ded",
   "metadata": {},
   "source": [
    "# Conversiones entre tipos de datos\n",
    "\n",
    "Consideremos el siguiente código: \n",
    "\n",
    "```python\n",
    "teclado = input() # Ingresamos un número por el teclado\n",
    "type(teclado)     # el resultado es un tipo de dato string, a pesar de ingresar un número\n",
    "```\n",
    "\n",
    "Para convertir el string en un `float` o en un `int`, podemos utilizar las funciones de tipos de datos: \n",
    "\n",
    "```python\n",
    "numero_float = float(input()) # convertimos el valor del tipo str a tipo doble\n",
    "type(numero_float) # el resultado es que el tipo de dato un float\n",
    "```\n",
    "\n",
    "\n",
    "Note que si el usuario no ingresa un número en **input()**, las funciones **int()** o **float()**, se producirá un error:\n",
    "\n",
    "<img src=\"images/error3.jpg\" alt=\"Drawing\" style=\"width: 700px;\"/>\n",
    "\n",
    "\n",
    "Otros ejemplos: \n",
    "\n",
    "## Int a Bool\n",
    "```python\n",
    "numero_int = 6\n",
    "tipo_bool = bool(numero_int)\n",
    "print(tipo_bool)\n",
    "```\n",
    "\n",
    "## Bool a Int\n",
    "\n",
    "```python\n",
    "tipo_bool = True\n",
    "tipo_int = int(tipo_bool)\n",
    "type(tipo_int)\n",
    "print(tipo_int)\n",
    "```\n",
    "\n",
    "Puede copiar el código en las celdas de código siguientes para ver el resultado: "
   ]
  },
  {
   "cell_type": "code",
   "execution_count": null,
   "id": "61d2fca3",
   "metadata": {},
   "outputs": [],
   "source": []
  },
  {
   "cell_type": "code",
   "execution_count": null,
   "id": "1ab93dd4",
   "metadata": {},
   "outputs": [],
   "source": []
  },
  {
   "cell_type": "code",
   "execution_count": null,
   "id": "f83520c6",
   "metadata": {},
   "outputs": [],
   "source": []
  },
  {
   "cell_type": "code",
   "execution_count": null,
   "id": "9c5cde9e",
   "metadata": {},
   "outputs": [],
   "source": []
  },
  {
   "cell_type": "markdown",
   "id": "3c108f60",
   "metadata": {},
   "source": [
    "# Listas"
   ]
  },
  {
   "cell_type": "markdown",
   "id": "3a762809",
   "metadata": {},
   "source": [
    "En Python se tienen varios tipos de **datos compuestos** y dentro de las secuencias, están los tipos de **cadenas de caracteres (strings)**. Otro tipo de secuencia son las listas. Entre las secuencias, el más versátil, es la lista. Para definir una lista se debe escribir es entre corchetes **[ ]**, separando sus elementos con comas cada uno. Las listas en Python son uno de los tipos o estructuras de datos más versátiles de Python, ya que permiten almacenar un conjunto arbitrario de datos (numéricos, strings, etc). Si el usuario conoce de otros lenguajes de programación, se podría comparar con los arrays de datos.\n",
    "\n",
    "Las listas en Python son variables que almacenan arrays, internamente cada posición puede ser un tipo de datos distinto. Veamos los siguientes ejemplos:\n",
    "\n",
    "\n",
    "```python\n",
    "lista = [1, 2, 3, 4]  # int\n",
    "lista = [1, \"Pablo\", 8.6, [1, 2, 3]]  # int, str, float\n",
    "```\n",
    "\n",
    "Los elementos que forman una lista también pueden ser de diferentes tipos e incluso operaciones:\n",
    "\n",
    "```python\n",
    "lista = [1.9, \"Pablo\", 8//2, 23*3]]  # int, str, float\n",
    "```\n",
    "\n",
    "Al igual que con las cadenas de caracteres, el operador de indexación también es aplicable a las listas:\n",
    "\n",
    "```python\n",
    "lista = [1, 2, 3, 4]  # int\n",
    "lista[0] # muestra el valor de 1\n",
    "```\n",
    "\n",
    "A diferencia de los strings o cadenas de caracteres, las listas son mutables. Podemos modificar el valor de una lista al acceder por el índice del elemento, por ejemplo: \n",
    "\n",
    "```python\n",
    "lista = [1, 2, 3]  # int\n",
    "lista[0] = 'Pablo' # la lista resultante es ['Pablo', 1, 2, 3]\n",
    "```\n",
    "\n",
    "**En los siguientes Módulos exploraremos que significa que un objeto de Python como las listas sean mutables.**\n",
    "\n",
    "\n",
    "Por último, para convertir una lista a partir de un string, lo podemos hacer un un list(): \n",
    "<img src=\"images/str_lista.jpg\" alt=\"Drawing\" style=\"width: 800px;\"/>\n"
   ]
  },
  {
   "cell_type": "code",
   "execution_count": null,
   "id": "e3a8682d",
   "metadata": {},
   "outputs": [],
   "source": []
  },
  {
   "cell_type": "code",
   "execution_count": null,
   "id": "5c5f485a",
   "metadata": {},
   "outputs": [],
   "source": []
  },
  {
   "cell_type": "markdown",
   "id": "74b85492",
   "metadata": {},
   "source": [
    "## Matrices\n",
    "\n",
    "Las matrices son disposiciones bidimensionales de valores. En notación matemática, una matriz\n",
    "se denota encerrando entre paréntesis los valores, que se disponen en filas y columnas. Por ejemplo veamos una matriz que tiene 4 filas y 3 columnas, lo cual abreviamos diciendo que es una matriz de dimensión 4 × 3. **Las listas permiten representar series de datos en una sola dimensión.** Con una lista de\n",
    "números no se puede representar directamente una matriz, pero sí con una **lista de listas** como se muestra acontinuación:\n",
    "     \n",
    "<img src=\"images/matriz.jpg\" alt=\"Drawing\" style=\"width: 200px;\"/>\n",
    "\n",
    "<img src=\"images/matrix.jpg\" alt=\"Drawing\" style=\"width: 600px;\"/>\n",
    "\n",
    "En la notación matemática el elemento que ocupa la fila i-ésima y la columna j-ésima de una matriz M se representa con $M_{i,j}$ . Por ejemplo, el elemento de una matriz que ocupa la\n",
    "celda de la fila 1 y la columna 2 se denota con $M_{1,2}$. Pero si deseamos acceder a ese elemento en la matriz Python M, hemos de tener en cuenta que Python siempre cuenta desde cero, así que la fila tendrá índice 0 y la columna tendrá índice 1:\n",
    "\n",
    "<img src=\"images/matrizcode.jpg\" alt=\"Drawing\" style=\"width: 400px;\"/>\n",
    "\n",
    "Dado que una matriz está compuesta de listas, podemos acceder a cada posición utilizando los índices correspondientes. Utilizando el ejemplo anterior: \n",
    "\n",
    "```python\n",
    "M[0][1] # accedemos al elemento 0,1 que en notación matemática corresponde a M 1,2\n",
    "```"
   ]
  },
  {
   "cell_type": "code",
   "execution_count": null,
   "id": "8583a57f",
   "metadata": {},
   "outputs": [],
   "source": []
  },
  {
   "cell_type": "code",
   "execution_count": null,
   "id": "ae956157",
   "metadata": {},
   "outputs": [],
   "source": []
  },
  {
   "cell_type": "markdown",
   "id": "902a13a5",
   "metadata": {},
   "source": [
    "\n",
    "***\n",
    "# <center>Tarea 3: Módulo 2 </center>\n",
    "\n",
    "***\n",
    "\n",
    "En la siguiente sección se encuentran planteados varios ejercicios que evalúan lo aprendido durante este módulo. \n",
    "**Recuerde que esta tarea es calificada y el cuaderno de jupyter tabajado debe subirse al aula virtual**. Por favor seguir las instrucciones: \n",
    "\n",
    "1. Realizar los ejercicios abajo propuestos (E1, E2, E3, E4).\n",
    "1. Descargar el cuaderno de jupyter (.pynb). \n",
    "1. Guardar el cuaderno con el número de tarea (t3), su nombre y apellido. Por ejemplo t3_pablo_barbecho.pynb.\n",
    "1. Subir el archivo generado (t3_pablo_barbecho.pynb) en el aula virtual para revisión del docente. \n",
    "\n",
    "<div class=\"alert alert-warning\">Recuerde que podemos utilizar todas las funciones que hemos aprendido hasta el momento print(), input(), type(), isintance(), input(), len().</div>\n",
    "\n",
    "\n",
    "***\n",
    "# E1: Strings\n",
    "\n",
    "\n",
    "Escriba una pequeña biografía personal ingresando por el teclado una cadena de caracteres de almenos 20 caracteres y asignela a la variable `biblio`. Realice las siguientes operaciones sobre la cadena de caracteres creada: \n",
    "\n",
    "1. Ingrese su bibliografía utilizando la función `input()` y guárdela en la variable `biblio` \n",
    "1. Cuál es la longitud de la cadena de caracteres?\n",
    "1. Cree un substring que muestre las primeras 3 palabras en el string `biblio`. \n",
    "1. Busque si su nombre está contenido en `biblio`.\n",
    "1. Muestre el primer y último caracter de `biblio`. \n",
    "1. Muestre un caracter intermedio de `biblio`. Recuerde que puede operar con tipos de datos numéricos: \n",
    "\n",
    "```python\n",
    "mitad = len(biblio)//2\n",
    "```"
   ]
  },
  {
   "cell_type": "code",
   "execution_count": null,
   "id": "386e1be1",
   "metadata": {},
   "outputs": [],
   "source": []
  },
  {
   "cell_type": "code",
   "execution_count": null,
   "id": "1413db36",
   "metadata": {},
   "outputs": [],
   "source": []
  },
  {
   "cell_type": "markdown",
   "id": "dbe5313a",
   "metadata": {},
   "source": [
    "\n",
    "# E2: Listas\n",
    "\n",
    "Cree una lista que contenga 10 elementos entre, enteros, flotantes, complejos y strings. Realice las siguientes acciones: \n",
    "\n",
    "- Muestre el tamaño de la lista. Recuerde la [función len()](#funcion_len)\n",
    "- Modifique el primer elemento y último elementos de la lista\n",
    "- Cree una copia de una lista con el operador de igualdad, por ejemplo: \n",
    "\n",
    "```python\n",
    "listaA = [1, 2, 3]  # int\n",
    "listaB = listaA   # creo una copia de la listaA \n",
    "```\n",
    "\n",
    "- Una vez crea da la copia `listaB`, modifique el 5to elemento de la copia `listaB`.\n",
    "- Por último verifique que se halla actualizado la `listaB` y verifique la `listaB` original.\n",
    "- Puede comentar que pasó con la lista original? \n",
    "\n"
   ]
  },
  {
   "cell_type": "code",
   "execution_count": null,
   "id": "6b144b8b",
   "metadata": {},
   "outputs": [],
   "source": []
  },
  {
   "cell_type": "code",
   "execution_count": null,
   "id": "75458d00",
   "metadata": {},
   "outputs": [],
   "source": []
  },
  {
   "cell_type": "code",
   "execution_count": null,
   "id": "c029224c",
   "metadata": {},
   "outputs": [],
   "source": []
  },
  {
   "cell_type": "markdown",
   "id": "405e0021",
   "metadata": {},
   "source": [
    "\n",
    "# E3: Matrices \n",
    "\n",
    "Cree una matriz de 4x4 con valores numéricos. Realice las siguientes operaciones sobre la matriz: \n",
    "\n",
    "- Muestre la primera fila de la matriz\n",
    "- Muestre la última fila de la matriz\n",
    "- Cambie uno de los elementos de la matriz por un string."
   ]
  },
  {
   "cell_type": "code",
   "execution_count": null,
   "id": "cd5b8f93",
   "metadata": {},
   "outputs": [],
   "source": []
  }
 ],
 "metadata": {
  "celltoolbar": "Edit Metadata",
  "hide_input": false,
  "kernelspec": {
   "display_name": "Python 3 (ipykernel)",
   "language": "python",
   "name": "python3"
  },
  "language_info": {
   "codemirror_mode": {
    "name": "ipython",
    "version": 3
   },
   "file_extension": ".py",
   "mimetype": "text/x-python",
   "name": "python",
   "nbconvert_exporter": "python",
   "pygments_lexer": "ipython3",
   "version": "3.9.12"
  }
 },
 "nbformat": 4,
 "nbformat_minor": 5
}
