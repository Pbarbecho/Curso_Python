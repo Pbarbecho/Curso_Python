{
  "cells": [
    {
      "cell_type": "markdown",
      "metadata": {
        "id": "view-in-github",
        "colab_type": "text"
      },
      "source": [
        "<a href=\"https://colab.research.google.com/github/Pbarbecho/Curso_Python/blob/main/Graph_method_solver_slides.ipynb\" target=\"_parent\"><img src=\"https://colab.research.google.com/assets/colab-badge.svg\" alt=\"Open In Colab\"/></a>"
      ]
    },
    {
      "cell_type": "markdown",
      "id": "c134aca9",
      "metadata": {
        "id": "c134aca9"
      },
      "source": [
        "## Install Pyomo"
      ]
    },
    {
      "cell_type": "code",
      "execution_count": null,
      "id": "c07472cc",
      "metadata": {
        "id": "c07472cc"
      },
      "outputs": [],
      "source": [
        "!pip install pyomo"
      ]
    },
    {
      "cell_type": "markdown",
      "id": "edace0b3",
      "metadata": {
        "id": "edace0b3"
      },
      "source": [
        "## Install Solver GLPK"
      ]
    },
    {
      "cell_type": "code",
      "execution_count": null,
      "id": "8cea989e",
      "metadata": {
        "run_control": {
          "marked": true
        },
        "id": "8cea989e"
      },
      "outputs": [],
      "source": [
        "!apt-get install glpk-utils"
      ]
    },
    {
      "cell_type": "markdown",
      "id": "d06d7312",
      "metadata": {
        "id": "d06d7312"
      },
      "source": [
        "## Import Pyomo"
      ]
    },
    {
      "cell_type": "code",
      "execution_count": null,
      "id": "d6460ef7",
      "metadata": {
        "id": "d6460ef7"
      },
      "outputs": [],
      "source": [
        "import pyomo.environ as pyo"
      ]
    },
    {
      "cell_type": "markdown",
      "id": "fdbb1480",
      "metadata": {
        "hide_input": false,
        "id": "fdbb1480"
      },
      "source": [
        "### 1. Data"
      ]
    },
    {
      "cell_type": "code",
      "execution_count": null,
      "id": "d956e010",
      "metadata": {
        "id": "d956e010"
      },
      "outputs": [],
      "source": [
        "# Empty"
      ]
    },
    {
      "cell_type": "markdown",
      "id": "911cd09c",
      "metadata": {
        "id": "911cd09c"
      },
      "source": [
        "### 2. Model (Concrete Model)"
      ]
    },
    {
      "cell_type": "code",
      "execution_count": null,
      "id": "6992e159",
      "metadata": {
        "id": "6992e159"
      },
      "outputs": [],
      "source": [
        "model = pyo.ConcreteModel()"
      ]
    },
    {
      "cell_type": "markdown",
      "id": "bfa420b7",
      "metadata": {
        "id": "bfa420b7"
      },
      "source": [
        "### 3. Desicion Variables"
      ]
    },
    {
      "cell_type": "code",
      "execution_count": null,
      "id": "fa46a341",
      "metadata": {
        "id": "fa46a341"
      },
      "outputs": [],
      "source": [
        "model.x = pyo.Var(within=pyo.NonNegativeReals)  # possible values that desicion variables can take\n",
        "model.y = pyo.Var(within=pyo.NonNegativeReals)  # possible values that desicion variables can take"
      ]
    },
    {
      "cell_type": "markdown",
      "id": "28df456d",
      "metadata": {
        "id": "28df456d"
      },
      "source": [
        "### 4. Objective Function"
      ]
    },
    {
      "cell_type": "code",
      "execution_count": null,
      "id": "82dbedb8",
      "metadata": {
        "id": "82dbedb8"
      },
      "outputs": [],
      "source": [
        "model.objective_Funct = pyo.Objective(\n",
        "    expr= model.x + 2*model.y,\n",
        "    sense=pyo.maximize)"
      ]
    },
    {
      "cell_type": "markdown",
      "id": "964a4dc4",
      "metadata": {
        "id": "964a4dc4"
      },
      "source": [
        "### 5. Constraints"
      ]
    },
    {
      "cell_type": "code",
      "execution_count": null,
      "id": "5f4f4b19",
      "metadata": {
        "id": "5f4f4b19"
      },
      "outputs": [],
      "source": [
        "model.constraint_1=pyo.Constraint(expr=2*model.x+model.y>=4)\n",
        "model.constraint_2=pyo.Constraint(expr=-2*model.x+4*model.y>=-2)\n",
        "model.constraint_3=pyo.Constraint(expr=-2*model.x+model.y>=-8)\n",
        "model.constraint_4=pyo.Constraint(expr=-2*model.x+model.y<=-2)\n",
        "model.constraint_5=pyo.Constraint(expr=model.y<=6)"
      ]
    },
    {
      "cell_type": "markdown",
      "id": "584a909f",
      "metadata": {
        "id": "584a909f"
      },
      "source": [
        "### 6. Solve"
      ]
    },
    {
      "cell_type": "code",
      "execution_count": null,
      "id": "132c7c08",
      "metadata": {
        "id": "132c7c08"
      },
      "outputs": [],
      "source": [
        "factory = pyo.SolverFactory('glpk')\n",
        "factory.solve(model, tee=True)"
      ]
    },
    {
      "cell_type": "code",
      "execution_count": null,
      "id": "a5f377ab",
      "metadata": {
        "id": "a5f377ab"
      },
      "outputs": [],
      "source": [
        "model.pprint()"
      ]
    },
    {
      "cell_type": "markdown",
      "id": "e92d0e4e-2700-4286-8f5f-5fc5d2e99389",
      "metadata": {
        "id": "e92d0e4e-2700-4286-8f5f-5fc5d2e99389"
      },
      "source": [
        "## Print just results of desicion variables"
      ]
    },
    {
      "cell_type": "code",
      "execution_count": null,
      "id": "54d0b4e3-cf84-49f5-b84b-cf1e3ee4faa9",
      "metadata": {
        "id": "54d0b4e3-cf84-49f5-b84b-cf1e3ee4faa9"
      },
      "outputs": [],
      "source": [
        "print(f'X:, {pyo.value(model.x)}, Y: {pyo.value(model.y)}')"
      ]
    }
  ],
  "metadata": {
    "hide_input": false,
    "kernelspec": {
      "display_name": "Python 3 (ipykernel)",
      "language": "python",
      "name": "python3"
    },
    "language_info": {
      "codemirror_mode": {
        "name": "ipython",
        "version": 3
      },
      "file_extension": ".py",
      "mimetype": "text/x-python",
      "name": "python",
      "nbconvert_exporter": "python",
      "pygments_lexer": "ipython3",
      "version": "3.10.10"
    },
    "colab": {
      "provenance": [],
      "include_colab_link": true
    }
  },
  "nbformat": 4,
  "nbformat_minor": 5
}