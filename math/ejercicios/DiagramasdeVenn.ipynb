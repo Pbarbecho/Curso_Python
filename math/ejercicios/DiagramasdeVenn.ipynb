{
 "cells": [
  {
   "cell_type": "markdown",
   "id": "962fbf62",
   "metadata": {
    "deletable": false,
    "editable": false,
    "hide_input": true,
    "run_control": {
     "frozen": true
    }
   },
   "source": [
    "# <center>Diagramas de Venn en Python</center>\n",
    "\n",
    "<div style=\"text-align: justify\">En este cuaderno practicaremos como realizar un Diagrama de Venn utilizando el lenguaje de programación Python. Comenzaremos por describir que son los diagramas de Venn. </div>&nbsp\n",
    "\n",
    "\n",
    "\n",
    "<div style=\"text-align: justify\"> Un diagrama de Venn usa círculos que se superponen para ilustrar las relaciones lógicas entre dos o más conjuntos de elementos. A menudo, se utilizan para organizar cosas de forma gráfica, destacando en qué se parecen y difieren los elementos. Los diagramas de Venn, también denominados \"diagramas de conjunto\" o \"diagramas lógicos\", se usan ampliamente en las áreas de matemática, estadística, lógica, enseñanza, lingüística, informática y negocios.  </div>\n",
    "\n",
    "Vamos a realizar Diagramas de Venn de 2 y 3 circulos:\n",
    "\n",
    "<table><tr>\n",
    "<td> <img src=\"dv2.jpg\" alt=\"Drawing\" style=\"width: 300px;\"/> </td>\n",
    "<td> <img src=\"dv3.jpg\" alt=\"Drawing\" style=\"width: 230px;\"/> </td>\n",
    "</tr></table>\n",
    "\n",
    "# 1. Instalando / Importando librerías \n",
    "\n",
    "<div class=\"alert alert-info\">Copie y ejecute el siguiente código en una celda de código. El código importa e instala las librerias necesarias. Por favor espere un momento hasta que se termine de instalar las librerías.</div>\n",
    "\n",
    "```python\n",
    "!pip install matplotlib_venn  #instala en jupyter la librería matplotlib_venn\n",
    "import matplotlib.pyplot as plt   #importa la librería matplotlib\n",
    "from matplotlib_venn import venn2,venn3  #importa la librería venn2\n",
    "\n",
    "```"
   ]
  },
  {
   "cell_type": "code",
   "execution_count": null,
   "id": "c9762dc6",
   "metadata": {},
   "outputs": [],
   "source": []
  },
  {
   "cell_type": "markdown",
   "id": "dc4898c0",
   "metadata": {
    "deletable": false,
    "editable": false,
    "hide_input": true,
    "run_control": {
     "frozen": true
    }
   },
   "source": [
    "# 2. Definir conjuntos\n",
    "\n",
    "En este paso hemos de definir los conjuntos. \n",
    "\n",
    "Por ejemplo: \n",
    "\n",
    "```python\n",
    "A = {1,2,3,4,6,12}  # A= {x/x es divisor natural de 12}\n",
    "B = {1,3,5,15}  # A= {x/x es divisor natural de 15}\n",
    "```\n",
    "\n",
    "\n",
    "# 3. Plot Diagramas de Venn 2\n",
    "\n",
    "En este paso dibujamos los diagramas de Venn 2.\n",
    "\n",
    "Por ejemplo:\n",
    "\n",
    "```python\n",
    "venn2(subsets=(A, B), set_labels=('A', 'B'))\n",
    "plt.title('Diagrama de Venn 2 circulos')\n",
    "```\n",
    "\n",
    "<div class=\"alert alert-info\">En la siguiente celda ejecute el código anterior. Debe mostrarse el Diagrama de Venn generado.</div>"
   ]
  },
  {
   "cell_type": "code",
   "execution_count": null,
   "id": "f7dd7736",
   "metadata": {},
   "outputs": [],
   "source": []
  },
  {
   "cell_type": "code",
   "execution_count": null,
   "id": "fcd91b6a",
   "metadata": {},
   "outputs": [],
   "source": []
  },
  {
   "cell_type": "markdown",
   "id": "c17e1ca7",
   "metadata": {
    "deletable": false,
    "editable": false,
    "hide_input": true,
    "run_control": {
     "frozen": true
    }
   },
   "source": [
    "# 4. Plot Diagramas de Venn 3\n",
    "\n",
    "En este paso dibujamos los diagramas de Venn 3.\n",
    "\n",
    "Definimos los conjuntos:\n",
    "\n",
    "```python\n",
    "A = {1, 2, 3, 4, 6, 12}  # A= {x/x es divisor natural de 12}\n",
    "B = {1, 3, 5, 15}  # B = {x/x es divisor natural de 15}\n",
    "C = {2, 3, 5, 7, 11} #  C = {x/x E números primos 1<x<13}\n",
    "```\n",
    "\n",
    "Generamos el Diagrama de Venn 3:\n",
    "\n",
    "```python\n",
    "venn3(subsets=(A, B, C), set_labels=('A', 'B', 'C'))\n",
    "plt.title('Diagrama de Venn 3 circulos')\n",
    "```\n",
    "\n",
    "\n",
    "<div class=\"alert alert-info\">En la siguiente celda ejecute el código anterior. Debe mostrarse el Diagrama de Venn generado.</div>"
   ]
  },
  {
   "cell_type": "code",
   "execution_count": null,
   "id": "11e6c053",
   "metadata": {},
   "outputs": [],
   "source": []
  },
  {
   "cell_type": "code",
   "execution_count": null,
   "id": "e9c17e42",
   "metadata": {},
   "outputs": [],
   "source": []
  },
  {
   "cell_type": "markdown",
   "id": "2d3ab20d",
   "metadata": {
    "deletable": false,
    "editable": false,
    "hide_input": true,
    "run_control": {
     "frozen": true
    }
   },
   "source": [
    "# Ejercicios en Clase:\n",
    "\n",
    "1. Proponga 3 ejemplos de un Diagrama de Venn de 2 circulos:\n",
    "\n",
    "    1. Intersección\n",
    "    2. Union\n",
    "    3. Disyunción\n",
    "\n",
    "Como comentario, defina los conjuntos propuestos por comprensión como se muestra en los ejemplos.  \n",
    "\n",
    "1. Proponga 3 ejemplos de un Diagrama de Venn de 3 circulos: \n",
    "\n",
    "    1. Intersección\n",
    "    2. Union\n",
    "    3. Disyunción\n",
    "\n",
    "\n",
    "<div class=\"alert alert-info\">Como comentario <b>#</b>, defina los conjuntos propuestos por comprensión como se muestra en los ejemplos. A = {1, 2, 3, 4, 6, 12}  # A= {x/x es divisor natural de 12}</div>\n"
   ]
  },
  {
   "cell_type": "code",
   "execution_count": null,
   "id": "5fbb3069",
   "metadata": {},
   "outputs": [],
   "source": []
  },
  {
   "cell_type": "code",
   "execution_count": null,
   "id": "28e05743",
   "metadata": {},
   "outputs": [],
   "source": []
  },
  {
   "cell_type": "code",
   "execution_count": null,
   "id": "9dcd8b9e",
   "metadata": {},
   "outputs": [],
   "source": []
  },
  {
   "cell_type": "code",
   "execution_count": null,
   "id": "dc02811b",
   "metadata": {},
   "outputs": [],
   "source": []
  }
 ],
 "metadata": {
  "celltoolbar": "Edit Metadata",
  "hide_input": false,
  "kernelspec": {
   "display_name": "Python 3 (ipykernel)",
   "language": "python",
   "name": "python3"
  },
  "language_info": {
   "codemirror_mode": {
    "name": "ipython",
    "version": 3
   },
   "file_extension": ".py",
   "mimetype": "text/x-python",
   "name": "python",
   "nbconvert_exporter": "python",
   "pygments_lexer": "ipython3",
   "version": "3.9.7"
  }
 },
 "nbformat": 4,
 "nbformat_minor": 5
}
