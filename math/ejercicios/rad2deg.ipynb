{
 "cells": [
  {
   "attachments": {},
   "cell_type": "markdown",
   "id": "055cff18",
   "metadata": {},
   "source": [
    "# <center>Equivalencias Radián - Grados </center>\n",
    "\n",
    "\n",
    "En este cuaderno, vamos a realizar un programa que permita convertira radianes a grados y viceversa. Utilizando funciones, vamos a realizar la conversión de tres maneras diferentes: \n",
    "\n",
    "1. Use el factor de conversión correspondiente.\n",
    "1. Use las funciones disponibles en la librería math(radians, degrees).\n",
    "1. Use las funcines disponibles en la librería numpy (deg2rad, rad2deg).\n",
    "\n",
    "Recuerde crear un menú y opciones para que el usuario seleccione que conversión desea realizar. \n",
    "\n"
   ]
  },
  {
   "cell_type": "code",
   "execution_count": null,
   "id": "ea2c5737",
   "metadata": {},
   "outputs": [],
   "source": []
  }
 ],
 "metadata": {
  "hide_input": false,
  "kernelspec": {
   "display_name": "Python 3 (ipykernel)",
   "language": "python",
   "name": "python3"
  },
  "language_info": {
   "codemirror_mode": {
    "name": "ipython",
    "version": 3
   },
   "file_extension": ".py",
   "mimetype": "text/x-python",
   "name": "python",
   "nbconvert_exporter": "python",
   "pygments_lexer": "ipython3",
   "version": "3.9.7"
  }
 },
 "nbformat": 4,
 "nbformat_minor": 5
}
