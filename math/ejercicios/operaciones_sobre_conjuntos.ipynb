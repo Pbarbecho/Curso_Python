{
 "cells": [
  {
   "cell_type": "markdown",
   "id": "7240a6f9",
   "metadata": {},
   "source": [
    "# <center>Operaciones sobre conjuntos en Python 1 </center>\n",
    "\n",
    "**La resolución de este cuaderno debe subirse en el Aula Vitual.**\n",
    "\n",
    "    - Ejercicio 1\n",
    "    - Ejercicio 2\n",
    "    - Ejercicio 3\n",
    "    - Tarea Propuesta\n",
    "\n",
    "\n",
    "\n",
    "# 1. Listando elementos de un conjunto\n",
    "\n",
    "Dado que los conjuntos son colecciones desordenadas, en ellos no se guarda la posición en la que son insertados, es decir no se puede acceder a los elementos a través de un índice.\n",
    "\n",
    "Para listar los elementos de un conjunto, vamos a introducir las sentencias iteraivas y en concreto vamos a usar el bucle FOR o PARA:\n",
    "\n",
    "```python\n",
    "A = {1, 3, 2, 9, 3, 1}\n",
    "for elemeno in A:\n",
    "    print(elemento)\n",
    "```"
   ]
  },
  {
   "cell_type": "code",
   "execution_count": null,
   "id": "9aab55a6",
   "metadata": {},
   "outputs": [],
   "source": []
  },
  {
   "cell_type": "code",
   "execution_count": null,
   "id": "3b4adafe",
   "metadata": {},
   "outputs": [],
   "source": []
  },
  {
   "cell_type": "markdown",
   "id": "a07b3139",
   "metadata": {},
   "source": [
    "# Ejercicio 1: \n",
    "\n",
    "1. Defina el siguiente conjunto:   B = {x/x ∈ ℕ Ʌ 1 ≤ x ≤ 5}\n",
    "2. Utilizando un bucle FOR, imprima los elementos del conjunto\n"
   ]
  },
  {
   "cell_type": "code",
   "execution_count": null,
   "id": "db308983",
   "metadata": {},
   "outputs": [],
   "source": []
  },
  {
   "cell_type": "code",
   "execution_count": null,
   "id": "efb5f19a",
   "metadata": {},
   "outputs": [],
   "source": []
  },
  {
   "cell_type": "markdown",
   "id": "c468e110",
   "metadata": {},
   "source": [
    "# 2. Añadiendo elementos a un conjunto\n",
    "\n",
    "Para añadir un elemento a un conjunto podemos utilizar el método add(). También existe el método update(), que puede tomar como argumento una lista, tupla, string, conjunto o cualquier objeto de tipo iterable.\n",
    "\n",
    "Ejemplo:\n",
    "```python\n",
    "# defino mi conjunto\n",
    "A = {'a', 'b', 'c'}\n",
    "# uso el método add() para agregar un elemento al conjunto\n",
    "A.add('d')\n",
    "# uso el método updae () para agregar un string \n",
    "A.update('efghijklmnopqrstuvwxyz')\n",
    "```"
   ]
  },
  {
   "cell_type": "code",
   "execution_count": null,
   "id": "4a95d80e",
   "metadata": {},
   "outputs": [],
   "source": []
  },
  {
   "cell_type": "code",
   "execution_count": null,
   "id": "9313fb41",
   "metadata": {},
   "outputs": [],
   "source": []
  },
  {
   "cell_type": "markdown",
   "id": "6f730cee",
   "metadata": {},
   "source": [
    "# Ejercicio 2: \n",
    "\n",
    "1. Defina el siguiente conjunto:   E = {x/x ∈ a las vocales de su nombre}\n",
    "2. Usando el método add() agrege la primera y la última consonante de su nombre\n",
    "3. Usando el método update() agrege su nombre completo, por ejemplo 'Pablo'\n"
   ]
  },
  {
   "cell_type": "code",
   "execution_count": null,
   "id": "62b4f836",
   "metadata": {},
   "outputs": [],
   "source": []
  },
  {
   "cell_type": "code",
   "execution_count": null,
   "id": "1cae9b84",
   "metadata": {},
   "outputs": [],
   "source": []
  },
  {
   "cell_type": "markdown",
   "id": "60366fd5",
   "metadata": {},
   "source": [
    "# 3. Eliminando elementos:\n",
    "\n",
    "La clase set ofrece cuatro métodos para eliminar elementos de un conjunto: \n",
    "    \n",
    "    - discard(elemento),   # no emite un error en caso que no exista el elemento\n",
    "    - remove(elemento),    # error en caso que no exista el elemento\n",
    "    - pop()        # elimina un elemento aleatorio\n",
    "    - clear()      # elimina todos los elementos de un conjunto\n",
    "\n",
    "## Ejemplo de Uso:\n",
    "\n",
    "```python\n",
    "\n",
    "# defino mi conjunto\n",
    "A = {1, 3, 2, 9, 3, 1, 6, 4, 5}\n",
    "# Elimina el elemento 1 con remove()\n",
    "A.remove(1)\n",
    "# Elimina el elemento 4 con discard()\n",
    "A.discard(4)\n",
    "# Trata de eliminar el elemento 7 (no existe) con remove()\n",
    "# Lanza la excepción KeyError\n",
    "A.remove(7)\n",
    "# Trata de eliminar el elemento 7 (no existe) con discard()\n",
    "# No hace nada\n",
    "A.discard(7)\n",
    "# Obtiene y elimina un elemento aleatorio con pop(), note que podemos obtener un elemento de pop()\n",
    "A.pop()\n",
    "# Elimina todos los elementos del conjunto\n",
    "A.clear()\n",
    "```"
   ]
  },
  {
   "cell_type": "code",
   "execution_count": null,
   "id": "f8a1e658",
   "metadata": {},
   "outputs": [],
   "source": []
  },
  {
   "cell_type": "code",
   "execution_count": null,
   "id": "3ac9ad17",
   "metadata": {},
   "outputs": [],
   "source": []
  },
  {
   "cell_type": "markdown",
   "id": "0e92e810",
   "metadata": {},
   "source": [
    "# Ejercicio 3:\n",
    "\n",
    "1. Defina el siguiente conjunto:   E = {x/x ∈ ℕ Ʌ  5 ≤ x < 10}\n",
    "2. Para cada una de los métodos revisados, proponga un ejemplo de uso\n",
    "    "
   ]
  },
  {
   "cell_type": "code",
   "execution_count": null,
   "id": "88886c7e",
   "metadata": {},
   "outputs": [],
   "source": []
  },
  {
   "cell_type": "code",
   "execution_count": null,
   "id": "0eea9f77",
   "metadata": {},
   "outputs": [],
   "source": []
  },
  {
   "cell_type": "markdown",
   "id": "06b18d1f",
   "metadata": {},
   "source": [
    "# <center>Operaciones sobre conjuntos en Python 2 </center>\n",
    "\n",
    "# Unión de conjuntos en Python\n",
    "\n",
    "La unión de dos conjuntos A y B es el conjunto A ∪ B que contiene todos los elementos de A y de B.\n",
    "\n",
    "En Python se utiliza el operador **|** para realizar la unión de dos o más conjuntos.\n",
    "\n",
    "Ejemplo:\n",
    "\n",
    "```python\n",
    "A = {1, 2, 3, 4}\n",
    "B = {2, 4, 6, 8}\n",
    "C = A | B\n",
    "```\n",
    "\n",
    "# Intersección de conjuntos en Python\n",
    "\n",
    "La intersección de dos conjuntos A y B es el conjunto A ∩ B que contiene todos los elementos comunes de A y B.\n",
    "\n",
    "En Python se utiliza el operador & para realizar la intersección de dos o más conjuntos.\n",
    "\n",
    "Ejemplo:\n",
    "\n",
    "```python\n",
    "A = {1, 2, 3, 4}\n",
    "B = {2, 4, 6, 8}\n",
    "C = A & B\n",
    "```\n",
    "\n",
    "# Diferencia de conjuntos en Python\n",
    "\n",
    "La diferencia entre dos conjuntos A y B es el conjunto A \\ B que contiene todos los elementos de A que no pertenecen a B.\n",
    "\n",
    "En Python se utiliza el operador **-** para realizar la diferencia de dos o más conjuntos.\n",
    "\n",
    "```python\n",
    "A = {1, 2, 3, 4}\n",
    "B = {2, 4, 6, 8}\n",
    "C = A - B\n",
    "```\n",
    "\n",
    "# Diferencia simétrica de conjuntos en Python\n",
    "\n",
    "La diferencia simétrica entre dos conjuntos A y B es el conjunto que contiene los elementos de A y B que no son comunes.\n",
    "\n",
    "En Python se utiliza el operador **^** para realizar la diferencia simétrica de dos o más conjuntos.\n",
    "\n",
    "```python\n",
    "A = {1, 2, 3, 4}\n",
    "B = {2, 4, 6, 8}\n",
    "C = A ^ B\n",
    "```\n",
    "\n",
    "# Inclusión de conjuntos en Python\n",
    "\n",
    "Dado un conjunto A, subcolección del conjunto B o igual a este, sus elementos son un subconjunto de B. Es decir, A es un subconjunto de B y B es un superconjunto de A.\n",
    "\n",
    "En Python se utiliza el operador <= para comprobar si un conjunto A es subconjunto de B y el operador >= para comprobar si un conjunto A es superconjunto de B.\n",
    "\n",
    "```python\n",
    "A = {1, 2}\n",
    "B = {1, 2, 3, 4}\n",
    "# A es subconjunto de B ?\n",
    "A <= B\n",
    "# A es superconjunto de B ?\n",
    "A >= B\n",
    "```"
   ]
  },
  {
   "cell_type": "code",
   "execution_count": null,
   "id": "f4b9eaad",
   "metadata": {},
   "outputs": [],
   "source": []
  },
  {
   "cell_type": "code",
   "execution_count": null,
   "id": "20516cd9",
   "metadata": {},
   "outputs": [],
   "source": []
  },
  {
   "cell_type": "markdown",
   "id": "6596b334",
   "metadata": {},
   "source": [
    "# Ejercicio:\n",
    "\n",
    "1. Para cada entrada proponga un ejemplo de uso: \n",
    "    \n",
    "    - Unión\n",
    "    - Intersección\n",
    "    - Diferencia \n",
    "    - Diferencia simétrica\n",
    "    - Inclusión\n",
    "    "
   ]
  },
  {
   "cell_type": "code",
   "execution_count": null,
   "id": "8d9df225",
   "metadata": {},
   "outputs": [],
   "source": []
  },
  {
   "cell_type": "code",
   "execution_count": null,
   "id": "4941d0a1",
   "metadata": {},
   "outputs": [],
   "source": []
  },
  {
   "cell_type": "code",
   "execution_count": null,
   "id": "47d78ac6",
   "metadata": {},
   "outputs": [],
   "source": []
  },
  {
   "cell_type": "markdown",
   "id": "e714ee46",
   "metadata": {},
   "source": [
    "# Trabajo Propuesto (Evaluado Próxima clase - Calificado)\n",
    "\n",
    "\n",
    "Enunciado: Utilizando únicamente las funciones que conocemos:\n",
    "\n",
    "1. Cree un conjunto e incluya su definición por comprensión\n",
    "1. Imprima uno a uno sus elementos\n",
    "1. Agrege un elemento que se corresponda con la descripción por comprensión dada\n",
    "1. Elimine un elemento aleaorio del conjunto\n",
    "1. Cree un programa que imprima en pantalla qué elemnto fué eliminado \n",
    "\n"
   ]
  },
  {
   "cell_type": "code",
   "execution_count": null,
   "id": "9956b6e4",
   "metadata": {},
   "outputs": [],
   "source": []
  },
  {
   "cell_type": "code",
   "execution_count": null,
   "id": "421a3fb5",
   "metadata": {},
   "outputs": [],
   "source": []
  },
  {
   "cell_type": "code",
   "execution_count": null,
   "id": "7cdcf2cf",
   "metadata": {},
   "outputs": [],
   "source": []
  }
 ],
 "metadata": {
  "hide_input": false,
  "kernelspec": {
   "display_name": "Python 3 (ipykernel)",
   "language": "python",
   "name": "python3"
  },
  "language_info": {
   "codemirror_mode": {
    "name": "ipython",
    "version": 3
   },
   "file_extension": ".py",
   "mimetype": "text/x-python",
   "name": "python",
   "nbconvert_exporter": "python",
   "pygments_lexer": "ipython3",
   "version": "3.9.7"
  }
 },
 "nbformat": 4,
 "nbformat_minor": 5
}
