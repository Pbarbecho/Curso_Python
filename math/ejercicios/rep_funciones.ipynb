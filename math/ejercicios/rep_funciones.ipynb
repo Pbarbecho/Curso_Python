{
 "cells": [
  {
   "cell_type": "markdown",
   "id": "2c9513e6",
   "metadata": {},
   "source": [
    "# <center> Representación gráfica de funciones </center> \n",
    "\n",
    "## Ejemplo de código para representar funciones generales en un eje coordenado\n",
    "\n",
    "```python\n",
    "\n",
    "# Importamos las librerías necesarias \n",
    "import matplotlib.pyplot as plt  # librería para realizar plots\n",
    "import numpy as np  # librería que permite crear arreglos multidimensionales\n",
    "\n",
    "\n",
    "# Generamos valores para X var independiente\n",
    "x = np.linspace(-3,3,100) # linspace -> (start, stop, 50)\n",
    "\n",
    "# Aqui va la función a graficar: Por ejemplo y = x^2\n",
    "y = x**2\n",
    "\n",
    "# Creamos una figura\n",
    "fig = plt.figure()\n",
    "\n",
    "# Modificamos los ejes de la figura para centrar los ejes \n",
    "ax = fig.add_subplot(111)\n",
    "ax.spines['left'].set_position('center')\n",
    "ax.spines['bottom'].set_position('zero')\n",
    "ax.spines['right'].set_color('none')\n",
    "ax.spines['top'].set_color('none')\n",
    "\n",
    "# Dibujamos la figura\n",
    "plt.plot(x,y,'g')  # (valores x,valores y, color)\n",
    "plt.grid()         # dibujamos una cuadricula\n",
    "\n",
    "# mostramos el plot\n",
    "plt.show()\n",
    "```"
   ]
  },
  {
   "cell_type": "code",
   "execution_count": null,
   "id": "990fecc5",
   "metadata": {},
   "outputs": [],
   "source": []
  },
  {
   "cell_type": "code",
   "execution_count": null,
   "id": "4cd2e9d5",
   "metadata": {},
   "outputs": [],
   "source": []
  }
 ],
 "metadata": {
  "hide_input": false,
  "kernelspec": {
   "display_name": "Python 3 (ipykernel)",
   "language": "python",
   "name": "python3"
  },
  "language_info": {
   "codemirror_mode": {
    "name": "ipython",
    "version": 3
   },
   "file_extension": ".py",
   "mimetype": "text/x-python",
   "name": "python",
   "nbconvert_exporter": "python",
   "pygments_lexer": "ipython3",
   "version": "3.9.7"
  }
 },
 "nbformat": 4,
 "nbformat_minor": 5
}
