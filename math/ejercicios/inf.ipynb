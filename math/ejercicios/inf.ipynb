{
 "cells": [
  {
   "cell_type": "markdown",
   "id": "04b89ac6",
   "metadata": {},
   "source": [
    "# Ejercicio en clases -  1. Definir el Infinito\n",
    "\n",
    "En este cuaderno veremos como trabajar con el infinito en Python. \n",
    "```python\n",
    "\n",
    "## Defining a positive infinite integer\n",
    "positive_infinity = float('inf')\n",
    "print('Positive Infinity: ', positive_infinity)\n",
    " \n",
    "## Defining a negative infinite integer\n",
    "negative_infinity = float('-inf')\n",
    "print('Negative Infinity: ', negative_infinity)\n",
    "```\n",
    "\n",
    "## Considerando el ejemplo anterior, defina un conjunto infinito. "
   ]
  },
  {
   "cell_type": "markdown",
   "id": "f6601f90",
   "metadata": {},
   "source": []
  },
  {
   "cell_type": "code",
   "execution_count": null,
   "id": "1714761f",
   "metadata": {},
   "outputs": [],
   "source": []
  },
  {
   "cell_type": "code",
   "execution_count": null,
   "id": "2d044173",
   "metadata": {},
   "outputs": [],
   "source": []
  },
  {
   "cell_type": "code",
   "execution_count": null,
   "id": "f3fafedc",
   "metadata": {},
   "outputs": [],
   "source": []
  },
  {
   "cell_type": "code",
   "execution_count": null,
   "id": "606248c2",
   "metadata": {},
   "outputs": [],
   "source": []
  },
  {
   "cell_type": "markdown",
   "id": "a455e467",
   "metadata": {},
   "source": [
    "# Ejercicio en clases -  2. Comparar un valor con infinito \n",
    "\n",
    "Utilizando el siguiente código, intente comparar un valor decimal **numero** con infinito de manera que se cumplan ambas condiciones **numero** es mayor y menor que **infinito**. \n",
    "\n",
    "```python\n",
    "\n",
    "if inf_var < numero:\n",
    "    print(f'{numero} es mayor')\n",
    "else: \n",
    "    print('Infinito es mayor')\n",
    "```"
   ]
  },
  {
   "cell_type": "code",
   "execution_count": 20,
   "id": "db455922",
   "metadata": {},
   "outputs": [],
   "source": []
  },
  {
   "cell_type": "code",
   "execution_count": 21,
   "id": "1a9325f9",
   "metadata": {},
   "outputs": [],
   "source": []
  },
  {
   "cell_type": "code",
   "execution_count": null,
   "id": "8442769e",
   "metadata": {},
   "outputs": [],
   "source": []
  },
  {
   "cell_type": "code",
   "execution_count": null,
   "id": "72b1cf77",
   "metadata": {},
   "outputs": [],
   "source": []
  },
  {
   "cell_type": "code",
   "execution_count": null,
   "id": "e1220e22",
   "metadata": {},
   "outputs": [],
   "source": []
  }
 ],
 "metadata": {
  "hide_input": false,
  "kernelspec": {
   "display_name": "Python 3 (ipykernel)",
   "language": "python",
   "name": "python3"
  },
  "language_info": {
   "codemirror_mode": {
    "name": "ipython",
    "version": 3
   },
   "file_extension": ".py",
   "mimetype": "text/x-python",
   "name": "python",
   "nbconvert_exporter": "python",
   "pygments_lexer": "ipython3",
   "version": "3.9.7"
  }
 },
 "nbformat": 4,
 "nbformat_minor": 5
}
