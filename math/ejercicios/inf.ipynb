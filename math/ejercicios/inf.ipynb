{
 "cells": [
  {
   "cell_type": "markdown",
   "id": "feb68925",
   "metadata": {},
   "source": [
    "# Ejercicio en clases - Definir el Infinito\n",
    "\n",
    "En este cuaderno veremos como trabajar con el infinito en Python. \n",
    "```python\n",
    "\n",
    "## Defining a positive infinite integer\n",
    "positive_infinity = float('inf')\n",
    "print('Positive Infinity: ', positive_infinity)\n",
    " \n",
    "## Defining a negative infinite integer\n",
    "negative_infinity = float('-inf')\n",
    "print('Negative Infinity: ', negative_infinity)\n",
    "```\n",
    "\n",
    "## Considerando el ejemplo anterior, defina un conjunto infinito. "
   ]
  },
  {
   "cell_type": "markdown",
   "id": "80cd285f",
   "metadata": {},
   "source": []
  },
  {
   "cell_type": "code",
   "execution_count": null,
   "id": "b1e67f79",
   "metadata": {},
   "outputs": [],
   "source": []
  },
  {
   "cell_type": "code",
   "execution_count": null,
   "id": "cde9aadd",
   "metadata": {},
   "outputs": [],
   "source": []
  },
  {
   "cell_type": "code",
   "execution_count": null,
   "id": "50f314f5",
   "metadata": {},
   "outputs": [],
   "source": []
  },
  {
   "cell_type": "code",
   "execution_count": null,
   "id": "584a8784",
   "metadata": {},
   "outputs": [],
   "source": []
  },
  {
   "cell_type": "code",
   "execution_count": null,
   "id": "71f8741e",
   "metadata": {},
   "outputs": [],
   "source": []
  }
 ],
 "metadata": {
  "hide_input": false,
  "kernelspec": {
   "display_name": "Python 3 (ipykernel)",
   "language": "python",
   "name": "python3"
  },
  "language_info": {
   "codemirror_mode": {
    "name": "ipython",
    "version": 3
   },
   "file_extension": ".py",
   "mimetype": "text/x-python",
   "name": "python",
   "nbconvert_exporter": "python",
   "pygments_lexer": "ipython3",
   "version": "3.9.7"
  }
 },
 "nbformat": 4,
 "nbformat_minor": 5
}
