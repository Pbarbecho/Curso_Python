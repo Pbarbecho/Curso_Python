{
 "cells": [
  {
   "cell_type": "markdown",
   "id": "b663d595",
   "metadata": {},
   "source": [
    "# <center>Ejercicios Complementarios</center>"
   ]
  },
  {
   "cell_type": "markdown",
   "id": "6bae5ffa",
   "metadata": {},
   "source": [
    "# Cardinalidad de un conjunto con len().\n",
    "\n",
    "```python\n",
    "A = {2,4,6,8} \n",
    "print(f\"La cardinalidad del conjunto {A} es {len(A)}\"\n",
    "```"
   ]
  },
  {
   "cell_type": "code",
   "execution_count": null,
   "id": "2bcecb59",
   "metadata": {},
   "outputs": [],
   "source": []
  },
  {
   "cell_type": "markdown",
   "id": "928cc71c",
   "metadata": {},
   "source": [
    "# Pertenecia de un elemento \n",
    "\n",
    "IN nos permite verificar si un elemento pertenece a un conjunto. Retorna un valor booleano. \n",
    "\n",
    "```python\n",
    "2 in A  \n",
    "```"
   ]
  },
  {
   "cell_type": "code",
   "execution_count": null,
   "id": "835a1b7f",
   "metadata": {},
   "outputs": [],
   "source": []
  },
  {
   "cell_type": "markdown",
   "id": "9403160c",
   "metadata": {},
   "source": [
    "# Igualdad entre conjuntos. \n",
    "Nota: El orden de los elementos no importa.\n",
    "\n",
    "```python\n",
    "A = {1,2,3,4}\n",
    "B = {4,2,3,1}\n",
    "A == B \n",
    "```"
   ]
  },
  {
   "cell_type": "code",
   "execution_count": null,
   "id": "53f8404c",
   "metadata": {},
   "outputs": [],
   "source": []
  },
  {
   "cell_type": "markdown",
   "id": "443ee58b",
   "metadata": {},
   "source": [
    "# Subconjunto. \n",
    "\n",
    "```python\n",
    "A = {1,2,3}\n",
    "B = {1,2,3,4,5}\n",
    "A.issubset(B)\n",
    "```"
   ]
  },
  {
   "cell_type": "code",
   "execution_count": null,
   "id": "45632300",
   "metadata": {},
   "outputs": [],
   "source": []
  },
  {
   "cell_type": "markdown",
   "id": "f23cc28f",
   "metadata": {},
   "source": [
    "# Union de conjuntos\n",
    "\n",
    "```python\n",
    "A = {1,2,3,4,5}\n",
    "B = {4,5,6,7,8,9,10}\n",
    "A.union(B)\n",
    "```\n"
   ]
  },
  {
   "cell_type": "code",
   "execution_count": null,
   "id": "96722e72",
   "metadata": {},
   "outputs": [],
   "source": []
  },
  {
   "cell_type": "markdown",
   "id": "57c37742",
   "metadata": {},
   "source": [
    "# Intersección de conjuntos\n",
    "\n",
    "```python\n",
    "A = {1,2,3,4,5}\n",
    "B = {4,5,6,7,8,9,10}\n",
    "A.intersection(B)\n",
    "```"
   ]
  },
  {
   "cell_type": "code",
   "execution_count": 10,
   "id": "50223e6c",
   "metadata": {},
   "outputs": [
    {
     "data": {
      "text/plain": [
       "{4, 5}"
      ]
     },
     "execution_count": 10,
     "metadata": {},
     "output_type": "execute_result"
    }
   ],
   "source": []
  },
  {
   "cell_type": "markdown",
   "id": "143d2d0f",
   "metadata": {},
   "source": [
    "## Ejercicios:\n",
    "    \n",
    "1. Defina un conjunto cualquiera **A**. Verifique si la cardinalidad del conjunto es mayor o menor a un valor e.g. 5, e imprima en pantalla cada cada |A| > 5  imprima en pantalla |A| > 5 ó |A| < 5 \n",
    "1. Utilizando el mismo conjunto verifique la pertenencia de un elemento cualquiera ingresado por el teclado. Imprima en pantalla **Pertenece** o **No Pertenece**\n",
    "1. Defina un ejemplo para: \n",
    "\n",
    "- Pertenencia\n",
    "- Igualdad\n",
    "- Subconjunto \n",
    "- Unión\n",
    "- Intersección \n"
   ]
  },
  {
   "cell_type": "code",
   "execution_count": null,
   "id": "1eefc8b4",
   "metadata": {},
   "outputs": [],
   "source": []
  },
  {
   "cell_type": "code",
   "execution_count": null,
   "id": "6b3645c6",
   "metadata": {},
   "outputs": [],
   "source": []
  }
 ],
 "metadata": {
  "hide_input": false,
  "kernelspec": {
   "display_name": "Python 3 (ipykernel)",
   "language": "python",
   "name": "python3"
  },
  "language_info": {
   "codemirror_mode": {
    "name": "ipython",
    "version": 3
   },
   "file_extension": ".py",
   "mimetype": "text/x-python",
   "name": "python",
   "nbconvert_exporter": "python",
   "pygments_lexer": "ipython3",
   "version": "3.9.7"
  }
 },
 "nbformat": 4,
 "nbformat_minor": 5
}
