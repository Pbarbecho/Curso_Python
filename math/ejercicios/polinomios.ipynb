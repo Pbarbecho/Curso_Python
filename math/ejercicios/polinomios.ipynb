{
 "cells": [
  {
   "cell_type": "markdown",
   "id": "2c9513e6",
   "metadata": {},
   "source": [
    "# <center> Operaciones con Polinomios en Python </center> \n",
    "\n",
    "- Para realizar operaciones con polinomios en el lenguaje Python, utilizaremos la biblioteca SymPy de Python que nos permite trabajar con matemática simbólica. \n",
    "\n",
    "- La biblioteca SymPy es un sistema de álgebra computacional (CAS) que permite realizar operaciones con polinomios, matrices, derivadas, integrales, limites, resolver ecuaciones algebraicas, etc. \n",
    "\n",
    "- Referencia: https://www.sympy.org/en/index.html"
   ]
  },
  {
   "cell_type": "markdown",
   "id": "a1784c30",
   "metadata": {},
   "source": [
    "# Paso 1: Importamos las librerías necesarias:"
   ]
  },
  {
   "cell_type": "code",
   "execution_count": 2,
   "id": "4cd2e9d5",
   "metadata": {},
   "outputs": [],
   "source": [
    "import sympy   #Importamos Sympy"
   ]
  },
  {
   "cell_type": "markdown",
   "id": "15d3c1d2",
   "metadata": {},
   "source": [
    "# Paso 2: Definimos los simbolos (variables) que usaremos (x):"
   ]
  },
  {
   "cell_type": "code",
   "execution_count": 3,
   "id": "eb3cf40b",
   "metadata": {},
   "outputs": [],
   "source": [
    "sympy.init_printing()  # mejora la visualizacion de los polinomios\n",
    "x = sympy.symbols('x') # definimos los simbolos. La función symbols recibe como argumentos los símbolos como strings"
   ]
  },
  {
   "cell_type": "markdown",
   "id": "71e1eae5",
   "metadata": {},
   "source": [
    "# Paso 3: Ingresamos los polinomios como un string"
   ]
  },
  {
   "cell_type": "code",
   "execution_count": 4,
   "id": "3178443d",
   "metadata": {},
   "outputs": [
    {
     "name": "stdout",
     "output_type": "stream",
     "text": [
      "P(x)=\n",
      "Q(x)=\n"
     ]
    }
   ],
   "source": [
    "P = input(\"P(x)=\")\n",
    "Q = input(\"Q(x)=\")\n",
    "\n",
    "# Ejemplo de ingreso\n",
    "\n",
    "#P(x)=2*x**2 - x\n",
    "#Q(x)=-7*x + x**3 - 4\n"
   ]
  },
  {
   "cell_type": "markdown",
   "id": "beb072ea",
   "metadata": {},
   "source": [
    "# Paso 4: Convertimos los ingresos a polinomios "
   ]
  },
  {
   "cell_type": "code",
   "execution_count": 5,
   "id": "f9959719",
   "metadata": {},
   "outputs": [],
   "source": [
    "P1 = sympy.Poly(P)\n",
    "P2 = sympy.Poly(Q)"
   ]
  },
  {
   "cell_type": "markdown",
   "id": "12320c70",
   "metadata": {},
   "source": [
    "# Paso 5: Operaciones sobre los polinomios"
   ]
  },
  {
   "cell_type": "code",
   "execution_count": 6,
   "id": "413f4a2f",
   "metadata": {},
   "outputs": [],
   "source": [
    "suma = P1 + P2 # podemos imprimir el resultado ingresando suma en la siguiente celda"
   ]
  },
  {
   "cell_type": "code",
   "execution_count": null,
   "id": "b62b1c88",
   "metadata": {},
   "outputs": [],
   "source": []
  },
  {
   "cell_type": "markdown",
   "id": "be92c791",
   "metadata": {},
   "source": [
    "# Ejercicio Polinomios \n",
    "\n",
    "Cree un programa que lea 2 polinomios y permita realizar diferentes operaciones con los mismos. El programa debe realizar lo siguiente: \n",
    "\n",
    " - Imprime un menú con las siguientes opciones: \n",
    "\n",
    "    1. Suma\n",
    "    1. Resta\n",
    "    1. Multiplicación\n",
    "\n",
    "- Solicita al usuario que seleccione un opción.\n",
    "- Realiza la operación de polinomios correspondiente.\n",
    "- Muestra la expresión resultante."
   ]
  },
  {
   "cell_type": "code",
   "execution_count": null,
   "id": "079b8628",
   "metadata": {},
   "outputs": [],
   "source": []
  },
  {
   "cell_type": "code",
   "execution_count": null,
   "id": "2217ad36",
   "metadata": {},
   "outputs": [],
   "source": []
  },
  {
   "cell_type": "code",
   "execution_count": null,
   "id": "94b22f3d",
   "metadata": {},
   "outputs": [],
   "source": []
  }
 ],
 "metadata": {
  "hide_input": false,
  "kernelspec": {
   "display_name": "Python 3 (ipykernel)",
   "language": "python",
   "name": "python3"
  },
  "language_info": {
   "codemirror_mode": {
    "name": "ipython",
    "version": 3
   },
   "file_extension": ".py",
   "mimetype": "text/x-python",
   "name": "python",
   "nbconvert_exporter": "python",
   "pygments_lexer": "ipython3",
   "version": "3.9.7"
  }
 },
 "nbformat": 4,
 "nbformat_minor": 5
}
