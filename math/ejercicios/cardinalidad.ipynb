{
 "cells": [
  {
   "cell_type": "markdown",
   "id": "d8f6aab2",
   "metadata": {},
   "source": [
    "# Ejercicio Cardinalidad \n",
    "\n",
    "El estudiante debe dar dos ejemplos para cada definición de cardinalidad: \n",
    "\n",
    "1. Defina los conjuntos A y B, de acuerdo a la definición.\n",
    "1. Verifique la cardinalidad de cada conjunto. Puede utilizar la función len(A)\n",
    "1. Asigne el cardinal a una variable e.g. **card_a**. Por ejemplo (card_a = len(A))\n",
    "1. Utilizando el siguiente código de una sentencia if, verifique si su ejemplo propuesto cumple la definición: \n",
    "\n",
    "```python\n",
    "if card_a < card_b:\n",
    "    print('Cumple Definición ')\n",
    "else:\n",
    "    print('No Cumple Definición ')\n",
    "```\n"
   ]
  },
  {
   "cell_type": "markdown",
   "id": "3d637ece",
   "metadata": {},
   "source": [
    "# Definición 1: | A | = | B |"
   ]
  },
  {
   "cell_type": "code",
   "execution_count": 1,
   "id": "8c444cee",
   "metadata": {},
   "outputs": [],
   "source": []
  },
  {
   "cell_type": "code",
   "execution_count": 7,
   "id": "c2b823fc",
   "metadata": {},
   "outputs": [],
   "source": []
  },
  {
   "cell_type": "code",
   "execution_count": null,
   "id": "8cb29e0d",
   "metadata": {},
   "outputs": [],
   "source": []
  },
  {
   "cell_type": "markdown",
   "id": "2a3f9ae3",
   "metadata": {},
   "source": [
    "# Definición 2: | A | < | B |"
   ]
  },
  {
   "cell_type": "code",
   "execution_count": null,
   "id": "645c24e5",
   "metadata": {},
   "outputs": [],
   "source": []
  },
  {
   "cell_type": "code",
   "execution_count": null,
   "id": "c62d5043",
   "metadata": {},
   "outputs": [],
   "source": []
  },
  {
   "cell_type": "code",
   "execution_count": null,
   "id": "dc61f84d",
   "metadata": {},
   "outputs": [],
   "source": []
  },
  {
   "cell_type": "markdown",
   "id": "985d398f",
   "metadata": {},
   "source": [
    "# Definición 3: | A | > | B |"
   ]
  },
  {
   "cell_type": "code",
   "execution_count": null,
   "id": "3e7ff7c0",
   "metadata": {},
   "outputs": [],
   "source": []
  },
  {
   "cell_type": "code",
   "execution_count": null,
   "id": "b44ea52d",
   "metadata": {},
   "outputs": [],
   "source": []
  },
  {
   "cell_type": "code",
   "execution_count": null,
   "id": "ba8705b2",
   "metadata": {},
   "outputs": [],
   "source": []
  }
 ],
 "metadata": {
  "hide_input": false,
  "kernelspec": {
   "display_name": "Python 3 (ipykernel)",
   "language": "python",
   "name": "python3"
  },
  "language_info": {
   "codemirror_mode": {
    "name": "ipython",
    "version": 3
   },
   "file_extension": ".py",
   "mimetype": "text/x-python",
   "name": "python",
   "nbconvert_exporter": "python",
   "pygments_lexer": "ipython3",
   "version": "3.9.7"
  }
 },
 "nbformat": 4,
 "nbformat_minor": 5
}
