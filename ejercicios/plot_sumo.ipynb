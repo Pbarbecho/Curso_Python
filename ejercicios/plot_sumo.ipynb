{
 "cells": [
  {
   "cell_type": "code",
   "execution_count": 43,
   "id": "4ce263c5",
   "metadata": {},
   "outputs": [],
   "source": [
    "import os\n",
    "import pandas as pd\n",
    "import matplotlib.pyplot as plt\n"
   ]
  },
  {
   "cell_type": "markdown",
   "id": "897e06de-c60b-4ffa-a756-1a06c259f633",
   "metadata": {},
   "source": [
    "## Obtengo el path donde esta el archivo .csv"
   ]
  },
  {
   "cell_type": "code",
   "execution_count": 44,
   "id": "39daf2a8-d801-43e6-a4f9-047d1b25f40e",
   "metadata": {},
   "outputs": [
    {
     "name": "stdout",
     "output_type": "stream",
     "text": [
      "/home/jovyan/ejercicios\n"
     ]
    }
   ],
   "source": [
    "path_binder = os.system('pwd')"
   ]
  },
  {
   "cell_type": "markdown",
   "id": "fd40cb75-d136-4345-af15-05f81301d83e",
   "metadata": {},
   "source": [
    "## Leo el archivo y lo convierto en un dataframe de Python"
   ]
  },
  {
   "cell_type": "code",
   "execution_count": 45,
   "id": "68df823b-aa21-4a7a-a505-73808acff0cc",
   "metadata": {},
   "outputs": [],
   "source": [
    "local_path = '/home/jovyan/ejercicios'\n",
    "file_name =  'tripinfo_csv.xml.csv'\n",
    "\n",
    "\n",
    "file_csv = os.path.join(local_path, file_name)\n",
    "file_dataframe = pd.read_csv(file_csv)"
   ]
  },
  {
   "cell_type": "code",
   "execution_count": 46,
   "id": "5a0cc059-8d2a-46c7-a94e-3b37d4de6b7a",
   "metadata": {},
   "outputs": [
    {
     "name": "stdout",
     "output_type": "stream",
     "text": [
      "   tripinfo_arrival tripinfo_arrivalLane  tripinfo_arrivalPos  \\\n",
      "0              41.0        337277981#1_1                41.77   \n",
      "1              72.0        337277984#0_0                99.91   \n",
      "2              93.0        554582106#5_0                 0.20   \n",
      "\n",
      "   tripinfo_arrivalSpeed  tripinfo_depart  tripinfo_departDelay  \\\n",
      "0                   7.53              6.0                   0.0   \n",
      "1                   8.02              1.0                   0.0   \n",
      "2                   6.34             35.0                   0.0   \n",
      "\n",
      "  tripinfo_departLane  tripinfo_departPos  tripinfo_departSpeed  \\\n",
      "0       337277951#1_0                 5.1                   0.0   \n",
      "1       351440624#6_0                 5.1                   0.0   \n",
      "2       337277984#3_0                 5.1                   0.0   \n",
      "\n",
      "         tripinfo_devices  ...  tripinfo_id  tripinfo_rerouteNo  \\\n",
      "0    tripinfo_6 routing_6  ...            6                   1   \n",
      "1    tripinfo_1 routing_1  ...            1                   1   \n",
      "2  tripinfo_35 routing_35  ...           35                   1   \n",
      "\n",
      "   tripinfo_routeLength  tripinfo_speedFactor  tripinfo_stopTime  \\\n",
      "0                218.74                  0.95                0.0   \n",
      "1                526.03                  1.05                0.0   \n",
      "2                219.33                  1.13                0.0   \n",
      "\n",
      "   tripinfo_timeLoss   tripinfo_vType tripinfo_vaporized  \\\n",
      "0               6.32  DEFAULT_VEHTYPE                NaN   \n",
      "1              12.87  DEFAULT_VEHTYPE                NaN   \n",
      "2              34.20  DEFAULT_VEHTYPE                NaN   \n",
      "\n",
      "   tripinfo_waitingCount  tripinfo_waitingTime  \n",
      "0                      0                   0.0  \n",
      "1                      1                   3.0  \n",
      "2                      1                  26.0  \n",
      "\n",
      "[3 rows x 21 columns]\n"
     ]
    }
   ],
   "source": [
    "print(file_dataframe)"
   ]
  },
  {
   "cell_type": "markdown",
   "id": "df29e9ec-94a1-47e7-aca3-5417ef13acfd",
   "metadata": {},
   "source": [
    "## Obtengo valor medio y standar deviation de la métrica deseada "
   ]
  },
  {
   "cell_type": "code",
   "execution_count": 49,
   "id": "be635637-624b-43ca-b9e3-c36b5f4bf783",
   "metadata": {},
   "outputs": [],
   "source": [
    "metric = 'tripinfo_routeLength'\n",
    "mean_value = file_dataframe[metric].mean()\n",
    "std_value = file_dataframe[metric].std()\n"
   ]
  },
  {
   "cell_type": "markdown",
   "id": "4de79503-ccfe-4249-b206-e09fa4866290",
   "metadata": {},
   "source": [
    "## Plotteo el resultado"
   ]
  },
  {
   "cell_type": "code",
   "execution_count": 50,
   "id": "e1af7533-2b12-45fd-98ec-8ac690c08d25",
   "metadata": {},
   "outputs": [
    {
     "data": {
      "image/png": "[encoded data removed]",
      "text/plain": [
       "<Figure size 640x480 with 1 Axes>"
      ]
     },
     "metadata": {},
     "output_type": "display_data"
    }
   ],
   "source": [
    "plt.bar(1,mean_value, yerr=std_value,  capsize=10, hatch='//', align='center', alpha=0.5)\n",
    "plt.ylabel('SUMO Statistics')\n",
    "plt.xticks([1])\n",
    "plt.title('Something')\n",
    "plt.show()"
   ]
  },
  {
   "cell_type": "code",
   "execution_count": null,
   "id": "6e63c1ad-dae1-44af-a507-c8575c27e974",
   "metadata": {},
   "outputs": [],
   "source": []
  }
 ],
 "metadata": {
  "kernelspec": {
   "display_name": "Python 3 (ipykernel)",
   "language": "python",
   "name": "python3"
  },
  "language_info": {
   "codemirror_mode": {
    "name": "ipython",
    "version": 3
   },
   "file_extension": ".py",
   "mimetype": "text/x-python",
   "name": "python",
   "nbconvert_exporter": "python",
   "pygments_lexer": "ipython3",
   "version": "3.10.9"
  }
 },
 "nbformat": 4,
 "nbformat_minor": 5
}
