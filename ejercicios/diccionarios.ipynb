{
 "cells": [
  {
   "cell_type": "markdown",
   "id": "0d3288b1",
   "metadata": {},
   "source": [
    "# <center> Diccionarios </center> \n",
    "<center>  <img src=\"images/logo.png\" alt=\"Drawing\" style=\"width: 200px;\"/> </center> \n",
    "\n",
    "# <center> Aprendizaje Interactivo </center> \n",
    "\n",
    "En este cuaderno aprenderemos sobre las estructuras denominadas diccionarios. Veremos como organizar el código en piezas más pequeñas que hagan tareas independientes y combinarlas entre sí mediante la difinición de funciones y por último veremos como realizar tareas básicas en el manejo de archivos de texto. \n",
    "\n",
    "**Objetivos**:\n",
    "\n",
    "- Entender la sintaxis de las estructuras diccionarios.\n",
    "- Conocer diferentes operaciones con diccionarios.\n",
    "\n",
    "\n",
    "## Referencias\n",
    "\n",
    " * The Python Language Reference: https://docs.python.org/3/reference/index.html\n",
    " * The Python Standard Library: https://docs.python.org/3/library/index.html\n",
    " * IBM Jupyter notebooks cheatsheet https://www.ibm.com/docs/en/db2-event-store/2.0.0?topic=notebooks-markdown-jupyter-cheatsheet   \n",
    " \n",
    "***"
   ]
  },
  {
   "cell_type": "markdown",
   "id": "993225aa",
   "metadata": {},
   "source": [
    "# <center> Diccionarios en Python </center>\n",
    "\n",
    "Es una estructura de datos y un tipo de dato en Python con características especiales que nos permite almacenar cualquier tipo de valor como enteros, cadenas, listas e incluso otras funciones. La principal ventaja de usar diccionarios es su tiempo de búsqueda. Para buscar en las listas, se utiliza un algoritmo de comparación que tarda cada vez más a medida que la lista se hace más larga. En cambio, para buscar en diccionarios se utiliza un algoritmo tipo hash, que se basa en realizar un cálculo numérico sobre la clave del elemento.\n",
    "\n",
    "<div class=\"alert alert-warning\">Independiente del número de elementos del diccionario, el tiempo de búsqueda es aproximadamente igual.</div>\n",
    "\n",
    "\n",
    "\n",
    "Estos diccionarios nos permiten además identificar cada elemento por una **clave (Key)**. Para definir un diccionario, se encierra el listado de valores entre llaves `{}`. Las parejas de clave y valor se separan con comas, y la clave y el valor se separan con dos puntos.\n",
    "\n",
    "Vemoas unos ejemplos: \n",
    "\n",
    "```python\n",
    "diccionario = {'C1':1, 'C2':2, 'C3':3}\n",
    "diccionario = {'C1':1, 'C2':[2,3,4], 'C3':'Hola mundo'}\n",
    "diccionario = {1:1, 2:2, 3:3}\n",
    "```\n",
    "\n",
    "Otra forma de crear un diccionario es utilizando el constructor `dict()`. En este caso, a cada key se le asigna su valor utilizando `=`.\n",
    "\n",
    "```python\n",
    "diccionario = dict(C1=1, C2=2, C3=3)\n",
    "```\n",
    "\n",
    "\n",
    "\n",
    "## Agregando parejas  {clave:valor}\n",
    "\n",
    "\n",
    "```python\n",
    "diccionario = {'C1':1, 'C2':2, 'C3':3}\n",
    "diccionario['C4'] = 4 # agregamos la clave C4 con el valor 4\n",
    "```\n",
    "\n",
    "## Diccionario Vacío \n",
    "\n",
    "Resulta de utilidad cuando queremos llenarlo en otro momento, como dentro de un bucle for o en función de un condicional if. \n",
    "\n",
    "```python\n",
    "diccionario = {}\n",
    "```\n"
   ]
  },
  {
   "cell_type": "code",
   "execution_count": null,
   "id": "694a7495",
   "metadata": {},
   "outputs": [],
   "source": []
  },
  {
   "cell_type": "code",
   "execution_count": null,
   "id": "8cf371da",
   "metadata": {},
   "outputs": [],
   "source": []
  },
  {
   "cell_type": "markdown",
   "id": "63f5603f",
   "metadata": {},
   "source": [
    "# Operaciones con diccionarios\n",
    "\n",
    "***\n",
    "\n",
    "## Búsqueda en diccionarios:\n",
    "\n",
    "\n",
    "**Ejemplo:**\n",
    "\n",
    "```python\n",
    "diccionario = {'C1':1, 'C2':2, 'C3':3}\n",
    "diccionario['C2'] # devuelve el valor de la clave 'C2', es decir 2 \n",
    "```\n",
    "\n",
    "**Ejemplo:**\n",
    "\n",
    "```python\n",
    "diccionario = {'C1':1, 'C2':2, 'C3':3}\n",
    "'C4' in diccionario # devuelve el valor True o False si la clave se encuentra definida en el diccionario. \n",
    "```\n",
    "\n",
    "<div class=\"alert alert-info\">En las siguientes celdas de código podemos probar el ejercicio propuesto:</div>"
   ]
  },
  {
   "cell_type": "code",
   "execution_count": 40,
   "id": "ed53d9a1",
   "metadata": {},
   "outputs": [],
   "source": []
  },
  {
   "cell_type": "code",
   "execution_count": 41,
   "id": "b6fe163d",
   "metadata": {},
   "outputs": [
    {
     "data": {
      "text/plain": [
       "{1: 1, 2: 2}"
      ]
     },
     "execution_count": 41,
     "metadata": {},
     "output_type": "execute_result"
    }
   ],
   "source": []
  },
  {
   "cell_type": "markdown",
   "id": "0cbd7983",
   "metadata": {},
   "source": [
    "## Iterando sobre diccionarios:\n",
    "\n",
    "**Ejemplo:**\n",
    "\n",
    "```python\n",
    "diccionario = {'C1':1, 'C2':2, 'C3':3}\n",
    "for clave in diccionario:\n",
    "    print(clave)\n",
    "```\n",
    "\n",
    "**Ejemplo:**\n",
    "\n",
    "```python\n",
    "diccionario = {'C1':1, 'C2':2, 'C3':3}\n",
    "for clave in diccionario:\n",
    "    valor = diccionario[clave]\n",
    "    print(valor)\n",
    "```\n",
    "\n",
    "\n",
    "**Ejemplo:**\n",
    "\n",
    "```python\n",
    "diccionario = {'C1':1, 'C2':2, 'C3':3}\n",
    "print(diccionario.items()) # método items() devuelve una lista de tuplas con el par clave-valor\n",
    "for clave,valor in diccionario.items():\n",
    "    print(clave,valor)\n",
    "```"
   ]
  },
  {
   "cell_type": "code",
   "execution_count": null,
   "id": "4df8cd5d",
   "metadata": {},
   "outputs": [],
   "source": []
  },
  {
   "cell_type": "code",
   "execution_count": null,
   "id": "7c9755aa",
   "metadata": {},
   "outputs": [],
   "source": []
  },
  {
   "cell_type": "markdown",
   "id": "a54d6804",
   "metadata": {},
   "source": [
    "## Obtener los valores de un diccionario\n",
    "\n",
    "Con el método `values()`podemos obtener todos los valores que tiene un diccionario:\n",
    "\n",
    "**Ejemplo:**\n",
    "\n",
    "```python\n",
    "diccionario = {'C1':1, 'C2':2, 'C3':3}\n",
    "diccionario.values()\n",
    "```\n",
    "\n",
    "Con el método `get()`podemos obtener los valores que tiene una clave de un diccionario:\n",
    "\n",
    "**Ejemplo:**\n",
    "\n",
    "```python\n",
    "diccionario = {'C1':1, 'C2':2, 'C3':3}\n",
    "diccionario.get('C1')\n",
    "```\n",
    "En el caso que no exista la clave, se devuelve un `None`\n",
    "\n"
   ]
  },
  {
   "cell_type": "code",
   "execution_count": null,
   "id": "6f492c24",
   "metadata": {},
   "outputs": [],
   "source": []
  },
  {
   "cell_type": "code",
   "execution_count": null,
   "id": "c470c518",
   "metadata": {},
   "outputs": [],
   "source": []
  },
  {
   "cell_type": "markdown",
   "id": "64cda016",
   "metadata": {},
   "source": [
    "# Ejercicio 1: Diccionarios\n",
    "\n",
    "Cree un diccionario de notas. Para esto utilice los diccionarios de Python para guardar las calificaciones de 1 alumno. Debe solicitar el nombre del alumno, el nombre de la asignatura y la calificación obtenida.  \n",
    "\n",
    "<div class=\"alert alert-info\">En las siguientes celdas de código podemos probar el ejercicio propuesto:</div>"
   ]
  },
  {
   "cell_type": "code",
   "execution_count": 54,
   "id": "b3f45553",
   "metadata": {},
   "outputs": [],
   "source": [
    "diccionario = {'C1':1, 'C2':2, 'C3':3}\n",
    "diccionario.get('C4')"
   ]
  },
  {
   "cell_type": "code",
   "execution_count": 53,
   "id": "2eebbe16",
   "metadata": {},
   "outputs": [
    {
     "name": "stdout",
     "output_type": "stream",
     "text": [
      "<class 'NoneType'>\n"
     ]
    }
   ],
   "source": []
  },
  {
   "cell_type": "markdown",
   "id": "e5748832",
   "metadata": {},
   "source": [
    "# Ejercicio 2: Diccionarios - Bucle For\n",
    "\n",
    "Cree un diccionario de notas. Para esto utilice los diccionarios de Python para guardar las calificaciones de **N** alumnos. \n",
    "\n",
    "- Primero debe solicitar el numero de alumnos, es decir **N** \n",
    "- Segundo, debe solicitar el nombre del alumno, el nombre de la asignatura y la calificación obtenida.  \n",
    "- Tercero, debemos guardar la información en un diccionario\n",
    "- Utilice el diccionario para consultar y filtrar información\n",
    "\n",
    "<div class=\"alert alert-info\">En las siguientes celdas de código podemos probar el ejercicio propuesto:</div>"
   ]
  },
  {
   "cell_type": "code",
   "execution_count": null,
   "id": "543290c0",
   "metadata": {},
   "outputs": [],
   "source": []
  },
  {
   "cell_type": "code",
   "execution_count": null,
   "id": "ee4e6991",
   "metadata": {},
   "outputs": [],
   "source": []
  },
  {
   "cell_type": "markdown",
   "id": "0eeed832",
   "metadata": {},
   "source": [
    "# Ejercicio 3: Diccionarios - Concional IF\n",
    "\n",
    "Escribir un programa que guarde en un diccionario los precios de las frutas de la tabla en la figura.\n",
    "\n",
    "| Fruta | Precio|\n",
    "|:-|:-:|\n",
    "|Plátano | 1.35 |\n",
    "|Manzana | 0.80|\n",
    "|Pera| 0.85|\n",
    "|Naranja | 0.70|\n",
    "\n",
    "\n",
    "- Primero, pregunte al usuario por una fruta\n",
    "- Segudo, pregunte un número de kilos \n",
    "- Tercero, muestre por pantalla el precio correspondiente al número de kilos de la fruta ingresada. \n",
    "\n",
    "<div class=\"alert alert-warning\">Si la fruta no está en el diccionario debe mostrar un mensaje informando de ello.</div>\n",
    "\n",
    "<div class=\"alert alert-info\">En las siguientes celdas de código podemos probar el ejercicio propuesto:</div>"
   ]
  },
  {
   "cell_type": "code",
   "execution_count": null,
   "id": "0f4f678b",
   "metadata": {},
   "outputs": [],
   "source": []
  },
  {
   "cell_type": "code",
   "execution_count": null,
   "id": "d24629d4",
   "metadata": {},
   "outputs": [],
   "source": []
  },
  {
   "cell_type": "markdown",
   "id": "523c22ca",
   "metadata": {},
   "source": [
    "# Ejercicio 4: Diccionarios - Bucle While\n",
    "\n",
    "Escribir un programa que cree un diccionario vacío y lo vaya llenado con información sobre una persona (por ejemplo nombre, edad, sexo, teléfono, correo electrónico, etc.) que se le pida al usuario. \n",
    "Cada vez que se añada un nuevo dato debe imprimirse el contenido del diccionario.\n",
    "\n",
    "<div class=\"alert alert-info\">En las siguientes celdas de código podemos probar el ejercicio propuesto:</div>"
   ]
  },
  {
   "cell_type": "code",
   "execution_count": null,
   "id": "d17b62ce",
   "metadata": {},
   "outputs": [],
   "source": []
  },
  {
   "cell_type": "code",
   "execution_count": null,
   "id": "1d8bd451",
   "metadata": {},
   "outputs": [],
   "source": []
  },
  {
   "cell_type": "markdown",
   "id": "d2ebdde2",
   "metadata": {},
   "source": [
    "***\n",
    "# <center>Ejercicios Propuestos</center>\n",
    "***\n",
    "\n",
    "## Objetivos\n",
    "\n",
    "Familiarizar al estudiante con:\n",
    "\n",
    "- Utilizar los diccionarios de Python\n",
    "- Utilizar la sentencia if-else para ramificar la ruta de control.\n",
    "\n",
    "\n",
    "\n",
    "# Enunciado del Problema E1: \n",
    "\n",
    "Escribir un programa que cree un diccionario simulando una cesta de la compra. El programa debe preguntar el artículo y su precio y añadir el par `{artículo:precio}` al diccionario, hasta que el usuario decida terminar. \n",
    "\n",
    "Por último, se debe mostrar por pantalla la lista de la compra y el coste total, con el siguiente formato:\n",
    "\n",
    "\n",
    "|Lista de la compra| |\n",
    "|:-|-:|\n",
    "|Artículo 1 | Precio|\n",
    "|Artículo 2 | Precio|\n",
    "|Artículo 3 | Precio|\n",
    "|...| ...|\n",
    "|Total| Coste|"
   ]
  },
  {
   "cell_type": "code",
   "execution_count": null,
   "id": "95e2dada",
   "metadata": {},
   "outputs": [],
   "source": []
  }
 ],
 "metadata": {
  "hide_input": false,
  "kernelspec": {
   "display_name": "Python 3 (ipykernel)",
   "language": "python",
   "name": "python3"
  },
  "language_info": {
   "codemirror_mode": {
    "name": "ipython",
    "version": 3
   },
   "file_extension": ".py",
   "mimetype": "text/x-python",
   "name": "python",
   "nbconvert_exporter": "python",
   "pygments_lexer": "ipython3",
   "version": "3.9.7"
  }
 },
 "nbformat": 4,
 "nbformat_minor": 5
}
