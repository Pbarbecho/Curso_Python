{
 "cells": [
  {
   "cell_type": "markdown",
   "id": "995a3e1c",
   "metadata": {
    "deletable": false,
    "editable": false,
    "hide_input": true,
    "run_control": {
     "frozen": true
    }
   },
   "source": [
    "# <center> Introducción a los cuadernos de Jupyter </center> \n",
    "<center>  <img src=\"images/logo.png\" alt=\"Drawing\" style=\"width: 200px;\"/> </center> \n",
    "\n",
    "# <center> Aprendizaje Interactivo </center> \n",
    "    \n",
    "<div style=\"text-align: justify\"> A lo largo del presente cuaderno veremos las características generales de la interfaz Jupyter Notebook. En este marco, hemos propuesto Jupyter Notebook para el diseño de seminarios interactivos, constituyendo una nueva herramienta docente utilizable en el aula y puesta a disposición a través del Campus Virtual. Destacamos que en esta plataforma de cálculo simbólico y numérico, las líneas de texto explicativo, las líneas de comandos y la representación gráfica coexisten en el mismo entorno, facilitando así que los estudiantes puedan ejecutar código de una manera interactiva.</div><br>\n",
    "    \n",
    "    \n",
    "<div style=\"text-align: justify\">Detallamos ahora los aspectos del apredizaje que son potenciados por los seminarios\n",
    "interactivos desarrollados con Jupyter Notebook y los beneficios que este tipo de\n",
    "aprendizaje conlleva para los estudiantes:<br>\n",
    "            \n",
    "<ol>\n",
    "  <li>Favorecen el aprendizaje autónomo de los estudiantes a diferentes niveles de\n",
    "complejidad según los intereses y las necesidades de cada alumno.</li>\n",
    "  \n",
    "  <li>Facilitan el proceso activo de adquisición de competencias en el cálculo numérico.</li>\n",
    "    \n",
    "   <li> Promueven el conocimiento y aprendizaje de nuevos lenguajes de programación basados en software libre que no conllevan coste económico y que utilizan formatos estándar. Es decir, pueden ser fácilmente utilizados por otras personas y exportados con mayor facilidad.</li>\n",
    " \n",
    "</ol>\n",
    "</div>\n",
    "    \n",
    "## Objetivos:\n",
    "\n",
    "- Conocer el entorno de trabajo de Python \n",
    "- Conocer los beneficios de trabajar con Juputer Notebooks     \n",
    "- Conocer como introducir y ejecutar código Python en Juputer Notebooks\n",
    "- Aprender como ejecutar un script de Python (.py) en Juputer Notebooks\n",
    "    \n",
    "## Referencias\n",
    "\n",
    " * The Python Language Reference: https://docs.python.org/3/reference/index.html\n",
    " * The Python Standard Library: https://docs.python.org/3/library/index.html\n",
    " * Jupyter {Book}: https://jupyterbook.org/en/stable/intro.html\n",
    " * IBM Jupyter notebooks cheatsheet https://www.ibm.com/docs/en/db2-event-store/2.0.0?topic=notebooks-markdown-jupyter-cheatsheet  "
   ]
  },
  {
   "cell_type": "markdown",
   "id": "b3722daa",
   "metadata": {
    "deletable": false,
    "editable": false,
    "hide_input": true,
    "run_control": {
     "frozen": true
    }
   },
   "source": [
    "# Jupyter Notebooks\n",
    "\n",
    "<br>\n",
    "<div style=\"text-align: justify\">Jupyter Notebook es una interfaz web de código abierto que permite la inclusión de texto, video, audio, imágenes así como la ejecución de código a través del navegador en múltiples lenguajes. Esta ejecución se realiza mediante la comunicación con un\n",
    "núcleo (Kernel) de cálculo. El proyecto Jupyter pretende generar una plataforma computacional que permita utilizar diferentes lenguajes (su nombre proviene de unir los 3 lenguajes quizás más populares en cálculo científico: Julia, Python y R).</div><br>\n",
    "\n",
    "<div style=\"text-align: justify\">Con los cuadernos de Jupyter, el instructor puede hacer uso de un servidor externo (o su propio ordenador) para proporcionar a los estudiantes un aprendizaje interactivo. Esta característica permite eliminar una de las grandes barreras de acceso que se presentan al incluir un nuevo tipo de programa, como es su instalación en el equipo personal del estudiante. Utilizando este tipo de documentos se pueden generar lecciones o material de apoyo al estudio individual ricos en contenido, así como material de trabajo colaborativo que incluya elementos de cálculo numérico.</div><br>\n",
    "\n",
    "<div style=\"text-align: justify\">Durante el curso de Introducción a Python, utilizaremos los cuadernos de Jupyer junto con el proyecto Binder, el cuál ofrece un lugar fácil para compartir entornos informáticos para todos, sin la necesidad de instalar software alguno. En este sentido, los estudiantes cuentan con dos opciones para ejecutar código durante el curso: \n",
    "    \n",
    "<br>\n",
    "\n",
    "- **Servidor Local**: Utilizar Anaconda para ejecutar Jupyter Notebooks. Requiere instalar Python y Anaconda. Hemos preparado un video instruccional de instalación en el aula virtual. \n",
    "  \n",
    "- **Servidor Externo**: Utilizar los enlaces de GitHub/Binder para acceder a los Jupyter Notebooks. Sin la necesidad de tener instalado ningún software adicional, el estudiante puede seguir los ejercicios y prácticas de cada Módulo.\n",
    "\n",
    "</div> "
   ]
  },
  {
   "cell_type": "markdown",
   "id": "08e8a570-59aa-4bf1-91ac-d968883fb5e6",
   "metadata": {
    "deletable": false,
    "hide_input": true,
    "run_control": {
     "frozen": true
    }
   },
   "source": [
    "# Instrucciones de Uso: Jupyter Notebooks\n",
    "\n",
    "Antes de comenzar con los cuadernos de Jupyter, se recomienda ver el video [Aprenda Jupyter Notebook en 10 minutos](https://youtu.be/Xws9V34-CFo), donde podrá conocer atajos y comandos generales de Jupyter Notebooks.\n",
    "Durante el curso podrás ingresar código Python con el objetivo de cumplir las tarea propuestas en los diferentes Módulos. De manera general, para utilizar los cuadernos de Jupyter:\n",
    "\n",
    "- Tenemos dos modos: Modo Comandos / Modo Edición. Pulsando **`Esc`** nos encontramos en el modo comandos donde podemos navegar con las teclas arriba y abajo en el cuaderno. Con **`Enter`** entramos al modo edición. Para volver al modo comandos pulsamos **`Esc`**.\n",
    "- Para agregar celdas, en el **modo comando** pulsamos **`A`** o **`B`**.\n",
    "- Para borrar celdas, en el **modo comando** pulsamos **`D + D`** o dos veces D.\n",
    "- Para ver atajos a los comandos podemos pulsar **`Cmd + Shift + P`** en Mac o **`Ctrl + Shift + P`** en windows o linux.\n",
    "- Para ejecutar el código de una línea en particular, con el ratón sitúese en la línea y pulse **`Shift + Enter`**."
   ]
  },
  {
   "cell_type": "markdown",
   "id": "108f0cd6",
   "metadata": {
    "deletable": false,
    "editable": false,
    "hide_input": true,
    "run_control": {
     "frozen": true
    }
   },
   "source": [
    "# Introducción a Python\n",
    "\n",
    "Una vez familiarizados con el entorno de Jupyter Noterbooks, revisaremos el lenguaje de programación Python. Python, es un lenguaje de programación dinámico, interpretado y fácil de aprender y enseñar. Fué creado por Guido van Rossum en 1991 y es ampliamente utilizado en ciencia, ingeniería, estadística entre otros ámbitos. Una de las grandes fortalezas de Python es que cuenta con multitud de bibliotecas para realizar diferentes tareas.\n",
    "     \n",
    " \n",
    "# Ejercicio 1: El Zen de Python\n",
    "\n",
    "El Zen de Python es una colección de 20 principios de software que influyen en el diseño del Lenguaje de Programación Python, de los cuales 19 fueron escritos por Tim Peters en junio de 1999. **Para ver el Zen de Python podemos ejecutar la instrucción en la siguiente celda:**\n",
    "\n",
    "```python\n",
    "import this\n",
    "```\n",
    "<div class=\"alert alert-info\">En las siguientes celdas de código podemos probar lo comentado:</div>"
   ]
  },
  {
   "cell_type": "code",
   "execution_count": null,
   "id": "f94f8746",
   "metadata": {},
   "outputs": [],
   "source": []
  },
  {
   "cell_type": "markdown",
   "id": "ff79f01b",
   "metadata": {
    "deletable": false,
    "editable": false,
    "hide_input": true,
    "run_control": {
     "frozen": true
    }
   },
   "source": [
    "# Ejercicio 2: Ejecutando scripts de Python (.py)\n",
    "\n",
    "Comencemos por mostrar como se ve un programa en Python. Para esto mostramos el contenido del programa denominado **'programa.py'** ubicado en la carpeta 'scripts'. Para esto utilizaremos el comando cat, que es un comando de la línea de comandos de Linux, no propio de Python, que nos permite mostrar el contenido de un archivo, en nuestro caso el contenido de nuestro script **programa.py**. Anteponiendo `!`, podemos ejecutar comandos de una terminal como `cd`, `ls`, `cat`, `pwd`, entre otros. \n",
    "\n",
    "**Ejecutemos la sentencia en la siguiente celda:**\n",
    "\n",
    "```python\n",
    "!cat scripts/primer_programa.py\n",
    "```\n",
    "\n",
    "Si utiliza el sistema operativo **Windows** es probable que  deba ejecutar !type scripts\\primer_programa.py\n",
    "\n",
    " <div class=\"alert alert-info\">En las siguientes celdas de código podemos probar lo comentado:</div>"
   ]
  },
  {
   "cell_type": "code",
   "execution_count": null,
   "id": "ce59ad59",
   "metadata": {},
   "outputs": [],
   "source": []
  },
  {
   "cell_type": "markdown",
   "id": "ec185e60",
   "metadata": {
    "deletable": false,
    "editable": false,
    "hide_input": true,
    "run_control": {
     "frozen": true
    }
   },
   "source": [
    "Ahora ejecutemos el script **programa.py**, para ver su resultado en la consola de Jupyter. Para ésto, utilizaremos el comando `%run`, que nos permite ejecutar un script dentro de la consola de Juputer. Si quieres hacerlo desde una línea de comandos podrías hacer: `$ python3 scripts/primer_programa.py`.\n",
    "\n",
    "**Ejecutemos la sentencia en la siguiente celda:**\n",
    "```python\n",
    "%run scripts/primer_programa.py\n",
    "```\n",
    "\n",
    "<div class=\"alert alert-info\">En las siguientes celdas de código podemos probar lo comentado:</div>"
   ]
  },
  {
   "cell_type": "code",
   "execution_count": null,
   "id": "f0a9d80f",
   "metadata": {},
   "outputs": [],
   "source": []
  },
  {
   "cell_type": "markdown",
   "id": "068ae369",
   "metadata": {
    "deletable": false,
    "editable": false,
    "hide_input": true,
    "run_control": {
     "frozen": true
    }
   },
   "source": [
    "# Ejercicio 3: Mi primer programa\n",
    "<a id='mi_primer_programa'></a>\n",
    "En este ejercicio, comenzaremos a trabajar con los cuadernos de Jupyter y código Python. Utilizaremos dos funciones con las que podemos comenzar con Python. \n",
    "\n",
    "<div class=\"alert alert-warning\">La <strong>función <code>print()</code></strong> es la que se usa para imprimir resultados por pantalla. Por si lo ves en algún sitio, en Python 2 era una sentencia y funcionaba de manera distinta, sin paréntesis y sin posibilidad de pasar argumentos adicionales.</div>\n",
    "\n",
    "\n",
    "```python\n",
    "print(\"Hola Bienvenidos\")\n",
    "```\n",
    "<div class=\"alert alert-warning\">La <strong>función <code>input()</code></strong> Esta función nos permite leer un conjunto de caractes desde el teclado del usuario.</div>\n",
    "\n",
    "```python\n",
    "teclado = input()\n",
    "```\n",
    "\n",
    "\n",
    "Creemos un programa que a manera de presentación imprima en pantalla nuestros datos personales: \n",
    "\n",
    "1. Imprimir nuestro nombre: **Nombre y Apellido**\n",
    "2. Imprimir la ciudad y el país donde vivimos: **Cuenca, Ecuador**\n",
    "3. Utilizando la sintaxis **`\\n`** que nos sirven como salto de línea, y **`\\t`** que nos perminte tabular el texto; prueba a ingresar nuevamente tus datos de manera que tengamos el texto en diferentes líneas y tabulado:\n",
    "\n",
    "**Ejemplo:**\n",
    "\n",
    "```python\n",
    "    print(\"1. Mi nombre es: Pablo Barbecho\")\n",
    "    print(\"2. Vivo en: Cuenca - Ecuador\")\n",
    "    print(\"3. Mi nombre es: Pablo Barbecho/n/tVivo en: Cuenca - Ecuador\")\n",
    "```\n",
    "\n",
    "Creemos un programa nos pida nuestros datos personales para luego imprimir los datos leídos del teclado: \n",
    "\n",
    "**Ejemplo:**\n",
    "\n",
    "```python\n",
    "    nombre = input('Cual es su nombre: ')\n",
    "    print('Hola mucho gusto', nombre, '!')\n",
    "```\n",
    "\n",
    "<div class=\"alert alert-info\">En las siguientes celdas de código podemos probar lo comentado:</div>"
   ]
  },
  {
   "cell_type": "code",
   "execution_count": null,
   "id": "757d7932-1bdb-4387-b86c-62f7717d578b",
   "metadata": {},
   "outputs": [],
   "source": []
  },
  {
   "cell_type": "code",
   "execution_count": null,
   "id": "71a7eff3",
   "metadata": {},
   "outputs": [],
   "source": []
  },
  {
   "cell_type": "markdown",
   "id": "939e56ea",
   "metadata": {
    "deletable": false,
    "editable": false,
    "hide_input": true,
    "run_control": {
     "frozen": true
    }
   },
   "source": [
    "***\n",
    "# Guardando y compartiendo cudernos de Jupyter \n",
    "\n",
    "Para guardar un cuaderno de Jupyter en nuestro entorno, lo podemos realizar de la siguiente manera: \n",
    "\n",
    "- Una vez modificada las celdas de código, podemos guardar el cuaderno de Jupyter en el menú `File->Save Notebook`. Se nos solicitará el nombre con el cual guardar el cuaderno. \n",
    "\n",
    "<img src=\"images/savenotebook.png\" alt=\"Drawing\" style=\"width: 200px;\"/>\n",
    "\n",
    "- Una vez guardado el cuaderno de Jupyter podemos descargarlo, pulsando el boton `Download` en la barra de herramientas. \n",
    "\n",
    "<img src=\"images/downloadnotebook.png\" alt=\"Drawing\" style=\"width: 600px;\"/>\n",
    "\n",
    "***"
   ]
  },
  {
   "cell_type": "markdown",
   "id": "fcc4c1ea",
   "metadata": {
    "deletable": false,
    "editable": false,
    "hide_input": true,
    "run_control": {
     "frozen": true
    }
   },
   "source": [
    "\n",
    "# Que podemos hacer con Python?\n",
    "\n",
    "\n",
    "# 1. Plots Profesionales\n",
    "\n",
    "Matplotlib es una biblioteca para la generación de gráficos a partir de datos contenidos en listas o arrays en el lenguaje de programación Python y su extensión matemática NumPy. Proporciona una API, pylab, diseñada para recordar a la de MATLAB. Seaborn es una biblioteca de visualización de datos de Python basada en matplotlib. Proporciona una interfaz de alto nivel para dibujar gráficos estadísticos atractivos e informativos.\n",
    "\n",
    "\n",
    "\n",
    "<div class=\"alert alert-warning\">Para ver algunos ejemplos, ejecute las siguientes líneas con play o <code>Shift + Enter</code>.</div>"
   ]
  },
  {
   "cell_type": "markdown",
   "id": "1e71447f",
   "metadata": {
    "deletable": false,
    "editable": false,
    "hide_input": true,
    "run_control": {
     "frozen": true
    }
   },
   "source": [
    "### Importamos librerías "
   ]
  },
  {
   "cell_type": "code",
   "execution_count": null,
   "id": "a87f3396",
   "metadata": {},
   "outputs": [],
   "source": [
    "import matplotlib.pyplot as plt\n",
    "import numpy as np\n",
    "import seaborn as sns"
   ]
  },
  {
   "cell_type": "markdown",
   "id": "2256cfba",
   "metadata": {
    "deletable": false,
    "editable": false,
    "hide_input": true,
    "run_control": {
     "frozen": true
    }
   },
   "source": [
    "### Plot lines con Matplotlib"
   ]
  },
  {
   "cell_type": "code",
   "execution_count": null,
   "id": "f084973a",
   "metadata": {},
   "outputs": [],
   "source": [
    "# make data\n",
    "x = np.linspace(0, 10, 100)\n",
    "y = 4 + 2 * np.sin(2 * x)\n",
    "\n",
    "# plot\n",
    "fig, ax = plt.subplots()\n",
    "ax.plot(x, y, linewidth=2.0)\n",
    "ax.set(xlim=(0, 8), xticks=np.arange(1, 8),\n",
    "       ylim=(0, 8), yticks=np.arange(1, 8))\n",
    "\n",
    "plt.show()"
   ]
  },
  {
   "cell_type": "markdown",
   "id": "f334aaac",
   "metadata": {
    "deletable": false,
    "editable": false,
    "hide_input": true,
    "run_control": {
     "frozen": true
    }
   },
   "source": [
    "### Plot bars con Matplotlib"
   ]
  },
  {
   "cell_type": "code",
   "execution_count": null,
   "id": "29f40a49",
   "metadata": {},
   "outputs": [],
   "source": [
    "labels = ['G1', 'G2', 'G3', 'G4', 'G5']\n",
    "men_means = [20, 35, 30, 35, 27]\n",
    "women_means = [25, 32, 34, 20, 25]\n",
    "men_std = [2, 3, 4, 1, 2]\n",
    "women_std = [3, 5, 2, 3, 3]\n",
    "width = 0.35       # the width of the bars: can also be len(x) sequence\n",
    "\n",
    "fig, ax = plt.subplots()\n",
    "\n",
    "ax.bar(labels, men_means, width, yerr=men_std, label='Men')\n",
    "ax.bar(labels, women_means, width, yerr=women_std, bottom=men_means,\n",
    "       label='Women')\n",
    "\n",
    "ax.set_ylabel('Scores')\n",
    "ax.set_title('Scores by group and gender')\n",
    "ax.legend()\n",
    "\n",
    "plt.show()"
   ]
  },
  {
   "cell_type": "markdown",
   "id": "dea8497a",
   "metadata": {
    "deletable": false,
    "editable": false,
    "hide_input": true,
    "run_control": {
     "frozen": true
    }
   },
   "source": [
    "### Scatterplots con Matplotlib"
   ]
  },
  {
   "cell_type": "code",
   "execution_count": null,
   "id": "15cb5506",
   "metadata": {},
   "outputs": [],
   "source": [
    "# Fixing random state for reproducibility\n",
    "np.random.seed(19680801)\n",
    "\n",
    "\n",
    "N = 100\n",
    "r0 = 0.6\n",
    "x = 0.9 * np.random.rand(N)\n",
    "y = 0.9 * np.random.rand(N)\n",
    "area = (20 * np.random.rand(N))**2  # 0 to 10 point radii\n",
    "c = np.sqrt(area)\n",
    "r = np.sqrt(x ** 2 + y ** 2)\n",
    "area1 = np.ma.masked_where(r < r0, area)\n",
    "area2 = np.ma.masked_where(r >= r0, area)\n",
    "plt.scatter(x, y, s=area1, marker='^', c=c)\n",
    "plt.scatter(x, y, s=area2, marker='o', c=c)\n",
    "# Show the boundary between the regions:\n",
    "theta = np.arange(0, np.pi / 2, 0.01)\n",
    "plt.plot(r0 * np.cos(theta), r0 * np.sin(theta))\n",
    "\n",
    "plt.show()"
   ]
  },
  {
   "cell_type": "markdown",
   "id": "d169c3e5",
   "metadata": {
    "deletable": false,
    "editable": false,
    "hide_input": true,
    "run_control": {
     "frozen": true
    }
   },
   "source": [
    "### Plot error bars con Matplotlib"
   ]
  },
  {
   "cell_type": "code",
   "execution_count": null,
   "id": "261b98f6",
   "metadata": {},
   "outputs": [],
   "source": [
    "# example data\n",
    "x = np.arange(0.1, 4, 0.1)\n",
    "y1 = np.exp(-1.0 * x)\n",
    "y2 = np.exp(-0.5 * x)\n",
    "\n",
    "# example variable error bar values\n",
    "y1err = 0.1 + 0.1 * np.sqrt(x)\n",
    "y2err = 0.1 + 0.1 * np.sqrt(x/2)\n",
    "\n",
    "\n",
    "fig, (ax0, ax1, ax2) = plt.subplots(nrows=1, ncols=3, sharex=True,\n",
    "                                    figsize=(12, 6))\n",
    "\n",
    "ax0.set_title('all errorbars')\n",
    "ax0.errorbar(x, y1, yerr=y1err)\n",
    "ax0.errorbar(x, y2, yerr=y2err)\n",
    "\n",
    "ax1.set_title('only every 6th errorbar')\n",
    "ax1.errorbar(x, y1, yerr=y1err, errorevery=6)\n",
    "ax1.errorbar(x, y2, yerr=y2err, errorevery=6)\n",
    "\n",
    "ax2.set_title('second series shifted by 3')\n",
    "ax2.errorbar(x, y1, yerr=y1err, errorevery=(0, 6))\n",
    "ax2.errorbar(x, y2, yerr=y2err, errorevery=(3, 6))\n",
    "\n",
    "fig.suptitle('Errorbar subsampling')\n",
    "plt.show()"
   ]
  },
  {
   "cell_type": "markdown",
   "id": "dbd8006a",
   "metadata": {
    "deletable": false,
    "editable": false,
    "hide_input": true,
    "run_control": {
     "frozen": true
    }
   },
   "source": [
    "### Plot Datasets con Seaborn"
   ]
  },
  {
   "cell_type": "code",
   "execution_count": null,
   "id": "d289ca3f",
   "metadata": {},
   "outputs": [],
   "source": [
    "sns.set_theme(style=\"ticks\")\n",
    "\n",
    "df = sns.load_dataset(\"penguins\")\n",
    "sns.pairplot(df, hue=\"species\")"
   ]
  },
  {
   "cell_type": "markdown",
   "id": "d555a9a4",
   "metadata": {
    "deletable": false,
    "editable": false,
    "hide_input": true,
    "run_control": {
     "frozen": true
    }
   },
   "source": [
    "# 2. Data analisys\n",
    "\n",
    "Utilizando Python podemos realizar tareas de analisis de datos. Podemos preparar datos para el análisis, realizar análisis estadísticos simples, crear visualizaciones de datos significativas, predecir tendencias futuras a partir de datos y más otras cosas. \n",
    "\n",
    "\n",
    "- Conseguir datasets (.csv) - [kaggle Free Datasets](https://www.kaggle.com/datasets)\n",
    "\n",
    "Las siglas CSV vienen del inglés \"Comma Separated Values\" y significan valores separados por comas. Dicho esto, un archivo CSV es cualquier archivo de texto en el cual los caracteres están separados por comas, haciendo una especie de tabla en filas y columnas. "
   ]
  },
  {
   "cell_type": "code",
   "execution_count": 6,
   "id": "920a6ad4",
   "metadata": {},
   "outputs": [],
   "source": [
    "import pandas as pd #importamos la librería\n",
    "train = pd.read_csv(\"https://s3-ap-southeast-1.amazonaws.com/av-datahack-datacamp/train.csv\")\n",
    "# Filter \n",
    "# train.loc[train['Gender'] == 'Male']"
   ]
  },
  {
   "cell_type": "code",
   "execution_count": null,
   "id": "c752dafe",
   "metadata": {},
   "outputs": [],
   "source": []
  },
  {
   "cell_type": "markdown",
   "id": "2c63e27b",
   "metadata": {
    "deletable": false,
    "editable": false,
    "hide_input": true,
    "run_control": {
     "frozen": true
    }
   },
   "source": [
    "# 3. Inteligencia Artificial: [OpenAI](https://openai.com/api/) \n",
    "\n",
    "La API de OpenAI se puede aplicar a prácticamente cualquier tarea que implique comprender o generar código o lenguaje natural. Ofrecemos una gama de modelos con diferentes niveles de potencia adecuados para diferentes tareas, así como la capacidad de ajustar sus propios modelos personalizados. Estos modelos se pueden usar para todo, desde la generación de contenido hasta la búsqueda y clasificación semántica.Brockman, G., Cheung, V., Pettersson, L., Schneider, J., Schulman, J., Tang, J., & Zaremba, W. (2016). Openai gym. ArXiv Preprint ArXiv:1606.01540.\n",
    "\n",
    "\n",
    "- [Resume textos](https://beta.openai.com/playground/p/default-summarize?model=text-davinci-002)\n",
    "- [Genera consultas SQL](https://beta.openai.com/playground/p/default-sql-request?model=text-davinci-002)\n",
    "- [Genera entrevistas](https://beta.openai.com/playground/p/default-interview-questions?model=text-davinci-002)\n",
    "- [Notas de estudio](https://beta.openai.com/playground/p/default-study-notes?model=text-davinci-002)\n",
    "- [Guias para presentaciones](https://beta.openai.com/playground/p/default-essay-outline?model=text-davinci-002)\n",
    "- [DALL.E 2](https://vimeo.com/692375454), [Ejemplos](https://openai.com/blog/dall-e/)"
   ]
  }
 ],
 "metadata": {
  "celltoolbar": "Edit Metadata",
  "hide_input": false,
  "kernelspec": {
   "display_name": "Python 3 (ipykernel)",
   "language": "python",
   "name": "python3"
  },
  "language_info": {
   "codemirror_mode": {
    "name": "ipython",
    "version": 3
   },
   "file_extension": ".py",
   "mimetype": "text/x-python",
   "name": "python",
   "nbconvert_exporter": "python",
   "pygments_lexer": "ipython3",
   "version": "3.9.12"
  },
  "toc": {
   "base_numbering": 1,
   "nav_menu": {},
   "number_sections": true,
   "sideBar": true,
   "skip_h1_title": false,
   "title_cell": "Table of Contents",
   "title_sidebar": "Contents",
   "toc_cell": false,
   "toc_position": {},
   "toc_section_display": true,
   "toc_window_display": true
  }
 },
 "nbformat": 4,
 "nbformat_minor": 5
}
