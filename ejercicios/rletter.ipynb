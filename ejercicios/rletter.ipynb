{
 "cells": [
  {
   "cell_type": "markdown",
   "id": "feed819f",
   "metadata": {},
   "source": [
    "## Random Letter"
   ]
  },
  {
   "cell_type": "code",
   "execution_count": null,
   "id": "02f5f72a",
   "metadata": {},
   "outputs": [],
   "source": [
    "import random\n",
    "import string\n",
    "\n",
    "gen_letters = []\n",
    "\n",
    "letter = random.choice(string.ascii_uppercase[0:8])\n",
    "gen_letters.append(letter) \n",
    "print(gen_letters)\n",
    "\n",
    "while len(gen_letters)<=7:\n",
    "    letter = random.choice(string.ascii_uppercase[0:8])\n",
    "    while letter not in gen_letters:\n",
    "        gen_letters.append(letter)  \n",
    "    print(gen_letters)"
   ]
  }
 ],
 "metadata": {
  "hide_input": false,
  "kernelspec": {
   "display_name": "Python 3 (ipykernel)",
   "language": "python",
   "name": "python3"
  },
  "language_info": {
   "codemirror_mode": {
    "name": "ipython",
    "version": 3
   },
   "file_extension": ".py",
   "mimetype": "text/x-python",
   "name": "python",
   "nbconvert_exporter": "python",
   "pygments_lexer": "ipython3",
   "version": "3.9.7"
  }
 },
 "nbformat": 4,
 "nbformat_minor": 5
}
