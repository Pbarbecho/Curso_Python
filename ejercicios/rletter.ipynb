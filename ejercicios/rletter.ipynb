{
 "cells": [
  {
   "cell_type": "markdown",
   "id": "0cf6899f",
   "metadata": {},
   "source": [
    "# Genere una letra entre A-H"
   ]
  },
  {
   "cell_type": "code",
   "execution_count": null,
   "id": "a47e05a7",
   "metadata": {},
   "outputs": [],
   "source": [
    "import random\n",
    "import string\n",
    "\n",
    "letter = random.choice(string.ascii_uppercase[0:7])\n",
    "print(letter)"
   ]
  }
 ],
 "metadata": {
  "hide_input": false,
  "kernelspec": {
   "display_name": "Python 3 (ipykernel)",
   "language": "python",
   "name": "python3"
  },
  "language_info": {
   "codemirror_mode": {
    "name": "ipython",
    "version": 3
   },
   "file_extension": ".py",
   "mimetype": "text/x-python",
   "name": "python",
   "nbconvert_exporter": "python",
   "pygments_lexer": "ipython3",
   "version": "3.9.7"
  }
 },
 "nbformat": 4,
 "nbformat_minor": 5
}
