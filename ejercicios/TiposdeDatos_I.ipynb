{
 "cells": [
  {
   "cell_type": "markdown",
   "id": "0d3288b1",
   "metadata": {
    "deletable": false,
    "editable": false,
    "hide_input": true,
    "run_control": {
     "frozen": true
    }
   },
   "source": [
    "# <center> Tipos de Datos en Python I </center> \n",
    "<center>  <img src=\"images/logo.png\" alt=\"Drawing\" style=\"width: 200px;\"/> </center> \n",
    "\n",
    "# <center> Aprendizaje Interactivo </center> \n",
    "    \n",
    "<div style=\"text-align: justify\"> En cualquier lenguaje de programación de alto nivel como es Python se manejan diferentes tipos de datos. Los tipos de datos definen un conjunto de valores que tienen una serie de características y propiedades determinadas.En Python, todo valor que pueda ser asignado a una variable tiene asociado un tipo de dato y operaciones se pueden realizar sobre la misma.</div><br>    \n",
    "\n",
    "<div style=\"text-align: justify\">Considerando que en Python todo es un objeto, los tipos de datos serían las clases (donde se definen las propiedades, y qué se puede hacer con ellas) y las variables serían las instancias (objetos) de los tipos de datos. En los próximos módulos comentaremos más en detalle sobre lo que son las clases y objetos. </div><br> \n",
    "\n",
    "**En este cuaderno aprenderemos sobre dos tipos de datos ampliamente usados en Python:**\n",
    "\n",
    "- Datos Numéricos\n",
    "- Datos Booleanos\n",
    "\n",
    "\n",
    "*** \n",
    "\n",
    "## Objetivos:\n",
    "\n",
    "- Conocer los distintos tipos de datos numéricos, booleanos y  de caracteres\n",
    "- Aprender a definir y operar con ellos\n",
    "- Introducir las estructuras de datos denominadas Listas\n",
    "- Apreder que son las variables\n",
    "    \n",
    "    \n",
    "## Referencias\n",
    "\n",
    " * The Python Language Reference: https://docs.python.org/3/reference/index.html\n",
    " * The Python Standard Library: https://docs.python.org/3/library/index.html\n",
    " * IBM Jupyter notebooks cheatsheet https://www.ibm.com/docs/en/db2-event-store/2.0.0?topic=notebooks-markdown-jupyter-cheatsheet   \n",
    " \n",
    "***\n",
    "\n",
    "# <center>Tipos de datos en Python<center/>\n",
    "\n",
    "\n",
    "A los largo de este Módulo vamos a explorar los diferentes tipos de datos y estructuras de datos con las que cuenta Python. En la siguiente imagen presentamos una clasificiación sencilla de los tipos de datos de Python:\n",
    "\n",
    "<img src=\"images/python-data-types.jpg\" alt=\"Drawing\" style=\"width: 400px;\"/> \n",
    "\n",
    "***\n",
    "<div style=\"text-align: justify\">Antes de comenzar con los tipos de datos en Python, revisaremos dos funciones que nos permiten ver el tipo de dato de un objeto. Recordemos que en Python, casi todo es tratado como un objeto. </div>\n",
    "\n",
    "**Función `type( )`:** permite examinar el tipo al que corresponde un dato determinado.<br>\n",
    "**Función `isintance( )`:** devuelve el tipo del objeto\n",
    "\n",
    "\n",
    "## type( )\n",
    "```python\n",
    "type(25)\n",
    "type(0.35)\n",
    "type(5j)\n",
    "type('Pablo')\n",
    "```\n",
    "\n",
    "## isintance( )\n",
    "```python\n",
    "isinstance(25, int)\n",
    "isinstance(0.35, float)\n",
    "isinstance(5j, complex)\n",
    "isinstance('Pablo', str)\n",
    "```"
   ]
  },
  {
   "cell_type": "code",
   "execution_count": null,
   "id": "df1fdcb3",
   "metadata": {},
   "outputs": [],
   "source": []
  },
  {
   "cell_type": "code",
   "execution_count": null,
   "id": "6a712dda",
   "metadata": {},
   "outputs": [],
   "source": []
  },
  {
   "cell_type": "markdown",
   "id": "79192c43",
   "metadata": {
    "deletable": false,
    "editable": false,
    "hide_input": true,
    "run_control": {
     "frozen": true
    }
   },
   "source": [
    "  \n",
    "# Ejercicio: Verificar tipos de datos en Python\n",
    "A continuación, te dejamos un ejercicio para que compruebes los tipos de datos de los siguientes elementos:\n",
    "    \n",
    "    - 34556\n",
    "    - 21\n",
    "    - 6.385\n",
    "    - 84.32\n",
    "    - 'Palabra'\n",
    "    - 'Texto Nombre'\n",
    "    - '4 + 5j'\n",
    "    - '19j'\n",
    "    \n",
    "    \n",
    "## Por ejemplo: \n",
    "```python\n",
    "type(345)                # tipo de dato resultante\n",
    "isinstance(345, int)     # verificamos el tipo de objeto\n",
    "```\n",
    "\n",
    "\n",
    "<div class=\"alert alert-info\">En las siguientes celdas de código podemos probar lo comentado:</div>"
   ]
  },
  {
   "cell_type": "code",
   "execution_count": null,
   "id": "89026c19",
   "metadata": {},
   "outputs": [],
   "source": []
  },
  {
   "cell_type": "code",
   "execution_count": null,
   "id": "a79ab35a",
   "metadata": {},
   "outputs": [],
   "source": []
  },
  {
   "cell_type": "markdown",
   "id": "163c5408",
   "metadata": {
    "deletable": false,
    "editable": false,
    "hide_input": true,
    "run_control": {
     "frozen": true
    }
   },
   "source": [
    "# <center>Datos numéricos<center/>\n",
    "\n",
    "Permiten representar valores de forma numérica, incluyendo números enteros, decimales (8,34.29), y reales (8 - 4j). **Este tipo de datos permite realizar operaciones aritméticas comunes.**\n",
    "\n",
    "### Python define tres tipos de datos numéricos:\n",
    "\n",
    "  - Enteros **int**. Ej., 5, 89, 0, 19238\n",
    "  - Números de punto flotante **float**. Ej., 5.485, 8.3, 0.34, 19.238\n",
    "  - Números complejos **complex**. Ej., 5j, 8+4j, 19 - 8j\n",
    "\n",
    "***"
   ]
  },
  {
   "cell_type": "markdown",
   "id": "97cfc5d8",
   "metadata": {
    "deletable": false,
    "editable": false,
    "hide_input": true,
    "run_control": {
     "frozen": true
    }
   },
   "source": [
    "# a) Numeros Enteros\n",
    "\n",
    "Un número de tipo **int** se crea a partir de un literal que represente un número entero o bien como resultado de una expresión o una llamada a una función como vemos a continuación:\n",
    "\n",
    "```python\n",
    "a = 5       # A partir de un número\n",
    "b = 5 - 10  # A partir de una expresión\n",
    "```\n",
    "\n",
    "**Recordemos que para ver el resultado el contenido, en los cuadernos de Jupyter podemos indroducir el valor de la variable o la expresión directamente en la celda de código, o utilizar la función print() que nos imprime en pantalla el valor o resultado de una operación, por ejemplo:**\n",
    "\n",
    "```python\n",
    "4 + 3 - 10\n",
    "print(a)\n",
    "print(4 + 3 - 10)\n",
    "```\n",
    "<div class=\"alert alert-info\">En las siguientes celdas de código podemos probar lo comentado:</div>"
   ]
  },
  {
   "cell_type": "code",
   "execution_count": null,
   "id": "dc094888",
   "metadata": {},
   "outputs": [],
   "source": []
  },
  {
   "cell_type": "code",
   "execution_count": null,
   "id": "7b2157ee",
   "metadata": {},
   "outputs": [],
   "source": []
  },
  {
   "cell_type": "markdown",
   "id": "11d5a995",
   "metadata": {
    "deletable": false,
    "editable": false,
    "hide_input": true,
    "run_control": {
     "frozen": true
    }
   },
   "source": [
    "## División entre enteros\n",
    "\n",
    "En Python 3, la división entre enteros nos devuelve un número real. Por otra parte, **se puede forzar que la división sea entera con el operador **`//`****. Veamos un ejemplo:\n",
    "\n",
    "\n",
    "<img src=\"images/div.jpg\" alt=\"Drawing\" style=\"width: 400px;\"/> \n",
    "\n",
    "<div class=\"alert alert-info\">En las siguientes celdas de código podemos probar lo comentado:</div>"
   ]
  },
  {
   "cell_type": "code",
   "execution_count": null,
   "id": "77598094",
   "metadata": {},
   "outputs": [],
   "source": []
  },
  {
   "cell_type": "code",
   "execution_count": null,
   "id": "20b9e2a8",
   "metadata": {},
   "outputs": [],
   "source": []
  },
  {
   "cell_type": "markdown",
   "id": "eeafb6c4",
   "metadata": {
    "deletable": false,
    "editable": false,
    "hide_input": true,
    "run_control": {
     "frozen": true
    }
   },
   "source": [
    "## División entre 0 \n",
    "\n",
    "Un aspecto a tener encuenta es que las divisiones entre cero lanzan un error:\n",
    "\n",
    "<img src=\"images/error2.jpg\" alt=\"Drawing\" style=\"width: 600px;\"/> \n",
    "\n",
    "Más adelante veremos cómo tratar estos errores con `try/except` o con condicionales `if`. \n",
    "\n",
    "<div class=\"alert alert-info\">En las siguientes celdas de código podemos probar lo comentado:</div>"
   ]
  },
  {
   "cell_type": "code",
   "execution_count": null,
   "id": "40432255",
   "metadata": {},
   "outputs": [],
   "source": []
  },
  {
   "cell_type": "code",
   "execution_count": null,
   "id": "c739b7b8",
   "metadata": {},
   "outputs": [],
   "source": []
  },
  {
   "cell_type": "markdown",
   "id": "0a631062",
   "metadata": {
    "deletable": false,
    "editable": false,
    "hide_input": true,
    "run_control": {
     "frozen": true
    }
   },
   "source": [
    "# b) Numeros Decimales\n",
    "\n",
    "**Un número decimal es cualquier número real que esté formado por una parte entera y otra parte decimal, las cuales están separadas por un punto**. \n",
    "\n",
    "\n",
    "<div class=\"alert alert-warning\">Python utiliza el punto para separar la parte entera de la parte decimal</div>\n",
    "\n",
    "\n",
    "La representación de punto flotante (en inglés floating point) es una forma de notación científica usada en los computadores con la cual se pueden representar números reales extremadamente grandes y pequeños de una manera muy eficiente y compacta, y con la que se pueden realizar operaciones aritméticas. Veamos ejemplos de números decimales:\n",
    "\n",
    "```python\n",
    "numero = 5.34289642\n",
    "numero = float(5) # convierte el número entero 5 en decimal \n",
    "```\n",
    "\n",
    "#### Notación científica:\n",
    "\n",
    "```python\n",
    "not_cientifica = 5e5  # utiliza notación científica 5 x 10^5\n",
    "print(not_cientifica)\n",
    "500000.0\n",
    "```\n",
    "\n",
    "\n",
    "La función **`round()`** devuelve un número de coma flotante `float` que es una versión redondeada del número especificado, con el número especificado de decimales. \n",
    "\n",
    "```python\n",
    "x = round(5.7643, 2) # Redondea el número 5.7643, utilizando 2 decimales\n",
    "print(x)\n",
    "5.76  # El resultado nos muestra 2 decimales\n",
    "\n",
    "```\n",
    "\n",
    "<div class=\"alert alert-info\">En las siguientes celdas de código podemos probar lo comentado:</div>"
   ]
  },
  {
   "cell_type": "code",
   "execution_count": null,
   "id": "6a864bf2",
   "metadata": {},
   "outputs": [],
   "source": []
  },
  {
   "cell_type": "code",
   "execution_count": null,
   "id": "8a7e1048",
   "metadata": {},
   "outputs": [],
   "source": []
  },
  {
   "cell_type": "markdown",
   "id": "9114109c",
   "metadata": {
    "deletable": false,
    "editable": false,
    "hide_input": true,
    "run_control": {
     "frozen": true
    }
   },
   "source": [
    "\n",
    "## Valor absoluto\n",
    "\n",
    "La función `abs()`, se utiliza para devolver el valor absoluto de un número, es decir, eliminará el signo negativo del número. `abs()` toma solo un argumento, un número cuyo valor absoluto se devolverá. El argumento puede ser un número entero int, un número de coma flotante float, o un número complejo complex. Veamos un ejemplo de uso:\n",
    "\n",
    "\n",
    "<img src=\"images/abs.jpg\" alt=\"Drawing\" style=\"width: 400px;\"/> \n",
    "\n",
    "\n",
    "<div class=\"alert alert-info\">En las siguientes celdas de código podemos probar lo comentado:</div>"
   ]
  },
  {
   "cell_type": "code",
   "execution_count": null,
   "id": "aeacb6a4",
   "metadata": {},
   "outputs": [],
   "source": []
  },
  {
   "cell_type": "code",
   "execution_count": null,
   "id": "9a37cd99",
   "metadata": {},
   "outputs": [],
   "source": []
  },
  {
   "cell_type": "markdown",
   "id": "f597b770",
   "metadata": {
    "deletable": false,
    "editable": false,
    "hide_input": true,
    "run_control": {
     "frozen": true
    }
   },
   "source": [
    "# <center>Números complejos<center/>\n",
    "\n",
    "**Los números complejos se componen de una parte real y una parte imaginaria**. En Python, la parte imaginaria se puede expresar simplemente agregando una j o una J después del número. También podemos usar la función incorporada complex() para convertir los dos números reales dados en un número complejo. Veamos unos ejemplos:\n",
    "\n",
    "<img src=\"images/complex.jpg\" alt=\"Drawing\" style=\"width: 600px;\"/> \n",
    "\n",
    "\n",
    "<div class=\"alert alert-info\">En las siguientes celdas de código podemos probar lo comentado:</div>"
   ]
  },
  {
   "cell_type": "code",
   "execution_count": null,
   "id": "9f8f7d41",
   "metadata": {},
   "outputs": [],
   "source": []
  },
  {
   "cell_type": "code",
   "execution_count": null,
   "id": "b2047b9a",
   "metadata": {},
   "outputs": [],
   "source": []
  },
  {
   "cell_type": "markdown",
   "id": "88517fec",
   "metadata": {
    "deletable": false,
    "editable": false,
    "hide_input": true,
    "run_control": {
     "frozen": true
    }
   },
   "source": [
    "# <center>Aritmética de los tipos numéricos<center/>\n",
    "\n",
    "En el caso de tene tipos numéricos, podemos aplicar las operaciones de la aritmética suma, resta, producto, división. **En Python está permitido realizar una operación aritmética con números de distinto tipo, por ejemplo 4+5.67 siendo un operación entre int + float**. En este caso, el tipo numérico “más pequeño” se convierte al del tipo “más grande”, de manera que el tipo del resultado siempre es el del tipo mayor.\n",
    "\n",
    "<div class=\"alert alert-warning\">Entendemos que el tipo int es menor que el tipo float que a su vez es menor que el tipo complex</div>\n",
    "\n",
    "\n",
    "Veamos un ejemplo: \n",
    "\n",
    "```python\n",
    "a = 5 # int\n",
    "b = 4.56 # float\n",
    "c = a + b \n",
    "type(c) # el tipo del valor resultante es el tipo mayor float\n",
    "```\n",
    "<div class=\"alert alert-info\">En las siguientes celdas de código podemos probar lo comentado:</div>"
   ]
  },
  {
   "cell_type": "code",
   "execution_count": null,
   "id": "63037275",
   "metadata": {},
   "outputs": [],
   "source": []
  },
  {
   "cell_type": "code",
   "execution_count": null,
   "id": "6936dfc3",
   "metadata": {},
   "outputs": [],
   "source": []
  },
  {
   "cell_type": "code",
   "execution_count": null,
   "id": "921fbc53",
   "metadata": {},
   "outputs": [],
   "source": []
  },
  {
   "cell_type": "code",
   "execution_count": null,
   "id": "58df1451",
   "metadata": {},
   "outputs": [],
   "source": []
  },
  {
   "cell_type": "markdown",
   "id": "67dbe7ca",
   "metadata": {
    "deletable": false,
    "hide_input": false,
    "run_control": {
     "frozen": true
    }
   },
   "source": [
    "# <center>Datos Lógicos<center/>\n",
    "\n",
    "Una variable lógica o **booleana** es aquella que sólo puede tomar dos posibles valores:\n",
    "\n",
    "- Verdadero (True) \n",
    "- Falso (false)\n",
    "\n",
    "\n",
    "En Python, los elementos nulos o vacíos se consideran False y el resto se consideran True. Veamos algunos ejemplos: \n",
    "\n",
    "```python\n",
    "a = True\n",
    "b = False\n",
    "a = bool(0)\n",
    "```\n",
    "\n",
    "# Ejercicio: Datos lógicos o booleanos\n",
    "\n",
    "Defina `a`, y `b` como variables booleanas `True` y `False` respectivamente. Compruebe el tipo de cada variable.\n",
    "\n",
    "```python\n",
    "a = True\n",
    "b = False\n",
    "```\n",
    "\n",
    "<div class=\"alert alert-info\">En las siguientes celdas de código podemos probar lo comentado:</div>"
   ]
  },
  {
   "cell_type": "code",
   "execution_count": null,
   "id": "c43b98c6",
   "metadata": {},
   "outputs": [],
   "source": []
  },
  {
   "cell_type": "code",
   "execution_count": null,
   "id": "26284686",
   "metadata": {},
   "outputs": [],
   "source": []
  },
  {
   "cell_type": "markdown",
   "id": "959e0394",
   "metadata": {
    "deletable": false,
    "editable": false,
    "hide_input": true,
    "run_control": {
     "frozen": true
    }
   },
   "source": [
    "## Generalidades\n",
    "\n",
    "Por último, recuerde que si introducimos una variable, por ejemplo .`a`; ésta debe haber sido previamente definida en el cuaderno de Jupyter; caso contrario, se nos presentará un error: \n",
    "\n",
    "<img src=\"images/error1.jpg\" alt=\"Drawing\" style=\"width: 600px;\"/> \n",
    "\n",
    "<div class=\"alert alert-info\">En las siguientes celdas de código podemos probar lo comentado:</div>"
   ]
  },
  {
   "cell_type": "markdown",
   "id": "043b4e8d",
   "metadata": {
    "deletable": false,
    "editable": false,
    "hide_input": true,
    "run_control": {
     "frozen": true
    }
   },
   "source": [
    "***\n",
    "# <center>Tarea 1: Módulo 2 </center>\n",
    "\n",
    "***\n",
    "\n",
    "En la siguiente sección se encuentran planteados varios ejercicios que evalúan lo aprendido durante este módulo. \n",
    "**Recuerde que esta tarea es calificada y el cuaderno de jupyter tabajado debe subirse al aula virtual**. Por favor seguir las instrucciones: \n",
    "\n",
    "1. Realizar los ejercicios abajo propuestos (E1, E2, E3, E4).\n",
    "1. Descargar el cuaderno de jupyter (.pynb). \n",
    "1. Guardar el cuaderno con el número de tarea (t1), su nombre y apellido. Por ejemplo t1_pablo_barbecho.pynb.\n",
    "1. Subir el archivo generado (t1_pablo_barbecho.pynb) al aula virtual para revisión del docente. \n",
    "\n",
    "<div class=\"alert alert-warning\">Recuerde que podemos utilizar las funciones que hemos aprendido hasta el momento print(), input(), type(), isintance().</div>\n",
    "\n",
    "\n",
    "***\n",
    "## E1: Crear un código sencillo capaz de mostrar en pantalla lo siguiente:\n",
    "\n",
    "```python\n",
    "Empezando a trabajar con Python\n",
    "Realizado por: “Su Nombre”\n",
    "    \n",
    "Consultando los tipos de valores:\n",
    "El tipo de dato de 875 es:\n",
    "El tipo de dato de 4.89 es:\n",
    "El tipo de dato de 1.32 es:\n",
    "¿El valor 5 + 8i corresponde a un valor entero?\n",
    "¿El valor 8.2 corresponde a un valor entero?\n",
    "¿El texto: Readability counts. corresponde a un string?\n",
    "```\n",
    "\n",
    "El programa debe mostrar el texto anterior y su resultado correspondiente.\n",
    "\n",
    "<div class=\"alert alert-info\">En las siguientes celdas de código podemos probar lo comentado:</div>\n",
    "\n"
   ]
  },
  {
   "cell_type": "code",
   "execution_count": null,
   "id": "466e3524",
   "metadata": {},
   "outputs": [],
   "source": []
  },
  {
   "cell_type": "code",
   "execution_count": null,
   "id": "6de7c1cf",
   "metadata": {},
   "outputs": [],
   "source": []
  },
  {
   "cell_type": "markdown",
   "id": "13625515",
   "metadata": {
    "deletable": false,
    "editable": false,
    "hide_input": true,
    "run_control": {
     "frozen": true
    }
   },
   "source": [
    "\n",
    "# E2:  Operaciones con datos numéricos\n",
    "\n",
    "Intente realizar las siguientes operaciones con datos del tipo numérico. Verifique el resultado y el tipo resultante de cada operación, de los literales a-n. **Considere que en Python se sigue un orden específico de operaciones:** \n",
    "\n",
    "\n",
    "<img src=\"images/orderop.png\" alt=\"Drawing\" style=\"width: 300px;\"/> \n",
    "\n",
    "\n",
    "<div class=\"alert alert-info\">Puede intuir para que sirven los operadores <code>**</code> y <code>//</code>. Agrege un comentario en la linea de la operación.</div>\n",
    "\n",
    "- a = (35/5 + 20) - 10\n",
    "- b = 20 // 3 + 102 // 2 \n",
    "- c = 20/0\n",
    "- d = 38 * 20 / 12\n",
    "- e = 20 // 5  # Para qué sirve //\n",
    "- f = 145 / 1 + (124 ** 2)  # Para qué sirve **\n",
    "- g = abs(-180 / 23)\n",
    "- h = 1245 + 1j + 7j\n",
    "- i = 4j - 23j + 4\n",
    "- k = 23 ** 6\n",
    "- l = 7643 ** 0 + 1\n",
    "- m = 2*(2 + 1)\n",
    "- n = round(5.5674) + 1\n",
    "\n",
    "\n",
    "## Por ejemplo: \n",
    "```python\n",
    "h = 45 + 4j - 7j       # operación\n",
    "print(h)               # resultado\n",
    "isinstance(h, complex) # verificamos el tipo de dato\n",
    "type(h)                # verificamos tipo de dato resultante\n",
    "```\n",
    "\n",
    "<div class=\"alert alert-info\">En las siguientes celdas de código podemos probar lo comentado:</div>"
   ]
  },
  {
   "cell_type": "code",
   "execution_count": null,
   "id": "bc7d4f84",
   "metadata": {},
   "outputs": [],
   "source": []
  },
  {
   "cell_type": "code",
   "execution_count": null,
   "id": "067bf339",
   "metadata": {},
   "outputs": [],
   "source": []
  },
  {
   "cell_type": "markdown",
   "id": "cb0c44b1",
   "metadata": {
    "deletable": false,
    "editable": false,
    "hide_input": true,
    "run_control": {
     "frozen": true
    }
   },
   "source": [
    "# E3: Desarrollar un código que permita mostrar en pantalla lo siguiente:\n",
    "\n",
    "Programa que identifica el tipo de dato de un valor ingresado por el usuario, se realizarán tres interacciones:\n",
    "\n",
    "```python\n",
    "Primera Interacción, ingrese un valor cualquiera: (El usuario debe ingresar un valor)\n",
    "Este tipo de dato en Python es:\n",
    "(Debe mostrarse el tipo de dato en esta línea)\n",
    "\n",
    "\n",
    "Segunda Interacción, ingrese un valor cualquiera: (El usuario debe ingresar un valor)\n",
    "Este tipo de dato en Python es:\n",
    "(Debe mostrarse el tipo de dato en esta línea)\n",
    "\n",
    "Tercera Interacción, ingrese un valor cualquiera: (El usuario debe ingresar un valor)\n",
    "Este tipo de dato en Python es:\n",
    "(Debe mostrarse el tipo de dato en esta línea)\n",
    "```\n",
    "\n",
    "- El programa debe preguntar al usuario el valor y luego imprime el tipo de dato ingresado.\n",
    "- Tome en cuenta que es posible asignar una entrada de usuario a variable, y usarlas en cualquier punto de su programa, ejemplo:\n",
    "\n",
    "```python\n",
    "variable=input(“Ingreso: ”)\n",
    "type(variable)\n",
    "```\n",
    "\n",
    "<div class=\"alert alert-info\">En las siguientes celdas de código podemos probar lo comentado:</div>"
   ]
  },
  {
   "cell_type": "code",
   "execution_count": null,
   "id": "b4cc74a3",
   "metadata": {},
   "outputs": [],
   "source": []
  },
  {
   "cell_type": "code",
   "execution_count": null,
   "id": "f0af6f01",
   "metadata": {},
   "outputs": [],
   "source": []
  },
  {
   "cell_type": "markdown",
   "id": "9b29b683",
   "metadata": {
    "deletable": false,
    "editable": false,
    "hide_input": true,
    "run_control": {
     "frozen": true
    }
   },
   "source": [
    "# E4: Conversión entre tipos de datos\n",
    "\n",
    "- `int()` puede tomar un literal `float` o `bool` como argumento y devuelve un valor de tipo `int`.\n",
    "- `float()` puede tomar como argumento tipo `int` o `bool` y devuelve un valor del tipo `float`.\n",
    "- `str()` puede tomar un literal de `float`, `int`, `bool` como argumento y devuelve un valor del tipo `str`.\n",
    "- `bool()` puede tomar un literal de `float`, `int` o `str` como argumento y devuelve un valor del tipo `bool`.\n",
    "\n",
    "Puede probar la conversión de los siguientes datos y mostrar los resultados: \n",
    "\n",
    "```python\n",
    "int(5.384) # toma un float\n",
    "int(True) # toma un bool\n",
    "float(5) # toma un int\n",
    "float(False) # toma un bool\n",
    "str(34) # toma un int\n",
    "str(3.4) # toma un float\n",
    "bool(3) # toma un int\n",
    "bool(0.0) # toma un float\n",
    "```\n",
    "\n",
    "<div class=\"alert alert-info\">En las siguientes celdas de código podemos probar lo comentado:</div>"
   ]
  },
  {
   "cell_type": "code",
   "execution_count": null,
   "id": "7adcf6da",
   "metadata": {},
   "outputs": [],
   "source": []
  },
  {
   "cell_type": "code",
   "execution_count": null,
   "id": "56391dce",
   "metadata": {},
   "outputs": [],
   "source": []
  }
 ],
 "metadata": {
  "celltoolbar": "Edit Metadata",
  "hide_input": false,
  "kernelspec": {
   "display_name": "Python 3 (ipykernel)",
   "language": "python",
   "name": "python3"
  },
  "language_info": {
   "codemirror_mode": {
    "name": "ipython",
    "version": 3
   },
   "file_extension": ".py",
   "mimetype": "text/x-python",
   "name": "python",
   "nbconvert_exporter": "python",
   "pygments_lexer": "ipython3",
   "version": "3.9.12"
  },
  "toc": {
   "base_numbering": 1,
   "nav_menu": {},
   "number_sections": true,
   "sideBar": true,
   "skip_h1_title": false,
   "title_cell": "Table of Contents",
   "title_sidebar": "Contents",
   "toc_cell": false,
   "toc_position": {},
   "toc_section_display": true,
   "toc_window_display": false
  },
  "widgets": {
   "application/vnd.jupyter.widget-state+json": {
    "state": {},
    "version_major": 2,
    "version_minor": 0
   }
  }
 },
 "nbformat": 4,
 "nbformat_minor": 5
}
