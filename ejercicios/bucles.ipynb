{
 "cells": [
  {
   "cell_type": "markdown",
   "id": "48f7eea4",
   "metadata": {
    "deletable": false,
    "editable": false,
    "hide_input": true,
    "run_control": {
     "frozen": true
    }
   },
   "source": [
    "# <center> Estructuras de Control en Python </center> \n",
    "<center>  <img src=\"images/logo.png\" alt=\"Drawing\" style=\"width: 200px;\"/> </center> \n",
    "\n",
    "# <center> Aprendizaje Interactivo </center> \n",
    "\n",
    "<div style=\"text-align: justify\"> Un programador escribe un programa y el programa hace preguntas.\n",
    "Una computadora ejecuta el programa y proporciona las respuestas. El programa debe ser capaz de reaccionar de acuerdo con las respuestas recibidas. Afortunadamente, las computadoras solo conocen dos tipos de respuestas:</div>\n",
    "    \n",
    "\n",
    "- Si, es cierto.\n",
    "- No, esto es falso.\n",
    "\n",
    "<div style=\"text-align: justify\">Nunca obtendrás una respuesta como Déjame pensar..., no lo sé, o probablemente sí, pero no lo sé con seguridad. Para hacer preguntas, Python utiliza un conjunto de operadores muy especiales. Revisemos uno tras otro, ilustrando sus efectos en algunos ejemplos simples. Durante este módulo veremos las estructuras de control conocidas también como sentencias condicionales e iterativas. Para esto, recordemos los tipos de datos lógicos o booleanos y los operadores relacionales revisados en el módulo anterior.</div>    \n",
    "\n",
    "En este cuaderno aprenderemos sobre:\n",
    "\n",
    "- Expresiones \n",
    "- Datos del tipo booleano.\n",
    "- Operadores relacionales.\n",
    "- Cómo tomar decisiones en Python (if, if-else, if-elif, else).\n",
    "- Cómo repetir la ejecución de código usando los bucles (while, for).\n",
    "\n",
    "\n",
    "\n",
    "## Objetivos:\n",
    "\n",
    "-\tAnalizar las estructuras de control en Python y su uso en el marco de crear secuencias.\n",
    "-\tIdentificar el uso de los operadores relacionales con estructuras condicionales.\n",
    "-\tImplementar la toma de decisiones en Python (if, if-else, if-elif, else).\n",
    "-\tGenerar ejecución de código usando los bucles (while, for).\n",
    "\n",
    "    \n",
    "    \n",
    "## Referencias\n",
    "\n",
    " * The Python Language Reference: https://docs.python.org/3/reference/index.html\n",
    " * The Python Standard Library: https://docs.python.org/3/library/index.html\n",
    " * IBM Jupyter notebooks cheatsheet https://www.ibm.com/docs/en/db2-event-store/2.0.0?topic=notebooks-markdown-jupyter-cheatsheet   \n",
    " \n",
    "***\n",
    " \n",
    "# <center>Expresiones</center>\n",
    "<br>\n",
    "<div style=\"text-align: justify\">Comencemos por definir que son las expresiones en Python. Una expresión es una combinación de valores, variables y operadores. <b>Es una porción de código que produce o calcula un valor (resultado)</b>. Una expresión consta de “operadores” y “operandos”. Según sea el tipo de datos que manipulan, las expresiones pueden ser aritméticas, relacionales, lógicas, etc.</div> \n",
    "\n",
    "\n",
    "Las expresiones **manejan prioridades**. Las expresiones entre paréntesis se evalúan primero. Las expresiones con paréntesis anidados se evalúan de dentro a fuera. Los operadores en una misma expresión con igual nivel de prioridad se evalúan de izquierda a derecha. Dentro de una misma expresión los operadores se evalúan en el siguiente orden: \n",
    "\n",
    "1. exponencial `**`, \n",
    "1. multiplicación `*`, división `/`, módulo `%`, \n",
    "1. suma`+` y resta`-`.  \n",
    "\n",
    "Veamos un ejemplo: \n",
    "\n",
    "<img src=\"images/exp1.jpg\" alt=\"Drawing\" style=\"width: 300px;\"/> \n",
    "\n",
    "En el ejemplo anterior tenemos una porción de código que evalúa dos variables `a` y `b`. Notemos que `a` es el resultado en sí de una expresión aritmética que nos devuelve como resultado `11`. Este valor es calculado considerando las prioridades de las expresiones comentadas anteriormente. \n",
    "\n",
    "***\n",
    "\n",
    "# <center>Estructuras de control</center>\n",
    "\n",
    "\n",
    "A continuación veremos las estructuras de control típicas como son las estructuras de control condicionales e iterativas (bucles). En concreto analizaremos las siguientes estructuras: \n",
    "\n",
    "- Sintaxis de las estructuras condicionales: if, elif, else.\n",
    "- Sintaxis de las estructuras iterativas for, while.\n",
    "\n",
    "Antes de comenzar, veamos algunas generalidades de la sintaxis de los condicionales: \n",
    "\n",
    "- **En Python los bloques se delimitan por sangrado y utilizando siempre cuatro espacios**. \n",
    "- **Utilizamos dos puntos `:` al final de la primera línea del condicional, todo lo que vaya a continuación con un nivel de sangrado superior se considera dentro del condicional.** \n",
    "- **En cuanto escribimos la primera línea con un nivel de sangrado inferior, hemos cerrado el condicional**.\n",
    "\n",
    "<img src=\"images/estructuras.png\" alt=\"Drawing\" style=\"width: 400px;\"/> "
   ]
  },
  {
   "cell_type": "code",
   "execution_count": null,
   "id": "620bb9ca",
   "metadata": {},
   "outputs": [],
   "source": []
  },
  {
   "cell_type": "code",
   "execution_count": null,
   "id": "6ac12d6c",
   "metadata": {},
   "outputs": [],
   "source": []
  },
  {
   "cell_type": "markdown",
   "id": "07852173",
   "metadata": {
    "deletable": false,
    "editable": false,
    "hide_input": true,
    "run_control": {
     "frozen": true
    }
   },
   "source": [
    "# Estrucutras de control: Condicionales\n",
    "\n",
    "Las sentencias condicionales nos permite evaluar si una o más condiciones se cumplen, y así decidir qué acción se va a ejecutar en consecuencia. Utilizan **operadores relacionales o de comparación**. La evaluación de condiciones, sólo puede arrojar un resultado: True o False. Las sentencias condicionales nos permiten alterar el flujo de un algoritmo dependiendo si ciertas condiciones se cumplen o no. \n",
    "\n",
    "Comencemos con la estructura condicional `if` consta de los siguientes elementos:\n",
    "\n",
    "- La palabra clave reservada `if`.\n",
    "- Uno o más espacios en blanco.\n",
    "- Una expresión (una pregunta o una respuesta) cuyo valor se ha interpretar únicamente en términos de `True` (cuando su valor no sea cero) y `False` (cuando sea igual a cero).\n",
    "- Unos dos puntos `:` seguido de una nueva línea.\n",
    "- Una instrucción con sangría o un conjunto de instrucciones (se requiere al menos una instrucción); la sangría se puede lograr de dos maneras: insertando un número particular de espacios (la recomendación es usar cuatro espacios de sangría), o usando el tabulador; nota: si hay mas de una instrucción en la parte con sangría, la sangría debe ser la misma en todas las líneas (bloque); aunque puede parecer lo mismo si se mezclan tabuladores con espacios, es importante que todas las sangrías sean exactamente iguales. Python 3 no permite mezclar espacios y tabuladores para la sangría.\n",
    "\n",
    "\n",
    "Veamos un diagrama de flujo para el condicinal `if`:\n",
    " \n",
    "<img src=\"images/eflujo.jpg\" alt=\"Drawing\" style=\"width: 300px;\"/>\n",
    "\n",
    "\n",
    "La sintaxis para el condicional `if` mostrado en la figura anterior, sería: \n",
    "\n",
    "```python\n",
    "if <condicion>:\n",
    "    <si cumple has algo>\n",
    "else:\n",
    "    <no comple has otra cosa>\n",
    "```\n",
    "\n",
    "**Note la indentación en la sintaxis.** Veamos un ejemplo:\n",
    "\n",
    "```python\n",
    "a = 20\n",
    "b = 100\n",
    "\n",
    "if a > b :\n",
    "    print('a es mayor que b')\n",
    "else:\n",
    "    print('a es menor que b')\n",
    "    \n",
    "#Resultado -> 'a es mayor que b'\n",
    "```\n",
    "\n",
    "\n",
    "\n",
    "En el caso que no complamos con la indentación, Python nos notificará del problema: \n",
    "\n",
    "<img src=\"images/iferror.jpg\" alt=\"Drawing\" style=\"width: 600px;\"/>\n",
    "\n",
    "\n",
    "# Ejercicio\n",
    "\n",
    "\n",
    "1. Diseñe y codifique un programa que permita ingresar dos números por el teclado y devuelva una de las siguientes opciones: \n",
    "\n",
    "- El primer número ingresado es el mayor.\n",
    "- El segundo número ingresado es el mayor.\n",
    "- Los números ingresados son iguales. \n",
    "\n",
    "Considere que, para leer un valor por el teclado puede utilizar la función `input()`. \n",
    "\n",
    "<div class=\"alert alert-warning\">Recuerde que deberá convertir el valor leído por el teclado de string a int o float según sea el caso.</div>\n",
    "\n",
    "\n",
    "<div class=\"alert alert-info\">En las siguientes celdas de código podemos probar lo comentado:</div>\n"
   ]
  },
  {
   "cell_type": "code",
   "execution_count": null,
   "id": "1601a38c",
   "metadata": {},
   "outputs": [],
   "source": []
  },
  {
   "cell_type": "code",
   "execution_count": null,
   "id": "111484b0",
   "metadata": {},
   "outputs": [],
   "source": []
  },
  {
   "cell_type": "markdown",
   "id": "1ab23186",
   "metadata": {
    "deletable": false,
    "editable": false,
    "hide_input": true,
    "run_control": {
     "frozen": true
    }
   },
   "source": [
    "**Se pueden evaluar varias condiciones de manera simultánea**, para esto hemos de añadir ramas adicionales al condicional, podemos emplear la sentencia `elif` (abreviatura de else if). En el caso que ninguna de las condiciones se cumpla, al final usamos la sentencia `else:`. Veamos un ejemplo: \n",
    "\n",
    "```python\n",
    "edad = input('Cual es su edad:')\n",
    "edad = int(edad) # convertimos el número ingresado por el teclado del tipo string a tipo int\n",
    "if edad < 34 : \n",
    "    print('Usted es menor a su profesor:')\n",
    "elif edad > 34 : \n",
    "    print('Usted es mayor a su profesor:')\n",
    "else:\n",
    "    print('Usted tiene la misma edad que a su profesor:')  \n",
    "```\n",
    "\n",
    "<div class=\"alert alert-info\">En las siguientes celdas de código podemos probar lo comentado:</div>"
   ]
  },
  {
   "cell_type": "code",
   "execution_count": null,
   "id": "56e60892",
   "metadata": {},
   "outputs": [],
   "source": []
  },
  {
   "cell_type": "code",
   "execution_count": null,
   "id": "96326b13",
   "metadata": {},
   "outputs": [],
   "source": []
  },
  {
   "cell_type": "markdown",
   "id": "0d3288b1",
   "metadata": {
    "deletable": false,
    "editable": false,
    "hide_input": true,
    "run_control": {
     "frozen": true
    }
   },
   "source": [
    "## Estructuras Condicionales usando Operadores Relacionales\n",
    "\n",
    "Recordemos que con las estructuras condicionales, podemos utilizar operadores relacionales o de comparación:\n",
    "\n",
    "- \\>\n",
    "- \\<\n",
    "- \\>=\n",
    "- \\<=\n",
    "- \\==\n",
    "- \\!=\n",
    "\n",
    "Veamos un ejemplo con el operador `==`: \n",
    "\n",
    "<img src=\"images/if3.jpg\" alt=\"Drawing\" style=\"width: 400px;\"/>\n",
    "\n",
    "<div class=\"alert alert-info\">En las siguientes celdas de código podemos probar lo comentado:</div>"
   ]
  },
  {
   "cell_type": "code",
   "execution_count": null,
   "id": "fcdde379",
   "metadata": {},
   "outputs": [],
   "source": []
  },
  {
   "cell_type": "code",
   "execution_count": null,
   "id": "ac9892a4",
   "metadata": {},
   "outputs": [],
   "source": []
  },
  {
   "cell_type": "markdown",
   "id": "a393da66",
   "metadata": {
    "deletable": false,
    "editable": false,
    "hide_input": true,
    "run_control": {
     "frozen": true
    }
   },
   "source": [
    "# Estrucutras de control: Iterativas\n",
    "<br>\n",
    "<div style=\"text-align: justify\">Una vez revisada la estructura condicional if, ahora deberías poder escribir un programa que encuentre el mayor de cuatro, cinco, seis o incluso diez números. Ya conoces el esquema, por lo que ampliar el tamaño del problema no será particularmente complejo. ¿Pero qué sucede si te pedimos que escribas un programa que encuentre el mayor de doscientos números? ¿Te imaginas el código?. Para esto existen las estructuras de control iterativas. <b>Se debe tener cuidado que no se entre en bucles infinitos con condiciones que se cumplan de manera indefinida porque esto puede saturar la memoria y producir errores graves al momento de ejecutar nuestro script en Python</b>. \n",
    "    \n",
    "En Python existen dos tipos de estructuras de control iterativas típicas:</div>\n",
    "\n",
    "- Bucles for\n",
    "- Bucles while\n",
    "\n",
    "\n",
    "# Bucle for\n",
    "\n",
    "En cuanto a los bucles `for` la idea es recorrer un conjunto de elementos. El bucle for, es aquel que nos permitirá iterar sobre una variable compleja, del tipo lista o tupla. Veamos su sintaxis:\n",
    "\n",
    "```python\n",
    "for <elemento> in <objeto iterable>:\n",
    "    <ejecuta una acción>\n",
    "```\n",
    "Veamos los componentes de la estructura iterativa `for`: \n",
    "\n",
    "- Escribimos `for`.\n",
    "- Definimos una variable donde se guardara el valor a iterar en cada ciclo.\n",
    "- Definimos el elemento a iterar que debe tener una longitud finita como un rango o lista.\n",
    "- Cerramos con dos puntos `:`.\n",
    "- El ciclo `for` en Python es un bucle que repite una instrucción un numero determinado de veces que nos proporcione una lista o `list`, o un rango o `range`. Veamos el siguiente ejemplo:\n",
    "\n",
    "<img src=\"images/for1.jpg\" alt=\"Drawing\" style=\"width: 350px;\"/>\n",
    "\n",
    "\n",
    "Veamos otro ejemplo utilizando la función **`range()`**. Esta función retorna una secuencia de números empezando por 0 por defecto e incrementandose en 1 hasta llegar al valor final. Su sintaxis es **`range(start, stop, step)`**.\n",
    "\n",
    "<img src=\"images/for2.jpg\" alt=\"Drawing\" style=\"width: 300px;\"/>\n",
    "\n",
    "<div class=\"alert alert-warning\">Note que en el ejemplo anterior hemos utilizado range(6), lo cuál significa que utilizamos los valores por defecto de start y step de range, es decir range(0, 6, 1).</div>\n",
    "\n",
    "\n",
    "\n",
    "# Ejercicio:\n",
    "\n",
    "Diseñe un programa que solicite al usuario que ingrese un número por el teclado y genere un contador descendente que comienze desde el número ingresado. Puede imprimir en pantalla el valor del contador. Veamos un ejemplo:\n",
    "\n",
    "Valor ingresado 3: <br>\n",
    "Contador: 3<br>\n",
    "Contador: 2<br>\n",
    "Contador: 1<br>\n",
    "Contador: 0<br>\n",
    "\n",
    "<div class=\"alert alert-info\">En las siguientes celdas de código podemos probar lo comentado:</div>"
   ]
  },
  {
   "cell_type": "code",
   "execution_count": null,
   "id": "37ca941f",
   "metadata": {},
   "outputs": [],
   "source": []
  },
  {
   "cell_type": "code",
   "execution_count": null,
   "id": "6a851a0e",
   "metadata": {},
   "outputs": [],
   "source": []
  },
  {
   "cell_type": "markdown",
   "id": "a1c265fa",
   "metadata": {
    "deletable": false,
    "editable": false,
    "hide_input": true,
    "run_control": {
     "frozen": true
    }
   },
   "source": [
    "# Bucle while\n",
    "\n",
    "<br>\n",
    "<div style=\"text-align: justify\">Los bucles while repetiran las sentencias anidadas en él mientras se cumpla una condición. <b>El bucle while, se encarga de ejecutar una misma acción \"mientras que\" una determinada\n",
    "condición se cumpla</b>. El ciclo WHILE ejecuta un fragmento de código mientras una condición preestablecida se\n",
    "cumpla. En general se puede representar de la siguiente manera:</div>\n",
    "\n",
    "```python\n",
    "while conditional_expression:\n",
    "    instruction\n",
    "```\n",
    "\n",
    "Para ejecutar un ciclo `while` se debe seguir los siguientes pasos:\n",
    "\n",
    "- Escribir `while` primeramente\n",
    "- Seguidamente se escribe la condición a evaluar\n",
    "- Se cierra la sentencia con dos puntos `:`\n",
    "- Una instrucción con sangría o un conjunto de instrucciones (se requiere al menos una instrucción)\n",
    "- Actualización de la variable del condicional `while`\n",
    "\n",
    "Por ejemplo, si necesitamos hacer un contador descendente desde 5 podríamos hacerlo así:\n",
    "\n",
    "<img src=\"images/while1.jpg\" alt=\"Drawing\" style=\"width: 300px;\"/>\n",
    "\n",
    "<div class=\"alert alert-info\">En las siguientes celdas de código podemos probar lo comentado:</div>"
   ]
  },
  {
   "cell_type": "code",
   "execution_count": null,
   "id": "4327fe6c",
   "metadata": {},
   "outputs": [],
   "source": []
  },
  {
   "cell_type": "code",
   "execution_count": null,
   "id": "32658536",
   "metadata": {},
   "outputs": [],
   "source": []
  },
  {
   "cell_type": "markdown",
   "id": "816d92f7",
   "metadata": {
    "deletable": false,
    "editable": false,
    "hide_input": true,
    "run_control": {
     "frozen": true
    }
   },
   "source": [
    "Sin embargo, **los bucles infinitos pueden ser muy útiles** como en el siguiente ejemplo donde pedimos que el usuario ingrese palabras de manera indefinida hasta que introduzca la palabra “salir”.\n",
    "\n",
    "```python\n",
    "palabra = ''\n",
    "while palabra != 'salir':\n",
    "    palabra = input('Ingrese palabra:')\n",
    "```"
   ]
  },
  {
   "cell_type": "code",
   "execution_count": null,
   "id": "b6a3970c",
   "metadata": {},
   "outputs": [],
   "source": []
  },
  {
   "cell_type": "code",
   "execution_count": null,
   "id": "59bad435",
   "metadata": {},
   "outputs": [],
   "source": []
  },
  {
   "cell_type": "markdown",
   "id": "dc9f3ecd",
   "metadata": {
    "deletable": false,
    "editable": false,
    "hide_input": true,
    "run_control": {
     "frozen": true
    }
   },
   "source": [
    "# Sentencia  break\n",
    "\n",
    "Además de la ruptura estándar del bucle `while` cuando esta condición se evalúa como falsa o `False`, también se puede romper el bucle while utilizando la instrucción de interrupción de Python denominada `break`.La sentencia `break` nos permite salir del bucle infinito. Veamos cuál es la sintaxis de la sentencia break:\n",
    "\n",
    "```python\n",
    "while condition:\n",
    "    # bloque de código\n",
    "    if break_condition :\n",
    "        break\n",
    "```\n",
    "\n",
    "Por lo general, la instrucción break se escribe dentro del bucle `while` y se ejecuta en función de una condición. De lo contrario, el bucle podría romperse en la primera iteración. La sintaxis anterior muestra una sentencia condicional `if` que actúa como ramificación condicional para la instrucción `break`. Veamos un ejemplo:\n",
    "\n",
    "```python\n",
    "palabra = ''\n",
    "while True:\n",
    "    palabra = input('Ingrese palabra:')\n",
    "    if palabra == 'salir':\n",
    "        break\n",
    "```\n",
    "\n",
    "<div class=\"alert alert-info\">Note que, si en el anterior ejemplo olvidamos descontar la unidad en cada iteración este ciclo se repetiría indefinidamente.</div>"
   ]
  },
  {
   "cell_type": "code",
   "execution_count": null,
   "id": "14c916d3",
   "metadata": {},
   "outputs": [],
   "source": []
  },
  {
   "cell_type": "code",
   "execution_count": null,
   "id": "07f30703",
   "metadata": {},
   "outputs": [],
   "source": []
  },
  {
   "cell_type": "markdown",
   "id": "84f55c26",
   "metadata": {
    "deletable": false,
    "editable": false,
    "hide_input": true,
    "run_control": {
     "frozen": true
    }
   },
   "source": [
    "\n",
    "***\n",
    "# <center>Tarea 1: Módulo 3 </center>\n",
    "\n",
    "***\n",
    "\n",
    "\n",
    "\n",
    "# E1: Estructuras condicionales \n",
    "\n",
    "## Objetivos\n",
    "Familiarizar al estudiante con:\n",
    "\n",
    "- Utilizar la sentencia if-elif-else.\n",
    "- Encontrar la implementación adecuada de las reglas definidas verbalmente.\n",
    "- Emplear el código de prueba empleando entradas y salidas de muestra.\n",
    "\n",
    "## Escenario: \n",
    "\n",
    "Como seguramente sabrás, debido a algunas razones astronómicas, el año pueden ser bisiesto o común. Los primeros tienen una duración de 366 días, mientras que los últimos tienen una duración de 365 días.\n",
    "Desde la introducción del calendario Gregoriano (en 1582), se utiliza la siguiente regla para determinar el tipo de año:\n",
    "\n",
    "- Si el número del año no es divisible entre cuatro, es un año común.\n",
    "- De lo contrario, si el número del año no es divisible entre 100, es un año bisiesto.\n",
    "- De lo contrario, si el número del año no es divisible entre 400, es un año común.\n",
    "- De lo contrario, es un año bisiesto.\n",
    "\n",
    "Observa el código en el editor: solo lee un número de año y debe completarse con las instrucciones que implementan la prueba que acabamos de describir.\n",
    "\n",
    "**El código debe mostrar uno de los dos mensajes posibles, que son `Año Bisiesto` o `Año Común`, según el valor ingresado.**\n",
    "\n",
    "Sería bueno verificar si el año ingresado cae en la era Gregoriana y emitir una advertencia de lo contrario: `No dentro del período del calendario Gregoriano`. Consejo: utiliza los operadores != y %.\n",
    "\n",
    "Prueba tu código con los datos que hemos proporcionado:\n",
    "\n",
    "## Datos de Prueba\n",
    "***\n",
    "Entrada de muestra: 2000\n",
    "Resultado esperado: Año Bisiesto\n",
    "***\n",
    "Entrada de muestra: 2015\n",
    "Resultado esperado: Año Común\n",
    "***\n",
    "Entrada de muestra: 1999\n",
    "Resultado esperado: Año Común\n",
    "***\n",
    "Entrada de muestra: 1996\n",
    "Resultado esperado: Año Bisiesto\n",
    "***\n",
    "Entrada de muestra: 1580\n",
    "Resultado esperado: No esta dentro del período del calendario Gregoriano\n",
    "***\n",
    "\n",
    "\n",
    "<div class=\"alert alert-info\">En las siguientes celdas de código podemos probar el ejercicio propuesto:</div>\n"
   ]
  },
  {
   "cell_type": "code",
   "execution_count": null,
   "id": "341e1e35",
   "metadata": {},
   "outputs": [],
   "source": []
  },
  {
   "cell_type": "code",
   "execution_count": null,
   "id": "fc0d4366",
   "metadata": {},
   "outputs": [],
   "source": []
  },
  {
   "cell_type": "markdown",
   "id": "b8d1f542",
   "metadata": {
    "deletable": false,
    "editable": false,
    "hide_input": true,
    "run_control": {
     "frozen": true
    }
   },
   "source": [
    "# E2: Estructuras Iterativas\n",
    "\n",
    "Diseñe un programa que solicite al usuario que ingrese un número y calcule el factorial de dicho número. En matemáticas, el factorial de un número es igual al producto de todos los números enteros positivos desde 1 hasta dicho número. Además, el factorial de un número se representa con un signo de exclamación (!) detrás del número. Veamos un ejemplo:\n",
    "\n",
    "4! = 4 x 3 x 2 x 1 = 24\n",
    "\n",
    "<div class=\"alert alert-info\">En las siguientes celdas de código podemos probar el ejercicio propuesto:</div>"
   ]
  },
  {
   "cell_type": "code",
   "execution_count": null,
   "id": "19494940",
   "metadata": {},
   "outputs": [],
   "source": []
  },
  {
   "cell_type": "code",
   "execution_count": null,
   "id": "a96e0f72",
   "metadata": {},
   "outputs": [],
   "source": []
  }
 ],
 "metadata": {
  "celltoolbar": "Edit Metadata",
  "hide_input": false,
  "kernelspec": {
   "display_name": "Python 3 (ipykernel)",
   "language": "python",
   "name": "python3"
  },
  "language_info": {
   "codemirror_mode": {
    "name": "ipython",
    "version": 3
   },
   "file_extension": ".py",
   "mimetype": "text/x-python",
   "name": "python",
   "nbconvert_exporter": "python",
   "pygments_lexer": "ipython3",
   "version": "3.9.7"
  }
 },
 "nbformat": 4,
 "nbformat_minor": 5
}
