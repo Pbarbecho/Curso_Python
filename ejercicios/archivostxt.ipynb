{
 "cells": [
  {
   "cell_type": "markdown",
   "id": "0d3288b1",
   "metadata": {
    "deletable": false,
    "editable": false,
    "hide_input": true,
    "run_control": {
     "frozen": true
    }
   },
   "source": [
    "# <center> Manejo de Archivos de Texto </center> \n",
    "<center>  <img src=\"../images/logo.png\" alt=\"Drawing\" style=\"width: 200px;\"/> </center> \n",
    "\n",
    "# <center> Aprendizaje Interactivo </center> \n",
    "\n",
    "En este cuaderno aprenderemos sobre las funciones para crear y manipular archivos, ya sean archivos planos o\n",
    "archivos de texto. `IO` es el módulo predeterminado para acceder a los archivos.\n",
    "\n",
    "Las principales funciones para el manejo de archivos en Python incluyen apertura, cierre y lectura de archivos.\n",
    "\n",
    "\n",
    "<img src=\"images/txt.jpg\" alt=\"Drawing\" style=\"width: 300px;\"/> \n",
    "\n",
    "\n",
    "Para trabajar con un fichero o archivo de texto se suele seguir un `protocolo de tres pasos`:\n",
    "\n",
    "\n",
    "1. **Abrir el fichero** indicando su ruta (relativa o absoluta) y el modo de trabajo. Hay varios modos de trabajo como podemos ver en la Tabla: \n",
    "\n",
    "      - **Lectura**: es posible leer información del fichero, pero no modificarla ni añadir nueva información.\n",
    "      - **Escritura**: sólo es posible escribir información en el fichero. Por regla general, la apertura de un fichero en modo escritura borra todo el contenido previo del mismo.\n",
    "      - **Lectura/escritura**: permite leer y escribir información del fichero.\n",
    "      - **Adición o apéndice**: permite añadir nueva información al fichero, pero no modificar la ya existente.\n",
    "      \n",
    "\n",
    "1. **Leer o escribir** la información que desees.\n",
    "1. **Cerrar el fichero**: Es importante que sigas siempre estos tres pasos. Es particularmente probable que olvides cerrar el fichero, pues Python no detectara esta circunstancia como un fallo del programa. **El no cerrar un fichero se considera un grave error de programación**. Si no cierras el fichero, es posible que los cambios que hayas efectuado se pierdan o, que el fichero se corrompa.\n",
    "\n",
    "\n",
    "Las principales funciones para el manejo de archivos en Python incluyen apertura, cierre y lectura de archivos.\n",
    "\n",
    "**Objetivos**:\n",
    "\n",
    "- Conocer como interacturar con archivos de texto usandos el módulo IO.\n",
    "\n",
    "\n",
    "## Referencias\n",
    "\n",
    " * The Python Language Reference: https://docs.python.org/3/reference/index.html\n",
    " * The Python Standard Library: https://docs.python.org/3/library/index.html\n",
    " * IBM Jupyter notebooks cheatsheet https://www.ibm.com/docs/en/db2-event-store/2.0.0?topic=notebooks-markdown-jupyter-cheatsheet   \n",
    " \n",
    "***"
   ]
  },
  {
   "cell_type": "markdown",
   "id": "74afd7bf",
   "metadata": {
    "deletable": false,
    "editable": false,
    "hide_input": true,
    "run_control": {
     "frozen": true
    }
   },
   "source": [
    "# <center> Apertura de un archivo de texto </center>\n",
    "\n",
    "## Método open()\n",
    "\n",
    "Para abrir un archivo se utiliza el método `open()`, al cuál se le pasa el `path` o ruta relativa o absoluta donde reside el archivo. **Además, se le indica el modo de operación**. En la Tabla anterior, podemos ver los diferentes modos de operación. Por ejemplo para abrir un archivo en modo de escritura el argumento es `w`. \n",
    "\n",
    "Veamos un ejemplo del procedimiento para abrir un archivo, modificarlo y cerrar:\n",
    "\n",
    "```python\n",
    "archivo = open('archivo.txt', 'w') # abrimos el archivo en modo w-write o escritura\n",
    "archivo.write('Hola mundo')        # modificamos el contenido del archivo\n",
    "archivo.close()                    # cerramos el archivo\n",
    "```\n",
    "\n",
    "## Método de strings split()\n",
    "\n",
    "El método split() divide una cadena de caracteres en una lista. Se puede especificar el separador de los caracteres. El separador predeterminado es cualquier espacio en blanco. Este método es útil por ejemplo para contar el número de parabras en un texto. \n",
    "\n",
    "```python\n",
    "archivo = open('archivo.txt', 'w') # abrimos el archivo en modo w-write o escritura\n",
    "archivo.write('Hola mundo')        # modificamos el contenido del archivo\n",
    "archivo.close()                    # cerramos el archivo\n",
    "\n",
    "archivo = open('archivo.txt', 'r') # abrimos el archivo en modo w-write o escritura\n",
    "content = archivo.read()        # modificamos el contenido del archivo\n",
    "archivo.close()                    # cerramos el archivo\n",
    "\n",
    "palabras = content.split() # devuelve una lista con los elementos separados por el separador split(SEPARADOR)\n",
    "len(palabras)  # la función len() nos permite contar el número de elementos de una lista\n",
    "```\n",
    "\n",
    "\n",
    "<div class=\"alert alert-info\">En las siguientes celdas de código podemos probar el ejercicio propuesto:</div>"
   ]
  },
  {
   "cell_type": "code",
   "execution_count": null,
   "id": "8af09425",
   "metadata": {},
   "outputs": [],
   "source": []
  },
  {
   "cell_type": "code",
   "execution_count": null,
   "id": "5e405166",
   "metadata": {},
   "outputs": [],
   "source": []
  },
  {
   "cell_type": "markdown",
   "id": "0ba94866",
   "metadata": {
    "deletable": false,
    "editable": false,
    "hide_input": true,
    "run_control": {
     "frozen": true
    }
   },
   "source": [
    "# <center> Lectura de un archivo de texto </center>\n",
    " \n",
    "## Método read() \n",
    " \n",
    "Para leer un archivo usamos el método `read()` o lectura. En la tabla anterior podemos ver que para leer un archivo, podemos abrir el archivo en modo `r`-read o lectura. \n",
    "\n",
    "\n",
    "```python\n",
    "archivo = open('archivo.txt', 'r') # abrimos el archivo en modo r-read o lectura\n",
    "texto = archivo.read()             # el método read() nos permite leer el contenido del archivo\n",
    "archivo.close()                    # cerramos el archivo\n",
    "print(texto)                       #podemos imprimir en pantalla el contenido \n",
    "```\n",
    "\n",
    "Note que a pesar que el cerramos el archivo el contenido del mismo se queda almacenado en la variable `texto`. Además para el caso del ejemplo, como abrimo es archivo en modo lectura `r`, no podemos modificar el contenido; es decir no podemos ejecutar el método `write()`."
   ]
  },
  {
   "cell_type": "code",
   "execution_count": null,
   "id": "5cc7d9ea",
   "metadata": {},
   "outputs": [],
   "source": []
  },
  {
   "cell_type": "code",
   "execution_count": null,
   "id": "e6a7bc96",
   "metadata": {},
   "outputs": [],
   "source": []
  },
  {
   "cell_type": "markdown",
   "id": "94beaa27",
   "metadata": {
    "deletable": false,
    "editable": false,
    "hide_input": true,
    "run_control": {
     "frozen": true
    }
   },
   "source": [
    "## Método readlines() \n",
    "\n",
    "Otro método que suele ser de utilidad es el `readlines()`. Este nos permite leer un archivo de texto línea por línea. El output o salida del método es una lista, donde cada elemento corresponde con una línea del archivo. Veamos un ejemplo con nuestro archivo libro.txt. \n",
    "\n",
    "```python\n",
    "archivo = open('libro.txt', 'r') # abrimos el archivo en modo r-read o lectura\n",
    "texto = archivo.readlines()             # el método read() nos permite leer el contenido del archivo\n",
    "archivo.close()                    # cerramos el archivo\n",
    "print(texto)                       #podemos imprimir en pantalla el contenido \n",
    "```\n",
    "\n",
    "\n",
    "<div class=\"alert alert-info\">En las siguientes celdas de código podemos probar el ejercicio propuesto:</div>"
   ]
  },
  {
   "cell_type": "code",
   "execution_count": null,
   "id": "2c02addf",
   "metadata": {},
   "outputs": [],
   "source": []
  },
  {
   "cell_type": "code",
   "execution_count": null,
   "id": "60bf2d4f",
   "metadata": {},
   "outputs": [],
   "source": []
  },
  {
   "cell_type": "markdown",
   "id": "611cc9b8",
   "metadata": {
    "deletable": false,
    "editable": false,
    "hide_input": true,
    "run_control": {
     "frozen": true
    }
   },
   "source": [
    "# Ejercicio 1:\n",
    "\n",
    "Cree un archivo y modifique su contenido agregando una secuencia de números del 1 al 1000. Muestre su contenido en pantalla. \n"
   ]
  },
  {
   "cell_type": "code",
   "execution_count": null,
   "id": "4fe3b276",
   "metadata": {},
   "outputs": [],
   "source": []
  },
  {
   "cell_type": "code",
   "execution_count": null,
   "id": "0d4f6da1",
   "metadata": {},
   "outputs": [],
   "source": []
  },
  {
   "cell_type": "markdown",
   "id": "2004d060",
   "metadata": {
    "deletable": false,
    "editable": false,
    "hide_input": true,
    "run_control": {
     "frozen": true
    }
   },
   "source": [
    "# Ejercicio 2:\n",
    "\n",
    "Intente leer el archivo `'libro.txt'` que corresponde a una libro disponible en formato txt en el cuaderno de jupyter. Muestre su contenido en pantalla. \n"
   ]
  },
  {
   "cell_type": "code",
   "execution_count": null,
   "id": "4859dfaa",
   "metadata": {},
   "outputs": [],
   "source": []
  },
  {
   "cell_type": "code",
   "execution_count": null,
   "id": "34543eb4",
   "metadata": {},
   "outputs": [],
   "source": []
  },
  {
   "cell_type": "markdown",
   "id": "caa0b480",
   "metadata": {
    "deletable": false,
    "editable": false,
    "hide_input": true,
    "run_control": {
     "frozen": true
    }
   },
   "source": [
    "# <center> Modificación de un archivo de texto </center>\n",
    "    \n",
    "Para modificar un archivo existente, basta con abrir el archivo en modo `a`-append o adjuntar. En la tabla anterior podemos ver que para abrir un archivo en modo append usamos `a`. En el caso que el archivo exista, el texto por defecto se agrega al final del archivo. Caso contrario si no existe el archivo, se crea uno nuevo. \n",
    "\n",
    "\n",
    "```python\n",
    "archivo = open('file.txt', 'a') # abrimos el archivo en modo a-append o adjuntar\n",
    "archivo.write('Pedro ')             # el método write() nos permite escribir nuevo contenido al archivo\n",
    "archivo.close()                    # cerramos el archivo\n",
    "```\n",
    "\n",
    "Recuerde que para leer el archivo, pordemos abrirlo en modo lectura: \n",
    "\n",
    "```python\n",
    "archivo = open('file.txt', 'r') # abrimos el archivo en modo r-read o lectura\n",
    "texto = archivo.read()             # el método read() nos permite leer el contenido del archivo\n",
    "archivo.close()                    # cerramos el archivo\n",
    "print(texto)                       #podemos imprimir en pantalla el contenido \n",
    "```\n",
    "\n",
    "Note que en caso que el archivo no exista, se creará uno nuevo. En caso que el archivo exista se agregará texto al final del archivo. "
   ]
  },
  {
   "cell_type": "code",
   "execution_count": null,
   "id": "fc66d467",
   "metadata": {},
   "outputs": [],
   "source": []
  },
  {
   "cell_type": "code",
   "execution_count": null,
   "id": "a26f02de",
   "metadata": {},
   "outputs": [],
   "source": []
  },
  {
   "cell_type": "markdown",
   "id": "be0f2632",
   "metadata": {
    "deletable": false,
    "editable": false,
    "hide_input": true,
    "run_control": {
     "frozen": true
    }
   },
   "source": [
    "# Ejercicio 3:\n",
    "\n",
    "Cree una lista de nombres de alumnos. Agrege de manera iterativa cada nombre a un archivo de texto. Puede utilizar el modo append de operación de archivos de texto. \n",
    "\n",
    "\n",
    "<div class=\"alert alert-info\">En las siguientes celdas de código podemos probar el ejercicio propuesto:</div>"
   ]
  },
  {
   "cell_type": "code",
   "execution_count": null,
   "id": "56b20142",
   "metadata": {},
   "outputs": [],
   "source": []
  },
  {
   "cell_type": "code",
   "execution_count": null,
   "id": "579088f9",
   "metadata": {},
   "outputs": [],
   "source": []
  },
  {
   "cell_type": "markdown",
   "id": "d2ebdde2",
   "metadata": {
    "deletable": false,
    "editable": false,
    "hide_input": true,
    "run_control": {
     "frozen": true
    }
   },
   "source": [
    "***\n",
    "# <center>Ejercicios Propuestos</center>\n",
    "***\n",
    "\n",
    "## Objetivos\n",
    "\n",
    "Familiarizar al estudiante con:\n",
    "\n",
    "- Manejo de archivos de texto en Python\n",
    "\n",
    "\n",
    "\n",
    "# Enunciado del Problema E1: \n",
    "\n",
    "\n",
    "Utilizando nuestro archivo libro.txt disponible dentro del cuaderno de jupyter, realiza las siguientes operaciones: \n",
    "\n",
    "1. Vamos a crear una función que cuente el número de líneas de un archivo de texto. Recuerde, puede usar el método `readlines()`.\n",
    "1. Vamos a agregar 5 líneas en el archivo libro.txt\n",
    "1. Vamos a mostrar las últimas 5 líneas del archivo libro.txt\n",
    "1. Vamos a contar el número de palabras del archivo.txt. Recuerde puede usar el método `split()`.\n",
    "\n",
    "\n",
    "<div class=\"alert alert-info\">En las siguientes celdas de código podemos probar el ejercicio propuesto:</div>"
   ]
  },
  {
   "cell_type": "code",
   "execution_count": null,
   "id": "58ec8e89",
   "metadata": {},
   "outputs": [],
   "source": []
  },
  {
   "cell_type": "code",
   "execution_count": null,
   "id": "de8433bb",
   "metadata": {},
   "outputs": [],
   "source": []
  },
  {
   "cell_type": "code",
   "execution_count": null,
   "id": "f88da7d3",
   "metadata": {},
   "outputs": [],
   "source": []
  }
 ],
 "metadata": {
  "celltoolbar": "Edit Metadata",
  "hide_input": false,
  "kernelspec": {
   "display_name": "Python 3 (ipykernel)",
   "language": "python",
   "name": "python3"
  },
  "language_info": {
   "codemirror_mode": {
    "name": "ipython",
    "version": 3
   },
   "file_extension": ".py",
   "mimetype": "text/x-python",
   "name": "python",
   "nbconvert_exporter": "python",
   "pygments_lexer": "ipython3",
   "version": "3.9.7"
  }
 },
 "nbformat": 4,
 "nbformat_minor": 5
}
