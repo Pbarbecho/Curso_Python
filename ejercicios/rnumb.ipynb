{
 "cells": [
  {
   "cell_type": "markdown",
   "id": "d0d68dce",
   "metadata": {},
   "source": [
    "## Random Number"
   ]
  },
  {
   "cell_type": "code",
   "execution_count": null,
   "id": "a0b5c38f",
   "metadata": {},
   "outputs": [],
   "source": [
    "import random\n",
    "\n",
    "numlist = []\n",
    "number = random.randint(1, 8)\n",
    "numlist.append(number)\n",
    "\n",
    "\n",
    "while len(numlist)<=7:\n",
    "    number = random.randint(1, 8)\n",
    "    while number not in numlist:\n",
    "        numlist.append(number)\n",
    "print(numlist)"
   ]
  }
 ],
 "metadata": {
  "hide_input": false,
  "kernelspec": {
   "display_name": "Python 3 (ipykernel)",
   "language": "python",
   "name": "python3"
  },
  "language_info": {
   "codemirror_mode": {
    "name": "ipython",
    "version": 3
   },
   "file_extension": ".py",
   "mimetype": "text/x-python",
   "name": "python",
   "nbconvert_exporter": "python",
   "pygments_lexer": "ipython3",
   "version": "3.9.7"
  }
 },
 "nbformat": 4,
 "nbformat_minor": 5
}
