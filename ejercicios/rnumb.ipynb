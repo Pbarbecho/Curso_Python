{
 "cells": [
  {
   "cell_type": "markdown",
   "id": "eb79a0f2",
   "metadata": {},
   "source": [
    "# Genere un numero entre 1-8"
   ]
  },
  {
   "cell_type": "code",
   "execution_count": null,
   "id": "2d8a7df3",
   "metadata": {},
   "outputs": [],
   "source": [
    "import random\n",
    "\n",
    "number = random.randint(1, 8)\n",
    "print(number)"
   ]
  }
 ],
 "metadata": {
  "hide_input": false,
  "kernelspec": {
   "display_name": "Python 3 (ipykernel)",
   "language": "python",
   "name": "python3"
  },
  "language_info": {
   "codemirror_mode": {
    "name": "ipython",
    "version": 3
   },
   "file_extension": ".py",
   "mimetype": "text/x-python",
   "name": "python",
   "nbconvert_exporter": "python",
   "pygments_lexer": "ipython3",
   "version": "3.9.7"
  }
 },
 "nbformat": 4,
 "nbformat_minor": 5
}
