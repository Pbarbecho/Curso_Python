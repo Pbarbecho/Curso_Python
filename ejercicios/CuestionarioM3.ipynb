{
 "cells": [
  {
   "cell_type": "markdown",
   "id": "18d9cdcf",
   "metadata": {
    "deletable": false,
    "editable": false,
    "hide_input": true,
    "run_control": {
     "frozen": true
    }
   },
   "source": [
    "# <center>Módulo 3: Ejercicios Evaluativos</center>\n",
    "# <center> Estructuras de Control </center>\n",
    "\n",
    "En éste módulo no tendremos un cuestionario evaluativo. En cambio tenemos este cuaderno de ejercicios. Está compuesto por 3 ejercicios de la vida real. \n",
    "\n",
    "\n",
    "Se espera de los estudiantes lo siguiente:\n",
    "\n",
    "1. Revisar la guía del Módulos 3: [Estructuras de Control](https://issuu.com/hsoria-puce.edu/docs/int_python_-_g3)\n",
    "1. Revisar la [Presentación introductoria del Módulo 3](https://view.genial.ly/62bc4d0fbda0430018cf8be5).\n",
    "1. Consultar los videos introductorios a las estructuras de control\n",
    "1. Realizar las tareas y ejercicios planteados en el [Cuaderno de Jupyter del Módulo 3](https://mybinder.org/v2/gh/Pbarbecho/Curso_Python.git/main?labpath=bucles.ipynb). \n",
    "1. Por último, el estudiante estará preparado para realizar este cuaderno evaluativo. \n",
    "1. El estudiante debe subir este cuaderno de Jupyter resuelto en el apartado [Cuestionario M3](https://formacionespecializada.puce.edu.ec/2021/mod/assign/view.php?id=18039)\n",
    "\n"
   ]
  },
  {
   "cell_type": "markdown",
   "id": "f64ae857",
   "metadata": {
    "deletable": false,
    "editable": false,
    "hide_input": true,
    "run_control": {
     "frozen": true
    }
   },
   "source": [
    "***\n",
    "# <center>Ejercicios Propuestos</center>\n",
    "***\n",
    "\n",
    "\n",
    "# E1: Estructuras Condicionales\n",
    "\n",
    "## Objetivos\n",
    "\n",
    "Familiarizar al estudiante con:\n",
    "\n",
    "- Utilizar la sentencia if-else para ramificar la ruta de control.\n",
    "- Construir un programa completo que resuelva problemas simples de la vida real.\n",
    "\n",
    "\n",
    "# Enunciado del Problema E1: \n",
    "\n",
    "Érase una vez una tierra de leche y miel, habitada por gente feliz y próspera. La gente pagaba impuestos, por supuesto, su felicidad tenía límites. El impuesto más importante, denominado Impuesto Personal de Ingresos (IPI, para abreviar) tenía que pagarse una vez al año y se evaluó utilizando la siguiente regla:\n",
    "\n",
    "- Si el ingreso del ciudadano no era superior a 85,528 pesos, el impuesto era igual al 18% del ingreso menos 556 pesos y 2 centavos (esta fue la llamada exención fiscal ).\n",
    "- Si el ingreso era superior a esta cantidad, el impuesto era igual a 14,839 pesos y 2 centavos, más el 32% del excedente sobre 85,528 pesos.\n",
    "\n",
    "**Tu tarea es escribir una calculadora de impuestos.**\n",
    "\n",
    "- Debe aceptar un valor de punto flotante: el ingreso.\n",
    "- A continuación, debe imprimir el impuesto calculado, redondeado a pesos totales. Hay una función llamada `round()` que hará el redondeo por ti, la encontrarás en el código de esqueleto del editor.\n",
    "\n",
    "Nota: Este país feliz nunca devuelve dinero a sus ciudadanos. Si el impuesto calculado es menor que cero, solo significa que no hay impuesto (el impuesto es igual a cero). Ten esto en cuenta durante tus cálculos.\n",
    "Observa el código en el editor: solo lee un valor de entrada y genera un resultado, por lo que debes completarlo con algunos cálculos inteligentes.\n",
    "\n",
    "Prueba tu código con los datos que hemos proporcionado.\n",
    "\n",
    "## Datos de Prueba\n",
    "***\n",
    "Entrada de muestra: 10000\n",
    "Resultado esperado: El impuesto es: 1244.0 pesos\n",
    "***\n",
    "Entrada de muestra: 100000\n",
    "Resultado esperado: El impuesto es: 19470.0 pesos\n",
    "***\n",
    "Entrada de muestra: 1000\n",
    "Resultado esperado: El impuesto es: 0.0 pesos\n",
    "*** \n",
    "Entrada de muestra: -100\n",
    "Resultado esperado: El impuesto es: 0.0 pesos\n",
    "***\n",
    "\n",
    "<div class=\"alert alert-info\">En las siguientes celdas de código podemos probar el ejercicio propuesto:</div>"
   ]
  },
  {
   "cell_type": "code",
   "execution_count": null,
   "id": "4dd2a456",
   "metadata": {},
   "outputs": [],
   "source": []
  },
  {
   "cell_type": "code",
   "execution_count": null,
   "id": "30b24570",
   "metadata": {},
   "outputs": [],
   "source": []
  },
  {
   "cell_type": "markdown",
   "id": "f48f4667",
   "metadata": {
    "deletable": false,
    "editable": false,
    "hide_input": true,
    "run_control": {
     "frozen": true
    }
   },
   "source": [
    "# E2: Estructuras Iterativas\n",
    "\n",
    "## Objetivo\n",
    "\n",
    "Familiarizar al estudiante con:\n",
    "\n",
    "- Utilizar el bucle for.\n",
    "- Reflejar situaciones de la vida real en código de computadora.\n",
    "\n",
    "## Escenario del Problemas E2:\n",
    "\n",
    "¿Sabes lo que es Mississippi? Bueno, es el nombre de uno de los estados y ríos en los Estados Unidos. El río Mississippi tiene aproximadamente 2,340 millas de largo, lo que lo convierte en el segundo río más largo de los Estados Unidos (el más largo es el río Missouri). ¡Es tan largo que una sola gota de agua necesita 90 días para recorrer toda su longitud!\n",
    "\n",
    "La palabra Mississippi también se usa para un propósito ligeramente diferente: para contar mississippily (mississippimente).\n",
    "\n",
    "Si no estás familiarizado con la frase, estamos aquí para explicarte lo que significa: se utiliza para contar segundos.\n",
    "\n",
    "La idea detrás de esto es que agregar la palabra Mississippi a un número al contar los segundos en voz alta hace que suene más cercano al reloj, y por lo tanto \"un Mississippi, dos Mississippi, tres Mississippi\" tomará aproximadamente unos tres segundos reales de tiempo. A menudo lo usan los niños que juegan al escondite para asegurarse de que el buscador haga un conteo honesto.\n",
    "\n",
    "\n",
    "**Tu tarea es muy simple aquí**: escribe un programa que use un bucle for para \"contar de forma mississippi\" hasta cinco. Habiendo contado hasta cinco, el programa debería imprimir en la pantalla el mensaje final `\"¡Listos o no, ahí voy!\"`\n",
    "\n",
    "\n",
    "## Salida esperada\n",
    "```python\n",
    "1 Mississippi\n",
    "2 Mississippi\n",
    "3 Mississippi\n",
    "4 Mississippi\n",
    "5 Mississippi\n",
    "¡Listos o no, ahí voy!\n",
    "```\n",
    "\n",
    "\n"
   ]
  },
  {
   "cell_type": "code",
   "execution_count": null,
   "id": "b56e436e",
   "metadata": {},
   "outputs": [],
   "source": []
  },
  {
   "cell_type": "code",
   "execution_count": null,
   "id": "62b4ab7d",
   "metadata": {},
   "outputs": [],
   "source": []
  },
  {
   "cell_type": "markdown",
   "id": "a0e84446",
   "metadata": {
    "deletable": false,
    "editable": false,
    "hide_input": true,
    "run_control": {
     "frozen": true
    }
   },
   "source": [
    "# E3: Estructuras iterativas \n",
    "\n",
    "## Objetivos\n",
    "\n",
    "Familiarizar al estudiante con:\n",
    "- Utilizar el bucle while.\n",
    "- Reflejar situaciones de la vida real en código de computadora.\n",
    "\n",
    "## Escenario del Problema E3: \n",
    "\n",
    "Un mago junior ha elegido un número secreto. Lo ha escondido en una variable llamada secret_number. Quiere que todos los que ejecutan su programa jueguen el juego Adivina el número secreto, y adivina qué número ha elegido para ellos. ¡Quiénes no adivinen el número quedarán atrapados en un bucle sin fin para siempre! Desafortunadamente, él no sabe cómo completar el código. **Tu tarea es ayudar al mago a completar el código en el editor de tal manera que el código:**\n",
    "\n",
    "- Pedirá al usuario que ingrese un número entero.\n",
    "- Utilizará un bucle while.\n",
    "- Comprobará si el número ingresado por el usuario es el mismo que el número escogido por el mago. Si el número elegido por el usuario es diferente al número secreto del mago, el usuario debería ver el mensaje `\"¡Ja, ja! ¡Estás atrapado en mi bucle!\"` y se le solicitará que ingrese un número nuevamente. Si el número ingresado por el usuario coincide con el número escogido por el mago, el número debe imprimirse en la pantalla, y el mago debe decir las siguientes palabras: `\"¡Bien hecho, muggle! Eres libre ahora\"`.\n",
    "\n",
    "**¡El mago está contando contigo! No lo decepciones.**\n",
    "\n",
    "<div class=\"alert alert-info\">En las siguientes celdas de código podemos probar el ejercicio propuesto:</div>"
   ]
  },
  {
   "cell_type": "code",
   "execution_count": null,
   "id": "1827ef68",
   "metadata": {},
   "outputs": [],
   "source": []
  },
  {
   "cell_type": "code",
   "execution_count": null,
   "id": "1d47194d",
   "metadata": {},
   "outputs": [],
   "source": []
  }
 ],
 "metadata": {
  "celltoolbar": "Edit Metadata",
  "hide_input": false,
  "kernelspec": {
   "display_name": "Python 3 (ipykernel)",
   "language": "python",
   "name": "python3"
  },
  "language_info": {
   "codemirror_mode": {
    "name": "ipython",
    "version": 3
   },
   "file_extension": ".py",
   "mimetype": "text/x-python",
   "name": "python",
   "nbconvert_exporter": "python",
   "pygments_lexer": "ipython3",
   "version": "3.9.7"
  }
 },
 "nbformat": 4,
 "nbformat_minor": 5
}
