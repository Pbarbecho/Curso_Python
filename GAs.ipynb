{
  "nbformat": 4,
  "nbformat_minor": 0,
  "metadata": {
    "colab": {
      "provenance": [],
      "authorship_tag": "ABX9TyNgkFDbIw6muWkKl8CBF3qa",
      "include_colab_link": true
    },
    "kernelspec": {
      "name": "python3",
      "display_name": "Python 3"
    },
    "language_info": {
      "name": "python"
    }
  },
  "cells": [
    {
      "cell_type": "markdown",
      "metadata": {
        "id": "view-in-github",
        "colab_type": "text"
      },
      "source": [
        "<a href=\"https://colab.research.google.com/github/Pbarbecho/Curso_Python/blob/main/GAs.ipynb\" target=\"_parent\"><img src=\"https://colab.research.google.com/assets/colab-badge.svg\" alt=\"Open In Colab\"/></a>"
      ]
    },
    {
      "cell_type": "markdown",
      "source": [
        "# Install Requirements\n"
      ],
      "metadata": {
        "id": "17ZTbfdlonys"
      }
    },
    {
      "cell_type": "code",
      "execution_count": null,
      "metadata": {
        "id": "ychGSGO9oEzf"
      },
      "outputs": [],
      "source": [
        "# Install library GA\n",
        "!pip install geneticalgorithm"
      ]
    },
    {
      "cell_type": "code",
      "source": [
        "import numpy as np\n",
        "from geneticalgorithm import geneticalgorithm as ga"
      ],
      "metadata": {
        "id": "Y5pRlNYKoW6f"
      },
      "execution_count": 3,
      "outputs": []
    },
    {
      "cell_type": "code",
      "source": [
        "def f(x):\n",
        "    penalization = 0\n",
        "    if not 12*x[0]+x[1]+4*x[2]+x[3]+2*x[4]<=15: penalization = np.inf\n",
        "    return -(4*x[0]+2*x[1]+ 10*x[2] + x[3] + 2*x[4]) + penalization\n",
        "\n",
        "varbounds = np.array([[0,10],[0,10],[0,10],[0,10],[0,10]])\n",
        "vartype = np.array([['int'],['int'],['int'],['int'],['int']])\n",
        "\n",
        "algorithm_param = {'max_num_iteration':1000,\\\n",
        "                   'population_size':100,\\\n",
        "                   'mutation_probability':0.1,\\\n",
        "                   'crossover_probability':0.8,\\\n",
        "                   'parents_portion':0.3,\\\n",
        "                    'elit_ratio':0.01,\\\n",
        "                    'crossover_type':'uniform',\\\n",
        "                    'max_iteration_without_improv':None}"
      ],
      "metadata": {
        "id": "N4PcvGQ4oXQH"
      },
      "execution_count": 5,
      "outputs": []
    },
    {
      "cell_type": "code",
      "source": [
        "model = ga(function=f, dimension=5,variable_type_mixed=vartype,variable_boundaries=varbounds,algorithm_parameters=algorithm_param)\n",
        "model.run()"
      ],
      "metadata": {
        "colab": {
          "base_uri": "https://localhost:8080/",
          "height": 594
        },
        "id": "9ZSG7rjxpVM2",
        "outputId": "3a8a4652-b8ef-4d99-8ee8-10f8413dee0c"
      },
      "execution_count": 6,
      "outputs": [
        {
          "output_type": "stream",
          "name": "stdout",
          "text": [
            "__________________________________________________ 0.9% GA is running..."
          ]
        },
        {
          "output_type": "stream",
          "name": "stderr",
          "text": [
            "/usr/local/lib/python3.11/dist-packages/geneticalgorithm/geneticalgorithm.py:353: RuntimeWarning: invalid value encountered in subtract\n",
            "  normobj=maxnorm-normobj+1\n"
          ]
        },
        {
          "output_type": "stream",
          "name": "stdout",
          "text": [
            " The best solution found:\n",
            " [0. 3. 3. 0. 0.]\n",
            "\n",
            " Objective function:\n",
            " -36.0\n"
          ]
        },
        {
          "output_type": "display_data",
          "data": {
            "text/plain": [
              "<Figure size 640x480 with 1 Axes>"
            ],
            "image/png": "[encoded data removed]"
          },
          "metadata": {}
        }
      ]
    },
    {
      "cell_type": "code",
      "source": [],
      "metadata": {
        "id": "NiBGXguSoXp9"
      },
      "execution_count": null,
      "outputs": []
    }
  ]
}