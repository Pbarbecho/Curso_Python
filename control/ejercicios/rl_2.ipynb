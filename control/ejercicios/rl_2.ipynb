{
  "cells": [
    {
      "cell_type": "code",
      "source": [
        "# Required package\n",
        "!pip install sympy\n",
        "!pip install control"
      ],
      "metadata": {
        "id": "xoQj3Li3Oxa2"
      },
      "id": "xoQj3Li3Oxa2",
      "execution_count": null,
      "outputs": []
    },
    {
      "cell_type": "code",
      "source": [
        "import numpy as np\n",
        "from sympy import *\n",
        "import control\n",
        "import matplotlib.pyplot as plt"
      ],
      "metadata": {
        "id": "n_a9F_KcO62_"
      },
      "id": "n_a9F_KcO62_",
      "execution_count": null,
      "outputs": []
    },
    {
      "cell_type": "code",
      "source": [
        "# Gain K , Unitary Gain k=1\n",
        "K=1"
      ],
      "metadata": {
        "id": "h_cn737Fi1X9"
      },
      "id": "h_cn737Fi1X9",
      "execution_count": null,
      "outputs": []
    },
    {
      "cell_type": "code",
      "source": [
        "# Declare polynomials\n",
        "s = Symbol('s')\n",
        "\n",
        "expr_num = K*s+K*2 # include K\n",
        "expr_den = s**2+2*s+3\n",
        "\n",
        "poly_num = poly(expr_num)\n",
        "poly_den = poly(expr_den)\n",
        "\n",
        "# Get denominator's coefficients\n",
        "num_sp = poly_num.all_coeffs()\n",
        "den_sp = poly_den.all_coeffs()\n",
        "\n",
        "num = [int(i) for i in num_sp]\n",
        "den = [int(i) for i in den_sp]\n"
      ],
      "metadata": {
        "id": "jljUKDVNUe4d"
      },
      "id": "jljUKDVNUe4d",
      "execution_count": null,
      "outputs": []
    },
    {
      "cell_type": "code",
      "execution_count": null,
      "id": "fa853d79",
      "metadata": {
        "id": "fa853d79"
      },
      "outputs": [],
      "source": [
        "# Open Loop Transfer Function\n",
        "OLTF = control.tf(num,den)\n",
        "print(OLTF)"
      ]
    },
    {
      "cell_type": "code",
      "source": [
        "# OLTF Poles\n",
        "control.pzmap(OLTF, False)"
      ],
      "metadata": {
        "id": "iKIpqPV7eS1X"
      },
      "id": "iKIpqPV7eS1X",
      "execution_count": null,
      "outputs": []
    },
    {
      "cell_type": "code",
      "source": [
        "# Root locus\n",
        "control.rlocus(OLTF, xlim=(-4, 0), print_gain=True)\n",
        "plt.show()"
      ],
      "metadata": {
        "id": "bX0zr_k_O4yv"
      },
      "id": "bX0zr_k_O4yv",
      "execution_count": null,
      "outputs": []
    },
    {
      "cell_type": "code",
      "source": [
        "# Close Loop Transfer Function (CLTF)\n",
        "CLTF = control.feedback(OLTF,1)\n",
        "print(CLTF)"
      ],
      "metadata": {
        "id": "_vV2p43HPqNf"
      },
      "id": "_vV2p43HPqNf",
      "execution_count": null,
      "outputs": []
    },
    {
      "cell_type": "code",
      "source": [
        "# CLTF Poles\n",
        "control.pzmap(CLTF, True)"
      ],
      "metadata": {
        "id": "kgDlWt6KdbNw"
      },
      "id": "kgDlWt6KdbNw",
      "execution_count": null,
      "outputs": []
    },
    {
      "cell_type": "code",
      "source": [
        "# CL Step Response\n",
        "y,x = control.step_response(CLTF)\n",
        "plt.plot(y,x)\n",
        "plt.title(\"Step Response\")"
      ],
      "metadata": {
        "id": "5ydYP_GGfssK"
      },
      "id": "5ydYP_GGfssK",
      "execution_count": null,
      "outputs": []
    }
  ],
  "metadata": {
    "hide_input": false,
    "kernelspec": {
      "display_name": "Python 3 (ipykernel)",
      "language": "python",
      "name": "python3"
    },
    "language_info": {
      "codemirror_mode": {
        "name": "ipython",
        "version": 3
      },
      "file_extension": ".py",
      "mimetype": "text/x-python",
      "name": "python",
      "nbconvert_exporter": "python",
      "pygments_lexer": "ipython3",
      "version": "3.9.7"
    },
    "colab": {
      "provenance": []
    }
  },
  "nbformat": 4,
  "nbformat_minor": 5
}