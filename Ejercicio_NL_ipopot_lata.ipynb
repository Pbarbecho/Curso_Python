{
  "nbformat": 4,
  "nbformat_minor": 0,
  "metadata": {
    "colab": {
      "provenance": [],
      "authorship_tag": "ABX9TyNSf7/QGEpM3oZwbQIiLKnL",
      "include_colab_link": true
    },
    "kernelspec": {
      "name": "python3",
      "display_name": "Python 3"
    },
    "language_info": {
      "name": "python"
    }
  },
  "cells": [
    {
      "cell_type": "markdown",
      "metadata": {
        "id": "view-in-github",
        "colab_type": "text"
      },
      "source": [
        "<a href=\"https://colab.research.google.com/github/Pbarbecho/Curso_Python/blob/main/Ejercicio_NL_ipopot_lata.ipynb\" target=\"_parent\"><img src=\"https://colab.research.google.com/assets/colab-badge.svg\" alt=\"Open In Colab\"/></a>"
      ]
    },
    {
      "cell_type": "code",
      "source": [
        "!pip install -q condacolab\n",
        "import condacolab\n",
        "condacolab.install()\n",
        "\n",
        "!conda install ipopt"
      ],
      "metadata": {
        "colab": {
          "base_uri": "https://localhost:8080/"
        },
        "collapsed": true,
        "id": "XPbMXC3aMPIG",
        "outputId": "acd1a3ed-3177-4c1a-f8b1-bcb414c1f818"
      },
      "execution_count": 4,
      "outputs": [
        {
          "output_type": "stream",
          "name": "stdout",
          "text": [
            "✨🍰✨ Everything looks OK!\n",
            "Channels:\n",
            " - conda-forge\n",
            "Platform: linux-64\n",
            "Collecting package metadata (repodata.json): - \b\b\\ \b\b| \b\b/ \b\b- \b\b\\ \b\b| \b\b/ \b\bdone\n",
            "Solving environment: \\ \b\b| \b\b/ \b\b- \b\bdone\n",
            "\n",
            "\n",
            "==> WARNING: A newer version of conda exists. <==\n",
            "    current version: 23.11.0\n",
            "    latest version: 24.9.2\n",
            "\n",
            "Please update conda by running\n",
            "\n",
            "    $ conda update -n base -c conda-forge conda\n",
            "\n",
            "\n",
            "\n",
            "# All requested packages already installed.\n",
            "\n"
          ]
        }
      ]
    },
    {
      "cell_type": "code",
      "source": [
        "#!apt-get install coinor-libipopt-dev # ipopt\n",
        "!pip install pyomo\n",
        "from pyomo.environ import *\n",
        "import numpy as np"
      ],
      "metadata": {
        "colab": {
          "base_uri": "https://localhost:8080/"
        },
        "collapsed": true,
        "id": "fZAdiAJWF9pg",
        "outputId": "417be1a3-1e3f-4f14-dc06-af7c440c2e36"
      },
      "execution_count": 1,
      "outputs": [
        {
          "output_type": "stream",
          "name": "stdout",
          "text": [
            "Requirement already satisfied: pyomo in /usr/local/lib/python3.10/site-packages (6.8.0)\n",
            "Requirement already satisfied: ply in /usr/local/lib/python3.10/site-packages (from pyomo) (3.11)\n"
          ]
        }
      ]
    },
    {
      "cell_type": "code",
      "source": [
        "model = ConcreteModel()\n",
        "model.x = Var(domain=NonNegativeReals) # radio\n",
        "model.y = Var(domain=NonNegativeReals) # altura"
      ],
      "metadata": {
        "id": "jEseEIDIGAHi"
      },
      "execution_count": 2,
      "outputs": []
    },
    {
      "cell_type": "code",
      "source": [
        "def func_rule_superficie(m):\n",
        "    return  2 * np.pi * model.x * model.y + 2 * np.pi * model.x**2  # superficie de la lata (cilindro)  2pi r h +  2pi r^2\n",
        "\n",
        "model.obj_func = Objective(rule=func_rule_superficie)"
      ],
      "metadata": {
        "id": "6mL3u_bNGrlF"
      },
      "execution_count": 3,
      "outputs": []
    },
    {
      "cell_type": "code",
      "source": [
        "model.restrictions = Constraint(expr = np.pi*model.x**2 * model.y == 330000)\n",
        "str(model.restrictions.expr)"
      ],
      "metadata": {
        "colab": {
          "base_uri": "https://localhost:8080/",
          "height": 38
        },
        "collapsed": true,
        "id": "DIDMIoXBH2Ow",
        "outputId": "1ae98ba0-0b8e-4b84-9c60-5eee9b3a3286"
      },
      "execution_count": 4,
      "outputs": [
        {
          "output_type": "execute_result",
          "data": {
            "text/plain": [
              "'3.141592653589793*x**2*y  ==  330000'"
            ],
            "application/vnd.google.colaboratory.intrinsic+json": {
              "type": "string"
            }
          },
          "metadata": {},
          "execution_count": 4
        }
      ]
    },
    {
      "cell_type": "code",
      "source": [
        "# Check if IPOPT is available\n",
        "solver = SolverFactory('ipopt')\n",
        "print(solver.available())"
      ],
      "metadata": {
        "colab": {
          "base_uri": "https://localhost:8080/"
        },
        "id": "aOFRHhWCKOdy",
        "outputId": "8e74ca3d-0a12-4159-c2a5-668c8cfe23e0"
      },
      "execution_count": 5,
      "outputs": [
        {
          "output_type": "stream",
          "name": "stdout",
          "text": [
            "True\n"
          ]
        }
      ]
    },
    {
      "cell_type": "code",
      "execution_count": 6,
      "metadata": {
        "colab": {
          "base_uri": "https://localhost:8080/"
        },
        "id": "5m8rGbkGF1Jk",
        "outputId": "d84fe2dc-603d-4c52-dbec-88c4cad27be6"
      },
      "outputs": [
        {
          "output_type": "stream",
          "name": "stdout",
          "text": [
            "*** Solution *** :\n",
            "x 37.44938504039036\n",
            "y 74.89877008079135\n"
          ]
        }
      ],
      "source": [
        "result = solver.solve(model)\n",
        "\n",
        "print('*** Solution *** :')\n",
        "print('x',value(model.x))\n",
        "print('y',value(model.y))\n"
      ]
    },
    {
      "cell_type": "code",
      "source": [],
      "metadata": {
        "id": "2cbDI-dIJA_e"
      },
      "execution_count": null,
      "outputs": []
    }
  ]
}