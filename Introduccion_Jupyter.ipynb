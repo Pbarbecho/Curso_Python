{
 "cells": [
  {
   "cell_type": "markdown",
   "id": "871400ef",
   "metadata": {
    "deletable": false,
    "editable": false
   },
   "source": [
    "# <center> Introducción a los cuadernos de Jupyter\n",
    "<img src=\"images/logo.png\" alt=\"Drawing\" style=\"width: 200px;\"/> "
   ]
  },
  {
   "cell_type": "markdown",
   "id": "995a3e1c",
   "metadata": {
    "deletable": false,
    "editable": false
   },
   "source": [
    "# <center> Aprendizaje Interactivo\n",
    "    \n",
    "<div style=\"text-align: justify\"> A lo largo del presente cuaderno veremos las características generales de la interfaz Jupyter Notebook. En este marco, hemos propuesto Jupyter Notebook para el diseño de seminarios interactivos, constituyendo una nueva herramienta docente utilizable en el aula y puesta a disposición a través del Campus Virtual. Destacamos que en esta plataforma de cálculo simbólico y numérico, las líneas de texto explicativo, las líneas de comandos y la representación gráfica coexisten en el mismo entorno, facilitando así que los estudiantes puedan ejecutar código de una manera interactiva.</div><br>\n",
    "    \n",
    "    \n",
    "<div style=\"text-align: justify\">Detallamos ahora los aspectos del apredizaje que son potenciados por los seminarios\n",
    "interactivos desarrollados con Jupyter Notebook y los beneficios que este tipo de\n",
    "aprendizaje conlleva para los estudiantes:<br>\n",
    "            \n",
    "<ol>\n",
    "  <li>Favorecen el aprendizaje autónomo de los estudiantes a diferentes niveles de\n",
    "complejidad según los intereses y las necesidades de cada alumno.</li>\n",
    "  \n",
    "  <li>Facilitan el proceso activo de adquisici\u0013on de competencias en el cálculo numérico.</li>\n",
    "    \n",
    "   <li> Promueven el conocimiento y aprendizaje de nuevos lenguajes de programación basados en software libre que no conllevan coste económico y que utilizan formatos estándar. Es decir, pueden ser fácilmente utilizados por otras personas y exportados con mayor facilidad.</li>\n",
    " \n",
    "</ol>\n",
    "</div>"
   ]
  },
  {
   "cell_type": "markdown",
   "id": "b3722daa",
   "metadata": {},
   "source": [
    "## Referencias\n",
    "\n",
    " * The Python Language Reference: http://docs.python.org/2/reference/index.html\n",
    " * The Python Standard Library: http://docs.python.org/2/library/"
   ]
  },
  {
   "cell_type": "markdown",
   "id": "068ae369",
   "metadata": {},
   "source": [
    "## Ejercicio 1: Mi primer programa\n",
    "\n",
    "1. Imprimir nuestros datos personales: **Nombre y Apellido**\n",
    "2. Imprimir la ciudad y el país donde vivimos: **Cuenca, Ecuador**\n",
    "3. Imprimir el nivel educativo al cuál impartimos clases: **Primaria**\n",
    "4. Utilizando la sintaxis** **\"/n\"** que nos sirven como salto de línea, y **\"/t\"** que nos perminte tabular el texto ingresar nuevamente nuestros datos de manera que tengamos el texto en diferentes líneas y tabulado:\n",
    "\n",
    "**Ejemplo:**\n",
    "\n",
    "```python\n",
    "    print(\"1. Mis datos personales son: Pablo Barbecho\")\n",
    "    print(\"2. Vivo en: Cuenca - Ecuador\")\n",
    "    print(\"3. Imparto clases en: Primaria\")\n",
    "    print(\"4. Mis datos personales son: Pablo Barbecho\\n\\tVivo en: Cuenca-Ecuador\\n\\t\\tImparto clases en: Primaria\")\n",
    "        \n",
    "```\n"
   ]
  },
  {
   "cell_type": "markdown",
   "id": "08e8a570-59aa-4bf1-91ac-d968883fb5e6",
   "metadata": {},
   "source": [
    "# Instrucciones:\n",
    "\n",
    "En la sección **Inéntalo**, usted podrá ingresar código Python con el objetivo de cumplir las tarea del **Ejercicio 1**.  Dentro de la sección **Inéntalo**:\n",
    "\n",
    "- Para ejecutar código pulse **Ctrl + Enter** ó presione el botón play en la barra de herramientas de Jupyter.\n",
    "- Para agregar una nueva línea de código pulse **Shift + Enter**. Puede agregar las líneas que requiera.\n",
    "- Para ejecutar el código de una línea en particular, con el ratón sitúese en la línea y pulse **Ctrl + Enter**.\n",
    "- Se recomienda ver el video [Aprenda Jupyter Notebook en 10 minutos](https://youtu.be/Xws9V34-CFo), donde podrá conocer atajos y comandos generales de Jupyter Notebooks."
   ]
  },
  {
   "cell_type": "markdown",
   "id": "978d8cb6-cf78-4c88-900d-d5054aa1b9be",
   "metadata": {},
   "source": [
    "# Inténtalo: "
   ]
  },
  {
   "cell_type": "code",
   "execution_count": null,
   "id": "314f181f-fea4-42f6-b7ce-efcb459eae0a",
   "metadata": {},
   "outputs": [],
   "source": [
    "print('Hola') # ejemplo de codigo"
   ]
  },
  {
   "cell_type": "code",
   "execution_count": null,
   "id": "01eee200-7763-456d-a7ca-0d1a4d164ca2",
   "metadata": {},
   "outputs": [],
   "source": []
  },
  {
   "cell_type": "code",
   "execution_count": null,
   "id": "757d7932-1bdb-4387-b86c-62f7717d578b",
   "metadata": {},
   "outputs": [],
   "source": []
  },
  {
   "cell_type": "code",
   "execution_count": null,
   "id": "5e0fb21d-1c8b-460e-94f5-53fbc424aa42",
   "metadata": {},
   "outputs": [],
   "source": []
  },
  {
   "cell_type": "code",
   "execution_count": null,
   "id": "8fe45575-b182-4df2-9ff9-8074baa9e242",
   "metadata": {},
   "outputs": [],
   "source": []
  },
  {
   "cell_type": "code",
   "execution_count": null,
   "id": "d12dd534-c3f2-4ea2-93b4-87e43696d0cf",
   "metadata": {},
   "outputs": [],
   "source": []
  }
 ],
 "metadata": {
  "celltoolbar": "Edit Metadata",
  "kernelspec": {
   "display_name": "Python 3 (ipykernel)",
   "language": "python",
   "name": "python3"
  },
  "language_info": {
   "codemirror_mode": {
    "name": "ipython",
    "version": 3
   },
   "file_extension": ".py",
   "mimetype": "text/x-python",
   "name": "python",
   "nbconvert_exporter": "python",
   "pygments_lexer": "ipython3",
   "version": "3.9.7"
  }
 },
 "nbformat": 4,
 "nbformat_minor": 5
}
