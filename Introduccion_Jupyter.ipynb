{
 "cells": [
  {
   "cell_type": "markdown",
   "id": "995a3e1c",
   "metadata": {
    "deletable": false,
    "hide_input": true,
    "run_control": {
     "frozen": true
    }
   },
   "source": [
    "# <center> Introducción a los cuadernos de Jupyter </center> \n",
    "<center>  <img src=\"images/logo.png\" alt=\"Drawing\" style=\"width: 200px;\"/> </center> \n",
    "\n",
    "# <center> Aprendizaje Interactivo </center> \n",
    "    \n",
    "<div style=\"text-align: justify\"> A lo largo del presente cuaderno veremos las características generales de la interfaz Jupyter Notebook. En este marco, hemos propuesto Jupyter Notebook para el diseño de seminarios interactivos, constituyendo una nueva herramienta docente utilizable en el aula y puesta a disposición a través del Campus Virtual. Destacamos que en esta plataforma de cálculo simbólico y numérico, las líneas de texto explicativo, las líneas de comandos y la representación gráfica coexisten en el mismo entorno, facilitando así que los estudiantes puedan ejecutar código de una manera interactiva.</div><br>\n",
    "    \n",
    "    \n",
    "<div style=\"text-align: justify\">Detallamos ahora los aspectos del apredizaje que son potenciados por los seminarios\n",
    "interactivos desarrollados con Jupyter Notebook y los beneficios que este tipo de\n",
    "aprendizaje conlleva para los estudiantes:<br>\n",
    "            \n",
    "<ol>\n",
    "  <li>Favorecen el aprendizaje autónomo de los estudiantes a diferentes niveles de\n",
    "complejidad según los intereses y las necesidades de cada alumno.</li>\n",
    "  \n",
    "  <li>Facilitan el proceso activo de adquisición de competencias en el cálculo numérico.</li>\n",
    "    \n",
    "   <li> Promueven el conocimiento y aprendizaje de nuevos lenguajes de programación basados en software libre que no conllevan coste económico y que utilizan formatos estándar. Es decir, pueden ser fácilmente utilizados por otras personas y exportados con mayor facilidad.</li>\n",
    " \n",
    "</ol>\n",
    "</div>\n",
    "    \n",
    "## Objetivos:\n",
    "\n",
    "- Conocer el entorno de trabajo de Python \n",
    "- Conocer los beneficios de trabajar con Juputer Notebooks     \n",
    "- Conocer como introducir y ejecutar código Python en Juputer Notebooks\n",
    "- Aprender como ejecutar un script de Python (.py) en Juputer Notebooks\n",
    "    \n",
    "## Referencias\n",
    "\n",
    " * The Python Language Reference: https://docs.python.org/3/reference/index.html\n",
    " * The Python Standard Library: https://docs.python.org/3/library/index.html\n",
    " * Jupyter {Book}: https://jupyterbook.org/en/stable/intro.html\n",
    " * IBM Jupyter notebooks cheatsheet https://www.ibm.com/docs/en/db2-event-store/2.0.0?topic=notebooks-markdown-jupyter-cheatsheet  "
   ]
  },
  {
   "cell_type": "markdown",
   "id": "b3722daa",
   "metadata": {
    "deletable": false,
    "editable": false,
    "hide_input": true,
    "run_control": {
     "frozen": true
    }
   },
   "source": [
    "# Jupyter Notebooks\n",
    "\n",
    "<br>\n",
    "<div style=\"text-align: justify\">Jupyter Notebook es una interfaz web de código abierto que permite la inclusión de texto, video, audio, imágenes así como la ejecución de código a través del navegador en múltiples lenguajes. Esta ejecución se realiza mediante la comunicación con un\n",
    "núcleo (Kernel) de cálculo. El proyecto Jupyter pretende generar una plataforma computacional que permita utilizar diferentes lenguajes (su nombre proviene de unir los 3 lenguajes quizás más populares en cálculo científico: Julia, Python y R).</div><br>\n",
    "\n",
    "<div style=\"text-align: justify\">Con los cuadernos de Jupyter, el instructor puede hacer uso de un servidor externo (o su propio ordenador) para proporcionar a los estudiantes un aprendizaje interactivo. Esta característica permite eliminar una de las grandes barreras de acceso que se presentan al incluir un nuevo tipo de programa, como es su instalación en el equipo personal del estudiante. Utilizando este tipo de documentos se pueden generar lecciones o material de apoyo al estudio individual ricos en contenido, así como material de trabajo colaborativo que incluya elementos de cálculo numérico.</div><br>\n",
    "\n",
    "<div style=\"text-align: justify\">Durante el curso de Introducción a Python, utilizaremos los cuadernos de Jupyer junto con el proyecto Binder, el cuál ofrece un lugar fácil para compartir entornos informáticos para todos, sin la necesidad de instalar software alguno. En este sentido, los estudiantes cuentan con dos opciones para ejecutar código durante el curso: \n",
    "    \n",
    "<br>\n",
    "\n",
    "- **Servidor Local**: Utilizar Anaconda para ejecutar Jupyter Notebooks. Requiere instalar Python y Anaconda. Hemos preparado un video instruccional de instalación en el aula virtual. \n",
    "  \n",
    "- **Servidor Externo**: Utilizar los enlaces de GitHub/Binder para acceder a los Jupyter Notebooks. Sin la necesidad de tener instalado ningún software adicional, el estudiante puede seguir los ejercicios y prácticas de cada Módulo.\n",
    "\n",
    "</div> "
   ]
  },
  {
   "cell_type": "markdown",
   "id": "08e8a570-59aa-4bf1-91ac-d968883fb5e6",
   "metadata": {
    "deletable": false,
    "editable": false,
    "hide_input": true,
    "run_control": {
     "frozen": true
    }
   },
   "source": [
    "# Instrucciones de Uso: Jupyter Notebooks\n",
    "\n",
    "Antes de comenzar con los cuadernos de Jupyter, se recomienda ver el video [Aprenda Jupyter Notebook en 10 minutos](https://youtu.be/Xws9V34-CFo), donde podrá conocer atajos y comandos generales de Jupyter Notebooks.\n",
    "Durante el curso podrás ingresar código Python con el objetivo de cumplir las tarea propuestas en los diferentes Módulos. De manera general, para utilizar los cuadernos de Jupyter:\n",
    "\n",
    "- Para ejecutar código pulse **Ctrl + Enter** ó presione el botón play en la barra de herramientas de Jupyter.\n",
    "- Para agregar una nueva línea de código pulse **Shift + Enter**. Puede agregar las líneas que requiera.\n",
    "- Para ejecutar el código de una línea en particular, con el ratón sitúese en la línea y pulse **Ctrl + Enter**."
   ]
  },
  {
   "cell_type": "markdown",
   "id": "108f0cd6",
   "metadata": {
    "deletable": false,
    "editable": false,
    "hide_input": true,
    "run_control": {
     "frozen": true
    }
   },
   "source": [
    "# <center> Introducción a Python\n",
    "\n",
    "<div style=\"text-align: justify\">Una vez familiarizados con el entorno de Jupyter Noterbooks, revisaremos el lenguaje de programación Python. Python, es un lenguaje de programación dinámico, interpretado y fácil de aprender y enseñar. Fué creado por Guido van Rossum en 1991 y es ampliamente utilizado en ciencia, ingeniería, estadística entre otros ámbitos. Una de las grandes fortalezas de Python es que cuenta con multitud de bibliotecas para realizar diferentes tareas.</div>\n",
    "     \n",
    " \n",
    "# El Zen de Python\n",
    "\n",
    "El Zen de Python es una colección de 20 principios de software que influyen en el diseño del Lenguaje de Programación Python, de los cuales 19 fueron escritos por Tim Peters en junio de 1999. **Para ver el Zen de Python podemos ejecutar la instrucción en la siguiente celda:**\n",
    "\n",
    "```python\n",
    "import this\n",
    "```"
   ]
  },
  {
   "cell_type": "code",
   "execution_count": null,
   "id": "cbd31b5d",
   "metadata": {},
   "outputs": [],
   "source": []
  },
  {
   "cell_type": "markdown",
   "id": "ff79f01b",
   "metadata": {
    "deletable": false,
    "editable": false,
    "hide_input": true,
    "run_control": {
     "frozen": true
    }
   },
   "source": [
    "# Ejecutando Programas: scripts .py\n",
    "\n",
    "Comencemos por mostrar como se ve un programa en Python. Para esto mostramos el contenido del programa denominado **'programa.py'** ubicado en la carpeta 'scripts'. Para esto utilizaremos el comando cat, que es un comando de la línea de comandos de Linux, no propio de Python, que nos permite mostrar el contenido de un archivo, en nuestro caso el contenido de nuestro script **programa.py**. Anteponiendo `!`, podemos ejecutar comandos de una terminal como `cd`, `ls`, `cat`, `pwd`, entre otros. \n",
    "\n",
    "**Ejecutemos la sentencia en la siguiente celda:**\n",
    "\n",
    "```python\n",
    "!cat scripts/primer_programa.py\n",
    "```\n",
    "\n",
    "Si utiliza el sistema operativo **Windows** es probable que  deba ejecutar !type scripts\\primer_programa.py"
   ]
  },
  {
   "cell_type": "code",
   "execution_count": null,
   "id": "ce59ad59",
   "metadata": {},
   "outputs": [],
   "source": []
  },
  {
   "cell_type": "markdown",
   "id": "ec185e60",
   "metadata": {
    "deletable": false,
    "editable": false,
    "hide_input": true,
    "run_control": {
     "frozen": true
    }
   },
   "source": [
    "Ahora ejecutemos el script **programa.py**, para ver su resultado en la consola de Jupyter. Para ésto, utilizaremos el comando `%run`, que nos permite ejecutar un script dentro de la consola de Juputer. Si quieres hacerlo desde una línea de comandos podrías hacer: `$ python3 scripts/primer_programa.py`.\n",
    "\n",
    "**Ejecutemos la sentencia en la siguiente celda:**\n",
    "```python\n",
    "%run scripts/primer_programa.py\n",
    "```"
   ]
  },
  {
   "cell_type": "code",
   "execution_count": null,
   "id": "f0a9d80f",
   "metadata": {},
   "outputs": [],
   "source": []
  },
  {
   "cell_type": "markdown",
   "id": "068ae369",
   "metadata": {
    "deletable": false,
    "editable": false,
    "hide_input": true,
    "run_control": {
     "frozen": true
    }
   },
   "source": [
    "## Mi primer programa\n",
    "<a id='mi_primer_programa'></a>\n",
    "En este ejercicio, comenzaremos a trabajar con los cuadernos de Jupyter y código Python. A manera de presentación, imprimiremos en pantalla nuestros datos personales: \n",
    "\n",
    "1. Imprimir nuestros datos personales: **Nombre y Apellido**\n",
    "2. Imprimir la ciudad y el país donde vivimos: **Cuenca, Ecuador**\n",
    "3. Imprimir el nivel educativo al cuál impartimos clases: **Primaria**\n",
    "4. Utilizando la sintaxis **`/n`** que nos sirven como salto de línea, y **`/t`** que nos perminte tabular el texto; prueba a ingresar nuevamente tus datos de manera que tengamos el texto en diferentes líneas y tabulado:\n",
    "\n",
    "**Ejemplo:**\n",
    "\n",
    "```python\n",
    "    print(\"1. Mis datos personales son: Pablo Barbecho\")\n",
    "    print(\"2. Vivo en: Cuenca - Ecuador\")\n",
    "    print(\"3. Imparto clases en: Primaria\")\n",
    "    print(\"4. Mis datos personales son: Pablo Barbecho\\n\\tVivo en: Cuenca\\n\\t\\tImparto clases: Primaria\")\n",
    "        \n",
    "```\n"
   ]
  },
  {
   "cell_type": "markdown",
   "id": "978d8cb6-cf78-4c88-900d-d5054aa1b9be",
   "metadata": {
    "deletable": false,
    "editable": false,
    "hide_input": true,
    "run_control": {
     "frozen": true
    }
   },
   "source": [
    "# Inténtalo: \n",
    "\n",
    "Las siguientes celdas son para que el alumno ingrese sus datos y practique con el código del ejemplo [Mi primer programa](#mi_primer_programa). "
   ]
  },
  {
   "cell_type": "code",
   "execution_count": null,
   "id": "e6877a69",
   "metadata": {},
   "outputs": [],
   "source": []
  },
  {
   "cell_type": "code",
   "execution_count": null,
   "id": "91abe6af",
   "metadata": {},
   "outputs": [],
   "source": []
  },
  {
   "cell_type": "code",
   "execution_count": null,
   "id": "757d7932-1bdb-4387-b86c-62f7717d578b",
   "metadata": {},
   "outputs": [],
   "source": []
  },
  {
   "cell_type": "code",
   "execution_count": null,
   "id": "5e0fb21d-1c8b-460e-94f5-53fbc424aa42",
   "metadata": {},
   "outputs": [],
   "source": []
  },
  {
   "cell_type": "code",
   "execution_count": null,
   "id": "8fe45575-b182-4df2-9ff9-8074baa9e242",
   "metadata": {},
   "outputs": [],
   "source": []
  },
  {
   "cell_type": "code",
   "execution_count": null,
   "id": "d12dd534-c3f2-4ea2-93b4-87e43696d0cf",
   "metadata": {},
   "outputs": [],
   "source": []
  },
  {
   "cell_type": "markdown",
   "id": "46b0b0f4",
   "metadata": {
    "deletable": false,
    "hide_input": true,
    "run_control": {
     "frozen": true
    }
   },
   "source": [
    "# Que podemos hacer con Python?\n",
    "\n",
    "## Inteligencia Artificial: [OpenAI](https://openai.com/api/) \n",
    "\n",
    "La API de OpenAI se puede aplicar a prácticamente cualquier tarea que implique comprender o generar código o lenguaje natural. Ofrecemos una gama de modelos con diferentes niveles de potencia adecuados para diferentes tareas, así como la capacidad de ajustar sus propios modelos personalizados. Estos modelos se pueden usar para todo, desde la generación de contenido hasta la búsqueda y clasificación semántica.Brockman, G., Cheung, V., Pettersson, L., Schneider, J., Schulman, J., Tang, J., & Zaremba, W. (2016). Openai gym. ArXiv Preprint ArXiv:1606.01540.\n",
    "\n",
    "\n",
    "- [Resume textos](https://beta.openai.com/playground/p/default-summarize?model=text-davinci-002)\n",
    "- [Genera consultas SQL](https://beta.openai.com/playground/p/default-sql-request?model=text-davinci-002)\n",
    "- [Genera entrevistas](https://beta.openai.com/playground/p/default-interview-questions?model=text-davinci-002)\n",
    "- [Notas de estudio](https://beta.openai.com/playground/p/default-study-notes?model=text-davinci-002)\n",
    "- [Guias para presentaciones](https://beta.openai.com/playground/p/default-essay-outline?model=text-davinci-002)\n",
    "- [DALL.E 2](https://vimeo.com/692375454), [Ejemplos](https://openai.com/blog/dall-e/)"
   ]
  },
  {
   "cell_type": "markdown",
   "id": "e4fcfe1d",
   "metadata": {
    "deletable": false,
    "hide_input": true,
    "run_control": {
     "frozen": true
    }
   },
   "source": [
    "## Plots Profesionales\n"
   ]
  },
  {
   "cell_type": "code",
   "execution_count": null,
   "id": "366ee2d5",
   "metadata": {},
   "outputs": [],
   "source": [
    "import matplotlib.pyplot as plt\n",
    "import numpy as np"
   ]
  },
  {
   "cell_type": "code",
   "execution_count": null,
   "id": "6634c279",
   "metadata": {
    "hide_input": true
   },
   "outputs": [],
   "source": [
    "# make data\n",
    "x = np.linspace(0, 10, 100)\n",
    "y = 4 + 2 * np.sin(2 * x)\n",
    "\n",
    "# plot\n",
    "fig, ax = plt.subplots()\n",
    "\n",
    "ax.plot(x, y, linewidth=2.0)\n",
    "\n",
    "ax.set(xlim=(0, 8), xticks=np.arange(1, 8),\n",
    "       ylim=(0, 8), yticks=np.arange(1, 8))\n",
    "\n",
    "plt.show()"
   ]
  },
  {
   "cell_type": "code",
   "execution_count": null,
   "id": "29f40a49",
   "metadata": {
    "hide_input": true
   },
   "outputs": [],
   "source": [
    "labels = ['G1', 'G2', 'G3', 'G4', 'G5']\n",
    "men_means = [20, 35, 30, 35, 27]\n",
    "women_means = [25, 32, 34, 20, 25]\n",
    "men_std = [2, 3, 4, 1, 2]\n",
    "women_std = [3, 5, 2, 3, 3]\n",
    "width = 0.35       # the width of the bars: can also be len(x) sequence\n",
    "\n",
    "fig, ax = plt.subplots()\n",
    "\n",
    "ax.bar(labels, men_means, width, yerr=men_std, label='Men')\n",
    "ax.bar(labels, women_means, width, yerr=women_std, bottom=men_means,\n",
    "       label='Women')\n",
    "\n",
    "ax.set_ylabel('Scores')\n",
    "ax.set_title('Scores by group and gender')\n",
    "ax.legend()\n",
    "\n",
    "plt.show()"
   ]
  },
  {
   "cell_type": "code",
   "execution_count": null,
   "id": "15cb5506",
   "metadata": {
    "hide_input": true
   },
   "outputs": [],
   "source": [
    "# Fixing random state for reproducibility\n",
    "np.random.seed(19680801)\n",
    "\n",
    "\n",
    "N = 100\n",
    "r0 = 0.6\n",
    "x = 0.9 * np.random.rand(N)\n",
    "y = 0.9 * np.random.rand(N)\n",
    "area = (20 * np.random.rand(N))**2  # 0 to 10 point radii\n",
    "c = np.sqrt(area)\n",
    "r = np.sqrt(x ** 2 + y ** 2)\n",
    "area1 = np.ma.masked_where(r < r0, area)\n",
    "area2 = np.ma.masked_where(r >= r0, area)\n",
    "plt.scatter(x, y, s=area1, marker='^', c=c)\n",
    "plt.scatter(x, y, s=area2, marker='o', c=c)\n",
    "# Show the boundary between the regions:\n",
    "theta = np.arange(0, np.pi / 2, 0.01)\n",
    "plt.plot(r0 * np.cos(theta), r0 * np.sin(theta))\n",
    "\n",
    "plt.show()"
   ]
  },
  {
   "cell_type": "code",
   "execution_count": 39,
   "id": "2a903e84",
   "metadata": {},
   "outputs": [
    {
     "data": {
      "image/png": "[encoded data removed]",
      "text/plain": [
       "<Figure size 864x432 with 3 Axes>"
      ]
     },
     "metadata": {
      "needs_background": "light"
     },
     "output_type": "display_data"
    }
   ],
   "source": [
    "# example data\n",
    "x = np.arange(0.1, 4, 0.1)\n",
    "y1 = np.exp(-1.0 * x)\n",
    "y2 = np.exp(-0.5 * x)\n",
    "\n",
    "# example variable error bar values\n",
    "y1err = 0.1 + 0.1 * np.sqrt(x)\n",
    "y2err = 0.1 + 0.1 * np.sqrt(x/2)\n",
    "\n",
    "\n",
    "fig, (ax0, ax1, ax2) = plt.subplots(nrows=1, ncols=3, sharex=True,\n",
    "                                    figsize=(12, 6))\n",
    "\n",
    "ax0.set_title('all errorbars')\n",
    "ax0.errorbar(x, y1, yerr=y1err)\n",
    "ax0.errorbar(x, y2, yerr=y2err)\n",
    "\n",
    "ax1.set_title('only every 6th errorbar')\n",
    "ax1.errorbar(x, y1, yerr=y1err, errorevery=6)\n",
    "ax1.errorbar(x, y2, yerr=y2err, errorevery=6)\n",
    "\n",
    "ax2.set_title('second series shifted by 3')\n",
    "ax2.errorbar(x, y1, yerr=y1err, errorevery=(0, 6))\n",
    "ax2.errorbar(x, y2, yerr=y2err, errorevery=(3, 6))\n",
    "\n",
    "fig.suptitle('Errorbar subsampling')\n",
    "plt.show()"
   ]
  },
  {
   "cell_type": "code",
   "execution_count": null,
   "id": "c0f86f5f",
   "metadata": {},
   "outputs": [],
   "source": []
  },
  {
   "cell_type": "code",
   "execution_count": null,
   "id": "da1cf285",
   "metadata": {},
   "outputs": [],
   "source": []
  }
 ],
 "metadata": {
  "celltoolbar": "Edit Metadata",
  "hide_input": false,
  "kernelspec": {
   "display_name": "Python 3 (ipykernel)",
   "language": "python",
   "name": "python3"
  },
  "language_info": {
   "codemirror_mode": {
    "name": "ipython",
    "version": 3
   },
   "file_extension": ".py",
   "mimetype": "text/x-python",
   "name": "python",
   "nbconvert_exporter": "python",
   "pygments_lexer": "ipython3",
   "version": "3.9.7"
  },
  "toc": {
   "base_numbering": 1,
   "nav_menu": {},
   "number_sections": true,
   "sideBar": true,
   "skip_h1_title": false,
   "title_cell": "Table of Contents",
   "title_sidebar": "Contents",
   "toc_cell": false,
   "toc_position": {},
   "toc_section_display": true,
   "toc_window_display": true
  }
 },
 "nbformat": 4,
 "nbformat_minor": 5
}
