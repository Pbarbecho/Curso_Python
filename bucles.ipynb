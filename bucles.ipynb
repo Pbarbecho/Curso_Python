{
 "cells": [
  {
   "cell_type": "markdown",
   "id": "871400ef",
   "metadata": {},
   "source": [
    "# <center> Tipos de Datos"
   ]
  },
  {
   "cell_type": "markdown",
   "id": "995a3e1c",
   "metadata": {},
   "source": [
    "## <center> Aprendizaje Interactivo"
   ]
  },
  {
   "cell_type": "markdown",
   "id": "8e780f35",
   "metadata": {},
   "source": [
    "<img src=\"images/logo.png\" alt=\"Drawing\" style=\"width: 200px;\"/>"
   ]
  },
  {
   "cell_type": "markdown",
   "id": "0d3288b1",
   "metadata": {},
   "source": [
    "<div style=\"text-align: justify\"> En cualquier lenguaje de programación de alto nivel como es Python se manejan diferentes tipos de datos. Los tipos de datos definen un conjunto de valores que tienen una serie de características y propiedades determinadas.En Python, todo valor que pueda ser asignado a una variable tiene asociado un tipo de dato.operaciones se pueden realizar sobre la misma.</div><br>    \n",
    "\n",
    "<div style=\"text-align: justify\">Considerando que en Python todo es un objeto, los tipos de datos serían las clases (donde se definen las propiedades y qué se puede hacer con ellas) y las variables serían las instancias (objetos) de los tipos de datos. En los próximos módulos comentaremos más en detalle sobre lo que son las clases y objetos. </div><br> \n",
    "En este cuaderno aprenderemos sobre tres tipos de datos ampliamente usados en Pyhton:\n",
    "\n",
    "- Datos Numéricos\n",
    "- Datos Booleanos\n",
    "- Cadenas de Caracteres"
   ]
  },
  {
   "cell_type": "markdown",
   "id": "f07670c6",
   "metadata": {},
   "source": [
    "## Referencias"
   ]
  },
  {
   "cell_type": "markdown",
   "id": "74a56ef6",
   "metadata": {},
   "source": [
    " * [The Python Language Reference](http://docs.python.org/2/reference/index.html)\n",
    " * [The Python Standard Library](http://docs.python.org/2/library/)"
   ]
  },
  {
   "cell_type": "markdown",
   "id": "63f5603f",
   "metadata": {},
   "source": [
    "# Asignación de una variable en Python"
   ]
  },
  {
   "cell_type": "markdown",
   "id": "5048b4be",
   "metadata": {},
   "source": [
    "- El **operador** de asignación en Python es **=**. \n",
    "- Python es un lenguaje de tipo **dinámico**, por lo que no necesitamos especificar el tipo de una variable cuando creamos una.\n",
    "- Aunque no se especifica explícitamente el tipo de la variable, una variable tiene un tipo asociado al tipo de dato que se le asignó.\n",
    "- Asignar un valor a una nueva variable crea la variable. \n",
    "- Si asignamos un nuevo valor a una variable, su tipo puede cambiar."
   ]
  },
  {
   "cell_type": "code",
   "execution_count": null,
   "id": "fcdde379",
   "metadata": {},
   "outputs": [],
   "source": [
    "v = 5 # asignación de un valor a una variable"
   ]
  },
  {
   "cell_type": "code",
   "execution_count": null,
   "id": "b3f45553",
   "metadata": {},
   "outputs": [],
   "source": [
    "type(v)"
   ]
  },
  {
   "cell_type": "code",
   "execution_count": null,
   "id": "25658fde",
   "metadata": {},
   "outputs": [],
   "source": [
    "v = 5 + 10.34 "
   ]
  },
  {
   "cell_type": "markdown",
   "id": "fc8508d2",
   "metadata": {},
   "source": [
    "Si asignamos un nuevo valor a una variable **v**, su tipo puede cambiar."
   ]
  },
  {
   "cell_type": "code",
   "execution_count": null,
   "id": "fc0f7e40",
   "metadata": {},
   "outputs": [],
   "source": [
    "type(v)"
   ]
  },
  {
   "cell_type": "markdown",
   "id": "e7378bb8",
   "metadata": {},
   "source": [
    "# Asignación Múltiple de Variables"
   ]
  },
  {
   "cell_type": "code",
   "execution_count": null,
   "id": "5f7f0e96",
   "metadata": {},
   "outputs": [],
   "source": [
    "En Python se puede asignar en una sola instrucción, múltiples variables."
   ]
  },
  {
   "cell_type": "code",
   "execution_count": null,
   "id": "2eebbe16",
   "metadata": {},
   "outputs": [],
   "source": [
    "nombre, apellido = 'Pablo', 'Barbecho'"
   ]
  },
  {
   "cell_type": "code",
   "execution_count": null,
   "id": "0e90adf8",
   "metadata": {},
   "outputs": [],
   "source": [
    "print(nombre)"
   ]
  },
  {
   "cell_type": "code",
   "execution_count": null,
   "id": "fc059a70",
   "metadata": {},
   "outputs": [],
   "source": [
    "print(apellido)"
   ]
  },
  {
   "cell_type": "markdown",
   "id": "8dcf6c2a",
   "metadata": {},
   "source": [
    "# Convensiones y Reglas de las Variables"
   ]
  },
  {
   "cell_type": "markdown",
   "id": "9d762f2d",
   "metadata": {},
   "source": [
    "De acuerdo con el [PEP 8 - Style Guide for Python Code](https://peps.python.org/pep-0008/#function-and-variable-names) se definen ciertas reglas para los nombres de las variables: \n",
    "\n",
    "- Los nombres de las variables deben estar en minúsculas, con palabras separadas por guiones bajos según sea necesario para mejorar la legibilidad.\n",
    "- No utilice símbolos especiales como \\$, @, !, #, $, % u otros.\n",
    "- El primer carácter no puede ser un número.\n",
    "- Los nombres que comienzan con guión bajo (simple _ o doble __) se reservan para variables con significado especial.\n",
    "- No se puede usar como identificadores, las palabras reservadas."
   ]
  },
  {
   "cell_type": "markdown",
   "id": "27f97301",
   "metadata": {},
   "source": [
    "# Objetos"
   ]
  },
  {
   "cell_type": "markdown",
   "id": "8d8f3c9c",
   "metadata": {},
   "source": [
    "Casi todo es un objeto en Python. Python es de tipado dinámico, es decir, los objetos se crean dinámicamente cuando se inician. Cada objeto viene identificado por su identidad, tipo y valor."
   ]
  },
  {
   "cell_type": "code",
   "execution_count": null,
   "id": "0f4f678b",
   "metadata": {},
   "outputs": [],
   "source": [
    "x = 5"
   ]
  },
  {
   "cell_type": "code",
   "execution_count": null,
   "id": "d24629d4",
   "metadata": {},
   "outputs": [],
   "source": [
    "print(\"Identidad:\", id(x))\n",
    "print(\"Tipo:\", type(x))\n",
    "print(\"Value:\", x)"
   ]
  },
  {
   "cell_type": "code",
   "execution_count": null,
   "id": "ac9892a4",
   "metadata": {},
   "outputs": [],
   "source": []
  },
  {
   "cell_type": "markdown",
   "id": "6481595e",
   "metadata": {},
   "source": [
    "# Función input()"
   ]
  },
  {
   "cell_type": "markdown",
   "id": "8873cbf1",
   "metadata": {},
   "source": [
    "La función **input()** permite obtener texto escrito por teclado. Al llegar a la función, el programa se detiene esperando que se escriba algo y se pulse la tecla **Enter**, como muestra el siguiente ejemplo:"
   ]
  },
  {
   "cell_type": "code",
   "execution_count": null,
   "id": "93cbbd4a",
   "metadata": {},
   "outputs": [],
   "source": [
    "v = input()"
   ]
  },
  {
   "cell_type": "code",
   "execution_count": null,
   "id": "867da5ce",
   "metadata": {},
   "outputs": [],
   "source": [
    "print(v)"
   ]
  },
  {
   "cell_type": "code",
   "execution_count": null,
   "id": "7ea74745",
   "metadata": {},
   "outputs": [],
   "source": [
    "type(v)"
   ]
  }
 ],
 "metadata": {
  "kernelspec": {
   "display_name": "Python 3 (ipykernel)",
   "language": "python",
   "name": "python3"
  },
  "language_info": {
   "codemirror_mode": {
    "name": "ipython",
    "version": 3
   },
   "file_extension": ".py",
   "mimetype": "text/x-python",
   "name": "python",
   "nbconvert_exporter": "python",
   "pygments_lexer": "ipython3",
   "version": "3.9.7"
  }
 },
 "nbformat": 4,
 "nbformat_minor": 5
}
