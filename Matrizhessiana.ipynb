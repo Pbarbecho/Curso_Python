{
  "nbformat": 4,
  "nbformat_minor": 0,
  "metadata": {
    "colab": {
      "provenance": [],
      "authorship_tag": "ABX9TyPmzyv9wyGplS59sRxNnka/",
      "include_colab_link": true
    },
    "kernelspec": {
      "name": "python3",
      "display_name": "Python 3"
    },
    "language_info": {
      "name": "python"
    }
  },
  "cells": [
    {
      "cell_type": "markdown",
      "metadata": {
        "id": "view-in-github",
        "colab_type": "text"
      },
      "source": [
        "<a href=\"https://colab.research.google.com/github/Pbarbecho/Curso_Python/blob/main/Matrizhessiana.ipynb\" target=\"_parent\"><img src=\"https://colab.research.google.com/assets/colab-badge.svg\" alt=\"Open In Colab\"/></a>"
      ]
    },
    {
      "cell_type": "code",
      "source": [
        "import numpy as np\n",
        "\n",
        "# Función para verificar si una matriz es definida positiva\n",
        "def es_definida(H):\n",
        "  # Calcular los autovalores\n",
        "  autovalores = np.linalg.eigvals(H)\n",
        "\n",
        "  if np.all(autovalores > 0):\n",
        "    return \"Definida positiva\"\n",
        "  elif np.all(autovalores < 0):\n",
        "    return \"Definida negativa\"\n",
        "  elif np.any(autovalores > 0) and np.any(autovalores < 0):\n",
        "    return \"Indefinida\"\n",
        "  else:\n",
        "    return \"Semidefinida (algunos autovalores son cero)\"\n",
        "\n",
        "# Ejemplo: Matriz Hessiana\n",
        "H = np.array([[2, 3],\n",
        "              [3, 2]])\n",
        "\n",
        "resultado = es_definida(H)\n",
        "print(f\"La matriz es: {resultado}\")\n",
        "\n",
        "\n",
        "\n"
      ],
      "metadata": {
        "id": "whe88BAs6KaY"
      },
      "execution_count": null,
      "outputs": []
    },
    {
      "cell_type": "code",
      "source": [],
      "metadata": {
        "id": "jgBwJHt16dY0"
      },
      "execution_count": null,
      "outputs": []
    },
    {
      "cell_type": "code",
      "execution_count": null,
      "metadata": {
        "id": "qIBD_8Eh6EdP"
      },
      "outputs": [],
      "source": []
    }
  ]
}