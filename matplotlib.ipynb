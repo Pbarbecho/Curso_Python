{
 "cells": [
  {
   "cell_type": "markdown",
   "id": "0d3288b1",
   "metadata": {},
   "source": [
    "# <center> Matplotlib </center> \n",
    "<center>  <img src=\"images/logo.png\" alt=\"Drawing\" style=\"width: 200px;\"/> </center> \n",
    "\n",
    "# <center> Aprendizaje Interactivo </center> \n",
    "\n",
    "Después de estudiar la sintaxis de Python y empezar a manejar datos numéricos de manera un poco más profesional, ha llegado el momento de visualizarlos. Con la biblioteca **matplotlib** podemos crear gráficos de muy alta calidad y altamente personalizables.\n",
    "\n",
    "La biblioteca matplotlib es completa. Es recomendable tener a mano la documentación y la galería (https://matplotlib.org/stable/gallery/index.html):\n",
    "\n",
    "Características de Matplotlib:\n",
    "\n",
    "- Estándar **de facto** para visualización en Python\n",
    "- Pretende ser similar a las funciones de visualización de MATLAB\n",
    "- Diferentes formas de usarla: interfaz `pyplot` y orientada a objetos\n",
    "\n",
    "\n",
    "## Referencias\n",
    "\n",
    " * Matplotlib Documentation: https://matplotlib.org\n",
    " * The Python Language Reference: https://docs.python.org/3/reference/index.html\n",
    " * The Python Standard Library: https://docs.python.org/3/library/index.html\n",
    " * IBM Jupyter notebooks cheatsheet https://www.ibm.com/docs/en/db2-event-store/2.0.0?topic=notebooks-markdown-jupyter-cheatsheet   \n",
    " \n",
    " \n",
    "***"
   ]
  },
  {
   "cell_type": "code",
   "execution_count": null,
   "id": "1cbf3308",
   "metadata": {},
   "outputs": [],
   "source": []
  },
  {
   "cell_type": "code",
   "execution_count": null,
   "id": "a360a816",
   "metadata": {},
   "outputs": [],
   "source": []
  },
  {
   "cell_type": "markdown",
   "id": "1b6c86b3",
   "metadata": {},
   "source": [
    "# <center> Importando Matplotlib </center>\n",
    "\n",
    "Para usar matplotlib lo primero que debemos hacer es importarlo. \n",
    "\n",
    "```python\n",
    "import numpy as np\n",
    "import matplotlib.pyplot as plt\n",
    "```\n",
    "**Note: Importamos la función `pyplot`**"
   ]
  },
  {
   "cell_type": "code",
   "execution_count": 5,
   "id": "5d612ab2",
   "metadata": {},
   "outputs": [
    {
     "data": {
      "text/html": [
       "<iframe src=\"https://matplotlib.org/stable/gallery/index.html\" width=\"800\" height=\"600\"></iframe>"
      ],
      "text/plain": [
       "<IPython.core.display.HTML object>"
      ]
     },
     "execution_count": 5,
     "metadata": {},
     "output_type": "execute_result"
    }
   ],
   "source": [
    "from IPython.display import HTML\n",
    "HTML('<iframe src=\"https://matplotlib.org/stable/gallery/index.html\" width=\"800\" height=\"600\"></iframe>')"
   ]
  },
  {
   "cell_type": "markdown",
   "id": "58127f5d",
   "metadata": {},
   "source": [
    "# <center> La interfaz `pyplot`</center> \n",
    "\n",
    "La interfaz `pyplot` proporciona una serie de funciones que operan sobre un *estado global* - es decir, nosotros no especificamos sobre qué gráfica o ejes estamos actuando. Es una forma rápida y cómoda de crear gráficas pero perdemos parte del control.\n",
    "\n",
    "## plt \n",
    "\n",
    "El paquete `pyplot` se suele importar bajo el alias `plt`, de modo que todas las funciones se acceden a través de `plt.<funcion>`. La función más básica es la función `plot`: plt.plot"
   ]
  },
  {
   "cell_type": "markdown",
   "id": "d524b2d6",
   "metadata": {},
   "source": [
    "# <center>Mi primer plot</center>\n",
    "\n",
    "La función `plot` recibe una sola lista (si queremos especificar los valores **y**) o dos listas (si especificamos **x** , **y**). Si especificamos dos listas ambas deben terner la misma longitud.\n",
    "\n",
    "**Ejemplo 1: plt.plot(x,y)**\n",
    "\n",
    "```python\n",
    "\n",
    "import numpy as np\n",
    "import matplotlib.pyplot as plt\n",
    "plt.plot([1,2,3,4],[1,2,3,4]) # graficamos (x,y)\n",
    "```\n",
    "\n",
    "\n",
    "**Ejemplo 2: plt.plot(y)**\n",
    "\n",
    "```python\n",
    "\n",
    "import numpy as np\n",
    "import matplotlib.pyplot as plt\n",
    "x = np.random.random(500)\n",
    "plt.plot(x) # graficamos (y)\n",
    "```\n",
    "\n",
    "**Ejemplo 3: plt.scatter(x,y)**\n",
    "```python\n",
    "N = 200\n",
    "x = np.random.random(N)\n",
    "y = np.random.random(N)\n",
    "plt.scatter(x, y)\n",
    "```"
   ]
  },
  {
   "cell_type": "code",
   "execution_count": null,
   "id": "4e664f82",
   "metadata": {},
   "outputs": [],
   "source": []
  },
  {
   "cell_type": "code",
   "execution_count": null,
   "id": "2b36a546",
   "metadata": {},
   "outputs": [],
   "source": []
  },
  {
   "cell_type": "markdown",
   "id": "276d95ab",
   "metadata": {},
   "source": [
    "# <center>Modificando el entorno</center>\n",
    "\n",
    "Con la función `plot` podemos modificar el entorno del gráfico. Veamos un ejemplo: \n",
    "\n",
    "**Ejemplo 1:**\n",
    "\n",
    "```python\n",
    "import numpy as np\n",
    "import matplotlib.pyplot as plt\n",
    "x = np.random.random(100)\n",
    "###################################\n",
    "plt.xlabel(\"Eje x\")\n",
    "plt.ylabel(\"Eje y\")\n",
    "plt.title(\"Mi primer plot\")\n",
    "plt.plot(x, label=\"Sensor 1\")\n",
    "plt.legend()\n",
    "```\n",
    "\n",
    "<div class=\"alert alert-warning\">Con diversas llamadas a funciones dentro de <code>plt</code> se actualiza el gráfico actua*. Esa es la forma de trabajar con la interfaz pyplot.</div>\n",
    "\n"
   ]
  },
  {
   "cell_type": "code",
   "execution_count": null,
   "id": "40bcfc63",
   "metadata": {},
   "outputs": [],
   "source": []
  },
  {
   "cell_type": "code",
   "execution_count": null,
   "id": "66cd2f7d",
   "metadata": {},
   "outputs": [],
   "source": []
  },
  {
   "cell_type": "markdown",
   "id": "d282e8ed",
   "metadata": {},
   "source": [
    "# <center>Personalización</center>\n",
    "\n",
    "La función `plot` acepta una serie de argumentos para personalizar el aspecto de la función. Con una letra podemos especificar el color, y con un símbolo el tipo de línea.\n",
    "\n",
    "**Ejemplo 1:**\n",
    "\n",
    "```python\n",
    "import numpy as np\n",
    "import matplotlib.pyplot as plt\n",
    "\n",
    "x = np.random.random(100)\n",
    "\n",
    "plt.xlabel(\"Eje x\")\n",
    "plt.ylabel(\"Eje y\")\n",
    "plt.title(\"Mi primer plot\")\n",
    "plt.plot(x, 'ro', label=\"Sensor 1\", ) # r=red, o=cicle\n",
    "plt.legend()\n",
    "```"
   ]
  },
  {
   "cell_type": "code",
   "execution_count": null,
   "id": "9fd88256",
   "metadata": {},
   "outputs": [],
   "source": []
  },
  {
   "cell_type": "code",
   "execution_count": null,
   "id": "397fd36b",
   "metadata": {},
   "outputs": [],
   "source": []
  },
  {
   "cell_type": "markdown",
   "id": "e31ce2c5",
   "metadata": {},
   "source": [
    "# <center>Estilos</center>\n",
    "\n",
    "Desde matplotlib 1.4 se puede manipular fácilmente la apariencia de la gráfica usando **estilos**. Para ver qué estilos hay disponibles, escribiríamos `plt.style.available`\n"
   ]
  },
  {
   "cell_type": "code",
   "execution_count": 76,
   "id": "2eab5109",
   "metadata": {},
   "outputs": [
    {
     "data": {
      "text/plain": [
       "['Solarize_Light2',\n",
       " '_classic_test_patch',\n",
       " 'bmh',\n",
       " 'classic',\n",
       " 'dark_background',\n",
       " 'fast',\n",
       " 'fivethirtyeight',\n",
       " 'ggplot',\n",
       " 'grayscale',\n",
       " 'seaborn',\n",
       " 'seaborn-bright',\n",
       " 'seaborn-colorblind',\n",
       " 'seaborn-dark',\n",
       " 'seaborn-dark-palette',\n",
       " 'seaborn-darkgrid',\n",
       " 'seaborn-deep',\n",
       " 'seaborn-muted',\n",
       " 'seaborn-notebook',\n",
       " 'seaborn-paper',\n",
       " 'seaborn-pastel',\n",
       " 'seaborn-poster',\n",
       " 'seaborn-talk',\n",
       " 'seaborn-ticks',\n",
       " 'seaborn-white',\n",
       " 'seaborn-whitegrid',\n",
       " 'tableau-colorblind10']"
      ]
     },
     "execution_count": 76,
     "metadata": {},
     "output_type": "execute_result"
    }
   ],
   "source": [
    "plt.style.available"
   ]
  },
  {
   "cell_type": "code",
   "execution_count": null,
   "id": "3d2925e3",
   "metadata": {},
   "outputs": [],
   "source": []
  },
  {
   "cell_type": "code",
   "execution_count": null,
   "id": "5c3b801d",
   "metadata": {},
   "outputs": [],
   "source": []
  },
  {
   "cell_type": "markdown",
   "id": "cea10a69",
   "metadata": {},
   "source": [
    "Para hacer uso de un estilo, usamos `plt.style.use(\"nombre del estilo\")`. Afecta a todos los plots. \n",
    "\n",
    "**Ejemplo 1:**\n",
    "\n",
    "```python\n",
    "x = np.random.random(100)\n",
    "\n",
    "plt.style.use(\"seaborn\")\n",
    "plt.xlabel(\"Eje x\")\n",
    "plt.ylabel(\"Eje y\")\n",
    "plt.title(\"Mi primer plot\")\n",
    "plt.plot(x, 'ro', label=\"Sensor 1\", ) # r=red, o=cicle\n",
    "plt.legend()\n",
    "```\n"
   ]
  },
  {
   "cell_type": "code",
   "execution_count": null,
   "id": "463ff45c",
   "metadata": {},
   "outputs": [],
   "source": []
  },
  {
   "cell_type": "code",
   "execution_count": null,
   "id": "ddea99df",
   "metadata": {},
   "outputs": [],
   "source": []
  },
  {
   "cell_type": "markdown",
   "id": "3c57d994",
   "metadata": {},
   "source": [
    "# <center>Subplots</center>\n",
    "\n",
    "Crea varias figuras en un mismo plot. Para esto usamos la función:\n",
    "\n",
    "## plt.subplot(nrows, ncols, index)\n",
    "\n",
    "\n",
    "**Ejemplo 1:**\n",
    "```python\n",
    "x = np.linspace(-2.0, 10.0, num=500)\n",
    "\n",
    "# Plot 1\n",
    "fig = plt.figure() # crea una figura y regresa un elemento de este tipo\n",
    "plt.subplot(211)   # 2 filas, 1 columna, index 1\n",
    "plt.plot(x, np.sin(x))\n",
    "plt.title(\"Función seno\")\n",
    "\n",
    "# Plot 2\n",
    "plt.subplot(212) # 2 filas, 1 columna, index 1\n",
    "plt.plot(x, np.cos(x))\n",
    "plt.title(\"Función coseno\")\n",
    "\n",
    "fig.tight_layout() # ajusta los subplots en el área de trabajo\n",
    "```"
   ]
  },
  {
   "cell_type": "code",
   "execution_count": null,
   "id": "09807efb",
   "metadata": {},
   "outputs": [],
   "source": []
  },
  {
   "cell_type": "code",
   "execution_count": null,
   "id": "0189f445",
   "metadata": {},
   "outputs": [],
   "source": []
  }
 ],
 "metadata": {
  "hide_input": false,
  "kernelspec": {
   "display_name": "Python 3 (ipykernel)",
   "language": "python",
   "name": "python3"
  },
  "language_info": {
   "codemirror_mode": {
    "name": "ipython",
    "version": 3
   },
   "file_extension": ".py",
   "mimetype": "text/x-python",
   "name": "python",
   "nbconvert_exporter": "python",
   "pygments_lexer": "ipython3",
   "version": "3.9.7"
  }
 },
 "nbformat": 4,
 "nbformat_minor": 5
}
